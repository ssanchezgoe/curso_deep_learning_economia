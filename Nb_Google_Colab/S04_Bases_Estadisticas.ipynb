{
  "nbformat": 4,
  "nbformat_minor": 0,
  "metadata": {
    "colab": {
      "name": "S04_Bases_Estadisticas.ipynb",
      "provenance": [],
      "collapsed_sections": [],
      "authorship_tag": "ABX9TyNRlY0TZLcwRnRRfGo01d9p",
      "include_colab_link": true
    },
    "kernelspec": {
      "name": "python3",
      "display_name": "Python 3"
    },
    "language_info": {
      "name": "python"
    }
  },
  "cells": [
    {
      "cell_type": "markdown",
      "metadata": {
        "id": "view-in-github",
        "colab_type": "text"
      },
      "source": [
        "<a href=\"https://colab.research.google.com/github/ssanchezgoe/curso_deep_learning_economia/blob/main/Nb_Google_Colab/S04_Bases_Estadisticas.ipynb\" target=\"_parent\"><img src=\"https://colab.research.google.com/assets/colab-badge.svg\" alt=\"Open In Colab\"/></a>"
      ]
    },
    {
      "cell_type": "markdown",
      "metadata": {
        "id": "D8XsvcYOlYfz"
      },
      "source": [
        "  <tr>\n",
        "     <th><p><img alt=\"Colaboratory logo\" height=\"80px\" src=\"https://upload.wikimedia.org/wikipedia/commons/thumb/8/83/Sena_Colombia_logo.svg/1045px-Sena_Colombia_logo.svg.png\" align=\"left\" hspace=\"10px\" vspace=\"0px\"></p></th> \n",
        "    <th><p><img alt=\"Colaboratory logo\" height=\"80px\" src=\"https://www.isa.co/wp-content/uploads/2020/11/logo.png\" align=\"right\" hspace=\"10px\" vspace=\"0px\"></p></th>\n",
        "    <th><p><img alt=\"Colaboratory logo\" height=\"80px\" src=\"https://upload.wikimedia.org/wikipedia/commons/b/bf/EAFIT-2015.png\" align=\"left\" hspace=\"10px\" vspace=\"0px\"></p></th> \n",
        "     <th><h1>  Bases de Estadística Básica Aplicada </h1></th>\n",
        "  </tr>\n",
        "\n",
        "\n",
        "\n",
        "\n",
        "\n",
        "\n"
      ]
    },
    {
      "cell_type": "markdown",
      "metadata": {
        "id": "NxliSzo0mxeq"
      },
      "source": [
        "<p><a name=\"contents\"></a></p>\n",
        "\n",
        "# Contenido Sesión: Análisis exploratorio.\n",
        "\n",
        "- <a href=\"#intro\">1. Introducción</a><br>\n",
        "- <a href=\"#eStat\">2. Estadística descriptiva.</a><br>\n",
        "    - <a href=\"#des_count\">2.1. Métodos <code>.describe()</code> y <code>count_values()</code>.</a><br>\n",
        "    - <a href=\"#bPlot\">2.2. Box Plots.</a><br>\n",
        "    - <a href=\"#sPlot\">2.3. Scatter Plots.</a><br>\n",
        "    - <a href=\"#hmaps\">2.1. Groupby y Heatmaps.</a><br>\n",
        "- <a href=#corr> 3. Correlación\n",
        "- <a href=\"#anova2\">4. ANOVA </a><br>\n",
        "  - <a href=\"#single_anova\">4.1. Introducción y ANOVA ONE Way</a><br> \n",
        "  - <a href=\"#oneway\">4.2. One-way ANOVA Varios grupos (Opcional)</a><br>"
      ]
    },
    {
      "cell_type": "markdown",
      "metadata": {
        "id": "NdK13yJ5mxeu"
      },
      "source": [
        "<p><a name=\"intro\"></a></p>\n",
        "\n",
        "## Introducción:\n",
        "\n",
        "El análisis exploratorio de datos (EDA del inglés Exploratory Data Analysis) se realiza con el fin de:\n",
        "\n",
        "<ol>\n",
        "  <li>Resumir las principales características del conjunto de datos.</li>\n",
        "  <li>Entender mejor el conjunto de datos que se está tratando.</li>\n",
        "  <li>Establecer relaciones entre variables.</li>\n",
        "  <li>Determinar si una variables es un buen predictor de una variable blanco.</li>\n",
        "  <li>Extraer las variables más importantes.</li>\n",
        "</ol>\n",
        "\n",
        "**Objetivo:** Determinar las características que más impactan en lo que se busca establecer.\n",
        "\n",
        "Para abordar el análisis exploratorio de datos, es útil aplicar las siguientes técnicas que abordaremos en el presente notebook:\n",
        "\n",
        "<ol>\n",
        "  <li> Estadística descriptiva</li>\n",
        "  <li> Agrupamiento: Método GroupBy()</li>  \n",
        "  <li> Correlación de Pearson</li>\n",
        "  <li> Mapas de correlación</li>\n",
        "  <li> Análisis de variaciones: Anova</li>\n",
        "</ol>\n",
        "\n",
        "En primer lugar, carguemos el dataset de caractarísticas de carros que vamos a analizar."
      ]
    },
    {
      "cell_type": "code",
      "metadata": {
        "id": "d6toM2ynmxez"
      },
      "source": [
        "import pandas as pd\n",
        "import numpy as np\n",
        "\n",
        "archivo = 'https://s3-api.us-geo.objectstorage.softlayer.net/cf-courses-data/CognitiveClass/DA0101EN/automobileEDA.csv'\n",
        "df = pd.read_csv(archivo)"
      ],
      "execution_count": null,
      "outputs": []
    },
    {
      "cell_type": "code",
      "metadata": {
        "id": "0ELSmHcFmxfE"
      },
      "source": [
        "#Apariencia de la tabla de datos\n",
        "df.head()"
      ],
      "execution_count": null,
      "outputs": []
    },
    {
      "cell_type": "code",
      "metadata": {
        "id": "mfLyOApLmxfT"
      },
      "source": [
        "df.isna().sum()"
      ],
      "execution_count": null,
      "outputs": []
    },
    {
      "cell_type": "code",
      "metadata": {
        "id": "9Y7Js--amxfh"
      },
      "source": [
        "df.dtypes"
      ],
      "execution_count": null,
      "outputs": []
    },
    {
      "cell_type": "markdown",
      "metadata": {
        "id": "7-TVAEAtmxfv"
      },
      "source": [
        "<p><a name=\"eStat\"></a></p>\n",
        "\n",
        "## Estadística descriptiva:\n",
        "\n",
        "[[Contenidos]](#contents)\n",
        "\n",
        "Antes de ponernos en la tarea de construir un modelo que pretenda predecir alguna característica del conjunto de datos, es importante realizar una exploración de los datos. La **estadística descriptiva** nos permite explorar los datos con el propósito de hallar las características principales, mediante la implementación de gráficas y el cálculo de algunas variable estadísticas. Para este fín, en Python, podemos hacer uso de:\n",
        "\n",
        "<ol>\n",
        "  <li>Métodos: <code>.describe()</code>, el cual permite obtener un resumen estadístico de las <b>variables numéricas</b> en <code>pandas</code>, o la función <code>.value_counts()</code>, la cual permite contabilizar variables categóricas .</li>\n",
        "    <li>Box plots. </li>\n",
        "    <li>Gráficos de dispersión. </li>\n",
        "</ol>"
      ]
    },
    {
      "cell_type": "markdown",
      "metadata": {
        "id": "HA5hcsZwmxf0"
      },
      "source": [
        "<p><a name=\"des_count\"></a></p>\n",
        "\n",
        "### 2.1 Metodos .describe() y .value_counts()"
      ]
    },
    {
      "cell_type": "code",
      "metadata": {
        "id": "MGNmO0Q9mxf4"
      },
      "source": [
        "# Para dar una descripción estadística de variables numéricas:\n",
        "df.describe()"
      ],
      "execution_count": null,
      "outputs": []
    },
    {
      "cell_type": "markdown",
      "metadata": {
        "id": "2fwQoo2AmxgE"
      },
      "source": [
        "Por ejemplo, la variable \"drive-wheels\" describe la tracción de los vehiculos consignados en la tabla; son variables categóricas que representan:\n",
        "\n",
        "<ol>\n",
        "    <li>fwd - Front Wheel Drive: Tracción delantera.</li>\n",
        "    <li>rwd - Rear Wheel Drive: Tracción Tracera.</li>\n",
        "    <li>4wd - 4 Wheel Drive: Tracción de cuatro ruedas.</li>\n",
        "</ol>\n",
        "\n",
        "Para contabilizar esta variable usamos el método <code>.value_counts()</code>"
      ]
    },
    {
      "cell_type": "code",
      "metadata": {
        "id": "zGMMFBOrmxgH"
      },
      "source": [
        "# Para contabilizar variables categóricas:\n",
        "df[\"drive-wheels\"].value_counts()"
      ],
      "execution_count": null,
      "outputs": []
    },
    {
      "cell_type": "code",
      "metadata": {
        "id": "q8ww-k6l_Jzq"
      },
      "source": [
        "df[\"drive-wheels\"].value_counts().plot(kind = \"pie\", autopct='%1.1f%%')"
      ],
      "execution_count": null,
      "outputs": []
    },
    {
      "cell_type": "markdown",
      "metadata": {
        "id": "gTKY2ky5mxgU"
      },
      "source": [
        "<b>Ejercicio</b>: Guarde el número de cuentas por tipo de tracción en un nuevo DataFrame, renombre la columna a \"value_counts\" y establezca el nombre de los índices como \"drive-wheels\".\n",
        "\n",
        "De doble click <b>aquí</b> para ver la solución:\n",
        "\n",
        "<!-- Respuesta:\n",
        "#Definición del dataFrame\n",
        "drive_wheels_counts = df[\"drive-wheels\"].value_counts().to_frame()\n",
        "# Renombramiento de la columna a value_counts\n",
        "drive_wheels_counts.rename(columns={'drive-wheels':'value_counts'},inplace=True)\n",
        "#Renimbramiento de los índices\n",
        "drive_wheels_counts.index.name='drive_wheels'\n",
        "#Visualización del dataFrame:\n",
        "drive_wheels_counts\n",
        "--->"
      ]
    },
    {
      "cell_type": "markdown",
      "metadata": {
        "id": "5XnZpQzZmxgZ"
      },
      "source": [
        "No obstante, esta función también permite contabilizar las variables numéricas. Por ejemplo, \"width\" representa el ancho de los carros:"
      ]
    },
    {
      "cell_type": "code",
      "metadata": {
        "id": "D_KJYpIDmxgd"
      },
      "source": [
        "df[\"width\"].value_counts()"
      ],
      "execution_count": null,
      "outputs": []
    },
    {
      "cell_type": "markdown",
      "metadata": {
        "id": "GLnDzvWTmxgw"
      },
      "source": [
        "<p><a name=\"bPlot\"></a></p>\n",
        "\n",
        "### 2.2 Box Plots\n",
        "\n",
        "[Contenidos](#contents) "
      ]
    },
    {
      "cell_type": "markdown",
      "metadata": {
        "id": "1FxxmkPLmxg5"
      },
      "source": [
        "Los box plot representan gráficas en las que se pueden analizar varias características de un conjunto de datos como:\n",
        "\n",
        "<ol>\n",
        "    <li> La distribución de los datos.</li>\n",
        "    <li> Asimetría.</li>\n",
        "    <li> Los puntos aislados.</li>\n",
        "</ol>\n",
        "\n",
        "En la siguiente gráfica se muestran las diferentes partes de una gráfica de caja:\n",
        "\n",
        "<img src=\"https://imgbb.com/\"><img src=\"https://i.ibb.co/6tkRtg0/Captura-de-pantalla-2019-08-22-19-01-17.png\" style=\"width:250px;height:300px;\" alt=\"Captura-de-pantalla-2019-08-20-22-39-39\" border=\"0\"></a>\n",
        "\n",
        "En esta gráfica, podemos identificar las siguiente cantidades:\n",
        "\n",
        "<ol>\n",
        "    <li> Mediana.</li><br>\n",
        "    <li> Cuartil superior $P_{75}.$</li><br>\n",
        "    <li> Cuartil inferior $P_{25}$</li><br>\n",
        "    <li>Rango intercuartil $IQR=P_{75}-P_{25}$</li><br>\n",
        "    <li>Extremo superior \\[UE= \\begin{cases} \n",
        "   P_{\\text{75}}+1.5\\times IQR = UP & \\text{si } UP < \\text{max(Data)} \\\\\n",
        "   \\text{max(Data)}       & \\text{si } UP \\ge \\text{max(Data)}\n",
        "  \\end{cases}\\]<br> </li><br>\n",
        "    <li>Extremo inferior \\[LE= \\begin{cases} \n",
        "   P_{\\text{25}}-1.5\\times IQR = LO & \\text{si } LO > \\text{min(Data)} \\\\\n",
        "   \\text{min(Data)}       & \\text{si } LO \\le \\text{min(Data)}\n",
        "  \\end{cases}\\]<br></li>\n",
        "</ol>"
      ]
    },
    {
      "cell_type": "code",
      "metadata": {
        "scrolled": true,
        "id": "P7Z-QcV5mxg9"
      },
      "source": [
        "import seaborn as sns\n",
        "import matplotlib.pyplot as plt\n",
        "plt.figure(figsize=(4.5, 4.5))\n",
        "sns.boxplot(x=\"drive-wheels\",y=\"price\", data=df)"
      ],
      "execution_count": null,
      "outputs": []
    },
    {
      "cell_type": "markdown",
      "metadata": {
        "id": "Mv8n33IxmxhN"
      },
      "source": [
        "En este caso se tiene que:\n",
        "\n",
        "<ol>\n",
        "    <li> Mediana: rwd $\\rightarrow$ 16900, fwd $\\rightarrow$ 8192 y 4wd$\\rightarrow$9005.5</li><br>\n",
        "    <li> Cuartil superior: $P_{75\\text{-rwd}}\\approx 22547.50$, $P_{75\\text{-fwd}}\\approx 10333$ y $P_{75\\text{-4wd}}\\approx 11368$</li><br>\n",
        "    <li> Cuartil inferior: $P_{25\\text{-rwd}}= 13455$, $P_{25\\text{-fwd}}\\approx 6951$ y $P_{25\\text{-4wd}}\\approx 7984$</li><br>\n",
        "    <li>Rango intercuartil: $IQR_{\\text{rwd}}\\approx 9023$, $IQR_{\\text{fwd}}\\approx 3381$ y $IQR_{\\text{4wd}}\\approx 3384$</li><br>\n",
        "    <li>Extremo superior \\[UE= \\begin{cases} \n",
        "   P_{\\text{75}}+1.5\\times IQR = UP & \\text{si } UP < \\text{max(Data)} \\\\\n",
        "   \\text{max(Data)}       & \\text{si } UP \\ge \\text{max(Data)}\n",
        "  \\end{cases}\\]<br>\n",
        "        Por ejemplo, $UE_{\\text{rwd}}= P_{\\text{75}\\text{rwd}}+1.5\\times IQR_{\\text{rwd}}\\rightarrow UE_{\\text{rwd}}=22547.50+(22547.50-13455.00)\\times1.5 \\therefore UE_{\\text{rwd}}=36186.25$, ya que $UE_{\\text{rwd}}<\\text{max(Data)}$. </li><br>\n",
        "    <li>Extremo inferior \\[LE= \\begin{cases} \n",
        "   P_{\\text{25}}-1.5\\times IQR = LO & \\text{si } LO > \\text{min(Data)} \\\\\n",
        "   \\text{min(Data)}       & \\text{si } LO \\le \\text{min(Data)}\n",
        "  \\end{cases}\\]<br>\n",
        "    Por ejemplo, $LE_{\\text{rwd}}=\\text{min(Data)}\\rightarrow LE_{\\text{rwd}}=6785$, ya que se cumple que $LO\\leq \\text{min(Data)}$. </li><br>\n",
        "</ol>"
      ]
    },
    {
      "cell_type": "code",
      "metadata": {
        "id": "Ds5Dvp7VmxhQ"
      },
      "source": [
        "df.groupby([\"drive-wheels\"]).price.describe()"
      ],
      "execution_count": null,
      "outputs": []
    },
    {
      "cell_type": "markdown",
      "metadata": {
        "id": "F1iw51E2mxha"
      },
      "source": [
        "Los box plots, o diagramas de cajas permiten comparar facilmente diferentes grupos. En este ejemplo, mediante el uso de diagramas de cajas podemos ver diferentes categorías y sus distribuciones respecto al precio. \n",
        "\n",
        "Vemos que, por ejemplo, que el precio de los carros de tracción trasera (rwd) son distintos a los de otras categorias, no obstante, el precio de los carros de tracción delantera y $4\\times4$ son casi indistinguibles."
      ]
    },
    {
      "cell_type": "markdown",
      "metadata": {
        "id": "dYW53rkumxhd"
      },
      "source": [
        "**Ejercicio:** Use un diagrama de cajas para determinar si la variable \"body-style\" y \"engine-location\", la cual determina el tipo de carro, es un buen predictor del precio. Argumente su respuesta.\n",
        "\n",
        "De click **aquí** para ver la respuesta.\n",
        "\n",
        "<!--- Respuesta:\n",
        "#Celda 1:\n",
        "sns.boxplot(x=\"body-style\", y=\"price\", data=df)\n",
        "# Argumentación: Se puede observar que el precio de los carros para los diferentes tipos de carros presenta una superposición significativa, de tal forma que la variable \"body-style\" no sería un predictor adecuado del precio\n",
        "#Celda 2:\n",
        "sns.boxplot(x=\"engine-location\", y=\"price\", data=df)\n",
        "# Argumentación: Puede observarse qu la distribución de los precios entre las subcategorias fron y rear son lo suficiente diferentes como para considerar la variable categórica \"engine-location\" como un predictor adecuado del precio.\n",
        "--->"
      ]
    },
    {
      "cell_type": "markdown",
      "metadata": {
        "id": "8pIzHRgQmxhg"
      },
      "source": [
        "<p><a name=\"sPlot\"></a></p>\n",
        "\n",
        "### 2.3 Scatter plots\n",
        "\n",
        "[Contenidos](#contents) \n",
        "\n",
        "Dentro de nuestros datos podemos tener en varias ocaciones variables continuas. Este tipo de datos representan puntos dentro de un rango. En el conjunto de datos que estamos trabajando, por ejemplo, las variables correspondientes a las columnas **\"price\"** y **\"engine-size\"** son variables continuas. ¿Qué deberiamos hacer si queremos predecir el precio a partir del tamaño del motor?.\n",
        "\n",
        "Una forma rápida para inspeccionar este tipo de relaciones consiste en realizar un scatter plot de ambas variables. Cada observación en el scatter plot es representada  como un punto. Este tipo de gráficas representa la relación ente ambas variables. La variable predictora representa la variable que se usa para predecir un determinado resultado. Por otra parte, la variable diana o blanco, corresponde a la variable que se pretende predecir. En nuestro caso tenemos que:\n",
        "\n",
        "<ol>\n",
        "    <li>Variable diana o blanco: \"price\".</li>\n",
        "    <li>Variable predictora: \"engine-size\".</li>\n",
        "</ol>\n",
        "\n",
        "En una gráfica de dispersión, usualmente el eje x, o eje horizontal, se hace coincidir con la variable predictora y el eje y, o eje vertical, con la variable diana.\n",
        "\n",
        "Veamos ahora como se relacionan las variables \"price\" y \"engine-size\"."
      ]
    },
    {
      "cell_type": "code",
      "metadata": {
        "id": "1ki0k5k6mxhn"
      },
      "source": [
        "df.plot(kind=\"scatter\", y = \"price\", x = \"engine-size\", title = \"Gráfica de dispersión de \\\"engine-size\\\" vs \\\"price\\\"\", alpha = 0.4)"
      ],
      "execution_count": null,
      "outputs": []
    },
    {
      "cell_type": "markdown",
      "metadata": {
        "id": "OcXdxVFimxh0"
      },
      "source": [
        "<p><a name=\"hmaps\"></a></p>\n",
        "\n",
        "### 2.4 Groupby y Heatmaps\n",
        "\n",
        "[Contenidos](#contents)\n",
        "\n",
        "Recordemos que con el método groupby podemos agrupar los datos en diferentes categorías. Los datos son agrupados con base en una o varias características y el análisis se realiza sobre los grupos individuales. Veamos esto.\n",
        "\n",
        "Agrupemos, por ejemplo la tabla por tipo de tracción (\"drive-wheels\"). Podemos observar que tenemos tres tipos de categorias."
      ]
    },
    {
      "cell_type": "code",
      "metadata": {
        "id": "5Jqda4qAmxh5"
      },
      "source": [
        "df['drive-wheels'].unique()"
      ],
      "execution_count": null,
      "outputs": []
    },
    {
      "cell_type": "markdown",
      "metadata": {
        "id": "mq0cv3_OmxiJ"
      },
      "source": [
        "Definamos un subdataFrame con las columnas 'drive-wheels', 'body-style' y 'price' y agrupemos por 'drive-wheels' para calcular el valor medio en cada categoria:"
      ]
    },
    {
      "cell_type": "code",
      "metadata": {
        "id": "OsXl3V0VmxiN"
      },
      "source": [
        "df_group = df[['drive-wheels','body-style','price']]\n",
        "\n",
        "# Agrupamiento de los resultados\n",
        "df_grupo1 = df_group.groupby(['drive-wheels'], as_index = False).mean().sort_values(by = \"price\", ascending = False).reset_index(drop = True)\n",
        "df_grupo1"
      ],
      "execution_count": null,
      "outputs": []
    },
    {
      "cell_type": "markdown",
      "metadata": {
        "id": "Isvaraqdmxif"
      },
      "source": [
        "De los datos, se puede ver que los carros con tracción tracera son, en promedio, los mas caros. Por otra parte, los carros de tracción delantera y tracción total son, en promedio, similares. \n",
        "\n",
        "Podemos agrupar de acuerdo a varias variables. Por ejemplo, agrupemos por 'drive-wheels' y 'body-style'. Este procedimento agrupara el dataframe por combinaciones unicas de 'drive-wheels' y 'body-style'. Guardemos el resultado en la variable de prueba 'grupo_test'"
      ]
    },
    {
      "cell_type": "code",
      "metadata": {
        "id": "x_8VmGW7mxij"
      },
      "source": [
        "# grouping results\n",
        "grupo_test = df_group.groupby(['drive-wheels','body-style'], as_index = False).mean().sort_values(by = \"price\", ascending = False).reset_index(drop = True)\n",
        "grupo_test"
      ],
      "execution_count": null,
      "outputs": []
    },
    {
      "cell_type": "markdown",
      "metadata": {
        "id": "TQQH4cIbmxi0"
      },
      "source": [
        "Este tipo de tablas es más facil visualizarlas cuando se convierten en una tabla pivote. Como en Excel, en las tablas pivote podemos visualizar los datos especificando una variable categórica a lo largo de las columnas y otra variable categórica a lo largo de las filas.\n",
        "\n",
        "En este caso, la categoria \"drive-wheel\" le asignaremos las filas de la tabla, y realizacemos un pivote en \"body-style\" para convertirla en las columnas de la tabla:"
      ]
    },
    {
      "cell_type": "code",
      "metadata": {
        "id": "-E9N86oumxi5"
      },
      "source": [
        "grouped_pivot = grupo_test.pivot(index = 'drive-wheels', columns = 'body-style')\n",
        "grouped_pivot"
      ],
      "execution_count": null,
      "outputs": []
    },
    {
      "cell_type": "markdown",
      "metadata": {
        "id": "fW5zoFNVmxjO"
      },
      "source": [
        "En muchas ocaciones, tenemos valores nulos para algunas celdas de la tabla. Podemos rellenar estos casos con un valor 0.\n",
        "\n",
        "---\n",
        "\n"
      ]
    },
    {
      "cell_type": "code",
      "metadata": {
        "id": "zrmG8XtFmxjW"
      },
      "source": [
        "grouped_pivot = grouped_pivot.fillna(0) #fill missing values with 0\n",
        "grouped_pivot"
      ],
      "execution_count": null,
      "outputs": []
    },
    {
      "cell_type": "markdown",
      "metadata": {
        "id": "zqtcCeCSmxju"
      },
      "source": [
        "El uso de heatmaps nos permite visualizar el comportamiento del precio en función de dos variables. Por ejemplo, pordemos visualizar la tabla pivote anterior como una imagen de píxeles con el color correspondiente al valor del precio. De esta forma, podemos ver, por ejemplo, como se relaciona el precio con el tipo de tracción y el tipo de carro:"
      ]
    },
    {
      "cell_type": "code",
      "metadata": {
        "id": "zsdxAGTYEhi-"
      },
      "source": [
        ""
      ],
      "execution_count": null,
      "outputs": []
    },
    {
      "cell_type": "code",
      "metadata": {
        "id": "bIZ0T-1Pmxjy"
      },
      "source": [
        "fig, ax = plt.subplots()\n",
        "im = ax.pcolor(grouped_pivot, cmap='jet')\n",
        "\n",
        "#labels\n",
        "row_labels = grouped_pivot.columns.levels[1]\n",
        "col_labels = grouped_pivot.index\n",
        "\n",
        "#move ticks to the center\n",
        "ax.set_xticks(np.arange(grouped_pivot.shape[1]) + 0.5, minor=False)\n",
        "ax.set_yticks(np.arange(grouped_pivot.shape[0]) + 0.5, minor=False)\n",
        "\n",
        "#insert labels\n",
        "ax.set_xticklabels(row_labels, minor=False)\n",
        "ax.set_yticklabels(col_labels, minor=False)\n",
        "\n",
        "#rotate the labels\n",
        "plt.xticks(rotation=90)\n",
        "\n",
        "fig.colorbar(im)\n",
        "plt.show()"
      ],
      "execution_count": null,
      "outputs": []
    },
    {
      "cell_type": "markdown",
      "metadata": {
        "id": "vuvabBYHmxkB"
      },
      "source": [
        "<p><a name=\"corr\"></a></p>\n",
        "\n",
        "## 3. Correlación\n",
        "\n",
        "[Contenidos](#contents)\n",
        "\n",
        "La correlación es una medida de la relación entre variables que se mide en una escala de -1 a 1. Cuanto más cercano sea el valor de correlación a -1 o 1, más fuerte será la relación, y mientras más cerca de 0, más débil será la relación. Mide cómo el cambio en una variable está asociado con el cambio en otra variable.\n",
        "\n",
        "Existen algunos tipos comunes de pruebas para medir la correlación, estos son: Pearson, Spearman y Kendall. Cada uno tiene sus propias suposiciones sobre los datos que deben cumplirse para que la prueba pueda medir con precisión el nivel de correlación. Veamos cómo están distribuidas nuestras variables:\n",
        "\n",
        "* Para la correlación de Pearson, ambas variables deben estar normalmente distribuidas. Otras suposiciones incluyen linealidad y homogeneidad en la varianza.\n",
        "\n",
        "* La correlación de Kendall es una prueba no paramétrica que no hace suposiciones sobre la distribución de los datos. Debe haber una relación monotónica entre las variables que se están probando y los datos deben medirse en una escala ordinal, de intervalo o de relación.\n",
        "\n",
        "* Las correlación de Spearman es no paramétrica y no hace suposiciones sobre la distribución de los datos. Al igual que en el caso anterior, debe haber una relación monotónica entre las variables y es el análisis de correlación apropiado cuando las variables se miden en una escala que es al menos ordinal."
      ]
    },
    {
      "cell_type": "code",
      "metadata": {
        "id": "sCgOkKgNqm-M"
      },
      "source": [
        "df.hist(figsize=(15,13))\n",
        "plt.show()"
      ],
      "execution_count": null,
      "outputs": []
    },
    {
      "cell_type": "markdown",
      "metadata": {
        "id": "BZxeB8s2T9B_"
      },
      "source": [
        "En el caso de la correlación de Pearson, las suposiciones de normalidad de la distribución y homogeneidad de la varianza se pueden evaluar mediante las funciones `skewtest()` y `levene()`, respectivamente. Ambas pertenecientes al módulo `scipy.stats`. Evaluemos las suposiciones para las variables \"price\" y \"engine-size\""
      ]
    },
    {
      "cell_type": "code",
      "metadata": {
        "id": "kbWFVRuhZeLp"
      },
      "source": [
        "# test linearity\n",
        "df.plot(kind=\"scatter\", y = \"price\", x = \"engine-size\", alpha = 0.4)"
      ],
      "execution_count": null,
      "outputs": []
    },
    {
      "cell_type": "code",
      "metadata": {
        "id": "vjajGLYWU7U-"
      },
      "source": [
        "from scipy.stats import skewtest, levene\n",
        "\n",
        "# test the null hypothesis that the skewness of the population that the sample was drawn from is the same as that of a corresponding normal distribution.\n",
        "print(skewtest(df[\"price\"]))\n",
        "print(skewtest(df[\"engine-size\"]))\n",
        "\n",
        "# test the null hypothesis that all input samples are from populations with equal variances\n",
        "print(levene(df[\"price\"],df[\"engine-size\"]))\n",
        "\n",
        "# A smaller p-value means that there is stronger evidence in favor of the alternative hypothesis."
      ],
      "execution_count": null,
      "outputs": []
    },
    {
      "cell_type": "code",
      "metadata": {
        "id": "20jaeuVkSE7H"
      },
      "source": [
        "levene?"
      ],
      "execution_count": null,
      "outputs": []
    },
    {
      "cell_type": "markdown",
      "metadata": {
        "id": "6U9-oT-VZwFI"
      },
      "source": [
        "Observamos que sí hay una relación lineal entre las variables. Sin embargo, los tests de uniformidad de la distribución y homogeneidad arrojan resultados negativos. Por lo tanto, la prueba de correlación apropiada para usar sería una prueba no paramétrica como la correlación de Spearman o de Kendall."
      ]
    },
    {
      "cell_type": "markdown",
      "metadata": {
        "id": "66Tib7WuquG4"
      },
      "source": [
        "Para calcular el coeficiente de correlación podemos utilizar el método `corr()` de Pandas"
      ]
    },
    {
      "cell_type": "code",
      "metadata": {
        "id": "XHfK9bMvVxZo"
      },
      "source": [
        "corr_p = df.corr()\n",
        "corr_k = df.corr(method = \"kendall\")\n",
        "corr_s = df.corr(method = \"spearman\")\n",
        "\n",
        "corr_p"
      ],
      "execution_count": null,
      "outputs": []
    },
    {
      "cell_type": "markdown",
      "metadata": {
        "id": "mXq_cJ6tV0dK"
      },
      "source": [
        "Veamos cómo se correlaciona el atributo precio con los demás atributos"
      ]
    },
    {
      "cell_type": "code",
      "metadata": {
        "id": "-ZqkkGL0V1YK"
      },
      "source": [
        "corr_p[\"price\"].sort_values(ascending=False)"
      ],
      "execution_count": null,
      "outputs": []
    },
    {
      "cell_type": "code",
      "metadata": {
        "id": "UhPXqsjwq8db"
      },
      "source": [
        "corr_k[\"price\"].sort_values(ascending=False)"
      ],
      "execution_count": null,
      "outputs": []
    },
    {
      "cell_type": "markdown",
      "metadata": {
        "id": "_shJ8EzMV3mH"
      },
      "source": [
        "Vemos que el precio del automóvil tiende a subir a medida que, por ejemplo, aumenta el tamaño del motor (engine-size), el ancho (width) y largo (length) del vehículo; no así de su altura (heigth) o del tipo de combustible que utiliza. El atributo más prometedor para predecir el precio del vehículo es el tamaño del motor (Pearson) y el peso del motor (kendall)."
      ]
    },
    {
      "cell_type": "markdown",
      "metadata": {
        "id": "ckEafrXBV_g2"
      },
      "source": [
        "Otra forma de verificar la correlación entre los atributos es usar el método `scatter_matrix`, que dibuja cada atributo numérico contra cualquier otro atributo numérico. Como tenemos 29 columnas (se generarían $29^2=841$ gráficos), grafiquemos solo algunos de los atributos que tienen más correlación con el precio:"
      ]
    },
    {
      "cell_type": "code",
      "metadata": {
        "id": "Qgqr4N2gWBSJ"
      },
      "source": [
        "from pandas.plotting import scatter_matrix\n",
        "\n",
        "attributes = [\"engine-size\",\"curb-weight\",\"horsepower\",\"bore\"]\n",
        "\n",
        "scatter_matrix(df[attributes], figsize=(12, 8))"
      ],
      "execution_count": null,
      "outputs": []
    },
    {
      "cell_type": "markdown",
      "metadata": {
        "id": "xPsQl9LdWEXU"
      },
      "source": [
        "La diagonal principal estaría llena de líneas rectas si Pandas dibujara cada variable contra sí misma, lo que no sería muy útil. En su lugar, Pandas muestra un histograma de cada atributo.\n",
        "\n",
        "La librería `seaborn` nos permite realizar gráficos como el anterior o, por ejemplo, en un mapa de calor, mediante las funciones `pairplot()` y `heatmap()`, respectivamente."
      ]
    },
    {
      "cell_type": "code",
      "metadata": {
        "id": "k442nxetrKih"
      },
      "source": [
        "sns.pairplot(df, hue = \"drive-wheels\", vars = [\"engine-size\",\"curb-weight\",\"horsepower\",\"bore\"])"
      ],
      "execution_count": null,
      "outputs": []
    },
    {
      "cell_type": "code",
      "metadata": {
        "id": "T_ZRYA_cWO_V"
      },
      "source": [
        "df_new = df[['engine-size','curb-weight','height','width','length','horsepower','peak-rpm','price','stroke','compression-ratio']]\n",
        "corr_new = df_new.corr()\n",
        "\n",
        "ax = sns.heatmap(\n",
        "    corr_new, \n",
        "    vmin=-1, vmax=1, center=0,\n",
        "    cmap=sns.diverging_palette(20, 220, n=200),\n",
        "    square=True\n",
        ")\n",
        "ax.set_xticklabels(\n",
        "    ax.get_xticklabels(),\n",
        "    rotation=45,\n",
        "    horizontalalignment='right'\n",
        ");"
      ],
      "execution_count": null,
      "outputs": []
    },
    {
      "cell_type": "markdown",
      "metadata": {
        "id": "f3MbcY8W4VZE"
      },
      "source": [
        ""
      ]
    },
    {
      "cell_type": "markdown",
      "metadata": {
        "id": "gPrturbz5oKk"
      },
      "source": [
        "<p><a name=\"anova2\"></a></p>\n",
        "\n",
        "# 4. ANOVA.\n",
        "\n",
        "<p><a name=\"single_anova\"></a></p>\n",
        "\n",
        "## 4.1. One-way ANOVA:\n",
        "\n",
        "[[Contenidos]](#contents)\n",
        "\n",
        "El el test one-way ANOVA es una técnica que es usada para variables blanco numéricas (\"Y\", siguendo la notación establecida), usualmente una variable, y datos de entrada de solo una variable numérica o categórica, por tal motivo se le conoce como \"one-way\".\n",
        "\n",
        "El test de análisis de varianzas puede pensarse como una generalización del t-test a más de dos grupos. En ANOVA, la **hipotesis nula** establece que **las medias de las poblaciones de las cuales se tomaron las muestras de los grupos son iguales**. De forma más concisa tenemos que:\n",
        "\n",
        " $\\mu_1=\\cdots=\\mu_n$\n",
        " \n",
        "\n",
        "Para un grupo de $n$ datos. La hipótesis alternativa sería que alguna de las medias de la ecuación anterior no se cumpla. Por lo tanto, tener un F-value alto y un p-value pequeño, implica que la probabilidad de que la hipótesis nula sea cierta es baja, por tanto, decimos que la hipotesis alternativa se debe cumplir.\n",
        "\n",
        "Supongamos que queremos analizar una variable categórica y ver la correlación con otras variables. \n",
        "\n",
        "Uno de los principales usos de ANOVA es el de analizar el impacto que las subcategorías tienen sobre en otra variable. \n",
        "\n",
        "Por ejemplo, en el caso del dataset de carros, resultaría interesante responder a la pregunta:\n",
        "\n",
        "* ¿Qué subcategorias de la categoría make (Fabricantes de carros), tienen algun impacto sobre la variable precio?.\n",
        "\n",
        "Empecemos por cargar los datos de carros y volverlos a inspeccionar:"
      ]
    },
    {
      "cell_type": "markdown",
      "metadata": {
        "id": "d5W_wTu-9lE4"
      },
      "source": [
        "Realicemos una gráfica del precio medio en función de la de la marca, con el fin de analizar si existe alguna dependencia."
      ]
    },
    {
      "cell_type": "code",
      "metadata": {
        "id": "0-Pa9a0fvHUv"
      },
      "source": [
        "import pandas as pd\n",
        "import numpy as np\n",
        "\n",
        "archivo = 'https://s3-api.us-geo.objectstorage.softlayer.net/cf-courses-data/CognitiveClass/DA0101EN/automobileEDA.csv'\n",
        "df = pd.read_csv(archivo)"
      ],
      "execution_count": null,
      "outputs": []
    },
    {
      "cell_type": "code",
      "metadata": {
        "id": "NP0Pa3cx9UxA"
      },
      "source": [
        "dftest1 = df[[\"make\",\"price\"]].groupby(\"make\").mean().sort_values(by=\"price\")\n",
        "dftest1.plot(kind=\"bar\",figsize=(9,6))"
      ],
      "execution_count": null,
      "outputs": []
    },
    {
      "cell_type": "markdown",
      "metadata": {
        "id": "skBBV_VV9RiX"
      },
      "source": [
        "De este gráfica se puede observar que existe una  variación del precio medio a medida que nos movemos de izquierda a derecha en las diferentes marcas, no obstente, no sabemos cual marca de carro tienen el impacto más alto y cual menos en la predicción del precio. \n",
        "\n",
        "Mediante ANOVA podemos ver si existe una diferencia significativa entre las medias de los precios de dos o más marcas.\n",
        "\n",
        "Recuerdemos que ANOVA retorna dos valores:\n",
        "\n",
        "* F-value: Que representa la razón de la variación entre la media de los grupos y la variación dentro de cada grupo.\n",
        "\n",
        "* p-value: Que representa la probabilidad de que la hipótesis nula (medias iguales) sea cierta. El valor p respresenta entonces, la significancia estadística.\n",
        "\n",
        "Veamos en una grafica de boxplots como se relacionan las diferentes marcas segun el precio."
      ]
    },
    {
      "cell_type": "code",
      "metadata": {
        "id": "olD4JJ-89vjL"
      },
      "source": [
        "import matplotlib.pyplot as plt\n",
        "import seaborn as sns\n",
        "\n",
        "sns.boxplot(x=\"make\", y=\"price\", data=df[[\"make\",\"price\"]])\n",
        "plt.xticks(rotation=90)\n",
        "plt.show()"
      ],
      "execution_count": null,
      "outputs": []
    },
    {
      "cell_type": "markdown",
      "metadata": {
        "id": "LSJZJsam92vY"
      },
      "source": [
        "De esta gráfica resulta dificil establecer si existe una correlación entre la variable categórica \"marca\" y el precio.\n",
        "\n",
        "Con el fin de comprender más a fondo la finalidad de ANOVA y lo que mide, intentemos diferenciar entre precios de carro según las marcas.\n",
        "\n",
        "Iniciemos la comparación entre dos grupos de marcas, aunque la finalidad de ANOVA consiste en diferenciar más de dos grupos (para diferenciar solo dos grupos, la prueba más adecuada es la t-student).\n",
        "\n",
        "De la base de datos de carros, extraigamos solo la marca y el precio y almacenémoslo en un nuevo dataFrame:"
      ]
    },
    {
      "cell_type": "code",
      "metadata": {
        "id": "cZuvBZ9m97AZ"
      },
      "source": [
        "df_test = df[[\"make\",\"price\"]]\n",
        "df_test.head()"
      ],
      "execution_count": null,
      "outputs": []
    },
    {
      "cell_type": "markdown",
      "metadata": {
        "id": "shmLE_VG9_UD"
      },
      "source": [
        "Creemos una función que nos sirva para escoger dos marcas dadas dentro de la columna de make y que la guarde con el respectivo precio en una nueva variable. Sea esta función escoger2marcas:"
      ]
    },
    {
      "cell_type": "code",
      "metadata": {
        "id": "JE2I-mja993F"
      },
      "source": [
        "def escoger2marcas(df,marca1,marca2):\n",
        "  locations = [bool(df.loc[i][0]==marca1)|bool(df.loc[i][0]==marca2) for i in range(len(df))]\n",
        "  marca1_marca2 = df.loc[:][locations]\n",
        "  \n",
        "  return marca1_marca2"
      ],
      "execution_count": null,
      "outputs": []
    },
    {
      "cell_type": "markdown",
      "metadata": {
        "id": "gcP7pZQr-GJd"
      },
      "source": [
        "Establezcamos dos pares de marcas cuyo valor medio difieran notablemente y cuyo valor medio sean aproximados con el fin de ver los resultados de un test ANOVA:\n",
        "\n",
        "* Medias diferentes honda vs volvo.\n",
        "* Medias similares volkswagen vs nissan."
      ]
    },
    {
      "cell_type": "code",
      "metadata": {
        "id": "o5h8Ywip-FWn"
      },
      "source": [
        "# Grupos de medias diferentes\n",
        "honda_volvo = escoger2marcas(df_test,\"honda\",\"volvo\")\n",
        "sns.boxplot(x=\"make\", y=\"price\", data=honda_volvo)"
      ],
      "execution_count": null,
      "outputs": []
    },
    {
      "cell_type": "markdown",
      "metadata": {
        "id": "N9j1uRfp-SR_"
      },
      "source": [
        "Si comparamos dos grupos muy diferentes obtenemos un F-value elevado y un p-value pequeño.\n",
        "\n",
        "Apliquemos ANOVA con scipy.stats:\n",
        "\n",
        "NOTA: la función que verán a continuación de `get_group()` obtienen el subgrupo que se le pase al argumento dentro de una lista, es decir, `test2.get_group('reanault')` devuelve una lista del dataframe solo con la subcategoria `renault`.\n",
        "\n",
        "Agrupemos primero por fabricante el data frame:\n"
      ]
    },
    {
      "cell_type": "code",
      "metadata": {
        "id": "8NRpJXik-dA4"
      },
      "source": [
        "df_test2 = df[['make', 'price']].groupby(['make'])\n",
        "print(df_test2.get_group('honda'))\n",
        "print(df_test2.get_group('volvo'))"
      ],
      "execution_count": null,
      "outputs": []
    },
    {
      "cell_type": "markdown",
      "metadata": {
        "id": "vWUY3QBB-vvP"
      },
      "source": [
        "Realicemos el test ANOVA mediante la librería de scipy y el módulo de stats:"
      ]
    },
    {
      "cell_type": "code",
      "metadata": {
        "id": "FB8W3yGo-osQ"
      },
      "source": [
        "from scipy import stats\n",
        "\n",
        "f_val, p_val = stats.f_oneway(df_test2.get_group('honda')['price'], df_test2.get_group('volvo')['price'])  \n",
        "   \n",
        "print( \"ANOVA results: F=\", f_val, \", P =\", p_val)   "
      ],
      "execution_count": null,
      "outputs": []
    },
    {
      "cell_type": "code",
      "metadata": {
        "id": "Hz3Tx8rC-5pT"
      },
      "source": [
        "# Grupos de medias similares\n",
        "honda_volvo = escoger2marcas(df_test,\"volkswagen\",\"nissan\")\n",
        "sns.boxplot(x=\"make\", y=\"price\", data=honda_volvo)"
      ],
      "execution_count": null,
      "outputs": []
    },
    {
      "cell_type": "code",
      "metadata": {
        "id": "8Gk5xdqd_ATD"
      },
      "source": [
        "f_val, p_val = stats.f_oneway(df_test2.get_group('volkswagen')['price'], df_test2.get_group('nissan')['price'])  \n",
        "   \n",
        "print( \"ANOVA results: F=\", f_val, \", P =\", p_val)  "
      ],
      "execution_count": null,
      "outputs": []
    },
    {
      "cell_type": "markdown",
      "metadata": {
        "id": "i6gE3_Kn_C_A"
      },
      "source": [
        "Vemos que con ANOVA tenemos una \"forma cuantitativa\" de corroborar la inspección visual que se realiza con los boxplots.\n",
        "\n",
        "Los resultados del test ANOVA para la comparación de este par de los grupos de marcas de carros es el siguiente:\n",
        "\n",
        "honda vs volvo: El test ANOVA arroja un F-value alto y un p-value pequeño, lo que implica que deberíamos rechazar la hipótesis nula de que las medias de los grupos son aproximadamente iguales. En este sentido ambos grupos son diferentes y guardarian correlación con el precio.\n",
        "volkswagen vs nissan: El test ANOVA arroja un F-value bajo y un p-value alto, lo que indica que debemos aceptar la hipótesis nula de que las medias son aproximadamente iguales y no guardarían correlación con el precio.\n",
        "\n",
        "**Recapitulando**:\n",
        "\n",
        "El test de análisis de varianzas (ANOVA - Analysis Of Variance) es un método estadístico usado para provar las diferencias entre dos o más grupos.\n",
        "\n",
        "ANOVA se usa para el análisis de diferencias generales, en lugar de específicas, entre medias.\n",
        "\n",
        "Mediante un test ANOVA, podemos averiguar si los resultados de un experimento o encuesta son significativos. En otras palabras, el test ANOVA nos permite rechazar o aceptar la hipótesis nula. Básicamente, lo que se hace es probar si existe una diferencia entre grupos. Algunos ejemplos en los que se puede aplicar este método son:\n",
        "\n",
        "Un grupo de pacientes psiquiátricos está probando tres terapias diferentes: asesoramiento, medicación y biorretroalimentación, en el que se desea ver si una terapia es mejor que las otras.\n",
        "\n",
        "Un fabricante que tiene dos procesos diferentes para hacer bombillas y quieren saber si un proceso es mejor que el otro.\n",
        "\n",
        "Los estudiantes de diferentes universidades realizan el mismo examen y se desea ver si una universidad supera a la otra."
      ]
    },
    {
      "cell_type": "markdown",
      "metadata": {
        "id": "deqjsWP1_pG2"
      },
      "source": [
        "<p><a name=\"oneway\"></a></p>\n",
        "\n",
        "## 4.2. One-way ANOVA: Incluyendo varios grupos.\n",
        "\n",
        "[[Contenidos]](#contents)\n",
        "\n",
        "Apliquemos ahora un test ANOVA sobre todos los grupos conformados por las diferentes marcas para ver su relación con el precio.\n",
        "\n",
        "Tengamos que ANOVA lo podemos aplicar de dos formas:\n",
        "\n",
        "1.   Mediante el módulo `stats` de `scipy`\n",
        "2.   Mediante el módulo `statmodels`, ajustando un modelo a los datos.\n",
        "\n",
        "Ambos métodos son similares pero cuentan con implementaciones de fondo, ligeramente diferentes , por lo que los resultados obtenidos de los valores F-value y p-value son, también, ligeramente diferentes.\n",
        "\n"
      ]
    },
    {
      "cell_type": "markdown",
      "metadata": {
        "id": "FO_QHbiEDLJF"
      },
      "source": [
        "**ANOVA - mediante el módulo stats de scipy**:\n",
        "\n",
        "Procedamos a ver todas las marcas de carros de nuestro dataset:"
      ]
    },
    {
      "cell_type": "code",
      "metadata": {
        "id": "2mmhZwC9DTNX"
      },
      "source": [
        "df[\"make\"].unique()"
      ],
      "execution_count": null,
      "outputs": []
    },
    {
      "cell_type": "code",
      "metadata": {
        "id": "afIxVVF4DZ5x"
      },
      "source": [
        "from scipy import stats\n",
        "f_val, p_val = stats.f_oneway(df_test2.get_group('alfa-romero')['price'],df_test2.get_group('audi')['price'],df_test2.get_group('bmw')['price'],df_test2.get_group('chevrolet')['price'],df_test2.get_group('dodge')['price'],df_test2.get_group('honda')['price'],df_test2.get_group('jaguar')['price'],df_test2.get_group('mazda')['price'],df_test2.get_group('mercedes-benz')['price'],df_test2.get_group('mercury')['price'],df_test2.get_group('mitsubishi')['price'],df_test2.get_group('nissan')['price'],df_test2.get_group('peugot')['price'],df_test2.get_group('plymouth')['price'],df_test2.get_group('porsche')['price'],df_test2.get_group('renault')['price'],df_test2.get_group('saab')['price'],df_test2.get_group('subaru')['price'],df_test2.get_group('toyota')['price'],df_test2.get_group('volkswagen')['price'],df_test2.get_group('volvo')['price'])  \n",
        "   \n",
        "print(\"ANOVA results: F=\", f_val, \", P =\", p_val)   "
      ],
      "execution_count": null,
      "outputs": []
    },
    {
      "cell_type": "markdown",
      "metadata": {
        "id": "qP7vkxTfDAZy"
      },
      "source": [
        "**ANOVA - mediante statsmodels:**"
      ]
    },
    {
      "cell_type": "code",
      "metadata": {
        "id": "a7qNzuWi_oLb"
      },
      "source": [
        "import statsmodels.api as sm\n",
        "from statsmodels.formula.api import ols\n",
        "\n",
        "results = ols('price ~ C(make)', data=df).fit()\n",
        "results.summary()"
      ],
      "execution_count": null,
      "outputs": []
    },
    {
      "cell_type": "code",
      "metadata": {
        "id": "yvpiHiIUD2vw"
      },
      "source": [
        "aov_table = sm.stats.anova_lm(results, typ=2)\n",
        "aov_table"
      ],
      "execution_count": null,
      "outputs": []
    },
    {
      "cell_type": "markdown",
      "metadata": {
        "id": "rYrpEdWBD9LA"
      },
      "source": [
        "De los resultados del test ANOVA para todas las las marcas, podemos concluir que puede ser un buen predictor del precio, no obstante, no podemos concluir cuales marcas no aportan diferencias en relación al precio.\n",
        "\n",
        "Para hallar los grupos que contribuyen más a diferenciar los precios y cuales menos, debemos hacer un test post-hoc."
      ]
    },
    {
      "cell_type": "markdown",
      "metadata": {
        "id": "7TLlqCNIEDxS"
      },
      "source": [
        "**Test Post-hoc:**\n",
        "\n",
        "No entraremos en detalle sobre la parte teórica de un test post-hoc, sino que nos centraremos los resultados que arroja la prueba.\n",
        "\n",
        "Hay algunas técnicas diferentes que se pueden utilizar para establecer que grupos contribuyen o no a diferenciar el precio. Cada una de estas técnicas tiene diferentes formas de controlar el [tasa de error por familia](https://support.minitab.com/es-mx/minitab/18/help-and-how-to/modeling-statistics/anova/supporting-topics/multiple-comparisons/what-are-individual-and-family-error-rates/). Los métodos principales que pueden encontrarse en python son:\n",
        "\n",
        "* Fisher’s Least Significant Difference (LSD).\n",
        "* Bonferroni correction.\n",
        "* Tukey’s HSD.\n",
        "\n",
        "Usemos el último de estos para hacer un test post-hoc."
      ]
    },
    {
      "cell_type": "code",
      "metadata": {
        "id": "MwnaiAEdER_7"
      },
      "source": [
        "#Implementemos el método de Turkey's:\n",
        "from statsmodels.stats.multicomp import pairwise_tukeyhsd\n",
        "from statsmodels.stats.multicomp import MultiComparison\n",
        "\n",
        "mc = MultiComparison(df['price'], df['make'])\n",
        "mc_results = mc.tukeyhsd()\n",
        "print(mc_results)"
      ],
      "execution_count": null,
      "outputs": []
    },
    {
      "cell_type": "markdown",
      "metadata": {
        "id": "L1yMVGSzEY07"
      },
      "source": [
        "El test post-hoc Turkey HDS contrala el error tipo I y mantienen el la tasa de error familiar en 0.05 (en la tabla se indica como FWER=0.05). Sobre la tabla anterior se tiene que: \n",
        "* Las columnas \"grupo1\" y grupo2 corresponden a los grupos que son comparados. \n",
        "* `meandiff` representa la diferencia en valores medios de los grupos calculados (group1-group2).\n",
        "* Las columnas `lower` y `upper` corresponden a los límites inferior y superior del intervalo de confianza del 95%.\n",
        "* En la columna `reject` se establece si debemos rechazar o no la hipotesis nula (medias iguales). "
      ]
    }
  ]
}