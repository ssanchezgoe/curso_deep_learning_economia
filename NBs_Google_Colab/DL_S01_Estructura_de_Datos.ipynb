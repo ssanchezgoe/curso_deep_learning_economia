{
  "nbformat": 4,
  "nbformat_minor": 0,
  "metadata": {
    "colab": {
      "name": "DL_S01_Estructura_de_Datos.ipynb",
      "provenance": [],
      "collapsed_sections": [],
      "authorship_tag": "ABX9TyNh5uMtlMi9blw0ha2FK6yI",
      "include_colab_link": true
    },
    "kernelspec": {
      "name": "python3",
      "display_name": "Python 3"
    },
    "language_info": {
      "name": "python"
    }
  },
  "cells": [
    {
      "cell_type": "markdown",
      "metadata": {
        "id": "view-in-github",
        "colab_type": "text"
      },
      "source": [
        "<a href=\"https://colab.research.google.com/github/ssanchezgoe/curso_deep_learning_economia/blob/main/NBs_Google_Colab/DL_S01_Estructura_de_Datos.ipynb\" target=\"_parent\"><img src=\"https://colab.research.google.com/assets/colab-badge.svg\" alt=\"Open In Colab\"/></a>"
      ]
    },
    {
      "cell_type": "markdown",
      "metadata": {
        "id": "thBYXFC53-lF"
      },
      "source": [
        "<p><img alt=\"Colaboratory logo\" height=\"140px\" src=\"https://upload.wikimedia.org/wikipedia/commons/archive/f/fb/20161010213812%21Escudo-UdeA.svg\" align=\"left\" hspace=\"10px\" vspace=\"0px\"></p>\n",
        "\n",
        "<h1> Curso Deep Learning: Economía</h1>\n",
        "\n",
        "## S01: Estructura de datos"
      ]
    },
    {
      "cell_type": "markdown",
      "metadata": {
        "id": "R7nsXE6-4JzW"
      },
      "source": [
        "## Tabla de contenido\n",
        "\n",
        "Temática:\n",
        "\n",
        "- Analítica predictiva\n",
        "- Ciclo de vida de un modelo de IA\n",
        "- Tipos de datos\n",
        "- Características\n",
        "- Ingeniería de características y Deep Learning.\n"
      ]
    },
    {
      "cell_type": "markdown",
      "metadata": {
        "id": "uZOMLVKb5o3S"
      },
      "source": [
        "## Analítica Predictiva en IA:\n",
        "\n",
        "En la analítica predictiva en inteligencia artificial, se hace uso de algoritmos de aprendizaje basado en máquinas con el fin de aprender a diferenciar clases o valores dentro de un conjunto de datos. \n",
        "\n",
        "De forma general, la inteligencia artificial representa cualquier programa que pueda sensar, evaluar, y adaptarse a un entorno cuantificado. A su vez, la inteligencia artificial está compuesto por diferentes algoritmos de aprendizaje basados en máquinas (**Machine Learning**), que se componen a su vez, en un caso especial del aprendizaje profundo.\n",
        "\n",
        "\n",
        "<p><img alt=\"Colaboratory logo\" height=\"300px\" src=\"https://raw.githubusercontent.com/ssanchezgoe/curso_deep_learning_economia/main/images/DL_S01_IA_ML_DL.png\" align=\"center\"></p>\n",
        "\n",
        "En el proceso de aprendizaje para la predicción y toma de decisiones, se involucran varios pasos que serán detallados a continuación."
      ]
    },
    {
      "cell_type": "markdown",
      "metadata": {
        "id": "CJeejzqF-RLc"
      },
      "source": [
        "## Ciclo de vida de un modelo en Machine Learning\n",
        "\n",
        "El ciclo de vida de un modelo en Machine learning reune todos aquellos pasos necesarios para reproducir un modelo que predice un comportamiento sobre un conjunto de datos. \n",
        "\n",
        "El modelo sigue el orden descrito en la siguiente figura\n",
        "\n",
        "\n",
        "<p><img alt=\"Colaboratory logo\" height=\"300px\" src=\"https://raw.githubusercontent.com/ssanchezgoe/curso_deep_learning_economia/main/images/DL_S01_ML_Life_Cycle.png\" align=\"center\"></p>\n",
        "\n",
        "1. Recolecta de datos: En donde se extraen los datos que servirán de entrada al modelo.\n",
        "2. Preparación e ingesta: En la ingesta, los datos que yacen en algun lugar, a la espera de ser consumidos, se traen al flujo de procesamiento en el que darán lugar a un modelo.\n",
        "3. Manipulación de datos: En este paso, los datos son tratados con el fin de analizar si sus tipos son correctos, si no hay datos faltantes o datos espurios.\n",
        "4. Análisis de datos: En la analítica de datos, se establecen relaciones de las diferentes características de los datos con la variable objetivo (variable a predecir).\n",
        "5. Entrenamiento del modelo: El entrenamiento del modelo implica la aplicación de un algoritmo de machine learning que aprende patrones sobre un conjunto de datos.\n",
        "6. Prueba del modelo: Una vez entrenado el modelo, se reserva un conjunto de datos que no ha visto nuetro modelo para poner a prueba su capacidad predictiva.\n",
        "7. Despliegue: Cuando estamos satisfechos con el poder predictivo del modelo, puede ser industrializados para hacerlos disponibles a varias personas.\n",
        "\n",
        "En un ciclo de vida \"más real\", pueden existir re-procesos si no se alcanzan las métricas deseadas, con el fin de aumentar la capacidad predictiva del modelo\n",
        "\n",
        "\n",
        "<p><img alt=\"Colaboratory logo\" height=\"150px\" src=\"https://raw.githubusercontent.com/ssanchezgoe/curso_deep_learning_economia/main/images/DL_S01_ML_Life_Cycle_Reprocessing.png\" align=\"center\" vspace=\"15px\"></p>"
      ]
    },
    {
      "cell_type": "markdown",
      "metadata": {
        "id": "31I0mdzQFp3S"
      },
      "source": [
        "## Tipos de datos"
      ]
    },
    {
      "cell_type": "markdown",
      "metadata": {
        "id": "ucFpAPAQFsRt"
      },
      "source": [
        "### Datos Tabulares\n",
        "\n",
        "Los datos tabulares representan datos estructurados en forma de tabla. Cada tabla está compuesta por una serie de filas (registros) y columnas (características) que componen a los datos.\n",
        "\n",
        "Edad| Sexo| Altura| Hipertenso\n",
        "-- | --| -- | --\n",
        "15 | M| 1.72 | 0\n",
        "60 | F|1.64 | 1\n",
        "12 | M| 1.44 | 0\n",
        "98 | M| 1.73 | 1\n",
        "30 | F| 1.81 | 1\n",
        "\n",
        "Alguno de los formatos en los que se puede encontrar datos tabulares es:\n",
        "\n",
        "- CSV\n",
        "- TSV\n",
        "- Excel\n",
        "- etc\n",
        "\n",
        "**Partes de una tabla:**\n",
        "\n",
        "En la siguiente figura se ilustran las partes que componen a un arreglo tabular.\n",
        "\n",
        "<p><img alt=\"Colaboratory logo\" height=\"250px\" src=\"https://github.com/ssanchezgoe/curso_deep_learning_economia/blob/main/images/DL_S01_Table_Parts.png?raw=true\" align=\"center\" vspace=\"15px\"></p>"
      ]
    },
    {
      "cell_type": "markdown",
      "metadata": {
        "id": "Wg5N8NyQHuug"
      },
      "source": [
        "### Datos No-SQL\n",
        "\n",
        "Los datos No-SQL, son conjuntos de datos que son almacenados, comunmente, en parejas de clave-valor. Uno de los formatos más usuales es el formato `JSON`, el cual tiene la siguiente estructura\n",
        "\n",
        "```\n",
        "DB = [\n",
        "    {\"Nombre\":\"Elsa\",\n",
        "     \"Edad\":23,\n",
        "     \"Ocupacion\":\"Enfermera\",\n",
        "     \"Cedula\":8935033,\n",
        "     \"Estado\":\"Casada\"\n",
        "     },\n",
        "    {\"Nombre\":\"Andres\",\n",
        "     \"Edad\":30,\n",
        "     \"Ocupacion\":\"Psicologo\",\n",
        "     \"Cedula\":8222223\n",
        "     }\n",
        "]\n",
        "```\n",
        "\n",
        "En donde alguna entrada, puede contener diferentes características a otra.\n",
        "\n",
        "Este tipo de datos representan el estándard por excelencia en big data, ya que son datos que escalan de horizontalmente."
      ]
    },
    {
      "cell_type": "markdown",
      "metadata": {
        "id": "HOrIkZ4en633"
      },
      "source": [
        "## Bases de datos\n",
        "\n",
        "Al conjunto de tablas almacenadas relacionadas o no entre si se les conoce con el nombre de base de datos.\n",
        "\n",
        "Existen dos grupos generales de bases de datos:\n",
        "\n",
        "- Bases de datos SQL.\n",
        "- Bases de datos No-SQL."
      ]
    },
    {
      "cell_type": "markdown",
      "metadata": {
        "id": "sgQbWc6ktYqr"
      },
      "source": [
        "### Bases de datos SQL\n",
        "\n",
        "Las bases de datos SQL corresponden a un conjunto de tablas con relaciones entre ellas.\n",
        "\n",
        "Por ejemplo, en un a empresa de venta de productos, se puede tener una base de datos una tabla \"ventas\" donde cada venta (registro) puede estar relacionado con uno varios productos en una tabla \"producto\". En la siguiente figura se ilustran diferentes tablas en un proceso de ventas de productos.\n",
        "\n",
        "<p><img alt=\"Colaboratory logo\" height=\"350px\" src=\"https://github.com/ssanchezgoe/curso_deep_learning_economia/blob/main/images/DL_S01_Bases_Datos_SQL.png?raw=true\" align=\"center\"></p>\n",
        "\n",
        "En general, existen las posibles relaciones entre dos tablas a través de sus registros:\n",
        "\n",
        "- Uno a uno.\n",
        "- Uno a muchos.\n",
        "- Muchos a uno.\n",
        "- Muchos a muchos."
      ]
    },
    {
      "cell_type": "markdown",
      "metadata": {
        "id": "6hdU7fRNufHc"
      },
      "source": [
        "#### Ejercicio:\n",
        "\n",
        "Discuta las posibles relaciones existentes en la base de datos de la figura anterior."
      ]
    },
    {
      "cell_type": "markdown",
      "metadata": {
        "id": "Obt_4-fCvAuc"
      },
      "source": [
        "### Bases de datos No-SQL\n",
        "\n",
        "Las bases de datos SQL corresponde a un conjunto de colecciones, que corresponde a formatos flexibles (JSON, BSON, etc), los cuales amacenan registros con características variables.\n",
        "\n",
        "En la siguiente figura se ilustra la base de datos \"sample_analytics\", compuesta por las colleciones accounts, customers y transactions.\n",
        "\n",
        "\n",
        "<p><img alt=\"Colaboratory logo\" height=\"300px\" src=\"https://github.com/ssanchezgoe/curso_deep_learning_economia/blob/main/images/DL_S01_Base_Datos_No_SQL.png?raw=true\" align=\"center\"></p>\n",
        "\n",
        "En la siguiente figura se ilustra el contenido almacenado en la colección \"accounts\" de la base de datos \"sample_analytics\", correspondietes a archivos con parejas clave-valor:\n",
        "\n",
        "\n",
        "<p><img alt=\"Colaboratory logo\" height=\"400px\" src=\"https://github.com/ssanchezgoe/curso_deep_learning_economia/blob/main/images/DL_S01_Collection.png?raw=true\" align=\"center\"></p>\n",
        "\n"
      ]
    },
    {
      "cell_type": "code",
      "metadata": {
        "id": "AXhQ6LXZtOWq"
      },
      "source": [
        ""
      ],
      "execution_count": null,
      "outputs": []
    }
  ]
}