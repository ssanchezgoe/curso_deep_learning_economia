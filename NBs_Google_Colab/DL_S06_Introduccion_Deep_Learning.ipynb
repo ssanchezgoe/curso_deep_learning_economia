{
  "nbformat": 4,
  "nbformat_minor": 0,
  "metadata": {
    "colab": {
      "name": "DL_S06_Introduccion_Deep_Learning.ipynb",
      "provenance": [],
      "authorship_tag": "ABX9TyP/5XOEIER0r0U47BlDN+QP",
      "include_colab_link": true
    },
    "kernelspec": {
      "name": "python3",
      "display_name": "Python 3"
    },
    "language_info": {
      "name": "python"
    }
  },
  "cells": [
    {
      "cell_type": "markdown",
      "metadata": {
        "id": "view-in-github",
        "colab_type": "text"
      },
      "source": [
        "<a href=\"https://colab.research.google.com/github/ssanchezgoe/curso_deep_learning_economia/blob/main/NBs_Google_Colab/DL_S06_Introduccion_Deep_Learning.ipynb\" target=\"_parent\"><img src=\"https://colab.research.google.com/assets/colab-badge.svg\" alt=\"Open In Colab\"/></a>"
      ]
    },
    {
      "cell_type": "markdown",
      "metadata": {
        "id": "OMTYh2DqhKFJ"
      },
      "source": [
        "<p><img alt=\"Colaboratory logo\" height=\"140px\" src=\"https://upload.wikimedia.org/wikipedia/commons/archive/f/fb/20161010213812%21Escudo-UdeA.svg\" align=\"left\" hspace=\"10px\" vspace=\"0px\"></p>\n",
        "\n",
        "<h1> Curso Deep Learning: Economía</h1>\n",
        "\n",
        "## S06: Introducción a Deep Learning"
      ]
    },
    {
      "cell_type": "markdown",
      "metadata": {
        "id": "BTDmhfQ31dI5"
      },
      "source": [
        "# Introducción al Deep Learning\n",
        "\n",
        "\n",
        "## ¿Qué es Deep Learning?\n",
        "\n",
        "<p><img alt=\"Colaboratory logo\" height=\"300px\" src=\"https://github.com/ssanchezgoe/curso_deep_learning_economia/blob/main/images/DL_S06_AI_Schema.png?raw=true\" align=\"center\" hspace=\"10px\" vspace=\"0px\"></p>\n",
        "\n",
        "La **Inteligencia Artificial** (IA) nace a partir de preguntarnos si era posible automatizar máquinas para que realizaran tareas realizadas por humanos. A partir de esto surgen ramificaciones de la IA entre las cuales encontramos el **Machine Learning** (ML) y a su vez el Deep learning, éste último un subcampo del machine learning.\n",
        "\n",
        "El **Deep Learning** es una forma de tratar las representaciones de los datos que pone énfasis en el aprendizaje a traves de capas sucesivas, con lo cual se busca  tener representaciones cada vez mas significativas que nos permitan estar cerca de las salidas esperadas, es decir, a traves de las capaz se busca extraer progresivamente caracteristicas de un valor mas refinado.\n",
        "\n",
        "<p><img alt=\"Colaboratory logo\" height=\"300px\" src=\"https://github.com/ssanchezgoe/curso_deep_learning_economia/blob/main/images/DL_S06_Data_Representations.png?raw=true\" align=\"center\" hspace=\"10px\" vspace=\"0px\"></p>\n",
        "\n",
        "Donde por representaciones hacemos referencia a todas esas posibles transformaciones que realizamos a nuestros datos de forma tal que puedan facilitar nuestra tareas.\n",
        "\n",
        "El número de capaz que contribuyen en un modelo de datos es llamado **depth** (profundidad); en general tenemos cientos de capaz en nuestros modelos, pero hay ciertos casos en los que solo se cuenta con una o dos capaz a esto se le llama **Shallow learning**(Aprendizaje poco profundo). El deep learning también es llamado  **Layered representations Learning** y **Hierarchical representations learning**. En la siguiente imagen podemos ver un esquema de los modelos de deep learning a grandes razgos.\n",
        "\n",
        "<p><img alt=\"Colaboratory logo\" height=\"200px\" src=\"https://github.com/ssanchezgoe/curso_deep_learning_economia/blob/main/images/DL_S06_Architecture.png?raw=true\" align=\"center\" hspace=\"10px\" vspace=\"0px\"></p>\n",
        "\n",
        "\n",
        "En el Deep Learning el aprendizaje se da a partir de modelos conocidos como redes neuronales artificiales, los cuales son estructuras a capaz conectadas unas a otras, donde el nombre de red neuronal viene de la neurobiología y su comparación con el cerebro, si bien estos modelos se inspiran en este, las redes neurales *no son modelos del cerebro*, pues no se tiene la certeza de como éste funciona, es por esto que muchas personas están dejando a un lado la terminología que hace referencia a aspectos biológicos.\n",
        "\n",
        "<p><img alt=\"Colaboratory logo\" height=\"300px\" src=\"https://github.com/ssanchezgoe/curso_deep_learning_economia/blob/main/images/DL_S06_Rep_By_Layers.png?raw=true\" align=\"center\" hspace=\"10px\" vspace=\"0px\"></p>\n",
        "\n",
        "\n",
        "\n",
        "\n",
        "En la anterior se puede ver un esquema general de una red profunda, la cual podemos pensar como una multiestación de operaciones de destilación de información, donde esta va a traves de diferentes filtros y se retorna altamente purificada, es decir, vamos obteniendo a traves de las capaz diferentes caracterisiticas que harán mas refinadas nuestras representaciones y por ende nos acercaran más a las salidas buscadas.\n",
        "\n",
        "## ¿Cómo trabaja Deep Learning?\n",
        "\n",
        "Igual que en machine learning, se tiene un mapeo input-target,esta vez a traves de una secuencia de transformaciones de los datos (capaz), como se puede ver en la siguiente imagen.\n",
        "\n",
        "<p><img alt=\"Colaboratory logo\" height=\"200px\" src=\"https://github.com/ssanchezgoe/curso_deep_learning_economia/blob/main/images/DL_S06_Course_Flowchart.png?raw=true\" align=\"center\" hspace=\"10px\" vspace=\"0px\"></p>\n",
        "\n",
        "Donde podemos ver que se involucran unos elementos llamados **pesos**, los cuales en esencia son una manada de números que guardan la especificación de qué le hace una capa a sus datos de entrada, es decir, la transformación implementada por una capa es parametrizada por sus pesos. En este sentido se busca encontrar a partir de lo que llamamos aprendizaje el conjunto de valores para los pesos con los cuales  la red mapea correctamente los valores de entrada con sus respectivas etiquetas.\n",
        "\n",
        "Por lo tanto a mi red neuronal le ingreso los datos de entrada, los cuales pasan a traves de las diferentes capaz realizando esa \"destilación\" de información y sale mi predicción (salida), donde en nuestra fase de entrenamiento debemos controlar este valor de salida, es decier necesitamos poder medir que tan lejos nuestra salida está del valor esperado, es aquí donde toma juego la llamada **loss function**(función de perdida) o **Objective function**(funció objetivo); esta toma la predicción y la verdadera etiqueta y calcula cierto puntaje para la distancia entres estas, logrando así capturar que tan bien la red neuronal está haciendo su trabajo.\n",
        "\n",
        "\n",
        "\n",
        "<p><img alt=\"Colaboratory logo\" height=\"300px\" src=\"https://github.com/ssanchezgoe/curso_deep_learning_economia/blob/main/images/DL_S06_Complete_Flowchart.png?raw=true\" align=\"center\" hspace=\"10px\" vspace=\"0px\"></p>\n",
        "\n",
        "Teniendo esto el objetivo está en ajustar los pesos de forma tal que se disminuya la función de perdida, esto se logra usando un optimizador he implementado el algorirmo de retroproyección (**backpropagation**).\n",
        "\n",
        "<p><img alt=\"Colaboratory logo\" height=\"300px\" src=\"https://github.com/ssanchezgoe/curso_deep_learning_economia/blob/main/images/DL_S06_NN_Flowchart_Complete.png.jpg?raw=true\" align=\"center\" hspace=\"10px\" vspace=\"0px\"></p>\n",
        "\n",
        "## ¿ Qué hemos alcanzado con Deep Learning?\n",
        "\n",
        "Con la aplicacion de estos modelos se han alcanzado avances a niveles que muchas veces pueden estar cerca al de un humano; algunos como los siguientes:\n",
        "* Clasificación de imagenes\n",
        "* Reconocimiento de voz\n",
        "* Transcripión de textos\n",
        "* Mejora en las traducciones automáticas\n",
        "* Conversión de voz a texto\n",
        "* Carros autonomos\n",
        "* Entre otros\n",
        "\n",
        "A | B\n",
        "- | - \n",
        "![alt](https://github.com/ssanchezgoe/curso_deep_learning_economia/blob/main/images/DL_S06_Cat_Representation.png?raw=true) | ![alt](https://github.com/ssanchezgoe/curso_deep_learning_economia/blob/main/images/DL_S06_Sound_Representation.png?raw=true)\n",
        "\n",
        "## ¿Qué hace diferente a Deep Learning?\n",
        "\n",
        "* Ofrece mejores soluciones en algunos problemas\n",
        "* Automatiza el feature engineering\n",
        "* Todas las capaz aprenden conjuntamente,esto lo hace paralelizable.\n",
        "\n",
        "Si bien estas son unas de las características que destacan, existen muchas más que nos permiten que modelos complejos puedan ser abordados con facilidad y mayor velocidad en comparación con hace unos años.\n",
        "\n",
        "\n",
        "## ¿ Por qué DL ahora?\n",
        "\n",
        "Si bien las teorías y modelos de DL y en general de la IA se han planteado hace ya un buen tiempo, el rápido crecimiento en los últimos años se ha dado debido a los avances en **hardware** y **Datos**, pues básicamente la IA es un campo experimental mas que teorico, eso no implica que la teoría haya quedado a un lado, pues el avance en capacidad de computo y datos permiten a su vez el avance en nuevos algoritmos. \n",
        "\n",
        "# Redes neuronales artificiales\n",
        "\n",
        "Estas fueron inspiradas en las neuronas biológicas y sus conexiones en el cerebro de los animales, donde estas son celulas nerviosas que proveen unidades funcionales fundamentales para el sistema nervioso de los animales. Las neuronas biológicas se comunican a través de impulsos electro-químicos, llamados señales.Estas están conectadas unas a otras organizadas en redes de millones de nueronas. En la siguiente imagen se pueden ver algunos de los componentes de las neuronas biológicas.\n",
        "\n",
        "\n",
        "<p><img alt=\"Colaboratory logo\" height=\"300px\" src=\"https://github.com/ssanchezgoe/curso_deep_learning_economia/blob/main/images/DL_S06_Neurons.png?raw=true\" align=\"center\" hspace=\"10px\" vspace=\"0px\"></p>\n",
        "\n",
        "Las redes neuronales artificiales (Artificial neural networks), fueron introducidas inicialmente por  Warren McCulloh y Walter Pitts  en los años 40, donde mostraban un  modelo de como las neuronas biológicas podían  realizar complejos cálculos a partir de la lógica proposicional. Estos propusieron un modelo de neurona artificial donde se tenían entradas y salidas binarias.\n",
        "\n",
        "![picture](https://github.com/ssanchezgoe/curso_deep_learning_economia/blob/main/images/DL_S06_Logical_Rules.png?raw=true)\n",
        "\n",
        "Ellos mostraron que a partir de la unión de varias de estas neuronas artificiales, es decir a traves de una red nueronal artificial, se podía calcular cualquier proposición lógica que se quisiera.\n",
        "\n",
        "## El perceptrón\n",
        "\n",
        "A finales de los años 50's  fue diseñado por Frank Rosenblant el perceptrón, inspirandose en los trabajos de McCulloh y Pitts, es considerada la arquitectura mas simple en Deep Learning. Es un  modelo lineal de clasificación binaria  con una relaicón de entrada y salida como se ve en la siguiente imagen:\n",
        "\n",
        "<p><img alt=\"Colaboratory logo\" height=\"300px\" src=\"https://github.com/ssanchezgoe/curso_deep_learning_economia/blob/main/images/DL_S06_Perceptron.png?raw=true\" align=\"center\" hspace=\"10px\" vspace=\"0px\"></p>\n",
        "\n",
        "Donde a cada dato de entrada se le asocia un peso y luego de realizar la sumatoria asociada se pasa por la función de activación, que para el caso del perceptrón normalmente es la función escalón de **Heaviside**, aunque algunas veces también se usa la función sign, ambas definidas de la siguiente manera:\n",
        "\n",
        "\\begin{equation} \n",
        "heaviside(z) = \n",
        "     \\begin{cases}\n",
        "      \\text{0} &\\quad\\text{if}&  z < 0\\\\\n",
        "      \\text{+1} &\\quad\\text{if}& z\\geq 0\\\\\n",
        "     \\end{cases}\\\\     \n",
        "\\end{equation}\n",
        "\n",
        "\\begin{equation} \n",
        "sing(z) = \n",
        "     \\begin{cases}\n",
        "      \\text{-1} &\\quad\\text{if}&  z < 0\\\\\n",
        "      \\text{0} &\\quad\\text{if}&  z = 0\\\\\n",
        "      \\text{+1} &\\quad\\text{if}&  z > 0\\\\\n",
        "     \\end{cases}\n",
        "\\end{equation}\n",
        "\n",
        "\n",
        "\n",
        "\n",
        "\n",
        "\n"
      ]
    },
    {
      "cell_type": "markdown",
      "metadata": {
        "id": "4v1rLwrItXhj"
      },
      "source": [
        "## Multilayer feed forward networks\n",
        "\n",
        "La multilayer feed forward network es una red neuronal con una capa de entrada, una o mas capaz ocultas y una capa de salida. Cada capa tiene una o mas nuronas artificiales, éstas son similares al perceptrón a diferencia de que su función de activación dependerá de los propositos específicos de la capa en la red.\n",
        "\n",
        "<p><img alt=\"Colaboratory logo\" height=\"300px\" src=\"https://github.com/ssanchezgoe/curso_deep_learning_economia/blob/main/images/DL_S06_Neurona_Artificial.jpg?raw=true\" align=\"center\" hspace=\"10px\" vspace=\"0px\"></p>\n",
        "\n",
        "Como vemos se tiene una estructura como la del perceptrón, a diferencia de la antes mencionada flexibilidad en cuanto a la función de activación, algunas de las más utilizadas se pueden ver en el siguiente gráfico\n",
        "\n",
        "![picture](https://github.com/ssanchezgoe/curso_deep_learning_economia/blob/main/images/DL_S06_Funcion_Activacion_Derivada.png?raw=true)\n",
        "\n",
        "Como se ha mencionado, las redes neuronales artificiales son un conjunto de neuronas artificiales agrupadas en lo que denominamos capaz, estas usan en cada capa el mismo tipo de función de activación, donde para una capa diferente a la de entrada, sus datos de entrada serán las salidas de la capa previa (activación). Nuestra salida o predicción, será un mapeo producto de los datos de entrada, donde podrá ser el resultado de una clasificación o regresión de acuerdo a nuestro objetivo.En general la capa de salida usa como función de activación  la función sigmoid o softmax.\n",
        "\n",
        "\n",
        "<p><img alt=\"Colaboratory logo\" height=\"300px\" src=\"https://github.com/ssanchezgoe/curso_deep_learning_economia/blob/main/images/DL_S06_Neural_Network_Architecture.png.jpg?raw=true\" align=\"center\" hspace=\"10px\" vspace=\"0px\"></p>\n",
        "\n",
        "En la anterior se puede ver un bosquejo de lo que es una red neuronal artificial."
      ]
    },
    {
      "cell_type": "markdown",
      "metadata": {
        "id": "VWoKQSPNv8s3"
      },
      "source": [
        "## Modelo de redes neuronales en en keras.\n",
        "A continuación, describiremos cada uno de los elementos vistos hasta ahora para crear una red neuronal:\n",
        "\n",
        "1. Carga de datos\n",
        "\n",
        "2. Arquitectura de la red:\n",
        "  - Número de capas.\n",
        "  - Número de neuronas por capas.\n",
        "  - Funciones de activación.\n",
        "\n",
        "3. Predicción a través de la capa de salida.\n",
        "\n",
        "4. Definición de la función de perdida y optimizador.\n",
        "\n",
        "5. Entrenamiento del moodelo y predicción.\n",
        "\n",
        "6. Evaluación del modelo.\n"
      ]
    },
    {
      "cell_type": "markdown",
      "metadata": {
        "id": "6aJe8_qOyMc2"
      },
      "source": [
        "### Carga de datos\n",
        "\n",
        "Cargaremos un dataset genérico de diabetes"
      ]
    },
    {
      "cell_type": "code",
      "metadata": {
        "id": "5-3JhlgHycgW"
      },
      "source": [
        "import numpy as np\n",
        "from tensorflow import keras"
      ],
      "execution_count": null,
      "outputs": []
    },
    {
      "cell_type": "code",
      "metadata": {
        "id": "zjRCxIu0yXJ0"
      },
      "source": [
        "dataset =  np.loadtxt(\"https://raw.githubusercontent.com/ssanchezgoe/curso_deep_learning_economia/main/data/DL_Pima_Indians_Diabetes.csv\", delimiter=',')\n",
        "print(f\"Dimensión del dataset: {dataset.shape}\")"
      ],
      "execution_count": null,
      "outputs": []
    },
    {
      "cell_type": "markdown",
      "metadata": {
        "id": "kxV3JkvVy_yY"
      },
      "source": [
        "En donde la última columna corresponde a la variable objetivo $y$. Separemos las características de la variable objetivo:"
      ]
    },
    {
      "cell_type": "code",
      "metadata": {
        "id": "IaTazFPny-w3"
      },
      "source": [
        "x = dataset[:,0:8]\n",
        "y = dataset[:,8]\n",
        "\n",
        "print(f\"Forma del tensor x: {x.shape}\")\n",
        "print(f\"Forma del tensor y: {y.shape}\")"
      ],
      "execution_count": null,
      "outputs": []
    },
    {
      "cell_type": "markdown",
      "metadata": {
        "id": "AoJbVs6LzsNp"
      },
      "source": [
        "### Deinición de la arquitectura del modelo y capa de salida.\n",
        "\n",
        "A continuación definieremos un modelo secuencial para la arquitectura y capa de salida del mismo en `keras`:"
      ]
    },
    {
      "cell_type": "code",
      "metadata": {
        "id": "tXQqsW0_z9T_"
      },
      "source": [
        "model = keras.Sequential()\n",
        "model.add(keras.layers.Dense(12, input_dim=8, activation='relu'))\n",
        "model.add(keras.layers.Dense(8, activation='relu'))\n",
        "model.add(keras.layers.Dense(1, activation='sigmoid'))"
      ],
      "execution_count": null,
      "outputs": []
    },
    {
      "cell_type": "markdown",
      "metadata": {
        "id": "VRN-DdRD0Mvq"
      },
      "source": [
        "### Definición de la función de perdida y el optimizador.\n",
        "\n",
        "En `keras`, la función de perdida y el optimizador se define en la etapa de compilación:"
      ]
    },
    {
      "cell_type": "code",
      "metadata": {
        "id": "ES4AlDUK0ZLV"
      },
      "source": [
        "model.compile(loss='binary_crossentropy', optimizer='adam', metrics=['accuracy'])"
      ],
      "execution_count": null,
      "outputs": []
    },
    {
      "cell_type": "markdown",
      "metadata": {
        "id": "hRKbyf1t0s0O"
      },
      "source": [
        "### Ejecución del modelo y predicción:\n",
        "\n",
        "Para entrenar el modelo en `keras`, realizamos lo siguiente"
      ]
    },
    {
      "cell_type": "code",
      "metadata": {
        "id": "ij8Zu-DB0_ir"
      },
      "source": [
        "model.fit(x, y, epochs=150, batch_size=10)"
      ],
      "execution_count": null,
      "outputs": []
    },
    {
      "cell_type": "code",
      "metadata": {
        "id": "yGmggkNV1NDt"
      },
      "source": [
        "_, accuracy = model.evaluate(x, y)\n",
        "print('Accuracy: %.2f' % (accuracy*100))"
      ],
      "execution_count": null,
      "outputs": []
    },
    {
      "cell_type": "markdown",
      "metadata": {
        "id": "j24N4-eSt8FX"
      },
      "source": [
        "## Ejercicios"
      ]
    },
    {
      "cell_type": "markdown",
      "metadata": {
        "id": "sJAlOsU61VLk"
      },
      "source": [
        "### Ejercicio 1:\n",
        "\n",
        "Describa detalladamente las partes involucradas en el algoritmo de redes neuronales."
      ]
    },
    {
      "cell_type": "markdown",
      "metadata": {
        "id": "Ba6lvvKit-6G"
      },
      "source": [
        "### Ejercicio 2:\n",
        "\n",
        "En el modelo realizado en `keras`, relacione las partes definidas con las partes del algoritmo de redes neuronales.  "
      ]
    }
  ]
}