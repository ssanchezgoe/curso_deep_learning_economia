{
  "nbformat": 4,
  "nbformat_minor": 0,
  "metadata": {
    "colab": {
      "name": "DL_S05_Regresion_Lineal.ipynb",
      "provenance": [],
      "collapsed_sections": [],
      "authorship_tag": "ABX9TyNEHG4jAM0UAWvXSQveo7w8",
      "include_colab_link": true
    },
    "kernelspec": {
      "name": "python3",
      "display_name": "Python 3"
    },
    "language_info": {
      "name": "python"
    }
  },
  "cells": [
    {
      "cell_type": "markdown",
      "metadata": {
        "id": "view-in-github",
        "colab_type": "text"
      },
      "source": [
        "<a href=\"https://colab.research.google.com/github/ssanchezgoe/curso_deep_learning_economia/blob/main/NBs_Google_Colab/DL_S05_Regresion_Lineal.ipynb\" target=\"_parent\"><img src=\"https://colab.research.google.com/assets/colab-badge.svg\" alt=\"Open In Colab\"/></a>"
      ]
    },
    {
      "cell_type": "markdown",
      "metadata": {
        "id": "r94g8h-Uj1fC"
      },
      "source": [
        "<p><img alt=\"Colaboratory logo\" height=\"140px\" src=\"https://upload.wikimedia.org/wikipedia/commons/archive/f/fb/20161010213812%21Escudo-UdeA.svg\" align=\"left\" hspace=\"10px\" vspace=\"0px\"></p>\n",
        "\n",
        "<h1> Curso Deep Learning: Economía</h1>\n",
        "\n",
        "## S04: Regresión Lineal"
      ]
    },
    {
      "cell_type": "markdown",
      "metadata": {
        "id": "1uIkI-r9rTy9"
      },
      "source": [
        "## Regresión Lineal\n",
        "\n",
        "El problema de regresión lineal en una dimensión tiene como objetivo ajustar una variable numérica y continua,$y$, a una variable independiente $x$, por medio de un modelo lineal\n",
        "\n",
        "$$y = mx + b$$\n",
        "\n",
        "en donde los parámetros corresponden a:\n",
        "\n",
        "- $m$ pendiente de la recta.\n",
        "- $b$ intercepto con el eje $y$."
      ]
    },
    {
      "cell_type": "code",
      "metadata": {
        "id": "LqlxzP7_gV9W",
        "cellView": "form"
      },
      "source": [
        "#@title Librerías necesarias\n",
        "import numpy as np\n",
        "import matplotlib.pyplot as plt\n",
        "from sklearn import linear_model\n",
        "from sklearn.linear_model import SGDRegressor\n",
        "from sklearn.metrics import mean_squared_error\n",
        "from scipy.stats import pearsonr\n",
        "from numpy.random import randn\n",
        "from numpy.random import seed"
      ],
      "execution_count": null,
      "outputs": []
    },
    {
      "cell_type": "code",
      "metadata": {
        "id": "tRH2dWagvkl8"
      },
      "source": [
        "x=10*np.random.rand(100)\n",
        "e=10*(np.random.rand(100)-0.5)\n",
        "y=3*x+5+e\n",
        "plt.scatter(x,y)\n",
        "plt.plot(np.arange(0,11),3*np.arange(0,11)+5,c='r')\n",
        "plt.show()"
      ],
      "execution_count": null,
      "outputs": []
    },
    {
      "cell_type": "markdown",
      "metadata": {
        "id": "ENlcVgyrgsIU"
      },
      "source": [
        "La correlación entre ambos datos esta dada por:"
      ]
    },
    {
      "cell_type": "code",
      "metadata": {
        "id": "ob42spuFgw4T"
      },
      "source": [
        "# Cálculo de la correlación de pearson.\n",
        "corr, _ = pearsonr(x, y)\n",
        "corr"
      ],
      "execution_count": null,
      "outputs": []
    },
    {
      "cell_type": "markdown",
      "metadata": {
        "id": "f-jgO21EwMBl"
      },
      "source": [
        "La línea recta sobre los puntos representa la tendencia del ajuste. En la figura se puede observar que esta línea no se ajusta a cada uno de los puntos; en su lugar, marca una tendencia promedio, por lo que se puede obtener un error en el ajuste a través de la distancia promedio de los puntos a la línea de tendencia:"
      ]
    },
    {
      "cell_type": "code",
      "metadata": {
        "id": "03txq2GBwsBJ"
      },
      "source": [
        "plt.errorbar(x,y,yerr=np.c_[e,np.zeros_like(e)].T,fmt='none',c='m')\n",
        "plt.scatter(x,y)\n",
        "plt.plot(np.arange(0,11),3*np.arange(0,11)+5,c='r')\n",
        "plt.show()"
      ],
      "execution_count": null,
      "outputs": []
    },
    {
      "cell_type": "markdown",
      "metadata": {
        "id": "JxMwe-BExsLx"
      },
      "source": [
        "### Mínimos Cuadrados: Solución Analítica\n",
        "\n",
        "Al rededor de 1800 Carl Friederich Gauss y Adrien-Marie Legendre encontraron la forma de realizar un ajuste lineal, al minimizar la suma de los errores cuadráticos (MSE):\n",
        "\n",
        "$$\\text{MSE} = \\frac{1}{N}\\sum_{i=1}^N(\\hat{y}_i-y_i)^2$$\n",
        "\n",
        "en donde \n",
        "\n",
        "- $\\hat{y}_i$ corresponde al i-ésimo valor predicho por el modelo.\n",
        "- $y_i$ corresponde al i-ésimo valor del conjunto de datos de la variable objetivo.\n",
        "\n",
        "Se puede mostrar que los valores de la pendiente $m$ y el intercepto $c$ que minimizan la ecuación $y = mx + b$ están dados por\n",
        "\n",
        "$$m=\\frac{\\bar{xy}-\\bar{x}\\bar{y}}{\\bar{x^2}-\\bar{x}^2}$$\n",
        "\n",
        "$$b=\\bar{y}-m\\bar{x}$$\n",
        "\n",
        "en donde las cantidades con una barra corresponden a sus valores promedio.\n",
        "\n",
        "Los valores optimos serán entonces"
      ]
    },
    {
      "cell_type": "code",
      "metadata": {
        "id": "HwG7EsFW1qf8"
      },
      "source": [
        "N=len(x)\n",
        "m=(np.sum(x*y)-np.sum(x)*np.sum(y)/N)/(np.sum(x*x)-np.sum(x)**2/N)\n",
        "b=(np.sum(y)-m*np.sum(x))/N\n",
        "\n",
        "print('m',m)\n",
        "print('b',b)"
      ],
      "execution_count": null,
      "outputs": []
    },
    {
      "cell_type": "code",
      "metadata": {
        "id": "xAk6dcoLxoR6"
      },
      "source": [
        "plt.scatter(x,y)\n",
        "plt.plot(np.arange(0,10,10/100), m*np.arange(0,10,10/100)+b, c='r')\n",
        "plt.legend([\"Modelo\",\"Datos\"])\n",
        "plt.show()"
      ],
      "execution_count": null,
      "outputs": []
    },
    {
      "cell_type": "code",
      "metadata": {
        "id": "A7fOhsO899Fi"
      },
      "source": [
        " print(f\"MSE: {mean_squared_error(y, m*x+b)}\")"
      ],
      "execution_count": null,
      "outputs": []
    },
    {
      "cell_type": "markdown",
      "metadata": {
        "id": "hhItFQ7l2MUZ"
      },
      "source": [
        "El problema multidimensional de un ajuste lineal puede ser escrito como:\n",
        "\n",
        "$$y=a_0+a_1 x_1+a_2 x_2+...+a_m x_m=\\sum_{j=0}^m a_m x_m$$\n",
        "\n",
        "El cual puede ser resuelto analíticamente como:\n",
        "\n",
        "$$\\vec{a}=(a_0,a_1,...,a_m)=(X^T X)^{-1}X^T y$$\n",
        "\n",
        "Para lo que ser requiere de la inversión de la matriz $X^T X$"
      ]
    },
    {
      "cell_type": "code",
      "metadata": {
        "id": "c3ouVw343fvA"
      },
      "source": [
        "X=np.c_[np.ones_like(x),x]\n",
        "params = np.matmul(np.linalg.inv(np.matmul(X.T,X)),np.matmul(X.T,y))\n",
        "params"
      ],
      "execution_count": null,
      "outputs": []
    },
    {
      "cell_type": "code",
      "metadata": {
        "id": "ZqVmzG0ozZDM"
      },
      "source": [
        "plt.scatter(x,y)\n",
        "plt.plot(np.arange(0,10,10/100), params[1]*np.arange(0,10,10/100)+params[0], c='r')\n",
        "plt.legend([\"Modelo\",\"Datos\"])\n",
        "plt.show()"
      ],
      "execution_count": null,
      "outputs": []
    },
    {
      "cell_type": "code",
      "metadata": {
        "id": "9e3HhLz0_AOU"
      },
      "source": [
        "print(f\"MSE: {mean_squared_error(y, params[1]*x+params[0])}\")"
      ],
      "execution_count": null,
      "outputs": []
    },
    {
      "cell_type": "markdown",
      "metadata": {
        "id": "TJCbyJVh3ip9"
      },
      "source": [
        "No obstante, si se poseen variabes características, la ecuación normal puede resultar computacionalmente lenta, debido a la inversión matricial que se reaquiere calcular. Para evitar esto, se hace uso de la técnica de descenso del gradiente."
      ]
    },
    {
      "cell_type": "markdown",
      "metadata": {
        "id": "DbwJiXUX2s6r"
      },
      "source": [
        "##  Solución en `sklearn`:\n",
        "\n",
        "La solución estándar en `sklearn` consiste en la siguientes líneas:"
      ]
    },
    {
      "cell_type": "code",
      "metadata": {
        "id": "atNh0HdL3M61"
      },
      "source": [
        "lr = linear_model.LinearRegression()\n",
        "lr.fit(x.reshape(-1,1),y)\n",
        "print(f\"{lr.intercept_, lr.coef_[0]}\")"
      ],
      "execution_count": null,
      "outputs": []
    },
    {
      "cell_type": "code",
      "metadata": {
        "id": "P-UnqK3b1nn0"
      },
      "source": [
        "plt.scatter(x,y)\n",
        "plt.plot(np.arange(0,10,10/100), lr.coef_[0]*np.arange(0,10,10/100)+lr.intercept_, c='r')\n",
        "plt.legend([\"Modelo\",\"Datos\"])\n",
        "plt.show()"
      ],
      "execution_count": null,
      "outputs": []
    },
    {
      "cell_type": "code",
      "metadata": {
        "id": "IaIKxqVH_kZq"
      },
      "source": [
        "print(f\"MSE: {mean_squared_error(y, lr.coef_[0]*x+lr.intercept_)}\")"
      ],
      "execution_count": null,
      "outputs": []
    },
    {
      "cell_type": "markdown",
      "metadata": {
        "id": "LqT4lnO9Jqen"
      },
      "source": [
        "Si usamos decenso de gradiente, usamos el objeto de `sklearn` `SGDRegresor`:"
      ]
    },
    {
      "cell_type": "code",
      "metadata": {
        "id": "4hsUibl2FM-K"
      },
      "source": [
        "model = SGDRegressor(max_iter=1000, tol=0.001, eta0=0.1)\n",
        "model.fit(x.reshape(-1,1),y)\n",
        "print(f\"{model.intercept_, model.coef_[0]}\")"
      ],
      "execution_count": null,
      "outputs": []
    },
    {
      "cell_type": "code",
      "metadata": {
        "id": "7MoZzYmT3EZx"
      },
      "source": [
        "plt.scatter(x,y)\n",
        "plt.plot(np.arange(0,10,10/100), model.coef_[0]*np.arange(0,10,10/100)+model.intercept_, c='r')\n",
        "plt.legend([\"Modelo\",\"Datos\"])\n",
        "plt.show()"
      ],
      "execution_count": null,
      "outputs": []
    },
    {
      "cell_type": "code",
      "metadata": {
        "id": "WVsi6Nsb_6Z_"
      },
      "source": [
        "print(f\"MSE: {mean_squared_error(y, model.coef_[0]*x+model.intercept_)}\")"
      ],
      "execution_count": null,
      "outputs": []
    },
    {
      "cell_type": "markdown",
      "metadata": {
        "id": "gFmphkc08s5w"
      },
      "source": [
        "## Solución en `keras`:\n",
        "\n",
        "En `keras`, para implementar una regresión lineal, se programa una sola capa sin función de activación:"
      ]
    },
    {
      "cell_type": "code",
      "metadata": {
        "id": "wG4zhTWd4uu0"
      },
      "source": [
        "from tensorflow import keras"
      ],
      "execution_count": null,
      "outputs": []
    },
    {
      "cell_type": "code",
      "metadata": {
        "id": "E-s_W1MG6Sun"
      },
      "source": [
        "keras.backend.clear_session()\n",
        "model = keras.Sequential()\n",
        "model.add(keras.layers.Dense(1, input_shape=(1,)))\n",
        "model.summary()"
      ],
      "execution_count": null,
      "outputs": []
    },
    {
      "cell_type": "code",
      "metadata": {
        "id": "9DeVUUAk6c-1"
      },
      "source": [
        "model.compile(keras.optimizers.Adam(learning_rate=0.9), 'mean_squared_error')"
      ],
      "execution_count": null,
      "outputs": []
    },
    {
      "cell_type": "code",
      "metadata": {
        "id": "seL-lZ5r7bUC"
      },
      "source": [
        "model.fit(x,y,epochs=30)"
      ],
      "execution_count": null,
      "outputs": []
    },
    {
      "cell_type": "code",
      "metadata": {
        "id": "jJj6cBbp7tVJ"
      },
      "source": [
        "m,b = model.get_weights()\n",
        "print(f\"{b[0],m[0][0]}\")"
      ],
      "execution_count": null,
      "outputs": []
    },
    {
      "cell_type": "code",
      "metadata": {
        "id": "AwSnRFAa3elS"
      },
      "source": [
        "plt.scatter(x,y)\n",
        "plt.plot(np.arange(0,10,10/100), m[0][0]*np.arange(0,10,10/100)+b[0], c='r')\n",
        "plt.legend([\"Modelo\",\"Datos\"])\n",
        "plt.show()"
      ],
      "execution_count": null,
      "outputs": []
    },
    {
      "cell_type": "code",
      "metadata": {
        "id": "gz3jUFS4AE9w"
      },
      "source": [
        "print(f\"MSE: {mean_squared_error(y, m[0][0]*x+b[0])}\")"
      ],
      "execution_count": null,
      "outputs": []
    },
    {
      "cell_type": "markdown",
      "metadata": {
        "id": "SJsVv7vl3tLS"
      },
      "source": [
        "## Ejercicios\n",
        "\n",
        "Para el siguiente conjunto de puntos"
      ]
    },
    {
      "cell_type": "code",
      "metadata": {
        "cellView": "form",
        "id": "A0R4mdnf4Elb"
      },
      "source": [
        "#@title Conjunto de datos xE, yE\n",
        "from sklearn.datasets import make_regression\n",
        "\n",
        "xE,yE = make_regression(n_samples=200, n_features=1, noise=3)\n",
        "plt.scatter(xE,yE)\n",
        "plt.xlabel(\"xE\")\n",
        "plt.ylabel(\"yE\")\n",
        "plt.show()"
      ],
      "execution_count": null,
      "outputs": []
    },
    {
      "cell_type": "markdown",
      "metadata": {
        "id": "rUoBDRUI5LY8"
      },
      "source": [
        "realice los ejercicios enumerados a continuación."
      ]
    },
    {
      "cell_type": "markdown",
      "metadata": {
        "id": "2JMKB-FD57Pj"
      },
      "source": [
        "### Ejercicio 1:\n",
        "\n",
        "Para este ejercicio: \n",
        "1. Realice un ajuste lineal, implementando una función para el método de mínimos cuadrados\n",
        "2. Desarrolle una función que grafique el conjunto de datos y el modelo. \n",
        "3. Calcule el valor del error cuadrático medio."
      ]
    },
    {
      "cell_type": "markdown",
      "metadata": {
        "id": "dcmijtUw7GPC"
      },
      "source": [
        "### Ejercicio 2:\n",
        "\n",
        "Para este ejercicio:\n",
        "1. Realice un ajuste lineal siguiendo el método estándard de `skelearn`. \n",
        "2. Haga uso de la función implementada en el ejercicio 1 para visualizar los datos y el modelo.\n",
        "3. Calcule el valor del error cuadrático medio."
      ]
    },
    {
      "cell_type": "markdown",
      "metadata": {
        "id": "fl3OjnAC7d1V"
      },
      "source": [
        "### Ejercicio 3:\n",
        "\n",
        "Para este ejercicio:\n",
        "1. Realice un ajuste lineal siguiendo el método de descenso de gradiente estocástico implementado en `sklearn`, usando varios modelos en donde evalue varios valores de los parámetros vistos:\n",
        "\n",
        "  - `max_iter`\n",
        "  - `tol`\n",
        "  - `eta0`\n",
        "\n",
        "2. Visualice los datos junto al modelo, en cada conjunto de parámetros analizado.\n",
        "3. Calcule el valor del error cuadrático medio."
      ]
    },
    {
      "cell_type": "markdown",
      "metadata": {
        "id": "CKOdyyQY8mNc"
      },
      "source": [
        "### Ejercicio 4:\n",
        "\n",
        "Para este ejercicio:\n",
        "1. Realice un ajuste lineal implementando el método de `keras`. \n",
        "2. Visualice el modelo junto a los datos.\n",
        "3. Calcule el valor del error cuadrático medio."
      ]
    }
  ]
}