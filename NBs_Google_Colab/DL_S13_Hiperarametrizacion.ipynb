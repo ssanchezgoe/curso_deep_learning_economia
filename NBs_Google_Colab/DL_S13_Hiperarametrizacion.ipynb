{
  "nbformat": 4,
  "nbformat_minor": 0,
  "metadata": {
    "colab": {
      "name": "DL_S13_Hiperarametrizacion.ipynb",
      "provenance": [],
      "authorship_tag": "ABX9TyMMD7LbBwLv701nMHNit4JB",
      "include_colab_link": true
    },
    "kernelspec": {
      "name": "python3",
      "display_name": "Python 3"
    },
    "language_info": {
      "name": "python"
    },
    "accelerator": "TPU"
  },
  "cells": [
    {
      "cell_type": "markdown",
      "metadata": {
        "id": "view-in-github",
        "colab_type": "text"
      },
      "source": [
        "<a href=\"https://colab.research.google.com/github/ssanchezgoe/curso_deep_learning_economia/blob/main/NBs_Google_Colab/DL_S13_Hiperarametrizacion.ipynb\" target=\"_parent\"><img src=\"https://colab.research.google.com/assets/colab-badge.svg\" alt=\"Open In Colab\"/></a>"
      ]
    },
    {
      "cell_type": "markdown",
      "metadata": {
        "id": "OMTYh2DqhKFJ"
      },
      "source": [
        "<p><img alt=\"Colaboratory logo\" height=\"140px\" src=\"https://upload.wikimedia.org/wikipedia/commons/archive/f/fb/20161010213812%21Escudo-UdeA.svg\" align=\"left\" hspace=\"10px\" vspace=\"0px\"></p>\n",
        "\n",
        "<h1> Curso Deep Learning: Economía</h1>\n",
        "\n",
        "## S12: Hiperparametrización"
      ]
    },
    {
      "cell_type": "markdown",
      "metadata": {
        "id": "x3awUgCzenNR"
      },
      "source": [
        "# Hiperparametrización"
      ]
    },
    {
      "cell_type": "code",
      "metadata": {
        "id": "e_SIflDDuwGN"
      },
      "source": [
        "# Librerías\n",
        "import numpy\n",
        "from sklearn.model_selection import GridSearchCV\n",
        "from keras.models import Sequential\n",
        "from keras.layers import Dense\n",
        "from keras.wrappers.scikit_learn import KerasClassifier\n",
        "from keras.backend import clear_session\n",
        "from keras.constraints import maxnorm\n",
        "from keras.layers import Dropout"
      ],
      "execution_count": null,
      "outputs": []
    },
    {
      "cell_type": "code",
      "metadata": {
        "id": "jryukSs7hh9H"
      },
      "source": [
        "def grid_search_info(grid_result):\n",
        "  print(f\"Mejor: {grid_result.best_score_} donde {grid_result.best_params_}\")\n",
        "  means = grid_result.cv_results_['mean_test_score']\n",
        "  stds = grid_result.cv_results_['std_test_score']\n",
        "  params = grid_result.cv_results_['params']\n",
        "  for mean, stdev, param in zip(means, stds, params):\n",
        "      print(f\"{mean:.5f} +/- {stdev:.5f} donde: {param}\")\n",
        "  \n",
        "  return None"
      ],
      "execution_count": null,
      "outputs": []
    },
    {
      "cell_type": "markdown",
      "metadata": {
        "id": "0jcRvDKP0BLY"
      },
      "source": [
        "## Introducción\n",
        "\n",
        "El proceso de hiperparametrización es uno de los pasos principales para la contrucción de algoritmo en deep learning. Las redes neuronales son especialmente difíciles de configurar, ya que existen numerosos parámetros que deben ser fijados. Por otra parte, los modelos individuales puede resultar en entrenamientos muy lentos."
      ]
    },
    {
      "cell_type": "markdown",
      "metadata": {
        "id": "sAOx9Kzierrz"
      },
      "source": [
        "## Tunear el Batch Size y número de épocas"
      ]
    },
    {
      "cell_type": "code",
      "metadata": {
        "id": "xF0B3VlSd2JD"
      },
      "source": [
        "def create_model():\n",
        "\t# create model\n",
        "\tmodel = Sequential()\n",
        "\tmodel.add(Dense(12, input_dim=8, activation='relu'))\n",
        "\tmodel.add(Dense(1, activation='sigmoid'))\n",
        "\t# Compile model\n",
        "\tmodel.compile(loss='binary_crossentropy', optimizer='adam', metrics=['accuracy'])\n",
        "\treturn model"
      ],
      "execution_count": null,
      "outputs": []
    },
    {
      "cell_type": "code",
      "metadata": {
        "id": "8p1Cqv5xeTEe"
      },
      "source": [
        "# fix random seed for reproducibility\n",
        "seed = 7\n",
        "numpy.random.seed(seed)"
      ],
      "execution_count": null,
      "outputs": []
    },
    {
      "cell_type": "code",
      "metadata": {
        "id": "QTaxPSTMehvW"
      },
      "source": [
        "# load dataset\n",
        "dataset = numpy.loadtxt(\"https://raw.githubusercontent.com/ssanchezgoe/curso_deep_learning_economia/main/data/DL_Pima_Indians_Diabetes.csv\", delimiter=\",\")\n",
        "# split into input (X) and output (Y) variables\n",
        "X = dataset[:,0:8]\n",
        "Y = dataset[:,8]"
      ],
      "execution_count": null,
      "outputs": []
    },
    {
      "cell_type": "code",
      "metadata": {
        "id": "FEetIDIDejqV"
      },
      "source": [
        "# create model\n",
        "clear_session()\n",
        "model = KerasClassifier(build_fn=create_model, verbose=0)"
      ],
      "execution_count": null,
      "outputs": []
    },
    {
      "cell_type": "code",
      "metadata": {
        "id": "iXHlmw6lfKUv"
      },
      "source": [
        "# define the grid search parameters\n",
        "batch_size = [10, 20, 40, 60, 80, 100]\n",
        "epochs = [10, 50, 100]\n",
        "param_grid = dict(batch_size=batch_size, epochs=epochs)\n",
        "grid = GridSearchCV(estimator=model, param_grid=param_grid, n_jobs=-1, cv=3)\n",
        "grid_result = grid.fit(X, Y)"
      ],
      "execution_count": null,
      "outputs": []
    },
    {
      "cell_type": "code",
      "metadata": {
        "id": "wM2mizW4fOPN"
      },
      "source": [
        "# summarize results\n",
        "grid_search_info(grid_result)"
      ],
      "execution_count": null,
      "outputs": []
    },
    {
      "cell_type": "markdown",
      "metadata": {
        "id": "tTW_hxzeh833"
      },
      "source": [
        "## Tunear el algoritmo de optimización"
      ]
    },
    {
      "cell_type": "code",
      "metadata": {
        "id": "u3PTreYygDWd"
      },
      "source": [
        "# Function to create model, required for KerasClassifier\n",
        "def create_model(optimizer='adam'):\n",
        "\t# create model\n",
        "\tmodel = Sequential()\n",
        "\tmodel.add(Dense(12, input_dim=8, activation='relu'))\n",
        "\tmodel.add(Dense(1, activation='sigmoid'))\n",
        "\t# Compile model\n",
        "\tmodel.compile(loss='binary_crossentropy', optimizer=optimizer, metrics=['accuracy'])\n",
        "\treturn model"
      ],
      "execution_count": null,
      "outputs": []
    },
    {
      "cell_type": "code",
      "metadata": {
        "id": "eiPxwjK4iLDf"
      },
      "source": [
        "# fix random seed for reproducibility\n",
        "seed = 7\n",
        "numpy.random.seed(seed)"
      ],
      "execution_count": null,
      "outputs": []
    },
    {
      "cell_type": "code",
      "metadata": {
        "id": "wA1vsO2NiOX3"
      },
      "source": [
        "# load dataset\n",
        "dataset = numpy.loadtxt(\"https://raw.githubusercontent.com/ssanchezgoe/curso_deep_learning_economia/main/data/DL_Pima_Indians_Diabetes.csv\", delimiter=\",\")\n",
        "# split into input (X) and output (Y) variables\n",
        "X = dataset[:,0:8]\n",
        "Y = dataset[:,8]"
      ],
      "execution_count": null,
      "outputs": []
    },
    {
      "cell_type": "code",
      "metadata": {
        "id": "RIA40HRfiRLl"
      },
      "source": [
        "# create model\n",
        "clear_session()\n",
        "model = KerasClassifier(build_fn=create_model, epochs=100, batch_size=10, verbose=0)"
      ],
      "execution_count": null,
      "outputs": []
    },
    {
      "cell_type": "code",
      "metadata": {
        "id": "eYFNGOAGito3"
      },
      "source": [
        "# define the grid search parameters\n",
        "optimizer = ['SGD', 'RMSprop', 'Adagrad', 'Adadelta', 'Adam', 'Adamax', 'Nadam']\n",
        "param_grid = dict(optimizer=optimizer)\n",
        "grid = GridSearchCV(estimator=model, param_grid=param_grid, n_jobs=-1, cv=3)\n",
        "grid_result = grid.fit(X, Y)"
      ],
      "execution_count": null,
      "outputs": []
    },
    {
      "cell_type": "code",
      "metadata": {
        "id": "zqYOPPDZizsL"
      },
      "source": [
        "# summarize results\n",
        "grid_search_info(grid_result)"
      ],
      "execution_count": null,
      "outputs": []
    },
    {
      "cell_type": "markdown",
      "metadata": {
        "id": "o-33yyujkMVp"
      },
      "source": [
        "## Tunear la inicialización de pesos"
      ]
    },
    {
      "cell_type": "code",
      "metadata": {
        "id": "HjZw9uFKj8eJ"
      },
      "source": [
        "# Function to create model, required for KerasClassifier\n",
        "def create_model(init_mode='uniform'):\n",
        "\t# create model\n",
        "\tmodel = Sequential()\n",
        "\tmodel.add(Dense(12, input_dim=8, kernel_initializer=init_mode, activation='relu'))\n",
        "\tmodel.add(Dense(1, kernel_initializer=init_mode, activation='sigmoid'))\n",
        "\t# Compile model\n",
        "\tmodel.compile(loss='binary_crossentropy', optimizer='adam', metrics=['accuracy'])\n",
        "\treturn model"
      ],
      "execution_count": null,
      "outputs": []
    },
    {
      "cell_type": "code",
      "metadata": {
        "id": "x9MbK6k0kgSf"
      },
      "source": [
        "# fix random seed for reproducibility\n",
        "seed = 7\n",
        "numpy.random.seed(seed)"
      ],
      "execution_count": null,
      "outputs": []
    },
    {
      "cell_type": "code",
      "metadata": {
        "id": "5pIhFFa8kjER"
      },
      "source": [
        "# load dataset\n",
        "dataset = numpy.loadtxt(\"https://raw.githubusercontent.com/ssanchezgoe/curso_deep_learning_economia/main/data/DL_Pima_Indians_Diabetes.csv\", delimiter=\",\")\n",
        "# split into input (X) and output (Y) variables\n",
        "X = dataset[:,0:8]\n",
        "Y = dataset[:,8]"
      ],
      "execution_count": null,
      "outputs": []
    },
    {
      "cell_type": "code",
      "metadata": {
        "id": "fSSAdszWkpBW"
      },
      "source": [
        "# split into input (X) and output (Y) variables\n",
        "X = dataset[:,0:8]\n",
        "Y = dataset[:,8]"
      ],
      "execution_count": null,
      "outputs": []
    },
    {
      "cell_type": "code",
      "metadata": {
        "id": "fmbbp8BEkpjO"
      },
      "source": [
        "# create model\n",
        "clear_session()\n",
        "model = KerasClassifier(build_fn=create_model, epochs=100, batch_size=10, verbose=0)"
      ],
      "execution_count": null,
      "outputs": []
    },
    {
      "cell_type": "code",
      "metadata": {
        "id": "Y5ysXixOkyuh"
      },
      "source": [
        "# define the grid search parameters\n",
        "init_mode = ['uniform', 'lecun_uniform', 'normal', 'zero', 'glorot_normal', 'glorot_uniform', 'he_normal', 'he_uniform']\n",
        "param_grid = dict(init_mode=init_mode)\n",
        "grid = GridSearchCV(estimator=model, param_grid=param_grid, n_jobs=-1, cv=3)\n",
        "grid_result = grid.fit(X, Y)"
      ],
      "execution_count": null,
      "outputs": []
    },
    {
      "cell_type": "code",
      "metadata": {
        "id": "8OB27wxIk2cB"
      },
      "source": [
        "# summarize results\n",
        "grid_search_info(grid_result)"
      ],
      "execution_count": null,
      "outputs": []
    },
    {
      "cell_type": "markdown",
      "metadata": {
        "id": "meDMAKiVlbjo"
      },
      "source": [
        "## Tunear la función de activación de las neuronas"
      ]
    },
    {
      "cell_type": "code",
      "metadata": {
        "id": "RuYH9nTvlbOm"
      },
      "source": [
        "# Function to create model, required for KerasClassifier\n",
        "def create_model(activation='relu'):\n",
        "\t# create model\n",
        "\tmodel = Sequential()\n",
        "\tmodel.add(Dense(12, input_dim=8, kernel_initializer='uniform', activation=activation))\n",
        "\tmodel.add(Dense(1, kernel_initializer='uniform', activation='sigmoid'))\n",
        "\t# Compile model\n",
        "\tmodel.compile(loss='binary_crossentropy', optimizer='adam', metrics=['accuracy'])\n",
        "\treturn model"
      ],
      "execution_count": null,
      "outputs": []
    },
    {
      "cell_type": "code",
      "metadata": {
        "id": "BEhcZaKgllL3"
      },
      "source": [
        "# fix random seed for reproducibility\n",
        "seed = 7\n",
        "numpy.random.seed(seed)"
      ],
      "execution_count": null,
      "outputs": []
    },
    {
      "cell_type": "code",
      "metadata": {
        "id": "K_0FHyljlsp2"
      },
      "source": [
        "# load dataset\n",
        "dataset = numpy.loadtxt(\"https://raw.githubusercontent.com/ssanchezgoe/curso_deep_learning_economia/main/data/DL_Pima_Indians_Diabetes.csv\", delimiter=\",\")\n",
        "# split into input (X) and output (Y) variables\n",
        "X = dataset[:,0:8]\n",
        "Y = dataset[:,8]"
      ],
      "execution_count": null,
      "outputs": []
    },
    {
      "cell_type": "code",
      "metadata": {
        "id": "KH7gbOpdltjj"
      },
      "source": [
        "# create model\n",
        "model = KerasClassifier(build_fn=create_model, epochs=100, batch_size=10, verbose=0)"
      ],
      "execution_count": null,
      "outputs": []
    },
    {
      "cell_type": "code",
      "metadata": {
        "id": "82WtXULwl2YT"
      },
      "source": [
        "# define the grid search parameters\n",
        "activation = ['softmax', 'softplus', 'softsign', 'relu', 'tanh', 'sigmoid', 'hard_sigmoid', 'linear']\n",
        "param_grid = dict(activation=activation)\n",
        "grid = GridSearchCV(estimator=model, param_grid=param_grid, n_jobs=-1, cv=3)\n",
        "grid_result = grid.fit(X, Y)"
      ],
      "execution_count": null,
      "outputs": []
    },
    {
      "cell_type": "code",
      "metadata": {
        "id": "-oI-EdeOl-Gb"
      },
      "source": [
        "# summarize results\n",
        "grid_search_info(grid_result)"
      ],
      "execution_count": null,
      "outputs": []
    },
    {
      "cell_type": "markdown",
      "metadata": {
        "id": "UQSWfvTbmBu2"
      },
      "source": [
        "## Como tunear la regularización de Dropout"
      ]
    },
    {
      "cell_type": "code",
      "metadata": {
        "id": "Ulc6_9bBwkqF"
      },
      "source": [
        "# Function to create model, required for KerasClassifier\n",
        "def create_model(dropout_rate=0.0, weight_constraint=0):\n",
        "\t# create model\n",
        "\tmodel = Sequential()\n",
        "\tmodel.add(Dense(12, input_dim=8, kernel_initializer='uniform', activation='linear', kernel_constraint=maxnorm(weight_constraint)))\n",
        "\tmodel.add(Dropout(dropout_rate))\n",
        "\tmodel.add(Dense(1, kernel_initializer='uniform', activation='sigmoid'))\n",
        "\t# Compile model\n",
        "\tmodel.compile(loss='binary_crossentropy', optimizer='adam', metrics=['accuracy'])\n",
        "\treturn model"
      ],
      "execution_count": null,
      "outputs": []
    },
    {
      "cell_type": "code",
      "metadata": {
        "id": "YNSXUQBCwllP"
      },
      "source": [
        "# fix random seed for reproducibility\n",
        "seed = 7\n",
        "numpy.random.seed(seed)"
      ],
      "execution_count": null,
      "outputs": []
    },
    {
      "cell_type": "code",
      "metadata": {
        "id": "8bWFNg6cwoa9"
      },
      "source": [
        "# load dataset\n",
        "dataset = numpy.loadtxt(\"https://raw.githubusercontent.com/ssanchezgoe/curso_deep_learning_economia/main/data/DL_Pima_Indians_Diabetes.csv\", delimiter=\",\")\n",
        "# split into input (X) and output (Y) variables\n",
        "X = dataset[:,0:8]\n",
        "Y = dataset[:,8]"
      ],
      "execution_count": null,
      "outputs": []
    },
    {
      "cell_type": "code",
      "metadata": {
        "id": "TLUQRLHjwtJP"
      },
      "source": [
        "# create model\n",
        "model = KerasClassifier(build_fn=create_model, epochs=100, batch_size=10, verbose=0)"
      ],
      "execution_count": null,
      "outputs": []
    },
    {
      "cell_type": "code",
      "metadata": {
        "id": "b5Erq7xCw2_J"
      },
      "source": [
        "# define the grid search parameters\n",
        "weight_constraint = [1, 2, 3, 4, 5]\n",
        "dropout_rate = [0.0, 0.1, 0.2, 0.3, 0.4, 0.5, 0.6, 0.7, 0.8, 0.9]\n",
        "param_grid = dict(dropout_rate=dropout_rate, weight_constraint=weight_constraint)\n",
        "grid = GridSearchCV(estimator=model, param_grid=param_grid, n_jobs=-1, cv=3)\n",
        "grid_result = grid.fit(X, Y)"
      ],
      "execution_count": null,
      "outputs": []
    },
    {
      "cell_type": "code",
      "metadata": {
        "id": "g0aEC6qxxPRg"
      },
      "source": [
        "# summarize results\n",
        "grid_search_info(grid_result)"
      ],
      "execution_count": null,
      "outputs": []
    },
    {
      "cell_type": "markdown",
      "metadata": {
        "id": "JmyCTp0xyIdt"
      },
      "source": [
        "## Tunear el número de neuronas en capas ocultas"
      ]
    },
    {
      "cell_type": "code",
      "metadata": {
        "id": "WsEDCR34yQQa"
      },
      "source": [
        "# Function to create model, required for KerasClassifier\n",
        "def create_model(neurons=1):\n",
        "\t# create model\n",
        "\tmodel = Sequential()\n",
        "\tmodel.add(Dense(neurons, input_dim=8, kernel_initializer='uniform', activation='linear', kernel_constraint=maxnorm(4)))\n",
        "\tmodel.add(Dropout(0.2))\n",
        "\tmodel.add(Dense(1, kernel_initializer='uniform', activation='sigmoid'))\n",
        "\t# Compile model\n",
        "\tmodel.compile(loss='binary_crossentropy', optimizer='adam', metrics=['accuracy'])\n",
        "\treturn model"
      ],
      "execution_count": null,
      "outputs": []
    },
    {
      "cell_type": "code",
      "metadata": {
        "id": "Gmn5WsSSyXdQ"
      },
      "source": [
        "# fix random seed for reproducibility\n",
        "seed = 7\n",
        "numpy.random.seed(seed)"
      ],
      "execution_count": null,
      "outputs": []
    },
    {
      "cell_type": "code",
      "metadata": {
        "id": "BmbWAdhxyaQ3"
      },
      "source": [
        "# load dataset\n",
        "dataset = numpy.loadtxt(\"https://raw.githubusercontent.com/ssanchezgoe/curso_deep_learning_economia/main/data/DL_Pima_Indians_Diabetes.csv\", delimiter=\",\")\n",
        "# split into input (X) and output (Y) variables\n",
        "X = dataset[:,0:8]\n",
        "Y = dataset[:,8]"
      ],
      "execution_count": null,
      "outputs": []
    },
    {
      "cell_type": "code",
      "metadata": {
        "id": "Id9vUUQ0yfyX"
      },
      "source": [
        "# create model\n",
        "model = KerasClassifier(build_fn=create_model, epochs=100, batch_size=10, verbose=0)"
      ],
      "execution_count": null,
      "outputs": []
    },
    {
      "cell_type": "code",
      "metadata": {
        "id": "l82ib62RyiwD"
      },
      "source": [
        "# define the grid search parameters\n",
        "neurons = [1, 5, 10, 15, 20, 25, 30]\n",
        "param_grid = dict(neurons=neurons)\n",
        "grid = GridSearchCV(estimator=model, param_grid=param_grid, n_jobs=-1, cv=3)\n",
        "grid_result = grid.fit(X, Y)"
      ],
      "execution_count": null,
      "outputs": []
    },
    {
      "cell_type": "code",
      "metadata": {
        "id": "z1Irz62Gyji7"
      },
      "source": [
        "# summarize results\n",
        "grid_search_info(grid_result)"
      ],
      "execution_count": null,
      "outputs": []
    },
    {
      "cell_type": "markdown",
      "metadata": {
        "id": "cRHRPam7IUnI"
      },
      "source": [
        "## Número de capas ocultas"
      ]
    },
    {
      "cell_type": "code",
      "metadata": {
        "id": "3okK769xIYX_"
      },
      "source": [
        "def create_model(input_neurons = 12, hidden_layers=1, init_mode = 'uniform'):\n",
        "  # Initialize the constructor\n",
        "  model = Sequential()\n",
        "  # Add an input layer\n",
        "  model.add(Dense(input_neurons, activation='relu', input_shape=(8,), kernel_initializer = init_mode))\n",
        "\n",
        "  for i in range(hidden_layers):\n",
        "      # Add one hidden layer\n",
        "      model.add(Dense(8, activation='relu', kernel_initializer = init_mode))\n",
        "\n",
        "  # Add an output layer \n",
        "  model.add(Dense(1, activation='sigmoid'))\n",
        "  #compile model\n",
        "  model.compile(loss='binary_crossentropy', optimizer='adam', metrics=['accuracy'])\n",
        "  \n",
        "  return model"
      ],
      "execution_count": null,
      "outputs": []
    },
    {
      "cell_type": "code",
      "metadata": {
        "id": "57HxeC1cI1jL"
      },
      "source": [
        "# fix random seed for reproducibility\n",
        "seed = 7\n",
        "numpy.random.seed(seed)"
      ],
      "execution_count": null,
      "outputs": []
    },
    {
      "cell_type": "code",
      "metadata": {
        "id": "t4KxNUw8I2MV"
      },
      "source": [
        "# load dataset\n",
        "dataset = numpy.loadtxt(\"https://raw.githubusercontent.com/ssanchezgoe/curso_deep_learning_economia/main/data/DL_Pima_Indians_Diabetes.csv\", delimiter=\",\")\n",
        "# split into input (X) and output (Y) variables\n",
        "X = dataset[:,0:8]\n",
        "Y = dataset[:,8]"
      ],
      "execution_count": null,
      "outputs": []
    },
    {
      "cell_type": "code",
      "metadata": {
        "id": "-IUt1oxXI7_W"
      },
      "source": [
        "# create model\n",
        "clear_session()\n",
        "model = KerasClassifier(build_fn=create_model, epochs=100, batch_size=10, verbose=0)"
      ],
      "execution_count": null,
      "outputs": []
    },
    {
      "cell_type": "code",
      "metadata": {
        "id": "rohDA6JXJuQW"
      },
      "source": [
        "input_neurons = [2, 4, 8, 16, 32]\n",
        "hidden_layers = [2, 3, 4]\n",
        "init_mode = ['uniform', 'lecun_uniform', 'normal', 'zero', 'glorot_normal', 'glorot_uniform', 'he_normal', 'he_uniform']\n",
        "param_grid = dict(input_neurons = input_neurons ,hidden_layers=hidden_layers, init_mode = init_mode)\n",
        "grid = GridSearchCV(estimator=model, param_grid=param_grid, n_jobs=-1, cv=3)\n",
        "grid_result = grid.fit(X, Y)"
      ],
      "execution_count": null,
      "outputs": []
    },
    {
      "cell_type": "code",
      "metadata": {
        "colab": {
          "base_uri": "https://localhost:8080/"
        },
        "id": "Y8KoqCLVJ6ZZ",
        "outputId": "bd6642bb-a1f2-4abe-a2a6-71ed358338df"
      },
      "source": [
        "# summarize results\n",
        "grid_search_info(grid_result)"
      ],
      "execution_count": null,
      "outputs": [
        {
          "output_type": "stream",
          "text": [
            "Mejor: 0.7669270833333334 donde {'hidden_layers': 2, 'init_mode': 'uniform', 'input_neurons': 8}\n",
            "0.68750 +/- 0.06900 donde: {'hidden_layers': 2, 'init_mode': 'uniform', 'input_neurons': 2}\n",
            "0.71745 +/- 0.05797 donde: {'hidden_layers': 2, 'init_mode': 'uniform', 'input_neurons': 4}\n",
            "0.76693 +/- 0.02477 donde: {'hidden_layers': 2, 'init_mode': 'uniform', 'input_neurons': 8}\n",
            "0.73958 +/- 0.01438 donde: {'hidden_layers': 2, 'init_mode': 'uniform', 'input_neurons': 16}\n",
            "0.74740 +/- 0.01814 donde: {'hidden_layers': 2, 'init_mode': 'uniform', 'input_neurons': 32}\n",
            "0.66797 +/- 0.04183 donde: {'hidden_layers': 2, 'init_mode': 'lecun_uniform', 'input_neurons': 2}\n",
            "0.66797 +/- 0.01688 donde: {'hidden_layers': 2, 'init_mode': 'lecun_uniform', 'input_neurons': 4}\n",
            "0.70182 +/- 0.03556 donde: {'hidden_layers': 2, 'init_mode': 'lecun_uniform', 'input_neurons': 8}\n",
            "0.70052 +/- 0.00974 donde: {'hidden_layers': 2, 'init_mode': 'lecun_uniform', 'input_neurons': 16}\n",
            "0.69401 +/- 0.00974 donde: {'hidden_layers': 2, 'init_mode': 'lecun_uniform', 'input_neurons': 32}\n",
            "0.67708 +/- 0.00184 donde: {'hidden_layers': 2, 'init_mode': 'normal', 'input_neurons': 2}\n",
            "0.74349 +/- 0.04163 donde: {'hidden_layers': 2, 'init_mode': 'normal', 'input_neurons': 4}\n",
            "0.75521 +/- 0.01573 donde: {'hidden_layers': 2, 'init_mode': 'normal', 'input_neurons': 8}\n",
            "0.74479 +/- 0.02876 donde: {'hidden_layers': 2, 'init_mode': 'normal', 'input_neurons': 16}\n",
            "0.74089 +/- 0.03098 donde: {'hidden_layers': 2, 'init_mode': 'normal', 'input_neurons': 32}\n",
            "0.65104 +/- 0.02477 donde: {'hidden_layers': 2, 'init_mode': 'zero', 'input_neurons': 2}\n",
            "0.65104 +/- 0.02477 donde: {'hidden_layers': 2, 'init_mode': 'zero', 'input_neurons': 4}\n",
            "0.65104 +/- 0.02477 donde: {'hidden_layers': 2, 'init_mode': 'zero', 'input_neurons': 8}\n",
            "0.65104 +/- 0.02477 donde: {'hidden_layers': 2, 'init_mode': 'zero', 'input_neurons': 16}\n",
            "0.65104 +/- 0.02477 donde: {'hidden_layers': 2, 'init_mode': 'zero', 'input_neurons': 32}\n",
            "0.67448 +/- 0.00803 donde: {'hidden_layers': 2, 'init_mode': 'glorot_normal', 'input_neurons': 2}\n",
            "0.72005 +/- 0.01605 donde: {'hidden_layers': 2, 'init_mode': 'glorot_normal', 'input_neurons': 4}\n",
            "0.69531 +/- 0.01462 donde: {'hidden_layers': 2, 'init_mode': 'glorot_normal', 'input_neurons': 8}\n",
            "0.69531 +/- 0.02091 donde: {'hidden_layers': 2, 'init_mode': 'glorot_normal', 'input_neurons': 16}\n",
            "0.69792 +/- 0.00184 donde: {'hidden_layers': 2, 'init_mode': 'glorot_normal', 'input_neurons': 32}\n",
            "0.66797 +/- 0.03867 donde: {'hidden_layers': 2, 'init_mode': 'glorot_uniform', 'input_neurons': 2}\n",
            "0.70052 +/- 0.00368 donde: {'hidden_layers': 2, 'init_mode': 'glorot_uniform', 'input_neurons': 4}\n",
            "0.67708 +/- 0.04626 donde: {'hidden_layers': 2, 'init_mode': 'glorot_uniform', 'input_neurons': 8}\n",
            "0.69661 +/- 0.02436 donde: {'hidden_layers': 2, 'init_mode': 'glorot_uniform', 'input_neurons': 16}\n",
            "0.69010 +/- 0.02750 donde: {'hidden_layers': 2, 'init_mode': 'glorot_uniform', 'input_neurons': 32}\n",
            "0.67708 +/- 0.03683 donde: {'hidden_layers': 2, 'init_mode': 'he_normal', 'input_neurons': 2}\n",
            "0.67708 +/- 0.01289 donde: {'hidden_layers': 2, 'init_mode': 'he_normal', 'input_neurons': 4}\n",
            "0.69010 +/- 0.01949 donde: {'hidden_layers': 2, 'init_mode': 'he_normal', 'input_neurons': 8}\n",
            "0.68359 +/- 0.02091 donde: {'hidden_layers': 2, 'init_mode': 'he_normal', 'input_neurons': 16}\n",
            "0.69792 +/- 0.02240 donde: {'hidden_layers': 2, 'init_mode': 'he_normal', 'input_neurons': 32}\n",
            "0.64844 +/- 0.02408 donde: {'hidden_layers': 2, 'init_mode': 'he_uniform', 'input_neurons': 2}\n",
            "0.70573 +/- 0.01814 donde: {'hidden_layers': 2, 'init_mode': 'he_uniform', 'input_neurons': 4}\n",
            "0.68359 +/- 0.03076 donde: {'hidden_layers': 2, 'init_mode': 'he_uniform', 'input_neurons': 8}\n",
            "0.69271 +/- 0.03513 donde: {'hidden_layers': 2, 'init_mode': 'he_uniform', 'input_neurons': 16}\n",
            "0.68880 +/- 0.03130 donde: {'hidden_layers': 2, 'init_mode': 'he_uniform', 'input_neurons': 32}\n",
            "0.66146 +/- 0.03273 donde: {'hidden_layers': 3, 'init_mode': 'uniform', 'input_neurons': 2}\n",
            "0.70312 +/- 0.05063 donde: {'hidden_layers': 3, 'init_mode': 'uniform', 'input_neurons': 4}\n",
            "0.72656 +/- 0.04219 donde: {'hidden_layers': 3, 'init_mode': 'uniform', 'input_neurons': 8}\n",
            "0.75130 +/- 0.02578 donde: {'hidden_layers': 3, 'init_mode': 'uniform', 'input_neurons': 16}\n",
            "0.73828 +/- 0.04982 donde: {'hidden_layers': 3, 'init_mode': 'uniform', 'input_neurons': 32}\n",
            "0.72917 +/- 0.07690 donde: {'hidden_layers': 3, 'init_mode': 'lecun_uniform', 'input_neurons': 2}\n",
            "0.69792 +/- 0.01120 donde: {'hidden_layers': 3, 'init_mode': 'lecun_uniform', 'input_neurons': 4}\n",
            "0.71094 +/- 0.03043 donde: {'hidden_layers': 3, 'init_mode': 'lecun_uniform', 'input_neurons': 8}\n",
            "0.69661 +/- 0.01025 donde: {'hidden_layers': 3, 'init_mode': 'lecun_uniform', 'input_neurons': 16}\n",
            "0.69010 +/- 0.03898 donde: {'hidden_layers': 3, 'init_mode': 'lecun_uniform', 'input_neurons': 32}\n",
            "0.65755 +/- 0.02075 donde: {'hidden_layers': 3, 'init_mode': 'normal', 'input_neurons': 2}\n",
            "0.71094 +/- 0.07819 donde: {'hidden_layers': 3, 'init_mode': 'normal', 'input_neurons': 4}\n",
            "0.74609 +/- 0.03375 donde: {'hidden_layers': 3, 'init_mode': 'normal', 'input_neurons': 8}\n",
            "0.75651 +/- 0.01438 donde: {'hidden_layers': 3, 'init_mode': 'normal', 'input_neurons': 16}\n",
            "0.74479 +/- 0.01438 donde: {'hidden_layers': 3, 'init_mode': 'normal', 'input_neurons': 32}\n",
            "0.65104 +/- 0.02477 donde: {'hidden_layers': 3, 'init_mode': 'zero', 'input_neurons': 2}\n",
            "0.65104 +/- 0.02477 donde: {'hidden_layers': 3, 'init_mode': 'zero', 'input_neurons': 4}\n",
            "0.65104 +/- 0.02477 donde: {'hidden_layers': 3, 'init_mode': 'zero', 'input_neurons': 8}\n",
            "0.65104 +/- 0.02477 donde: {'hidden_layers': 3, 'init_mode': 'zero', 'input_neurons': 16}\n",
            "0.65104 +/- 0.02477 donde: {'hidden_layers': 3, 'init_mode': 'zero', 'input_neurons': 32}\n",
            "0.67708 +/- 0.03669 donde: {'hidden_layers': 3, 'init_mode': 'glorot_normal', 'input_neurons': 2}\n",
            "0.71094 +/- 0.02835 donde: {'hidden_layers': 3, 'init_mode': 'glorot_normal', 'input_neurons': 4}\n",
            "0.71615 +/- 0.00184 donde: {'hidden_layers': 3, 'init_mode': 'glorot_normal', 'input_neurons': 8}\n",
            "0.71875 +/- 0.02091 donde: {'hidden_layers': 3, 'init_mode': 'glorot_normal', 'input_neurons': 16}\n",
            "0.70573 +/- 0.03513 donde: {'hidden_layers': 3, 'init_mode': 'glorot_normal', 'input_neurons': 32}\n",
            "0.68229 +/- 0.01814 donde: {'hidden_layers': 3, 'init_mode': 'glorot_uniform', 'input_neurons': 2}\n",
            "0.70443 +/- 0.03858 donde: {'hidden_layers': 3, 'init_mode': 'glorot_uniform', 'input_neurons': 4}\n",
            "0.69661 +/- 0.01507 donde: {'hidden_layers': 3, 'init_mode': 'glorot_uniform', 'input_neurons': 8}\n",
            "0.67839 +/- 0.02713 donde: {'hidden_layers': 3, 'init_mode': 'glorot_uniform', 'input_neurons': 16}\n",
            "0.69531 +/- 0.01595 donde: {'hidden_layers': 3, 'init_mode': 'glorot_uniform', 'input_neurons': 32}\n",
            "0.65755 +/- 0.02963 donde: {'hidden_layers': 3, 'init_mode': 'he_normal', 'input_neurons': 2}\n",
            "0.67839 +/- 0.03962 donde: {'hidden_layers': 3, 'init_mode': 'he_normal', 'input_neurons': 4}\n",
            "0.67448 +/- 0.02051 donde: {'hidden_layers': 3, 'init_mode': 'he_normal', 'input_neurons': 8}\n",
            "0.67057 +/- 0.01328 donde: {'hidden_layers': 3, 'init_mode': 'he_normal', 'input_neurons': 16}\n",
            "0.68880 +/- 0.01757 donde: {'hidden_layers': 3, 'init_mode': 'he_normal', 'input_neurons': 32}\n",
            "0.68490 +/- 0.03380 donde: {'hidden_layers': 3, 'init_mode': 'he_uniform', 'input_neurons': 2}\n",
            "0.66146 +/- 0.03778 donde: {'hidden_layers': 3, 'init_mode': 'he_uniform', 'input_neurons': 4}\n",
            "0.65625 +/- 0.04465 donde: {'hidden_layers': 3, 'init_mode': 'he_uniform', 'input_neurons': 8}\n",
            "0.71224 +/- 0.02240 donde: {'hidden_layers': 3, 'init_mode': 'he_uniform', 'input_neurons': 16}\n",
            "0.69661 +/- 0.00184 donde: {'hidden_layers': 3, 'init_mode': 'he_uniform', 'input_neurons': 32}\n",
            "0.69010 +/- 0.08707 donde: {'hidden_layers': 4, 'init_mode': 'uniform', 'input_neurons': 2}\n",
            "0.72526 +/- 0.05987 donde: {'hidden_layers': 4, 'init_mode': 'uniform', 'input_neurons': 4}\n",
            "0.70182 +/- 0.03098 donde: {'hidden_layers': 4, 'init_mode': 'uniform', 'input_neurons': 8}\n",
            "0.74479 +/- 0.02713 donde: {'hidden_layers': 4, 'init_mode': 'uniform', 'input_neurons': 16}\n",
            "0.74089 +/- 0.04247 donde: {'hidden_layers': 4, 'init_mode': 'uniform', 'input_neurons': 32}\n",
            "0.64844 +/- 0.02233 donde: {'hidden_layers': 4, 'init_mode': 'lecun_uniform', 'input_neurons': 2}\n",
            "0.70833 +/- 0.02963 donde: {'hidden_layers': 4, 'init_mode': 'lecun_uniform', 'input_neurons': 4}\n",
            "0.71875 +/- 0.01276 donde: {'hidden_layers': 4, 'init_mode': 'lecun_uniform', 'input_neurons': 8}\n",
            "0.72005 +/- 0.02240 donde: {'hidden_layers': 4, 'init_mode': 'lecun_uniform', 'input_neurons': 16}\n",
            "0.71484 +/- 0.01992 donde: {'hidden_layers': 4, 'init_mode': 'lecun_uniform', 'input_neurons': 32}\n",
            "0.66276 +/- 0.01507 donde: {'hidden_layers': 4, 'init_mode': 'normal', 'input_neurons': 2}\n",
            "0.70182 +/- 0.02963 donde: {'hidden_layers': 4, 'init_mode': 'normal', 'input_neurons': 4}\n",
            "0.76562 +/- 0.02491 donde: {'hidden_layers': 4, 'init_mode': 'normal', 'input_neurons': 8}\n",
            "0.74740 +/- 0.01328 donde: {'hidden_layers': 4, 'init_mode': 'normal', 'input_neurons': 16}\n",
            "0.70964 +/- 0.06261 donde: {'hidden_layers': 4, 'init_mode': 'normal', 'input_neurons': 32}\n",
            "0.65104 +/- 0.02477 donde: {'hidden_layers': 4, 'init_mode': 'zero', 'input_neurons': 2}\n",
            "0.65104 +/- 0.02477 donde: {'hidden_layers': 4, 'init_mode': 'zero', 'input_neurons': 4}\n",
            "0.65104 +/- 0.02477 donde: {'hidden_layers': 4, 'init_mode': 'zero', 'input_neurons': 8}\n",
            "0.65104 +/- 0.02477 donde: {'hidden_layers': 4, 'init_mode': 'zero', 'input_neurons': 16}\n",
            "0.65104 +/- 0.02477 donde: {'hidden_layers': 4, 'init_mode': 'zero', 'input_neurons': 32}\n",
            "0.71615 +/- 0.01507 donde: {'hidden_layers': 4, 'init_mode': 'glorot_normal', 'input_neurons': 2}\n",
            "0.71094 +/- 0.00844 donde: {'hidden_layers': 4, 'init_mode': 'glorot_normal', 'input_neurons': 4}\n",
            "0.72396 +/- 0.01757 donde: {'hidden_layers': 4, 'init_mode': 'glorot_normal', 'input_neurons': 8}\n",
            "0.69792 +/- 0.03683 donde: {'hidden_layers': 4, 'init_mode': 'glorot_normal', 'input_neurons': 16}\n",
            "0.71354 +/- 0.03937 donde: {'hidden_layers': 4, 'init_mode': 'glorot_normal', 'input_neurons': 32}\n",
            "0.68490 +/- 0.06253 donde: {'hidden_layers': 4, 'init_mode': 'glorot_uniform', 'input_neurons': 2}\n",
            "0.67318 +/- 0.03195 donde: {'hidden_layers': 4, 'init_mode': 'glorot_uniform', 'input_neurons': 4}\n",
            "0.72786 +/- 0.02075 donde: {'hidden_layers': 4, 'init_mode': 'glorot_uniform', 'input_neurons': 8}\n",
            "0.70703 +/- 0.03552 donde: {'hidden_layers': 4, 'init_mode': 'glorot_uniform', 'input_neurons': 16}\n",
            "0.69792 +/- 0.01438 donde: {'hidden_layers': 4, 'init_mode': 'glorot_uniform', 'input_neurons': 32}\n",
            "0.65234 +/- 0.02611 donde: {'hidden_layers': 4, 'init_mode': 'he_normal', 'input_neurons': 2}\n",
            "0.68750 +/- 0.02408 donde: {'hidden_layers': 4, 'init_mode': 'he_normal', 'input_neurons': 4}\n",
            "0.69271 +/- 0.01507 donde: {'hidden_layers': 4, 'init_mode': 'he_normal', 'input_neurons': 8}\n",
            "0.72135 +/- 0.00974 donde: {'hidden_layers': 4, 'init_mode': 'he_normal', 'input_neurons': 16}\n",
            "0.71745 +/- 0.04648 donde: {'hidden_layers': 4, 'init_mode': 'he_normal', 'input_neurons': 32}\n",
            "0.67708 +/- 0.02713 donde: {'hidden_layers': 4, 'init_mode': 'he_uniform', 'input_neurons': 2}\n",
            "0.66927 +/- 0.05453 donde: {'hidden_layers': 4, 'init_mode': 'he_uniform', 'input_neurons': 4}\n",
            "0.67578 +/- 0.01462 donde: {'hidden_layers': 4, 'init_mode': 'he_uniform', 'input_neurons': 8}\n",
            "0.69010 +/- 0.01757 donde: {'hidden_layers': 4, 'init_mode': 'he_uniform', 'input_neurons': 16}\n",
            "0.64714 +/- 0.04330 donde: {'hidden_layers': 4, 'init_mode': 'he_uniform', 'input_neurons': 32}\n"
          ],
          "name": "stdout"
        }
      ]
    },
    {
      "cell_type": "markdown",
      "metadata": {
        "id": "EtqGpPqUnPob"
      },
      "source": [
        "# Ejercicios"
      ]
    },
    {
      "cell_type": "markdown",
      "metadata": {
        "id": "V0nPqs2nnWZO"
      },
      "source": [
        "## Ejercicio: \n",
        "\n",
        "Escoja alguno de los modelos tratados hasta ahora, y realice un tuneo de los hiperparámetros de número de capas y determine el mejor modelo. "
      ]
    }
  ]
}