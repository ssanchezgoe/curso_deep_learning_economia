{
  "nbformat": 4,
  "nbformat_minor": 0,
  "metadata": {
    "colab": {
      "name": "DL_S03_Tipos_de_Datos.ipynb",
      "provenance": [],
      "collapsed_sections": [],
      "authorship_tag": "ABX9TyOTEEyShDwKPKHTuaWNK278",
      "include_colab_link": true
    },
    "kernelspec": {
      "name": "python3",
      "display_name": "Python 3"
    },
    "language_info": {
      "name": "python"
    }
  },
  "cells": [
    {
      "cell_type": "markdown",
      "metadata": {
        "id": "view-in-github",
        "colab_type": "text"
      },
      "source": [
        "<a href=\"https://colab.research.google.com/github/ssanchezgoe/curso_deep_learning_economia/blob/main/NBs_Google_Colab/DL_S03_Tipos_de_Datos.ipynb\" target=\"_parent\"><img src=\"https://colab.research.google.com/assets/colab-badge.svg\" alt=\"Open In Colab\"/></a>"
      ]
    },
    {
      "cell_type": "markdown",
      "metadata": {
        "id": "thBYXFC53-lF"
      },
      "source": [
        "<p><img alt=\"Colaboratory logo\" height=\"140px\" src=\"https://upload.wikimedia.org/wikipedia/commons/archive/f/fb/20161010213812%21Escudo-UdeA.svg\" align=\"left\" hspace=\"10px\" vspace=\"0px\"></p>\n",
        "\n",
        "<h1> Curso Deep Learning: Economía</h1>\n",
        "\n",
        "## S03: Datos no estructurados"
      ]
    },
    {
      "cell_type": "markdown",
      "metadata": {
        "id": "R7nsXE6-4JzW"
      },
      "source": [
        "# Tabla de contenido\n",
        "\n",
        "Temática:\n",
        "\n",
        "- ¿Qué son los datos no estructurados?.\n",
        "- Como tratar los datos no estructurados."
      ]
    },
    {
      "cell_type": "markdown",
      "metadata": {
        "id": "GVmpPC9H4GYV"
      },
      "source": [
        "# Datos no estructurados: Deep Dive\n",
        "\n",
        "Los datos no estructurados corresponden a información que no se organiza de acuerdo con un modelo o esquema de datos preestablecido y, por tanto, no se puede almacenar en una base de datos tradicional o RDBMS (Relational Database Managment System). El texto y la multimedia son dos tipos comunes de contenido estructurado. Algunos ejemplos concretos son:\n",
        "\n",
        "- Muchos documentos comerciales\n",
        "- Mensajes de correo electrónico\n",
        "- Videos \n",
        "- Fotos\n",
        "- Páginas web\n",
        "- Archivos de audio\n",
        "\n",
        "Entre el 80% y 90% de los datos generados y recopilados por las organizaciones corresponden a datos no estructurados. La velocidad con que la que crecen estos tipos de datos es, en ocasiones, más rápida que el volumen de los datos no estructurados.\n",
        "\n",
        "Los almacenamientos de datos no estructurados contienen una gran cantidad de información que se puede usar para orientar las decisiones comerciales. Sin embargo, históricamente los datos no estructurados han sido dificil de analizar. Con la ayuda de la inteligencia artificial y el aprendizaje automático, han surgido nuevas herramientas que pueden buscar en estas grandes cantidades de datos para obtener respuesta a diferentes problemas planteados desde una visión de inteligencia de negocios.\n",
        "\n",
        "La pregunta principal respecto a esto datos es:\n",
        "\n",
        "**¿Cómo se pasa tipos de datos diversos como imágenes y sonidos, a una tabla donde se tienen características con valores numéricos?**\n",
        "\n",
        "Esquemáticamente se tiene que resolver cualquiera de los siguientes problemas\n",
        "\n",
        "<p><img alt=\"Unstructure data to Tables\" height=\"200px\" src=\"https://github.com/ssanchezgoe/curso_deep_learning_economia/blob/main/images/DL_S03_Untructured_Data_To_Tables.png?raw=true\" align=\"center\" vspace=\"15px\"></p>\n",
        "\n",
        "en donde, con ayuda de herramientas de deep learning, podemos transformar los datos no estructurados en tablas. "
      ]
    }
  ]
}