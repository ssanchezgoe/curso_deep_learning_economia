{
  "nbformat": 4,
  "nbformat_minor": 0,
  "metadata": {
    "colab": {
      "name": "DL_S03_Tipos_de_Datos.ipynb",
      "provenance": [],
      "collapsed_sections": [],
      "mount_file_id": "1tfd7ocGYW8Y3U014xLXEK58y2ooJo07E",
      "authorship_tag": "ABX9TyPp7j09t0+FNakvB6N4OWc2",
      "include_colab_link": true
    },
    "kernelspec": {
      "name": "python3",
      "display_name": "Python 3"
    },
    "language_info": {
      "name": "python"
    }
  },
  "cells": [
    {
      "cell_type": "markdown",
      "metadata": {
        "id": "view-in-github",
        "colab_type": "text"
      },
      "source": [
        "<a href=\"https://colab.research.google.com/github/ssanchezgoe/curso_deep_learning_economia/blob/main/NBs_Google_Colab/DL_S03_Tipos_de_Datos.ipynb\" target=\"_parent\"><img src=\"https://colab.research.google.com/assets/colab-badge.svg\" alt=\"Open In Colab\"/></a>"
      ]
    },
    {
      "cell_type": "markdown",
      "metadata": {
        "id": "thBYXFC53-lF"
      },
      "source": [
        "<p><img alt=\"Colaboratory logo\" height=\"140px\" src=\"https://upload.wikimedia.org/wikipedia/commons/archive/f/fb/20161010213812%21Escudo-UdeA.svg\" align=\"left\" hspace=\"10px\" vspace=\"0px\"></p>\n",
        "\n",
        "<h1> Curso Deep Learning: Economía</h1>\n",
        "\n",
        "## S03: Datos no estructurados"
      ]
    },
    {
      "cell_type": "markdown",
      "metadata": {
        "id": "R7nsXE6-4JzW"
      },
      "source": [
        "# Tabla de contenido\n",
        "\n",
        "Temática:\n",
        "\n",
        "- ¿Qué son los datos no estructurados?.\n",
        "- Como tratar los datos no estructurados."
      ]
    },
    {
      "cell_type": "markdown",
      "metadata": {
        "id": "GVmpPC9H4GYV"
      },
      "source": [
        "# Datos no estructurados: Deep Dive\n",
        "\n",
        "Los datos no estructurados corresponden a información que no se organiza de acuerdo con un modelo o esquema de datos preestablecido y, por tanto, no se puede almacenar en una base de datos tradicional o RDBMS (Relational Database Managment System). El texto y la multimedia son dos tipos comunes de contenido estructurado. Algunos ejemplos concretos son:\n",
        "\n",
        "- Muchos documentos comerciales\n",
        "- Mensajes de correo electrónico\n",
        "- Videos \n",
        "- Fotos\n",
        "- Páginas web\n",
        "- Archivos de audio\n",
        "\n",
        "Entre el 80% y 90% de los datos generados y recopilados por las organizaciones corresponden a datos no estructurados. La velocidad con que la que crecen estos tipos de datos es, en ocasiones, más rápida que el volumen de los datos no estructurados.\n",
        "\n",
        "Los almacenamientos de datos no estructurados contienen una gran cantidad de información que se puede usar para orientar las decisiones comerciales. Sin embargo, históricamente los datos no estructurados han sido dificil de analizar. Con la ayuda de la inteligencia artificial y el aprendizaje automático, han surgido nuevas herramientas que pueden buscar en estas grandes cantidades de datos para obtener respuesta a diferentes problemas planteados desde una visión de inteligencia de negocios.\n",
        "\n",
        "La pregunta principal respecto a esto datos es:\n",
        "\n",
        "**¿Cómo se pasa tipos de datos diversos como imágenes y sonidos, a una tabla donde se tienen características con valores numéricos?**\n",
        "\n",
        "Esquemáticamente se tiene que resolver cualquiera de los siguientes problemas\n",
        "\n",
        "<p><img alt=\"Unstructure data to Tables\" height=\"200px\" src=\"https://github.com/ssanchezgoe/curso_deep_learning_economia/blob/main/images/DL_S03_Untructured_Data_To_Tables.png?raw=true\" align=\"center\" vspace=\"15px\"></p>\n",
        "\n",
        "en donde, con ayuda de herramientas de deep learning, podemos transformar los datos no estructurados en tablas. "
      ]
    },
    {
      "cell_type": "markdown",
      "metadata": {
        "id": "0J3cke6kw3UX"
      },
      "source": [
        "## Imágenes en escala de grises\n",
        "\n",
        "Las imágenes digitales corresponden a un arreglo matricial de píxeles con cierto valor (ver siguiente imagen).\n",
        "\n",
        "<p><img alt=\"Unstructure data to Tables\" height=\"250px\" src=\"https://github.com/ssanchezgoe/curso_deep_learning_economia/blob/main/images/DL_S03_Gray_Digital_Image.png?raw=true\" align=\"center\" vspace=\"15px\"></p>\n",
        "\n",
        "En general, una imagen en escala de grises tendrá un rango de valores dependiendo de la **profundiad de pixel de la imagen**, la cual se da en bits. En la siguiente imagen se ilustran varias profundidades. \n",
        "\n",
        "<p><img alt=\"Unstructure data to Tables\" height=\"250px\" src=\"https://github.com/ssanchezgoe/curso_deep_learning_economia/blob/main/images/DL_S03_Pixel_Depth.png?raw=true\" align=\"center\" vspace=\"15px\"></p>\n",
        "\n",
        "Como puede advertirse, la cantidad de valores para cierta profundidad de pixel puede determinarse como una potencia de 2. En la siguiente tabla se muestra los posibles valores según la profundidad de pixels.\n",
        "\n",
        "Profundidad de Pixel | Cantidad de Valores\n",
        "--|--\n",
        "1|$2^1=2$\n",
        "2|$2^2=4$\n",
        "3|$2^3=8$\n",
        "4|$2^4=16$\n",
        "5|$2^5=32$\n",
        "6|$2^6=64$\n",
        "8|$2^8=256$\n",
        "16|$2^{16}=65536$"
      ]
    },
    {
      "cell_type": "markdown",
      "metadata": {
        "id": "AV6iu1nTctwd"
      },
      "source": [
        "### Imágenes de 8 y 16 bits\n",
        "\n",
        "A continuación se descargarán dos imágenes, una de 8 bits y otra de 16 bits, del repositorio de clase para ilustrar los valores almacenados por los píxeles."
      ]
    },
    {
      "cell_type": "code",
      "metadata": {
        "id": "geMHd_WsHY6L"
      },
      "source": [
        "!rm DL*\n",
        "!wget https://github.com/ssanchezgoe/curso_deep_learning_economia/raw/main/images/DL_S03_peppers2.tif\n",
        "!wget https://github.com/ssanchezgoe/curso_deep_learning_economia/raw/main/images/DL_S03_EPI.tif\n",
        "!wget https://github.com/ssanchezgoe/curso_deep_learning_economia/raw/main/images/DL_S03_RGB_Lena.jpeg\n",
        "!wget https://raw.githubusercontent.com/ssanchezgoe/curso_deep_learning_economia/main/dependencies/DL_Utils_Images.py\n",
        "!wget https://raw.githubusercontent.com/ssanchezgoe/curso_deep_learning_economia/main/dependencies/DL_Utils_Videos.py"
      ],
      "execution_count": null,
      "outputs": []
    },
    {
      "cell_type": "code",
      "metadata": {
        "id": "YTODlsI0zLD9"
      },
      "source": [
        "import numpy as np\n",
        "import matplotlib.pyplot as plt"
      ],
      "execution_count": null,
      "outputs": []
    },
    {
      "cell_type": "code",
      "metadata": {
        "id": "l9NdARDej_YS"
      },
      "source": [
        "import DL_Utils_Images as Utils_Images\n",
        "import DL_Utils_Videos as Utils_Videos"
      ],
      "execution_count": null,
      "outputs": []
    },
    {
      "cell_type": "code",
      "metadata": {
        "id": "JnQl4wz0IZrQ"
      },
      "source": [
        "Utils_Images.image_info(\"DL_S03_peppers2.tif\")\n",
        "Utils_Images.imshow(\"DL_S03_peppers2.tif\", cmap='gray', title='Peppers 8Bits')"
      ],
      "execution_count": null,
      "outputs": []
    },
    {
      "cell_type": "code",
      "metadata": {
        "id": "lNEwnAU-N0nq"
      },
      "source": [
        "Utils_Images.image_info(\"DL_S03_EPI.tif\")\n",
        "Utils_Images.imshow(\"DL_S03_EPI.tif\", cmap='gray', title='EPI 16Bits')"
      ],
      "execution_count": null,
      "outputs": []
    },
    {
      "cell_type": "markdown",
      "metadata": {
        "id": "_u0B7h_LSBr3"
      },
      "source": [
        "## Imágenes a color\n",
        "\n",
        "Una imagen a color corresponde a un arreglo en 3 canales (ver imagen a continuación) de los colores primarios rojo, verde y azul, de ahí su nombre en ingles RGB (Red, Green and Blue)\n",
        "\n",
        "\n",
        "<p><img alt=\"Unstructure data to Tables\" height=\"300px\" src=\"https://github.com/ssanchezgoe/curso_deep_learning_economia/blob/main/images/DL_S03_RGB.png?raw=true\" align=\"center\" vspace=\"15px\"></p>\n",
        "\n"
      ]
    },
    {
      "cell_type": "code",
      "metadata": {
        "id": "TgTea9IASsQF"
      },
      "source": [
        "Utils_Images.image_info(\"DL_S03_RGB_Lena.jpeg\")\n",
        "Utils_Images.imshow(\"DL_S03_RGB_Lena.jpeg\", title='Lena RGB')\n",
        "Utils_Images.imshow_RGB(\"DL_S03_RGB_Lena.jpeg\")"
      ],
      "execution_count": null,
      "outputs": []
    },
    {
      "cell_type": "markdown",
      "metadata": {
        "id": "WA09wEjklKoS"
      },
      "source": [
        "## Videos:\n",
        "\n",
        "Los videos corresponden a secuencias temporales (frames) de imágenes, las cuales pueden ser en escalas de grises o a color. En la siguiente imágen se ilustra un video como secuencia \n",
        "\n",
        "<p><img alt=\"Unstructure data to Tables\" height=\"100px\" src=\"https://github.com/ssanchezgoe/curso_deep_learning_economia/blob/main/images/DL_S03_video_sequence.png?raw=true\" align=\"center\" vspace=\"15px\"></p>"
      ]
    },
    {
      "cell_type": "markdown",
      "metadata": {
        "id": "nMBdMnp8kjNw"
      },
      "source": [
        "Importemos la librería de computer visión, basada en c++, `cv2`:"
      ]
    },
    {
      "cell_type": "code",
      "metadata": {
        "id": "bpiizt_GeQ1_"
      },
      "source": [
        "Utils_Videos.video_info(\"/content/drive/My Drive/curso_economia_deep_learning/videos/v_CricketShot_g08_c01.avi\")"
      ],
      "execution_count": null,
      "outputs": []
    },
    {
      "cell_type": "code",
      "metadata": {
        "id": "VQzBSdTkxDqq"
      },
      "source": [
        "seq = Utils_Videos.load_video(\"/content/drive/My Drive/curso_economia_deep_learning/videos/v_CricketShot_g08_c01.avi\")\n",
        "Utils_Videos.plot_frames(seq, 4, 4)"
      ],
      "execution_count": null,
      "outputs": []
    },
    {
      "cell_type": "markdown",
      "metadata": {
        "id": "_Rj9OqAnxIVP"
      },
      "source": [
        "## Sonido\n",
        "\n",
        "Cuando el sonido se graba digitalmente, se obtiene una larga cadena de números como se muestra a continuación"
      ]
    },
    {
      "cell_type": "code",
      "metadata": {
        "id": "HNinBwH3k5mn",
        "cellView": "form"
      },
      "source": [
        "#@title Ejemplo de una gráfica de **sonido**\n",
        "\n",
        "from scipy.io import wavfile\n",
        "import matplotlib.pyplot as plt\n",
        "\n",
        "rate, snd = wavfile.read(filename='/content/drive/My Drive/curso_economia_deep_learning/audio/data_sms.wav')\n",
        "\n",
        "plt.plot(snd)\n",
        "plt.show()"
      ],
      "execution_count": null,
      "outputs": []
    },
    {
      "cell_type": "code",
      "metadata": {
        "id": "PHIA8xbvnw0Z",
        "cellView": "form"
      },
      "source": [
        "#@title la gráfica anterior se escucha como\n",
        "\n",
        "from IPython.display import Audio\n",
        "Audio(data=snd, rate=rate)"
      ],
      "execution_count": null,
      "outputs": []
    },
    {
      "cell_type": "markdown",
      "metadata": {
        "id": "qhDCj4aaTvUR"
      },
      "source": [
        "Podemos trazar un **espectrograma** del sonido, por medio de una técnica conocida como transformada rápida de Fourier (FFT). El espectrograma representa las frecuencias presentes a diferentes tiempos en el sonido. "
      ]
    },
    {
      "cell_type": "code",
      "metadata": {
        "cellView": "form",
        "id": "oTDdewhgUTHr"
      },
      "source": [
        "#@title Espectrograma\n",
        "_ = plt.specgram(snd, NFFT=1024, Fs=44100)\n",
        "plt.ylabel('Frequency (Hz)')\n",
        "plt.xlabel('Time (s)')"
      ],
      "execution_count": null,
      "outputs": []
    },
    {
      "cell_type": "markdown",
      "metadata": {
        "id": "zhybqhIGUgKp"
      },
      "source": [
        "Del espectrograma se deriva que, al principio del sonido existe presencia de altas frecuencias. A medida que transcurre el tiempo, estas frecuencias se reducen, predominando las frecuencias bajas. "
      ]
    },
    {
      "cell_type": "markdown",
      "metadata": {
        "id": "Zvw4ReUqxUne"
      },
      "source": [
        "## Texto\n",
        "\n",
        "Imaginémos un conjunto de información y reseás de sitios en airbnb en una base de datos no estructurada, en donde uno de los documentos tiene la siguiente forma: \n",
        "\n",
        "```\n",
        "DOCUMENTO DE EJEMPLO\n",
        "\n",
        "{\"_id\":\"10115921\",\n",
        "\"listing_url\":\"https://www.airbnb.com/rooms/10115921\",\n",
        "\"name\":\"GOLF ROYAL RESİDENCE TAXİM(1+1):3\",\n",
        "\"summary\":\"our place situated at the middle of beautiful places such as nişantaşi street just 5 min walking and osmanbey these streets are full of markets,resturants also  we are 1.2 kilo metere far from taksim square and istiklal street one of the most famous\",\n",
        "\"space\":\"\",\n",
        "\"description\":\"our place situated at the middle of beautiful places such as nişantaşi street just 5 min walking and osmanbey these streets are full of markets,resturants also  we are 1.2 kilo metere far from taksim square and istiklal street one of the most famous\",\n",
        "\"neighborhood_overview\":\"\",\n",
        "\"notes\":\"\",\n",
        "\"transit\":\"\",\n",
        "\"access\":\"\",\n",
        "\"interaction\":\"\",\n",
        "\"house_rules\":\"\",\n",
        "\"property_type\":\"Serviced apartment\",\n",
        "\"room_type\":\"Entire home/apt\",\n",
        "\"bed_type\":\"Real Bed\",\n",
        "\"minimum_nights\":\"1\",\n",
        "\"maximum_nights\":\"1125\",\n",
        "\"cancellation_policy\":\"strict_14_with_grace_period\",\n",
        "\"last_scraped\":{\"$date\":{\"$numberLong\":\"1550466000000\"}},\n",
        "\"calendar_last_scraped\":{\"$date\":{\"$numberLong\":\"1550466000000\"}},\n",
        "\"first_review\":{\"$date\":{\"$numberLong\":\"1454302800000\"}},\n",
        "\"last_review\":{\"$date\":{\"$numberLong\":\"1502078400000\"}},\n",
        "\"accommodates\":{\"$numberInt\":\"4\"},\n",
        "\"bedrooms\":{\"$numberInt\":\"2\"},\n",
        "\"beds\":{\"$numberInt\":\"4\"},\n",
        "\"number_of_reviews\":{\"$numberInt\":\"3\"},\n",
        "\"bathrooms\":{\"$numberDecimal\":\"1.0\"},\n",
        "\"amenities\":[\"TV\",\"Cable TV\",\"Internet\",\"Wifi\",\"Air conditioning\",\"Wheelchair accessible\",\"Kitchen\",\"Paid parking off premises\",\"Smoking allowed\",\"Doorman\",\"Elevator\",\"Buzzer/wireless intercom\",\"Heating\",\"Family/kid friendly\",\"Suitable for events\",\"Dryer\",\"Smoke detector\",\"Carbon monoxide detector\",\"First aid kit\",\"Safety card\",\"Fire extinguisher\",\"Essentials\",\"Shampoo\",\"24-hour check-in\",\"Hangers\",\"Hair dryer\",\"Iron\",\"Laptop friendly workspace\",\"Self check-in\",\"Building staff\",\"Crib\",\"Hot water\",\"Luggage dropoff allowed\",\"Long term stays allowed\"],\"price\":{\"$numberDecimal\":\"838.00\"},\n",
        "\"extra_people\":{\"$numberDecimal\":\"0.00\"},\n",
        "\"guests_included\":{\"$numberDecimal\":\"1\"},\n",
        "\"images\":{\"thumbnail_url\":\"\",\"medium_url\":\"\",\"picture_url\":\"https://a0.muscache.com/im/pictures/fbdaf067-9682-48a6-9838-f51589d4791a.jpg?aki_policy=large\",\"xl_picture_url\":\"\"},\n",
        "\"host\":{\"host_id\":\"51471538\",\"host_url\":\"https://www.airbnb.com/users/show/51471538\",\"host_name\":\"Ahmet\",\"host_location\":\"Istanbul, İstanbul, Turkey\",\"host_about\":\"\",\"host_response_time\":\"within an hour\",\"host_thumbnail_url\":\"https://a0.muscache.com/im/pictures/user/d8c830d0-16da-455c-818a-790864132e0a.jpg?aki_policy=profile_small\",\"host_picture_url\":\"https://a0.muscache.com/im/pictures/user/d8c830d0-16da-455c-818a-790864132e0a.jpg?aki_policy=profile_x_medium\",\"host_neighbourhood\":\"Şişli\",\"host_response_rate\":{\"$numberInt\":\"100\"},\"host_is_superhost\":false,\"host_has_profile_pic\":true,\"host_identity_verified\":false,\"host_listings_count\":{\"$numberInt\":\"16\"},\"host_total_listings_count\":{\"$numberInt\":\"16\"},\"host_verifications\":[\"email\",\"phone\",\"reviews\"]},\n",
        "\"address\":{\"street\":\"Şişli, İstanbul, Turkey\",\"suburb\":\"Şişli\",\"government_area\":\"Sisli\",\"market\":\"Istanbul\",\"country\":\"Turkey\",\"country_code\":\"TR\",\"location\":{\"type\":\"Point\",\"coordinates\":[{\"$numberDouble\":\"28.98713\"},{\"$numberDouble\":\"41.04841\"}],\"is_location_exact\":false}},\n",
        "\"availability\":{\"availability_30\":{\"$numberInt\":\"30\"},\"availability_60\":{\"$numberInt\":\"60\"},\"availability_90\":{\"$numberInt\":\"90\"},\"availability_365\":{\"$numberInt\":\"365\"}},\n",
        "\"review_scores\":{\"review_scores_accuracy\":{\"$numberInt\":\"7\"},\"review_scores_cleanliness\":{\"$numberInt\":\"7\"},\"review_scores_checkin\":{\"$numberInt\":\"8\"},\"review_scores_communication\":{\"$numberInt\":\"8\"},\"review_scores_location\":{\"$numberInt\":\"10\"},\"review_scores_value\":{\"$numberInt\":\"7\"},\"review_scores_rating\":{\"$numberInt\":\"67\"}},\n",
        "\"reviews\":[{\"_id\":\"61231578\",\"date\":{\"$date\":{\"$numberLong\":\"1454302800000\"}},\"listing_id\":\"10115921\",\"reviewer_id\":\"12352658\",\"reviewer_name\":\"Johann\",\"comments\":\"This place and the service has a lot of potential but certainly has not reached its prime yet. Ahmet was very quick to respond and approve my reservation which is great. He was also very responsive to additional questions. The residence service at the counter was also good and the blokes were helpful. The apartment is clean and spacious, although it could do with a couple of extra basic necessities particularly in the kitchen. \\r\\n\\r\\nHowever, two main things made this experience rather average instead of great.\\r\\n- I reserved a flat with TWO bedrooms and only got one. I complained and they relocated me to a bigger apartment with two separate beds, but still ONE bedroom.  Upon booking make sure to confirm its two bedrooms you sign up to.\\r\\n\\r\\n- Saturday seemed to be national construction day which meant 8am rise and shine. sunday there was activity too although less loud. Normally not a problem but not great when you experienced some of the Istanbul night life the night before. A notice about this at least would have been great.\"},{\"_id\":\"69120673\",\"date\":{\"$date\":{\"$numberLong\":\"1460174400000\"}},\"listing_id\":\"10115921\",\"reviewer_id\":\"20657237\",\"reviewer_name\":\"Mohamed\",\"comments\":\"The location is just perfect. You can find everything in the neighborhood such as restaurants, supermarket, exchange, shops....etc.\\nThe lobby of the hotel is small.\\nI stayed in the two bedroom apt.\\nUnfortunately, the second room has the bathroom while the master bedroom has none. You have to use the one in the living room.\\nSome of the staff in the Hotel are very very helpful like Mustafa and some are friendly like Mohamed.\"},{\"_id\":\"179271487\",\"date\":{\"$date\":{\"$numberLong\":\"1502078400000\"}},\"listing_id\":\"10115921\",\"reviewer_id\":\"32336412\",\"reviewer_name\":\"Abdulrazaq\",\"comments\":\"They have to check the type of apartment\"}]}\n",
        "```\n",
        "\n",
        "Supongamos que se pretende crear un modelo en donde el campo de `reviews` se use para dar un calificativo de bueno o malo, según la cadena de caractéres alojada en las reseña:\n",
        "\n",
        "```\n",
        "The location is just perfect. You can find everything in the neighborhood such as restaurants, supermarket, exchange, shops....etc.The lobby of the hotel is small. I stayed in the two bedroom apt. Unfortunately, the second room has the bathroom while the master bedroom has none. You have to use the one in the living room. Some of the staff in the Hotel are very very helpful like Mustafa and some are friendly like Mohamed.\n",
        "```\n",
        "\n",
        "Intuitivamente, un algoritmo de inteligencia artificial no puede procesar como entrada un texto para resolver este tipo de problema, por lo que se requiere asignar a cada palabra del texto una codificación numérica, para que los algoritmos de inteligencia artificial sean capaces de procesar la información.\n",
        "\n",
        "Veamos un ejemplo de como podemos procesar el texto:\n",
        "\n",
        "Había una vez una iguana\n",
        "\n",
        "Con una ruana de lana\n",
        "\n",
        "Peinandose la melena junto al río Magdalena\n",
        "\n",
        "Y la iguana tomaba café\n",
        "\n",
        "Tomaba café a la hora del té\n",
        "\n",
        "Y la iguana tomaba café\n",
        "\n",
        "Tomaba café a la hora del té\n",
        "\n",
        "Llegó un perezoso caminando\n",
        "\n",
        "En pijama y bostezando\n",
        "\n",
        "Le dio un empujón a Doña iguana\n",
        "\n",
        "Y la lanzó de cabeza al agua\n",
        "\n",
        "Y el perezoso se toma el café\n",
        "\n",
        "Se toma el café a la hora del té\n",
        "\n",
        "Y el perezoso se toma el café\n",
        "\n",
        "Se toma el café a la hora del té\n",
        "\n",
        "La iguana volvió toda mojada\n",
        "\n",
        "Furibunda y enojada\n",
        "\n",
        "Le espicha la oreja al perezoso\n",
        "\n",
        "Y lo encerró en el calabozo\n",
        "\n",
        "Y la iguana termina el café\n",
        "\n",
        "Termina el café a la hora del té\n",
        "\n",
        "Y la iguana termina el café\n",
        "\n",
        "Termina el café a la hora del té\n",
        "\n",
        "para que sea \"legible\" para un algoritmo de IA.\n"
      ]
    },
    {
      "cell_type": "code",
      "metadata": {
        "cellView": "form",
        "id": "dyLoeB-eHl7j"
      },
      "source": [
        "#@title Ingesta de datos\n",
        "!wget https://raw.githubusercontent.com/ssanchezgoe/curso_deep_learning_economia/main/data/DL_text_sample.txt"
      ],
      "execution_count": null,
      "outputs": []
    },
    {
      "cell_type": "code",
      "metadata": {
        "id": "G396f_avrJRx",
        "cellView": "form"
      },
      "source": [
        "#@title Procesamiento de texto\n",
        "from tensorflow import keras\n",
        "import numpy as np\n",
        "\n",
        "# Apertura del archivo\n",
        "with open('DL_text_sample.txt') as f:\n",
        "    data = f.read()\n",
        "    print(data)\n",
        "\n",
        "# Tokenizador\n",
        "tok=keras.preprocessing.text.Tokenizer()\n",
        "tok.fit_on_texts([data])\n",
        "\n",
        "print(tok.index_word.items())"
      ],
      "execution_count": null,
      "outputs": []
    },
    {
      "cell_type": "markdown",
      "metadata": {
        "id": "iUeFrUL5ZyiW"
      },
      "source": [
        "## Deep Learning e Ingeniería de características.\n",
        "\n",
        "La ingeniería de caracterísiticas es un problema esencial para lograr obtener un modelo preciso a través de características significativas. Estas características deben guardar una relación con la variable objetivo, de lo contrarío, el modelo resultante podría carecer de capacidad predictiva. \n",
        "\n",
        "El problema en la extracción de características es que se requiere de los siguientes elementos:\n",
        "\n",
        "- Contar con expertos en el tema.\n",
        "- Conocimiento relacionado con el tema.\n",
        "- Usar herramientas potentes para la extracción de caracerísticas.\n",
        "- Costoso desde el punto de vista de tiempo.\n",
        "\n",
        "En el caso de las redes neuronales, esta estracción de características, o **ingeniería de características**, se realiza de forma automática mediante la arquitectura de red:\n",
        "\n",
        "<p><img alt=\"Unstructure data to Tables\" height=\"350px\" src=\"https://github.com/ssanchezgoe/curso_deep_learning_economia/blob/main/images/DL_S03_Feature_Engineering.png?raw=true\" align=\"center\" vspace=\"15px\"></p>"
      ]
    },
    {
      "cell_type": "markdown",
      "metadata": {
        "id": "WwGXaVChxawT"
      },
      "source": [
        "## Ejercicios"
      ]
    },
    {
      "cell_type": "markdown",
      "metadata": {
        "id": "lukNfbqgxdoV"
      },
      "source": [
        "### Ejercicio 1: Tratamiento de imágenes en escala de grises.\n",
        "\n",
        "Tome cualquier imágen de internet en escala de grises, grafíquela e imprima la siguiente información:\n",
        "\n",
        "- Profundidad de píxel.\n",
        "- Valores de píxel mínimo y máximo.\n",
        "- Dimensiones de la imagen.\n",
        "- Total Pixeles en la imagen. \n",
        "\n",
        "Ayuda: Realice una función para este fin. \n"
      ]
    },
    {
      "cell_type": "markdown",
      "metadata": {
        "id": "G7H6wHppOp4m"
      },
      "source": [
        "### Ejercicio 2: Tratamiento de imágenes RGB \n",
        "\n",
        "Tome cualquier imágen RGB de internet, visualice la imagen y sus canales RGB e imprima la siguiente información:\n",
        "\n",
        "- Profundidad de píxel.\n",
        "- Valores de píxel mínimo y máximo.\n",
        "- Dimensiones de la imagen.\n",
        "- Total Pixeles en la imagen. \n",
        "\n",
        "Ayuda: Realice una función para este fin. \n"
      ]
    },
    {
      "cell_type": "markdown",
      "metadata": {
        "id": "Q2QSEHtcPOZT"
      },
      "source": [
        "### Ejercicio 3: Tratatmiento de Texto\n",
        "\n",
        "Tome como archivo de entrada el texto alojado el [Link](https://raw.githubusercontent.com/ssanchezgoe/curso_deep_learning_economia/main/data/DL_Carton_Review.txt) y consulte en internet cómo tokenizar mediante en `keras` un texto. Imprima el resultado final como un diccionario en donde se especifíque el código (número entero asociado) de la palabra y la pabra en sí."
      ]
    }
  ]
}