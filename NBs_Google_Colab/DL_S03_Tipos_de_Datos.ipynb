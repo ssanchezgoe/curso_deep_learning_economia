{
  "nbformat": 4,
  "nbformat_minor": 0,
  "metadata": {
    "colab": {
      "name": "DL_S03_Tipos_de_Datos.ipynb",
      "provenance": [],
      "collapsed_sections": [],
      "authorship_tag": "ABX9TyP3S0zYrwkdFMTHvdh3WM7v",
      "include_colab_link": true
    },
    "kernelspec": {
      "name": "python3",
      "display_name": "Python 3"
    },
    "language_info": {
      "name": "python"
    }
  },
  "cells": [
    {
      "cell_type": "markdown",
      "metadata": {
        "id": "view-in-github",
        "colab_type": "text"
      },
      "source": [
        "<a href=\"https://colab.research.google.com/github/ssanchezgoe/curso_deep_learning_economia/blob/main/NBs_Google_Colab/DL_S03_Tipos_de_Datos.ipynb\" target=\"_parent\"><img src=\"https://colab.research.google.com/assets/colab-badge.svg\" alt=\"Open In Colab\"/></a>"
      ]
    },
    {
      "cell_type": "markdown",
      "metadata": {
        "id": "thBYXFC53-lF"
      },
      "source": [
        "<p><img alt=\"Colaboratory logo\" height=\"140px\" src=\"https://upload.wikimedia.org/wikipedia/commons/archive/f/fb/20161010213812%21Escudo-UdeA.svg\" align=\"left\" hspace=\"10px\" vspace=\"0px\"></p>\n",
        "\n",
        "<h1> Curso Deep Learning: Economía</h1>\n",
        "\n",
        "## S03: Datos no estructurados"
      ]
    },
    {
      "cell_type": "markdown",
      "metadata": {
        "id": "R7nsXE6-4JzW"
      },
      "source": [
        "# Tabla de contenido\n",
        "\n",
        "Temática:\n",
        "\n",
        "- ¿Qué son los datos no estructurados?.\n",
        "- Como tratar los datos no estructurados."
      ]
    },
    {
      "cell_type": "markdown",
      "metadata": {
        "id": "GVmpPC9H4GYV"
      },
      "source": [
        "# Datos no estructurados: Deep Dive\n",
        "\n",
        "Los datos no estructurados corresponden a información que no se organiza de acuerdo con un modelo o esquema de datos preestablecido y, por tanto, no se puede almacenar en una base de datos tradicional o RDBMS (Relational Database Managment System). El texto y la multimedia son dos tipos comunes de contenido estructurado. Algunos ejemplos concretos son:\n",
        "\n",
        "- Muchos documentos comerciales\n",
        "- Mensajes de correo electrónico\n",
        "- Videos \n",
        "- Fotos\n",
        "- Páginas web\n",
        "- Archivos de audio\n",
        "\n",
        "Entre el 80% y 90% de los datos generados y recopilados por las organizaciones corresponden a datos no estructurados. La velocidad con que la que crecen estos tipos de datos es, en ocasiones, más rápida que el volumen de los datos no estructurados.\n",
        "\n",
        "Los almacenamientos de datos no estructurados contienen una gran cantidad de información que se puede usar para orientar las decisiones comerciales. Sin embargo, históricamente los datos no estructurados han sido dificil de analizar. Con la ayuda de la inteligencia artificial y el aprendizaje automático, han surgido nuevas herramientas que pueden buscar en estas grandes cantidades de datos para obtener respuesta a diferentes problemas planteados desde una visión de inteligencia de negocios.\n",
        "\n",
        "La pregunta principal respecto a esto datos es:\n",
        "\n",
        "**¿Cómo se pasa tipos de datos diversos como imágenes y sonidos, a una tabla donde se tienen características con valores numéricos?**\n",
        "\n",
        "Esquemáticamente se tiene que resolver cualquiera de los siguientes problemas\n",
        "\n",
        "<p><img alt=\"Unstructure data to Tables\" height=\"200px\" src=\"https://github.com/ssanchezgoe/curso_deep_learning_economia/blob/main/images/DL_S03_Untructured_Data_To_Tables.png?raw=true\" align=\"center\" vspace=\"15px\"></p>\n",
        "\n",
        "en donde, con ayuda de herramientas de deep learning, podemos transformar los datos no estructurados en tablas. "
      ]
    },
    {
      "cell_type": "code",
      "metadata": {
        "id": "pw22S6H3BDfy"
      },
      "source": [
        ""
      ],
      "execution_count": null,
      "outputs": []
    },
    {
      "cell_type": "markdown",
      "metadata": {
        "id": "0J3cke6kw3UX"
      },
      "source": [
        "## Imágenes\n",
        "\n",
        "Las imágenes digitales corresponden a un arreglo matricial de píxeles con cierto valor (ver siguiente imagen).\n",
        "\n",
        "<p><img alt=\"Unstructure data to Tables\" height=\"250px\" src=\"https://github.com/ssanchezgoe/curso_deep_learning_economia/blob/main/images/DL_S03_Gray_Digital_Image.png?raw=true\" align=\"center\" vspace=\"15px\"></p>\n",
        "\n",
        "En general, una imagen en escala de grises tendrá un rango de valores dependiendo de la **profundiad de pixel de la imagen**, la cual se da en bits. En la siguiente imagen se ilustran varias profundidades. \n",
        "\n",
        "<p><img alt=\"Unstructure data to Tables\" height=\"250px\" src=\"https://github.com/ssanchezgoe/curso_deep_learning_economia/blob/main/images/DL_S03_Pixel_Depth.png?raw=true\" align=\"center\" vspace=\"15px\"></p>\n",
        "\n",
        "Como puede advertirse, la cantidad de valores para cierta profundidad de pixel puede determinarse como una potencia de 2. En la siguiente tabla se muestra los posibles valores según la profundidad de pixels.\n",
        "\n",
        "Profundidad de Pixel | Cantidad de Valores\n",
        "--|--\n",
        "1|$2^1=2$\n",
        "2|$2^2=4$\n",
        "3|$2^3=8$\n",
        "4|$2^4=16$\n",
        "5|$2^5=32$\n",
        "6|$2^6=64$\n",
        "8|$2^8=256$\n",
        "16|$2^{16}=65536$"
      ]
    }
  ]
}