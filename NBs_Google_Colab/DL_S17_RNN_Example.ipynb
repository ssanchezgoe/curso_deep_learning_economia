{
  "nbformat": 4,
  "nbformat_minor": 0,
  "metadata": {
    "colab": {
      "name": "DL_S17_RNN_Example.ipynb",
      "provenance": [],
      "authorship_tag": "ABX9TyMldYSyypaPj06A4G1El/Og",
      "include_colab_link": true
    },
    "kernelspec": {
      "name": "python3",
      "display_name": "Python 3"
    },
    "language_info": {
      "name": "python"
    },
    "accelerator": "TPU"
  },
  "cells": [
    {
      "cell_type": "markdown",
      "metadata": {
        "id": "view-in-github",
        "colab_type": "text"
      },
      "source": [
        "<a href=\"https://colab.research.google.com/github/ssanchezgoe/curso_deep_learning_economia/blob/main/NBs_Google_Colab/DL_S17_RNN_Example.ipynb\" target=\"_parent\"><img src=\"https://colab.research.google.com/assets/colab-badge.svg\" alt=\"Open In Colab\"/></a>"
      ]
    },
    {
      "cell_type": "markdown",
      "metadata": {
        "id": "OMTYh2DqhKFJ"
      },
      "source": [
        "<p><img alt=\"Colaboratory logo\" height=\"140px\" src=\"https://upload.wikimedia.org/wikipedia/commons/archive/f/fb/20161010213812%21Escudo-UdeA.svg\" align=\"left\" hspace=\"10px\" vspace=\"0px\"></p>\n",
        "\n",
        "<h1> Curso Deep Learning: Economía</h1>\n",
        "\n",
        "## S17: Redes neuronales convolucionales y arquitecturas"
      ]
    },
    {
      "cell_type": "markdown",
      "metadata": {
        "id": "p-Fl0aH9Kxwk"
      },
      "source": [
        "# Ejemplo: \n",
        "Pequeño conjunto de datos de la oficina de estadísticas de Canadá, que corresponde a las ventas minoristas mensuales desde 1991 hasta la actualidad."
      ]
    },
    {
      "cell_type": "code",
      "metadata": {
        "id": "8ioth9IBMAvH"
      },
      "source": [
        "import pandas as pd\n",
        "import numpy as np\n",
        "import matplotlib.pyplot as plt\n",
        "from pandas.tseries.offsets import MonthEnd\n",
        "from sklearn.preprocessing import MinMaxScaler\n",
        "from tensorflow.keras.models import Sequential\n",
        "from tensorflow.keras.layers import Dense\n",
        "import tensorflow.keras.backend as K\n",
        "from tensorflow.keras.callbacks import EarlyStopping\n",
        "from tensorflow.keras.layers import LSTM"
      ],
      "execution_count": 1,
      "outputs": []
    },
    {
      "cell_type": "code",
      "metadata": {
        "colab": {
          "base_uri": "https://localhost:8080/",
          "height": 206
        },
        "id": "dVGNlbcrKxNB",
        "outputId": "60684375-f64e-44b8-ccac-7f1a8f9bb406"
      },
      "source": [
        "df = pd.read_csv('https://raw.githubusercontent.com/ssanchezgoe/curso_deep_learning_economia/main/data/DL_Casim.csv',\n",
        "                 skiprows=6, skipfooter=9,\n",
        "                 engine='python')\n",
        "df.head()"
      ],
      "execution_count": 2,
      "outputs": [
        {
          "output_type": "execute_result",
          "data": {
            "text/html": [
              "<div>\n",
              "<style scoped>\n",
              "    .dataframe tbody tr th:only-of-type {\n",
              "        vertical-align: middle;\n",
              "    }\n",
              "\n",
              "    .dataframe tbody tr th {\n",
              "        vertical-align: top;\n",
              "    }\n",
              "\n",
              "    .dataframe thead th {\n",
              "        text-align: right;\n",
              "    }\n",
              "</style>\n",
              "<table border=\"1\" class=\"dataframe\">\n",
              "  <thead>\n",
              "    <tr style=\"text-align: right;\">\n",
              "      <th></th>\n",
              "      <th>Adjustments</th>\n",
              "      <th>Unadjusted</th>\n",
              "      <th>Seasonally adjusted</th>\n",
              "    </tr>\n",
              "  </thead>\n",
              "  <tbody>\n",
              "    <tr>\n",
              "      <th>0</th>\n",
              "      <td>Jan-1991</td>\n",
              "      <td>12588862</td>\n",
              "      <td>15026890</td>\n",
              "    </tr>\n",
              "    <tr>\n",
              "      <th>1</th>\n",
              "      <td>Feb-1991</td>\n",
              "      <td>12154321</td>\n",
              "      <td>15304585</td>\n",
              "    </tr>\n",
              "    <tr>\n",
              "      <th>2</th>\n",
              "      <td>Mar-1991</td>\n",
              "      <td>14337072</td>\n",
              "      <td>15413591</td>\n",
              "    </tr>\n",
              "    <tr>\n",
              "      <th>3</th>\n",
              "      <td>Apr-1991</td>\n",
              "      <td>15108570</td>\n",
              "      <td>15293409</td>\n",
              "    </tr>\n",
              "    <tr>\n",
              "      <th>4</th>\n",
              "      <td>May-1991</td>\n",
              "      <td>17225734</td>\n",
              "      <td>15676083</td>\n",
              "    </tr>\n",
              "  </tbody>\n",
              "</table>\n",
              "</div>"
            ],
            "text/plain": [
              "  Adjustments  Unadjusted  Seasonally adjusted\n",
              "0    Jan-1991    12588862             15026890\n",
              "1    Feb-1991    12154321             15304585\n",
              "2    Mar-1991    14337072             15413591\n",
              "3    Apr-1991    15108570             15293409\n",
              "4    May-1991    17225734             15676083"
            ]
          },
          "metadata": {},
          "execution_count": 2
        }
      ]
    },
    {
      "cell_type": "markdown",
      "metadata": {
        "id": "3uCG2YowMzAW"
      },
      "source": [
        "Reorganicemos los datos temporales; para ello realizamos lo siguiente:\n",
        "\n",
        "1. Convertirmos la columna `Adjustments` en un objeto `to_datetime`.\n",
        "2. Adicionamos el último día del mes a la cadena mediante el método `MonthEnd(1)`.\n",
        "3. Fijar la columna `Adjustments` transformada como índice del dataframe.\n",
        "\n",
        "Veamos el resultado solo de aplicar el método `to_datetime` a los datos\n"
      ]
    },
    {
      "cell_type": "code",
      "metadata": {
        "colab": {
          "base_uri": "https://localhost:8080/"
        },
        "id": "evawR9BVMGXw",
        "outputId": "e37c1005-a0e0-4283-9dac-254fce0a0648"
      },
      "source": [
        "pd.to_datetime(df['Adjustments'])"
      ],
      "execution_count": 3,
      "outputs": [
        {
          "output_type": "execute_result",
          "data": {
            "text/plain": [
              "0     1991-01-01\n",
              "1     1991-02-01\n",
              "2     1991-03-01\n",
              "3     1991-04-01\n",
              "4     1991-05-01\n",
              "         ...    \n",
              "308   2016-09-01\n",
              "309   2016-10-01\n",
              "310   2016-11-01\n",
              "311   2016-12-01\n",
              "312   2017-01-01\n",
              "Name: Adjustments, Length: 313, dtype: datetime64[ns]"
            ]
          },
          "metadata": {},
          "execution_count": 3
        }
      ]
    },
    {
      "cell_type": "markdown",
      "metadata": {
        "id": "Qq1YnOsKtYTX"
      },
      "source": [
        "Si adicionamos el método `MonthEnd(1)`, tenemos:"
      ]
    },
    {
      "cell_type": "code",
      "metadata": {
        "colab": {
          "base_uri": "https://localhost:8080/"
        },
        "id": "AJhkBrZTMkaz",
        "outputId": "e257266a-9091-4a28-fdf7-10dd60234ae8"
      },
      "source": [
        "pd.to_datetime(df['Adjustments'])+MonthEnd(1)"
      ],
      "execution_count": 4,
      "outputs": [
        {
          "output_type": "execute_result",
          "data": {
            "text/plain": [
              "0     1991-01-31\n",
              "1     1991-02-28\n",
              "2     1991-03-31\n",
              "3     1991-04-30\n",
              "4     1991-05-31\n",
              "         ...    \n",
              "308   2016-09-30\n",
              "309   2016-10-31\n",
              "310   2016-11-30\n",
              "311   2016-12-31\n",
              "312   2017-01-31\n",
              "Name: Adjustments, Length: 313, dtype: datetime64[ns]"
            ]
          },
          "metadata": {},
          "execution_count": 4
        }
      ]
    },
    {
      "cell_type": "markdown",
      "metadata": {
        "id": "5Ljv5JT0tfRg"
      },
      "source": [
        "Ahora podemos fijar la columna `Adjustments` como índice del dataframe:"
      ]
    },
    {
      "cell_type": "code",
      "metadata": {
        "id": "XymFnEyfMpyW",
        "colab": {
          "base_uri": "https://localhost:8080/",
          "height": 237
        },
        "outputId": "cef3d7ae-4a50-4ea4-8cfc-b6ae03a5e104"
      },
      "source": [
        "df['Adjustments'] = pd.to_datetime(df['Adjustments']) + MonthEnd(1)\n",
        "df = df.set_index('Adjustments')\n",
        "df.head()"
      ],
      "execution_count": 5,
      "outputs": [
        {
          "output_type": "execute_result",
          "data": {
            "text/html": [
              "<div>\n",
              "<style scoped>\n",
              "    .dataframe tbody tr th:only-of-type {\n",
              "        vertical-align: middle;\n",
              "    }\n",
              "\n",
              "    .dataframe tbody tr th {\n",
              "        vertical-align: top;\n",
              "    }\n",
              "\n",
              "    .dataframe thead th {\n",
              "        text-align: right;\n",
              "    }\n",
              "</style>\n",
              "<table border=\"1\" class=\"dataframe\">\n",
              "  <thead>\n",
              "    <tr style=\"text-align: right;\">\n",
              "      <th></th>\n",
              "      <th>Unadjusted</th>\n",
              "      <th>Seasonally adjusted</th>\n",
              "    </tr>\n",
              "    <tr>\n",
              "      <th>Adjustments</th>\n",
              "      <th></th>\n",
              "      <th></th>\n",
              "    </tr>\n",
              "  </thead>\n",
              "  <tbody>\n",
              "    <tr>\n",
              "      <th>1991-01-31</th>\n",
              "      <td>12588862</td>\n",
              "      <td>15026890</td>\n",
              "    </tr>\n",
              "    <tr>\n",
              "      <th>1991-02-28</th>\n",
              "      <td>12154321</td>\n",
              "      <td>15304585</td>\n",
              "    </tr>\n",
              "    <tr>\n",
              "      <th>1991-03-31</th>\n",
              "      <td>14337072</td>\n",
              "      <td>15413591</td>\n",
              "    </tr>\n",
              "    <tr>\n",
              "      <th>1991-04-30</th>\n",
              "      <td>15108570</td>\n",
              "      <td>15293409</td>\n",
              "    </tr>\n",
              "    <tr>\n",
              "      <th>1991-05-31</th>\n",
              "      <td>17225734</td>\n",
              "      <td>15676083</td>\n",
              "    </tr>\n",
              "  </tbody>\n",
              "</table>\n",
              "</div>"
            ],
            "text/plain": [
              "             Unadjusted  Seasonally adjusted\n",
              "Adjustments                                 \n",
              "1991-01-31     12588862             15026890\n",
              "1991-02-28     12154321             15304585\n",
              "1991-03-31     14337072             15413591\n",
              "1991-04-30     15108570             15293409\n",
              "1991-05-31     17225734             15676083"
            ]
          },
          "metadata": {},
          "execution_count": 5
        }
      ]
    },
    {
      "cell_type": "markdown",
      "metadata": {
        "id": "t3XFuhPJuE13"
      },
      "source": [
        "Con la fecha como índice, podemos realizar, fácilmente una gráfica de nuestra serie de tiempo:"
      ]
    },
    {
      "cell_type": "code",
      "metadata": {
        "colab": {
          "base_uri": "https://localhost:8080/",
          "height": 306
        },
        "id": "nkfq-hYJt_3b",
        "outputId": "c81bb7a0-a977-40b5-c64d-82df504c2c88"
      },
      "source": [
        "df.plot()\n",
        "plt.xticks(rotation='vertical')\n",
        "plt.show()"
      ],
      "execution_count": 6,
      "outputs": [
        {
          "output_type": "display_data",
          "data": {
            "image/png": "[encoded data removed]",
            "text/plain": [
              "<Figure size 432x288 with 1 Axes>"
            ]
          },
          "metadata": {
            "needs_background": "light"
          }
        }
      ]
    },
    {
      "cell_type": "markdown",
      "metadata": {
        "id": "w8O0kRopu0zR"
      },
      "source": [
        "En esta gráfica puede notarse, perfectamente, la crísis ocurrida en el 2008, como una caida en los datos de la serie.\n",
        "\n",
        "Cuando se trabaja con una serie de tiempo, es muy importante partir los datos en un conjunto de train y test, respecto a cierta fecha, de tal forma que no se prueben datos que se encuenten antes de los de entranamiento. Para lo anterior, fijamos una fecha para hacer la división:\n"
      ]
    },
    {
      "cell_type": "code",
      "metadata": {
        "id": "VjXyA0fRuPkg"
      },
      "source": [
        "split_date = pd.Timestamp('01-01-2011')"
      ],
      "execution_count": 7,
      "outputs": []
    },
    {
      "cell_type": "markdown",
      "metadata": {
        "id": "18tatqChXqy4"
      },
      "source": [
        "Trabajaremos sobre la serie no ajustada:"
      ]
    },
    {
      "cell_type": "code",
      "metadata": {
        "id": "VHVnm9SBXvot"
      },
      "source": [
        "train = df.loc[:split_date, ['Unadjusted']]\n",
        "test = df.loc[split_date:, ['Unadjusted']]"
      ],
      "execution_count": 8,
      "outputs": []
    },
    {
      "cell_type": "markdown",
      "metadata": {
        "id": "xSksZvBQaVjN"
      },
      "source": [
        "Grafiquemos ambos conjuntos, con el fin de visualizar la secuencialidad de los datos"
      ]
    },
    {
      "cell_type": "code",
      "metadata": {
        "colab": {
          "base_uri": "https://localhost:8080/",
          "height": 290
        },
        "id": "6JwcHHsPX7lO",
        "outputId": "f3859a55-e491-4722-b693-67766cc21b18"
      },
      "source": [
        "ax = train.plot()\n",
        "test.plot(ax=ax)\n",
        "plt.legend(['train', 'test'])\n",
        "plt.show()"
      ],
      "execution_count": 9,
      "outputs": [
        {
          "output_type": "display_data",
          "data": {
            "image/png": "[encoded data removed]",
            "text/plain": [
              "<Figure size 432x288 with 1 Axes>"
            ]
          },
          "metadata": {
            "needs_background": "light"
          }
        }
      ]
    },
    {
      "cell_type": "markdown",
      "metadata": {
        "id": "10b9KOStbb-0"
      },
      "source": [
        "Procedamos a rescalar los datos. Es importante resaltar que cuando se hace una división de train y test y se rescala, se realiza un ajuste y una transformación en los datos de entrenamiento y luego se transforman los datos de test. La razón para esto es que no se debe asumir que se sabe la escala de los datos de test; en este sentido, se transforma todos los datos pero solo se ajusta sobre los datos de entrenamiento."
      ]
    },
    {
      "cell_type": "code",
      "metadata": {
        "id": "8kK99ZkDbKL2"
      },
      "source": [
        "sc = MinMaxScaler()\n",
        "train_sc = sc.fit_transform(train)\n",
        "test_sc = sc.transform(test)"
      ],
      "execution_count": 10,
      "outputs": []
    },
    {
      "cell_type": "markdown",
      "metadata": {
        "id": "nswW-A76dV2f"
      },
      "source": [
        "El proximo paso consiste en definir la variable objetivo como el siguiente punto respecto a cada punto. De esta forma, estaremos construyendo un modelo que, para cierto valor dato, predecirá el siguiente dato."
      ]
    },
    {
      "cell_type": "code",
      "metadata": {
        "colab": {
          "base_uri": "https://localhost:8080/"
        },
        "id": "SSryg59NeWzH",
        "outputId": "b1501acd-3f6e-4526-879c-ebf9d59dcf4c"
      },
      "source": [
        "train_sc[:4]"
      ],
      "execution_count": 11,
      "outputs": [
        {
          "output_type": "execute_result",
          "data": {
            "text/plain": [
              "array([[0.01402033],\n",
              "       [0.        ],\n",
              "       [0.0704258 ],\n",
              "       [0.09531795]])"
            ]
          },
          "metadata": {},
          "execution_count": 11
        }
      ]
    },
    {
      "cell_type": "code",
      "metadata": {
        "id": "zyw_g_sHdRMU"
      },
      "source": [
        "X_train = train_sc[:-1]\n",
        "y_train = train_sc[1:]\n",
        "\n",
        "X_test = test_sc[:-1]\n",
        "y_test = test_sc[1:]"
      ],
      "execution_count": 12,
      "outputs": []
    },
    {
      "cell_type": "markdown",
      "metadata": {
        "id": "00AMg3eEf6Y-"
      },
      "source": [
        "## Fully Connected Predictor"
      ]
    },
    {
      "cell_type": "code",
      "metadata": {
        "colab": {
          "base_uri": "https://localhost:8080/"
        },
        "id": "pcz9rSF5gNxo",
        "outputId": "f159cb10-8adf-4779-b94f-59464145e74c"
      },
      "source": [
        "K.clear_session()\n",
        "model = Sequential()\n",
        "model.add(Dense(12, input_dim=1, activation='relu'))\n",
        "model.add(Dense(1))\n",
        "model.compile(loss='mean_squared_error', optimizer='adam')\n",
        "model.summary()"
      ],
      "execution_count": 13,
      "outputs": [
        {
          "output_type": "stream",
          "name": "stdout",
          "text": [
            "Model: \"sequential\"\n",
            "_________________________________________________________________\n",
            "Layer (type)                 Output Shape              Param #   \n",
            "=================================================================\n",
            "dense (Dense)                (None, 12)                24        \n",
            "_________________________________________________________________\n",
            "dense_1 (Dense)              (None, 1)                 13        \n",
            "=================================================================\n",
            "Total params: 37\n",
            "Trainable params: 37\n",
            "Non-trainable params: 0\n",
            "_________________________________________________________________\n"
          ]
        }
      ]
    },
    {
      "cell_type": "code",
      "metadata": {
        "id": "G3_jQDvtgPy2"
      },
      "source": [
        "early_stop = EarlyStopping(monitor='loss', patience=1, verbose=1)"
      ],
      "execution_count": 14,
      "outputs": []
    },
    {
      "cell_type": "code",
      "metadata": {
        "colab": {
          "base_uri": "https://localhost:8080/"
        },
        "id": "Chi3EAz1gR5t",
        "outputId": "20606d87-e108-4ce8-f96d-c833e9c634db"
      },
      "source": [
        "history = model.fit(X_train, y_train, epochs=200, batch_size=2, verbose=1, callbacks=[early_stop])"
      ],
      "execution_count": 15,
      "outputs": [
        {
          "output_type": "stream",
          "name": "stdout",
          "text": [
            "Epoch 1/200\n",
            "120/120 [==============================] - 1s 1ms/step - loss: 0.0612\n",
            "Epoch 2/200\n",
            "120/120 [==============================] - 0s 1ms/step - loss: 0.0201\n",
            "Epoch 3/200\n",
            "120/120 [==============================] - 0s 1ms/step - loss: 0.0164\n",
            "Epoch 4/200\n",
            "120/120 [==============================] - 0s 1ms/step - loss: 0.0136\n",
            "Epoch 5/200\n",
            "120/120 [==============================] - 0s 1ms/step - loss: 0.0119\n",
            "Epoch 6/200\n",
            "120/120 [==============================] - 0s 1ms/step - loss: 0.0106\n",
            "Epoch 7/200\n",
            "120/120 [==============================] - 0s 1ms/step - loss: 0.0104\n",
            "Epoch 8/200\n",
            "120/120 [==============================] - 0s 1ms/step - loss: 0.0100\n",
            "Epoch 9/200\n",
            "120/120 [==============================] - 0s 953us/step - loss: 0.0100\n",
            "Epoch 00009: early stopping\n"
          ]
        }
      ]
    },
    {
      "cell_type": "code",
      "metadata": {
        "colab": {
          "base_uri": "https://localhost:8080/",
          "height": 265
        },
        "id": "KZl_RM9TgWAA",
        "outputId": "4d3acd2b-9fe4-48c2-b35c-08d2bf3f9914"
      },
      "source": [
        "pd.DataFrame(history.history).plot()\n",
        "plt.show()"
      ],
      "execution_count": 16,
      "outputs": [
        {
          "output_type": "display_data",
          "data": {
            "image/png": "[encoded data removed]",
            "text/plain": [
              "<Figure size 432x288 with 1 Axes>"
            ]
          },
          "metadata": {
            "needs_background": "light"
          }
        }
      ]
    },
    {
      "cell_type": "markdown",
      "metadata": {
        "id": "PbCQphIPi-qq"
      },
      "source": [
        "Procedamos a realizar una predicción y compararla con los datos originales:"
      ]
    },
    {
      "cell_type": "code",
      "metadata": {
        "id": "Mny0p-R4grW_"
      },
      "source": [
        "y_pred = model.predict(X_test)"
      ],
      "execution_count": 17,
      "outputs": []
    },
    {
      "cell_type": "code",
      "metadata": {
        "colab": {
          "base_uri": "https://localhost:8080/",
          "height": 265
        },
        "id": "GpI1iY34hBQY",
        "outputId": "ab9769d2-f1d8-4ce5-9b38-9f0359c14caf"
      },
      "source": [
        "plt.plot(y_test)\n",
        "plt.plot(y_pred)\n",
        "plt.show()"
      ],
      "execution_count": 18,
      "outputs": [
        {
          "output_type": "display_data",
          "data": {
            "image/png": "[encoded data removed]",
            "text/plain": [
              "<Figure size 432x288 with 1 Axes>"
            ]
          },
          "metadata": {
            "needs_background": "light"
          }
        }
      ]
    },
    {
      "cell_type": "markdown",
      "metadata": {
        "id": "Xw56BU3rjJHu"
      },
      "source": [
        "Como puede observarse el modelo ajustado no se desempeña adecuadamente, ya que la predicción sufre un corrimiento respecto a los datos."
      ]
    },
    {
      "cell_type": "markdown",
      "metadata": {
        "id": "iOyvUikBjpR9"
      },
      "source": [
        "## Recurrent predictor\n",
        "\n",
        "Construyamos ahora un predictor recurrente.\n",
        "\n",
        "Veamos nuestra forma de los datos:"
      ]
    },
    {
      "cell_type": "code",
      "metadata": {
        "colab": {
          "base_uri": "https://localhost:8080/"
        },
        "id": "kuq_38gqjFhn",
        "outputId": "48a43c27-c866-4c0d-91d4-e809cb5e2461"
      },
      "source": [
        "X_train.shape"
      ],
      "execution_count": 19,
      "outputs": [
        {
          "output_type": "execute_result",
          "data": {
            "text/plain": [
              "(239, 1)"
            ]
          },
          "metadata": {},
          "execution_count": 19
        }
      ]
    },
    {
      "cell_type": "markdown",
      "metadata": {
        "id": "KePuEdgGnoMs"
      },
      "source": [
        "No obstante, la celda LSTM requiere de una forma dada por las siguientes dimensiones (batch_size, timesteps, input_dim), por lo que debemos realizar el siguiente resize:"
      ]
    },
    {
      "cell_type": "code",
      "metadata": {
        "colab": {
          "base_uri": "https://localhost:8080/"
        },
        "id": "3V-E3nxqjyRS",
        "outputId": "d630058a-dcf8-4723-f6a4-d2bfb18debea"
      },
      "source": [
        "#3D tensor with shape (batch_size, timesteps, input_dim)\n",
        "X_train.reshape(len(X_train),1,1).shape"
      ],
      "execution_count": 20,
      "outputs": [
        {
          "output_type": "execute_result",
          "data": {
            "text/plain": [
              "(239, 1, 1)"
            ]
          },
          "metadata": {},
          "execution_count": 20
        }
      ]
    },
    {
      "cell_type": "code",
      "metadata": {
        "id": "KaInA1vtkJf0"
      },
      "source": [
        "X_train_t = X_train.reshape(len(X_train),1,1)\n",
        "X_test_t = X_test.reshape(len(X_test),1,1)"
      ],
      "execution_count": 21,
      "outputs": []
    },
    {
      "cell_type": "code",
      "metadata": {
        "id": "_KO3VJjRkY4-"
      },
      "source": [
        "K.clear_session()\n",
        "model = Sequential()\n",
        "\n",
        "model.add(LSTM(6, input_shape=(1, 1)))\n",
        "\n",
        "model.add(Dense(1))\n",
        "\n",
        "model.compile(loss='mean_squared_error', optimizer='adam')"
      ],
      "execution_count": 22,
      "outputs": []
    },
    {
      "cell_type": "code",
      "metadata": {
        "colab": {
          "base_uri": "https://localhost:8080/"
        },
        "id": "4kf3BV_8kcET",
        "outputId": "959f1a7f-4f06-4512-b64a-396b20def83d"
      },
      "source": [
        "model.fit(X_train_t, y_train, epochs=100, batch_size=1, verbose=1, callbacks=[early_stop])"
      ],
      "execution_count": 23,
      "outputs": [
        {
          "output_type": "stream",
          "name": "stdout",
          "text": [
            "Epoch 1/100\n",
            "239/239 [==============================] - 2s 2ms/step - loss: 0.1509\n",
            "Epoch 2/100\n",
            "239/239 [==============================] - 0s 2ms/step - loss: 0.0551\n",
            "Epoch 3/100\n",
            "239/239 [==============================] - 0s 2ms/step - loss: 0.0432\n",
            "Epoch 4/100\n",
            "239/239 [==============================] - 0s 2ms/step - loss: 0.0355\n",
            "Epoch 5/100\n",
            "239/239 [==============================] - 0s 2ms/step - loss: 0.0287\n",
            "Epoch 6/100\n",
            "239/239 [==============================] - 0s 2ms/step - loss: 0.0227\n",
            "Epoch 7/100\n",
            "239/239 [==============================] - 0s 2ms/step - loss: 0.0178\n",
            "Epoch 8/100\n",
            "239/239 [==============================] - 0s 2ms/step - loss: 0.0143\n",
            "Epoch 9/100\n",
            "239/239 [==============================] - 0s 2ms/step - loss: 0.0122\n",
            "Epoch 10/100\n",
            "239/239 [==============================] - 0s 2ms/step - loss: 0.0110\n",
            "Epoch 11/100\n",
            "239/239 [==============================] - 0s 2ms/step - loss: 0.0105\n",
            "Epoch 12/100\n",
            "239/239 [==============================] - 0s 2ms/step - loss: 0.0102\n",
            "Epoch 13/100\n",
            "239/239 [==============================] - 0s 2ms/step - loss: 0.0102\n",
            "Epoch 14/100\n",
            "239/239 [==============================] - 0s 2ms/step - loss: 0.0102\n",
            "Epoch 00014: early stopping\n"
          ]
        },
        {
          "output_type": "execute_result",
          "data": {
            "text/plain": [
              "<keras.callbacks.History at 0x7fb943e79e50>"
            ]
          },
          "metadata": {},
          "execution_count": 23
        }
      ]
    },
    {
      "cell_type": "code",
      "metadata": {
        "colab": {
          "base_uri": "https://localhost:8080/",
          "height": 265
        },
        "id": "H8RRhNVwkgzO",
        "outputId": "79ce0db5-8dc9-44d8-f2a3-c95734688efd"
      },
      "source": [
        "y_pred = model.predict(X_test_t)\n",
        "plt.plot(y_test)\n",
        "plt.plot(y_pred)\n",
        "plt.show()"
      ],
      "execution_count": 24,
      "outputs": [
        {
          "output_type": "display_data",
          "data": {
            "image/png": "[encoded data removed]",
            "text/plain": [
              "<Figure size 432x288 with 1 Axes>"
            ]
          },
          "metadata": {
            "needs_background": "light"
          }
        }
      ]
    },
    {
      "cell_type": "markdown",
      "metadata": {
        "id": "Csp8AQt-apC5"
      },
      "source": [
        "# Metodo de la ventana "
      ]
    },
    {
      "cell_type": "code",
      "metadata": {
        "id": "tMO785IpkkcP"
      },
      "source": [
        "train_sc_df = pd.DataFrame(train_sc, columns=['Scaled'], index=train.index)\n",
        "test_sc_df = pd.DataFrame(test_sc, columns=['Scaled'], index=test.index)\n",
        "\n",
        "for s in range(1, 13):\n",
        "    train_sc_df['shift_{}'.format(s)] = train_sc_df['Scaled'].shift(s)\n",
        "    test_sc_df['shift_{}'.format(s)] = test_sc_df['Scaled'].shift(s)"
      ],
      "execution_count": 25,
      "outputs": []
    },
    {
      "cell_type": "code",
      "metadata": {
        "colab": {
          "base_uri": "https://localhost:8080/",
          "height": 475
        },
        "id": "moZIicpQbMbN",
        "outputId": "704ec81d-b7a1-48fd-ae86-2bd0276d5f24"
      },
      "source": [
        "train_sc_df"
      ],
      "execution_count": 27,
      "outputs": [
        {
          "output_type": "execute_result",
          "data": {
            "text/html": [
              "<div>\n",
              "<style scoped>\n",
              "    .dataframe tbody tr th:only-of-type {\n",
              "        vertical-align: middle;\n",
              "    }\n",
              "\n",
              "    .dataframe tbody tr th {\n",
              "        vertical-align: top;\n",
              "    }\n",
              "\n",
              "    .dataframe thead th {\n",
              "        text-align: right;\n",
              "    }\n",
              "</style>\n",
              "<table border=\"1\" class=\"dataframe\">\n",
              "  <thead>\n",
              "    <tr style=\"text-align: right;\">\n",
              "      <th></th>\n",
              "      <th>Scaled</th>\n",
              "      <th>shift_1</th>\n",
              "      <th>shift_2</th>\n",
              "      <th>shift_3</th>\n",
              "      <th>shift_4</th>\n",
              "      <th>shift_5</th>\n",
              "      <th>shift_6</th>\n",
              "      <th>shift_7</th>\n",
              "      <th>shift_8</th>\n",
              "      <th>shift_9</th>\n",
              "      <th>shift_10</th>\n",
              "      <th>shift_11</th>\n",
              "      <th>shift_12</th>\n",
              "    </tr>\n",
              "    <tr>\n",
              "      <th>Adjustments</th>\n",
              "      <th></th>\n",
              "      <th></th>\n",
              "      <th></th>\n",
              "      <th></th>\n",
              "      <th></th>\n",
              "      <th></th>\n",
              "      <th></th>\n",
              "      <th></th>\n",
              "      <th></th>\n",
              "      <th></th>\n",
              "      <th></th>\n",
              "      <th></th>\n",
              "      <th></th>\n",
              "    </tr>\n",
              "  </thead>\n",
              "  <tbody>\n",
              "    <tr>\n",
              "      <th>1991-01-31</th>\n",
              "      <td>0.014020</td>\n",
              "      <td>NaN</td>\n",
              "      <td>NaN</td>\n",
              "      <td>NaN</td>\n",
              "      <td>NaN</td>\n",
              "      <td>NaN</td>\n",
              "      <td>NaN</td>\n",
              "      <td>NaN</td>\n",
              "      <td>NaN</td>\n",
              "      <td>NaN</td>\n",
              "      <td>NaN</td>\n",
              "      <td>NaN</td>\n",
              "      <td>NaN</td>\n",
              "    </tr>\n",
              "    <tr>\n",
              "      <th>1991-02-28</th>\n",
              "      <td>0.000000</td>\n",
              "      <td>0.014020</td>\n",
              "      <td>NaN</td>\n",
              "      <td>NaN</td>\n",
              "      <td>NaN</td>\n",
              "      <td>NaN</td>\n",
              "      <td>NaN</td>\n",
              "      <td>NaN</td>\n",
              "      <td>NaN</td>\n",
              "      <td>NaN</td>\n",
              "      <td>NaN</td>\n",
              "      <td>NaN</td>\n",
              "      <td>NaN</td>\n",
              "    </tr>\n",
              "    <tr>\n",
              "      <th>1991-03-31</th>\n",
              "      <td>0.070426</td>\n",
              "      <td>0.000000</td>\n",
              "      <td>0.014020</td>\n",
              "      <td>NaN</td>\n",
              "      <td>NaN</td>\n",
              "      <td>NaN</td>\n",
              "      <td>NaN</td>\n",
              "      <td>NaN</td>\n",
              "      <td>NaN</td>\n",
              "      <td>NaN</td>\n",
              "      <td>NaN</td>\n",
              "      <td>NaN</td>\n",
              "      <td>NaN</td>\n",
              "    </tr>\n",
              "    <tr>\n",
              "      <th>1991-04-30</th>\n",
              "      <td>0.095318</td>\n",
              "      <td>0.070426</td>\n",
              "      <td>0.000000</td>\n",
              "      <td>0.014020</td>\n",
              "      <td>NaN</td>\n",
              "      <td>NaN</td>\n",
              "      <td>NaN</td>\n",
              "      <td>NaN</td>\n",
              "      <td>NaN</td>\n",
              "      <td>NaN</td>\n",
              "      <td>NaN</td>\n",
              "      <td>NaN</td>\n",
              "      <td>NaN</td>\n",
              "    </tr>\n",
              "    <tr>\n",
              "      <th>1991-05-31</th>\n",
              "      <td>0.163628</td>\n",
              "      <td>0.095318</td>\n",
              "      <td>0.070426</td>\n",
              "      <td>0.000000</td>\n",
              "      <td>0.014020</td>\n",
              "      <td>NaN</td>\n",
              "      <td>NaN</td>\n",
              "      <td>NaN</td>\n",
              "      <td>NaN</td>\n",
              "      <td>NaN</td>\n",
              "      <td>NaN</td>\n",
              "      <td>NaN</td>\n",
              "      <td>NaN</td>\n",
              "    </tr>\n",
              "    <tr>\n",
              "      <th>...</th>\n",
              "      <td>...</td>\n",
              "      <td>...</td>\n",
              "      <td>...</td>\n",
              "      <td>...</td>\n",
              "      <td>...</td>\n",
              "      <td>...</td>\n",
              "      <td>...</td>\n",
              "      <td>...</td>\n",
              "      <td>...</td>\n",
              "      <td>...</td>\n",
              "      <td>...</td>\n",
              "      <td>...</td>\n",
              "      <td>...</td>\n",
              "    </tr>\n",
              "    <tr>\n",
              "      <th>2010-08-31</th>\n",
              "      <td>0.814394</td>\n",
              "      <td>0.863983</td>\n",
              "      <td>0.865311</td>\n",
              "      <td>0.847598</td>\n",
              "      <td>0.784536</td>\n",
              "      <td>0.736050</td>\n",
              "      <td>0.531665</td>\n",
              "      <td>0.597349</td>\n",
              "      <td>0.929722</td>\n",
              "      <td>0.716290</td>\n",
              "      <td>0.773687</td>\n",
              "      <td>0.754447</td>\n",
              "      <td>0.770968</td>\n",
              "    </tr>\n",
              "    <tr>\n",
              "      <th>2010-09-30</th>\n",
              "      <td>0.799167</td>\n",
              "      <td>0.814394</td>\n",
              "      <td>0.863983</td>\n",
              "      <td>0.865311</td>\n",
              "      <td>0.847598</td>\n",
              "      <td>0.784536</td>\n",
              "      <td>0.736050</td>\n",
              "      <td>0.531665</td>\n",
              "      <td>0.597349</td>\n",
              "      <td>0.929722</td>\n",
              "      <td>0.716290</td>\n",
              "      <td>0.773687</td>\n",
              "      <td>0.754447</td>\n",
              "    </tr>\n",
              "    <tr>\n",
              "      <th>2010-10-31</th>\n",
              "      <td>0.802101</td>\n",
              "      <td>0.799167</td>\n",
              "      <td>0.814394</td>\n",
              "      <td>0.863983</td>\n",
              "      <td>0.865311</td>\n",
              "      <td>0.847598</td>\n",
              "      <td>0.784536</td>\n",
              "      <td>0.736050</td>\n",
              "      <td>0.531665</td>\n",
              "      <td>0.597349</td>\n",
              "      <td>0.929722</td>\n",
              "      <td>0.716290</td>\n",
              "      <td>0.773687</td>\n",
              "    </tr>\n",
              "    <tr>\n",
              "      <th>2010-11-30</th>\n",
              "      <td>0.814829</td>\n",
              "      <td>0.802101</td>\n",
              "      <td>0.799167</td>\n",
              "      <td>0.814394</td>\n",
              "      <td>0.863983</td>\n",
              "      <td>0.865311</td>\n",
              "      <td>0.847598</td>\n",
              "      <td>0.784536</td>\n",
              "      <td>0.736050</td>\n",
              "      <td>0.531665</td>\n",
              "      <td>0.597349</td>\n",
              "      <td>0.929722</td>\n",
              "      <td>0.716290</td>\n",
              "    </tr>\n",
              "    <tr>\n",
              "      <th>2010-12-31</th>\n",
              "      <td>1.000000</td>\n",
              "      <td>0.814829</td>\n",
              "      <td>0.802101</td>\n",
              "      <td>0.799167</td>\n",
              "      <td>0.814394</td>\n",
              "      <td>0.863983</td>\n",
              "      <td>0.865311</td>\n",
              "      <td>0.847598</td>\n",
              "      <td>0.784536</td>\n",
              "      <td>0.736050</td>\n",
              "      <td>0.531665</td>\n",
              "      <td>0.597349</td>\n",
              "      <td>0.929722</td>\n",
              "    </tr>\n",
              "  </tbody>\n",
              "</table>\n",
              "<p>240 rows × 13 columns</p>\n",
              "</div>"
            ],
            "text/plain": [
              "               Scaled   shift_1   shift_2  ...  shift_10  shift_11  shift_12\n",
              "Adjustments                                ...                              \n",
              "1991-01-31   0.014020       NaN       NaN  ...       NaN       NaN       NaN\n",
              "1991-02-28   0.000000  0.014020       NaN  ...       NaN       NaN       NaN\n",
              "1991-03-31   0.070426  0.000000  0.014020  ...       NaN       NaN       NaN\n",
              "1991-04-30   0.095318  0.070426  0.000000  ...       NaN       NaN       NaN\n",
              "1991-05-31   0.163628  0.095318  0.070426  ...       NaN       NaN       NaN\n",
              "...               ...       ...       ...  ...       ...       ...       ...\n",
              "2010-08-31   0.814394  0.863983  0.865311  ...  0.773687  0.754447  0.770968\n",
              "2010-09-30   0.799167  0.814394  0.863983  ...  0.716290  0.773687  0.754447\n",
              "2010-10-31   0.802101  0.799167  0.814394  ...  0.929722  0.716290  0.773687\n",
              "2010-11-30   0.814829  0.802101  0.799167  ...  0.597349  0.929722  0.716290\n",
              "2010-12-31   1.000000  0.814829  0.802101  ...  0.531665  0.597349  0.929722\n",
              "\n",
              "[240 rows x 13 columns]"
            ]
          },
          "metadata": {},
          "execution_count": 27
        }
      ]
    },
    {
      "cell_type": "code",
      "metadata": {
        "id": "ZJPJnM0nbPQQ"
      },
      "source": [
        "X_train = train_sc_df.dropna().drop('Scaled', axis=1)\n",
        "y_train = train_sc_df.dropna()[['Scaled']]\n",
        "\n",
        "X_test = test_sc_df.dropna().drop('Scaled', axis=1)\n",
        "y_test = test_sc_df.dropna()[['Scaled']]"
      ],
      "execution_count": 28,
      "outputs": []
    },
    {
      "cell_type": "code",
      "metadata": {
        "colab": {
          "base_uri": "https://localhost:8080/"
        },
        "id": "8n_7qc4pcpi-",
        "outputId": "f5555e66-90f9-45d6-b845-dce77470c25e"
      },
      "source": [
        "X_train.shape"
      ],
      "execution_count": 31,
      "outputs": [
        {
          "output_type": "execute_result",
          "data": {
            "text/plain": [
              "(228, 12)"
            ]
          },
          "metadata": {},
          "execution_count": 31
        }
      ]
    },
    {
      "cell_type": "markdown",
      "metadata": {
        "id": "XsAkZ5uxdD88"
      },
      "source": [
        "Creación de los arreglos de numpy"
      ]
    },
    {
      "cell_type": "code",
      "metadata": {
        "id": "q8Jl87Yxc6LC"
      },
      "source": [
        "X_train = X_train.values\n",
        "X_test= X_test.values\n",
        "\n",
        "y_train = y_train.values\n",
        "y_test = y_test.values"
      ],
      "execution_count": 32,
      "outputs": []
    },
    {
      "cell_type": "markdown",
      "metadata": {
        "id": "c5lhatEYddap"
      },
      "source": [
        "## Fully connected"
      ]
    },
    {
      "cell_type": "code",
      "metadata": {
        "colab": {
          "base_uri": "https://localhost:8080/"
        },
        "id": "rL5NDo66ddHP",
        "outputId": "2a553172-e660-4984-fe41-33db104f8069"
      },
      "source": [
        "K.clear_session()\n",
        "\n",
        "model = Sequential()\n",
        "model.add(Dense(12, input_dim=12, activation='relu'))\n",
        "model.add(Dense(1))\n",
        "model.compile(loss='mean_squared_error', optimizer='adam')\n",
        "model.summary()"
      ],
      "execution_count": 33,
      "outputs": [
        {
          "output_type": "stream",
          "name": "stdout",
          "text": [
            "Model: \"sequential\"\n",
            "_________________________________________________________________\n",
            "Layer (type)                 Output Shape              Param #   \n",
            "=================================================================\n",
            "dense (Dense)                (None, 12)                156       \n",
            "_________________________________________________________________\n",
            "dense_1 (Dense)              (None, 1)                 13        \n",
            "=================================================================\n",
            "Total params: 169\n",
            "Trainable params: 169\n",
            "Non-trainable params: 0\n",
            "_________________________________________________________________\n"
          ]
        }
      ]
    },
    {
      "cell_type": "code",
      "metadata": {
        "colab": {
          "base_uri": "https://localhost:8080/"
        },
        "id": "hpAnxPkSdGb0",
        "outputId": "22daaaf2-9822-4f9d-c4b7-df021c69f239"
      },
      "source": [
        "model.fit(X_train, y_train, epochs=200,\n",
        "          batch_size=1, verbose=1, callbacks=[early_stop])"
      ],
      "execution_count": 34,
      "outputs": [
        {
          "output_type": "stream",
          "name": "stdout",
          "text": [
            "Epoch 1/200\n",
            "228/228 [==============================] - 1s 1ms/step - loss: 0.1146\n",
            "Epoch 2/200\n",
            "228/228 [==============================] - 0s 2ms/step - loss: 0.0132\n",
            "Epoch 3/200\n",
            "228/228 [==============================] - 0s 1ms/step - loss: 0.0098\n",
            "Epoch 4/200\n",
            "228/228 [==============================] - 0s 1ms/step - loss: 0.0076\n",
            "Epoch 5/200\n",
            "228/228 [==============================] - 0s 1ms/step - loss: 0.0064\n",
            "Epoch 6/200\n",
            "228/228 [==============================] - 0s 1ms/step - loss: 0.0057\n",
            "Epoch 7/200\n",
            "228/228 [==============================] - 0s 1ms/step - loss: 0.0054\n",
            "Epoch 8/200\n",
            "228/228 [==============================] - 0s 1ms/step - loss: 0.0047\n",
            "Epoch 9/200\n",
            "228/228 [==============================] - 0s 1ms/step - loss: 0.0037\n",
            "Epoch 10/200\n",
            "228/228 [==============================] - 0s 1ms/step - loss: 0.0035\n",
            "Epoch 11/200\n",
            "228/228 [==============================] - 0s 1ms/step - loss: 0.0033\n",
            "Epoch 12/200\n",
            "228/228 [==============================] - 0s 1ms/step - loss: 0.0025\n",
            "Epoch 13/200\n",
            "228/228 [==============================] - 0s 2ms/step - loss: 0.0023\n",
            "Epoch 14/200\n",
            "228/228 [==============================] - 0s 1ms/step - loss: 0.0024\n",
            "Epoch 00014: early stopping\n"
          ]
        },
        {
          "output_type": "execute_result",
          "data": {
            "text/plain": [
              "<keras.callbacks.History at 0x7fb941c9c650>"
            ]
          },
          "metadata": {},
          "execution_count": 34
        }
      ]
    },
    {
      "cell_type": "code",
      "metadata": {
        "colab": {
          "base_uri": "https://localhost:8080/",
          "height": 283
        },
        "id": "ednKLNB5dj6u",
        "outputId": "fdadb147-776d-4309-b644-78facee2d5a2"
      },
      "source": [
        "y_pred = model.predict(X_test)\n",
        "plt.plot(y_test)\n",
        "plt.plot(y_pred)"
      ],
      "execution_count": 35,
      "outputs": [
        {
          "output_type": "execute_result",
          "data": {
            "text/plain": [
              "[<matplotlib.lines.Line2D at 0x7fb941b3cc50>]"
            ]
          },
          "metadata": {},
          "execution_count": 35
        },
        {
          "output_type": "display_data",
          "data": {
            "image/png": "[encoded data removed]",
            "text/plain": [
              "<Figure size 432x288 with 1 Axes>"
            ]
          },
          "metadata": {
            "needs_background": "light"
          }
        }
      ]
    },
    {
      "cell_type": "markdown",
      "metadata": {
        "id": "GKhE3JEUdqFV"
      },
      "source": [
        "LSTM con ventana"
      ]
    },
    {
      "cell_type": "code",
      "metadata": {
        "id": "ppUwWZYmdnKi"
      },
      "source": [
        "X_train_t = X_train.reshape(X_train.shape[0], 1, 12)\n",
        "X_test_t = X_test.reshape(X_test.shape[0], 1, 12)"
      ],
      "execution_count": 36,
      "outputs": []
    },
    {
      "cell_type": "code",
      "metadata": {
        "colab": {
          "base_uri": "https://localhost:8080/"
        },
        "id": "snzlsXLQdwDe",
        "outputId": "0651c90f-0fca-469b-ea5f-681b27c9bc87"
      },
      "source": [
        "X_train_t.shape"
      ],
      "execution_count": 37,
      "outputs": [
        {
          "output_type": "execute_result",
          "data": {
            "text/plain": [
              "(228, 1, 12)"
            ]
          },
          "metadata": {},
          "execution_count": 37
        }
      ]
    },
    {
      "cell_type": "code",
      "metadata": {
        "id": "z2FW_rkudxFf"
      },
      "source": [
        "K.clear_session()\n",
        "model = Sequential()\n",
        "\n",
        "model.add(LSTM(6, input_shape=(1, 12)))\n",
        "\n",
        "model.add(Dense(1))\n",
        "\n",
        "model.compile(loss='mean_squared_error', optimizer='adam')"
      ],
      "execution_count": 38,
      "outputs": []
    },
    {
      "cell_type": "code",
      "metadata": {
        "colab": {
          "base_uri": "https://localhost:8080/"
        },
        "id": "e6hYpXqudzBv",
        "outputId": "a4e0e771-1a0e-4655-9872-4547736b91f6"
      },
      "source": [
        "model.summary()"
      ],
      "execution_count": 39,
      "outputs": [
        {
          "output_type": "stream",
          "name": "stdout",
          "text": [
            "Model: \"sequential\"\n",
            "_________________________________________________________________\n",
            "Layer (type)                 Output Shape              Param #   \n",
            "=================================================================\n",
            "lstm (LSTM)                  (None, 6)                 456       \n",
            "_________________________________________________________________\n",
            "dense (Dense)                (None, 1)                 7         \n",
            "=================================================================\n",
            "Total params: 463\n",
            "Trainable params: 463\n",
            "Non-trainable params: 0\n",
            "_________________________________________________________________\n"
          ]
        }
      ]
    },
    {
      "cell_type": "code",
      "metadata": {
        "colab": {
          "base_uri": "https://localhost:8080/"
        },
        "id": "xXzbVN2id0M6",
        "outputId": "044a466c-0581-4523-f939-d6cbdc5fd556"
      },
      "source": [
        "model.fit(X_train_t, y_train, epochs=100,\n",
        "          batch_size=1, verbose=1, callbacks=[early_stop])"
      ],
      "execution_count": 40,
      "outputs": [
        {
          "output_type": "stream",
          "name": "stdout",
          "text": [
            "Epoch 1/100\n",
            "228/228 [==============================] - 2s 2ms/step - loss: 0.0318\n",
            "Epoch 2/100\n",
            "228/228 [==============================] - 0s 2ms/step - loss: 0.0061\n",
            "Epoch 3/100\n",
            "228/228 [==============================] - 0s 2ms/step - loss: 0.0049\n",
            "Epoch 4/100\n",
            "228/228 [==============================] - 0s 2ms/step - loss: 0.0046\n",
            "Epoch 5/100\n",
            "228/228 [==============================] - 0s 2ms/step - loss: 0.0040\n",
            "Epoch 6/100\n",
            "228/228 [==============================] - 0s 2ms/step - loss: 0.0037\n",
            "Epoch 7/100\n",
            "228/228 [==============================] - 0s 2ms/step - loss: 0.0036\n",
            "Epoch 8/100\n",
            "228/228 [==============================] - 0s 2ms/step - loss: 0.0032\n",
            "Epoch 9/100\n",
            "228/228 [==============================] - 0s 2ms/step - loss: 0.0030\n",
            "Epoch 10/100\n",
            "228/228 [==============================] - 0s 2ms/step - loss: 0.0026\n",
            "Epoch 11/100\n",
            "228/228 [==============================] - 0s 2ms/step - loss: 0.0024\n",
            "Epoch 12/100\n",
            "228/228 [==============================] - 0s 2ms/step - loss: 0.0023\n",
            "Epoch 13/100\n",
            "228/228 [==============================] - 0s 2ms/step - loss: 0.0023\n",
            "Epoch 00013: early stopping\n"
          ]
        },
        {
          "output_type": "execute_result",
          "data": {
            "text/plain": [
              "<keras.callbacks.History at 0x7fb941a584d0>"
            ]
          },
          "metadata": {},
          "execution_count": 40
        }
      ]
    },
    {
      "cell_type": "code",
      "metadata": {
        "colab": {
          "base_uri": "https://localhost:8080/",
          "height": 283
        },
        "id": "kqDoH15Md4fI",
        "outputId": "8739021b-918e-483d-9c24-a8efb862e201"
      },
      "source": [
        "y_pred = model.predict(X_test_t)\n",
        "plt.plot(y_test)\n",
        "plt.plot(y_pred)"
      ],
      "execution_count": 41,
      "outputs": [
        {
          "output_type": "execute_result",
          "data": {
            "text/plain": [
              "[<matplotlib.lines.Line2D at 0x7fb941bcc250>]"
            ]
          },
          "metadata": {},
          "execution_count": 41
        },
        {
          "output_type": "display_data",
          "data": {
            "image/png": "[encoded data removed]",
            "text/plain": [
              "<Figure size 432x288 with 1 Axes>"
            ]
          },
          "metadata": {
            "needs_background": "light"
          }
        }
      ]
    },
    {
      "cell_type": "code",
      "metadata": {
        "id": "_ZaC9mAPeRHT"
      },
      "source": [
        ""
      ],
      "execution_count": null,
      "outputs": []
    }
  ]
}