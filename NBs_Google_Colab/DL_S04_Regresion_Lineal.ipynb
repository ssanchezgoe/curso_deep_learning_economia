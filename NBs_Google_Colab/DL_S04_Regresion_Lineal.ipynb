{
  "nbformat": 4,
  "nbformat_minor": 0,
  "metadata": {
    "colab": {
      "name": "DL_S04_Regresion_Lineal.ipynb",
      "provenance": [],
      "collapsed_sections": [],
      "authorship_tag": "ABX9TyMM98J1kAcq9lTkTHSICi49",
      "include_colab_link": true
    },
    "kernelspec": {
      "name": "python3",
      "display_name": "Python 3"
    },
    "language_info": {
      "name": "python"
    }
  },
  "cells": [
    {
      "cell_type": "markdown",
      "metadata": {
        "id": "view-in-github",
        "colab_type": "text"
      },
      "source": [
        "<a href=\"https://colab.research.google.com/github/ssanchezgoe/curso_deep_learning_economia/blob/main/NBs_Google_Colab/DL_S04_Regresion_Lineal.ipynb\" target=\"_parent\"><img src=\"https://colab.research.google.com/assets/colab-badge.svg\" alt=\"Open In Colab\"/></a>"
      ]
    },
    {
      "cell_type": "markdown",
      "metadata": {
        "id": "r94g8h-Uj1fC"
      },
      "source": [
        "<p><img alt=\"Colaboratory logo\" height=\"140px\" src=\"https://upload.wikimedia.org/wikipedia/commons/archive/f/fb/20161010213812%21Escudo-UdeA.svg\" align=\"left\" hspace=\"10px\" vspace=\"0px\"></p>\n",
        "\n",
        "<h1> Curso Deep Learning: Economía</h1>\n",
        "\n",
        "## S04: Regresión Lineal"
      ]
    },
    {
      "cell_type": "markdown",
      "metadata": {
        "id": "1uIkI-r9rTy9"
      },
      "source": [
        "## Regresión Lineal\n",
        "\n",
        "El problema de regresión lineal en una dimensión tiene como objetivo ajustar una variable numérica y continua,$y$, a una variable independiente $x$, por medio de un modelo lineal\n",
        "\n",
        "$$y = mx + b$$\n",
        "\n",
        "en donde los parámetros corresponden a:\n",
        "\n",
        "- $m$ pendiente de la recta.\n",
        "- $b$ intercepto con el eje $y$."
      ]
    },
    {
      "cell_type": "code",
      "metadata": {
        "id": "LqlxzP7_gV9W"
      },
      "source": [
        "import numpy as np\n",
        "import matplotlib.pyplot as plt\n",
        "from sklearn import linear_model\n",
        "from sklearn.linear_model import SGDRegressor\n",
        "from sklearn.metrics import mean_squared_error\n",
        "from scipy.stats import pearsonr\n",
        "from numpy.random import randn\n",
        "from numpy.random import seed"
      ],
      "execution_count": 60,
      "outputs": []
    },
    {
      "cell_type": "code",
      "metadata": {
        "colab": {
          "base_uri": "https://localhost:8080/",
          "height": 265
        },
        "id": "tRH2dWagvkl8",
        "outputId": "196a137e-717b-4e51-bc0a-1c6cbf57264a"
      },
      "source": [
        "x=10*np.random.rand(100)\n",
        "e=10*(np.random.rand(100)-0.5)\n",
        "y=3*x+5+e\n",
        "plt.scatter(x,y)\n",
        "plt.plot(np.arange(0,11),3*np.arange(0,11)+5,c='r')\n",
        "plt.show()"
      ],
      "execution_count": 61,
      "outputs": [
        {
          "output_type": "display_data",
          "data": {
            "image/png": "[encoded data removed]",
            "text/plain": [
              "<Figure size 432x288 with 1 Axes>"
            ]
          },
          "metadata": {
            "tags": [],
            "needs_background": "light"
          }
        }
      ]
    },
    {
      "cell_type": "markdown",
      "metadata": {
        "id": "ENlcVgyrgsIU"
      },
      "source": [
        "La correlación entre ambos datos esta dada por:"
      ]
    },
    {
      "cell_type": "code",
      "metadata": {
        "colab": {
          "base_uri": "https://localhost:8080/"
        },
        "id": "ob42spuFgw4T",
        "outputId": "fe571bd7-1484-451a-a703-a20c1a32525c"
      },
      "source": [
        "# Cálculo de la correlación de pearson.\n",
        "corr, _ = pearsonr(x, y)\n",
        "corr"
      ],
      "execution_count": 62,
      "outputs": [
        {
          "output_type": "execute_result",
          "data": {
            "text/plain": [
              "0.9524120822657831"
            ]
          },
          "metadata": {
            "tags": []
          },
          "execution_count": 62
        }
      ]
    },
    {
      "cell_type": "markdown",
      "metadata": {
        "id": "f-jgO21EwMBl"
      },
      "source": [
        "La línea recta sobre los puntos representa la tendencia del ajuste. En la figura se puede observar que esta línea no se ajusta a cada uno de los puntos; en su lugar, marca una tendencia promedio, por lo que se puede obtener un error en el ajuste a través de la distancia promedio de los puntos a la línea de tendencia:"
      ]
    },
    {
      "cell_type": "code",
      "metadata": {
        "colab": {
          "base_uri": "https://localhost:8080/",
          "height": 265
        },
        "id": "03txq2GBwsBJ",
        "outputId": "ddf2fa62-0fdf-46b7-db75-c2b44d6b8910"
      },
      "source": [
        "plt.errorbar(x,y,yerr=np.c_[e,np.zeros_like(e)].T,fmt='none',c='m')\n",
        "plt.scatter(x,y)\n",
        "plt.plot(np.arange(0,11),3*np.arange(0,11)+5,c='r')\n",
        "plt.show()"
      ],
      "execution_count": 63,
      "outputs": [
        {
          "output_type": "display_data",
          "data": {
            "image/png": "[encoded data removed]",
            "text/plain": [
              "<Figure size 432x288 with 1 Axes>"
            ]
          },
          "metadata": {
            "tags": [],
            "needs_background": "light"
          }
        }
      ]
    },
    {
      "cell_type": "markdown",
      "metadata": {
        "id": "JxMwe-BExsLx"
      },
      "source": [
        "### Mínimos Cuadrados: Solución Analítica\n",
        "\n",
        "Al rededor de 1800 Carl Friederich Gauss y Adrien-Marie Legendre encontraron la forma de realizar un ajuste lineal, al minimizar la suma de los errores cuadráticos (MSE):\n",
        "\n",
        "$$\\text{MSE} = \\frac{1}{N}\\sum_{i=1}^N(\\hat{y}_i-y_i)^2$$\n",
        "\n",
        "en donde \n",
        "\n",
        "- $\\hat{y}_i$ corresponde al i-ésimo valor predicho por el modelo.\n",
        "- $y_i$ corresponde al i-ésimo valor del conjunto de datos de la variable objetivo.\n",
        "\n",
        "Se puede mostrar que los valores de la pendiente $m$ y el intercepto $c$ que minimizan la ecuación $y = mx + b$ están dados por\n",
        "\n",
        "$$m=\\frac{\\bar{xy}-\\bar{x}\\bar{y}}{\\bar{x^2}-\\bar{x}^2}$$\n",
        "\n",
        "$$b=\\bar{y}-m\\bar{x}$$\n",
        "\n",
        "en donde las cantidades con una barra corresponden a sus valores promedio.\n",
        "\n",
        "Los valores optimos serán entonces"
      ]
    },
    {
      "cell_type": "code",
      "metadata": {
        "colab": {
          "base_uri": "https://localhost:8080/"
        },
        "id": "HwG7EsFW1qf8",
        "outputId": "998376d4-3d5e-4236-f269-03ccc82d5fc4"
      },
      "source": [
        "N=len(x)\n",
        "m=(np.sum(x*y)-np.sum(x)*np.sum(y)/N)/(np.sum(x*x)-np.sum(x)**2/N)\n",
        "b=(np.sum(y)-m*np.sum(x))/N\n",
        "\n",
        "print('m',m)\n",
        "print('b',b)"
      ],
      "execution_count": 64,
      "outputs": [
        {
          "output_type": "stream",
          "text": [
            "m 3.0737913166825632\n",
            "b 4.74252708886512\n"
          ],
          "name": "stdout"
        }
      ]
    },
    {
      "cell_type": "code",
      "metadata": {
        "colab": {
          "base_uri": "https://localhost:8080/",
          "height": 265
        },
        "id": "xAk6dcoLxoR6",
        "outputId": "f5ae9dbe-25e1-4b1f-8966-1e04c5c7dbb1"
      },
      "source": [
        "plt.scatter(x,y)\n",
        "plt.plot(np.arange(0,10,10/100), m*np.arange(0,10,10/100)+b, c='r')\n",
        "plt.legend([\"Modelo\",\"Datos\"])\n",
        "plt.show()"
      ],
      "execution_count": 65,
      "outputs": [
        {
          "output_type": "display_data",
          "data": {
            "image/png": "[encoded data removed]",
            "text/plain": [
              "<Figure size 432x288 with 1 Axes>"
            ]
          },
          "metadata": {
            "tags": [],
            "needs_background": "light"
          }
        }
      ]
    },
    {
      "cell_type": "code",
      "metadata": {
        "colab": {
          "base_uri": "https://localhost:8080/"
        },
        "id": "A7fOhsO899Fi",
        "outputId": "cd997944-d62e-4536-d058-466a8546f581"
      },
      "source": [
        " print(f\"MSE: {mean_squared_error(y, m*x+b)}\")"
      ],
      "execution_count": 67,
      "outputs": [
        {
          "output_type": "stream",
          "text": [
            "MSE: 7.649746623862825\n"
          ],
          "name": "stdout"
        }
      ]
    },
    {
      "cell_type": "markdown",
      "metadata": {
        "id": "hhItFQ7l2MUZ"
      },
      "source": [
        "El problema multidimensional de un ajuste lineal puede ser escrito como:\n",
        "\n",
        "$$y=a_0+a_1 x_1+a_2 x_2+...+a_m x_m=\\sum_{j=0}^m a_m x_m$$\n",
        "\n",
        "El cual puede ser resuelto analíticamente como:\n",
        "\n",
        "$$\\vec{a}=(a_0,a_1,...,a_m)=(X^T X)^{-1}X^T y$$\n",
        "\n",
        "Para lo que ser requiere de la inversión de la matriz $X^T X$"
      ]
    },
    {
      "cell_type": "code",
      "metadata": {
        "colab": {
          "base_uri": "https://localhost:8080/"
        },
        "id": "c3ouVw343fvA",
        "outputId": "250a7fc5-718b-41ef-92ed-6165bf907484"
      },
      "source": [
        "X=np.c_[np.ones_like(x),x]\n",
        "params = np.matmul(np.linalg.inv(np.matmul(X.T,X)),np.matmul(X.T,y))\n",
        "params"
      ],
      "execution_count": 16,
      "outputs": [
        {
          "output_type": "execute_result",
          "data": {
            "text/plain": [
              "array([4.82894912, 3.07797659])"
            ]
          },
          "metadata": {
            "tags": []
          },
          "execution_count": 16
        }
      ]
    },
    {
      "cell_type": "code",
      "metadata": {
        "colab": {
          "base_uri": "https://localhost:8080/",
          "height": 268
        },
        "id": "ZqVmzG0ozZDM",
        "outputId": "8d90f05d-be0e-4a9d-93bf-f08d74e215cf"
      },
      "source": [
        "plt.scatter(x,y)\n",
        "plt.plot(np.arange(0,10,10/100), params[1]*np.arange(0,10,10/100)+params[0], c='r')\n",
        "plt.legend([\"Modelo\",\"Datos\"])\n",
        "plt.show()"
      ],
      "execution_count": 22,
      "outputs": [
        {
          "output_type": "display_data",
          "data": {
            "image/png": "[encoded data removed]",
            "text/plain": [
              "<Figure size 432x288 with 1 Axes>"
            ]
          },
          "metadata": {
            "tags": [],
            "needs_background": "light"
          }
        }
      ]
    },
    {
      "cell_type": "code",
      "metadata": {
        "colab": {
          "base_uri": "https://localhost:8080/"
        },
        "id": "9e3HhLz0_AOU",
        "outputId": "8590d217-f3e4-469d-da25-b7d6d626871e"
      },
      "source": [
        "print(f\"MSE: {mean_squared_error(y, params[1]*x+params[0])}\")"
      ],
      "execution_count": 68,
      "outputs": [
        {
          "output_type": "stream",
          "text": [
            "MSE: 7.661360632863071\n"
          ],
          "name": "stdout"
        }
      ]
    },
    {
      "cell_type": "markdown",
      "metadata": {
        "id": "TJCbyJVh3ip9"
      },
      "source": [
        "No obstante, si se poseen variabes características, la ecuación normal puede resultar computacionalmente lenta, debido a la inversión matricial que se reaquiere calcular. Para evitar esto, se hace uso de la técnica de descenso del gradiente."
      ]
    },
    {
      "cell_type": "markdown",
      "metadata": {
        "id": "DbwJiXUX2s6r"
      },
      "source": [
        "##  Solución en `sklearn`:\n",
        "\n",
        "La solución estándar en `sklearn` consiste en la siguientes líneas:"
      ]
    },
    {
      "cell_type": "code",
      "metadata": {
        "colab": {
          "base_uri": "https://localhost:8080/"
        },
        "id": "atNh0HdL3M61",
        "outputId": "38656268-284d-4b92-d554-0c53c7a14273"
      },
      "source": [
        "lr = linear_model.LinearRegression()\n",
        "lr.fit(x.reshape(-1,1),y)\n",
        "print(f\"{lr.intercept_, lr.coef_[0]}\")"
      ],
      "execution_count": 24,
      "outputs": [
        {
          "output_type": "stream",
          "text": [
            "(4.828949120212249, 3.077976593354506)\n"
          ],
          "name": "stdout"
        }
      ]
    },
    {
      "cell_type": "code",
      "metadata": {
        "colab": {
          "base_uri": "https://localhost:8080/",
          "height": 268
        },
        "id": "P-UnqK3b1nn0",
        "outputId": "7f1a3648-d591-43c4-806f-fd38faf2bab9"
      },
      "source": [
        "plt.scatter(x,y)\n",
        "plt.plot(np.arange(0,10,10/100), lr.coef_[0]*np.arange(0,10,10/100)+lr.intercept_, c='r')\n",
        "plt.legend([\"Modelo\",\"Datos\"])\n",
        "plt.show()"
      ],
      "execution_count": 25,
      "outputs": [
        {
          "output_type": "display_data",
          "data": {
            "image/png": "[encoded data removed]",
            "text/plain": [
              "<Figure size 432x288 with 1 Axes>"
            ]
          },
          "metadata": {
            "tags": [],
            "needs_background": "light"
          }
        }
      ]
    },
    {
      "cell_type": "code",
      "metadata": {
        "colab": {
          "base_uri": "https://localhost:8080/"
        },
        "id": "IaIKxqVH_kZq",
        "outputId": "19ee0fe2-6b4b-418c-b007-4430cddb9200"
      },
      "source": [
        "print(f\"MSE: {mean_squared_error(y, lr.coef_[0]*x+lr.intercept_)}\")"
      ],
      "execution_count": 69,
      "outputs": [
        {
          "output_type": "stream",
          "text": [
            "MSE: 7.661360632863069\n"
          ],
          "name": "stdout"
        }
      ]
    },
    {
      "cell_type": "markdown",
      "metadata": {
        "id": "LqT4lnO9Jqen"
      },
      "source": [
        "Si usamos decenso de gradiente, usamos el objeto de `sklearn` `SGDRegresor`:"
      ]
    },
    {
      "cell_type": "code",
      "metadata": {
        "colab": {
          "base_uri": "https://localhost:8080/"
        },
        "id": "4hsUibl2FM-K",
        "outputId": "db4b0d93-c5e7-4c4e-8c4b-ecfdaf1bd321"
      },
      "source": [
        "model = SGDRegressor(max_iter=1000, tol=0.001, eta0=0.1)\n",
        "model.fit(x.reshape(-1,1),y)\n",
        "print(f\"{model.intercept_, model.coef_[0]}\")"
      ],
      "execution_count": 70,
      "outputs": [
        {
          "output_type": "stream",
          "text": [
            "(array([4.80877117]), 3.5960426216356947)\n"
          ],
          "name": "stdout"
        }
      ]
    },
    {
      "cell_type": "code",
      "metadata": {
        "colab": {
          "base_uri": "https://localhost:8080/",
          "height": 268
        },
        "id": "7MoZzYmT3EZx",
        "outputId": "fbe0006c-17b2-4b6c-a788-f351a792b350"
      },
      "source": [
        "plt.scatter(x,y)\n",
        "plt.plot(np.arange(0,10,10/100), model.coef_[0]*np.arange(0,10,10/100)+model.intercept_, c='r')\n",
        "plt.legend([\"Modelo\",\"Datos\"])\n",
        "plt.show()"
      ],
      "execution_count": 41,
      "outputs": [
        {
          "output_type": "display_data",
          "data": {
            "image/png": "[encoded data removed]",
            "text/plain": [
              "<Figure size 432x288 with 1 Axes>"
            ]
          },
          "metadata": {
            "tags": [],
            "needs_background": "light"
          }
        }
      ]
    },
    {
      "cell_type": "code",
      "metadata": {
        "colab": {
          "base_uri": "https://localhost:8080/"
        },
        "id": "WVsi6Nsb_6Z_",
        "outputId": "ea05fd95-f60d-4701-dd0c-eddb8cb93c5b"
      },
      "source": [
        "print(f\"MSE: {mean_squared_error(y, model.coef_[0]*x+model.intercept_)}\")"
      ],
      "execution_count": 71,
      "outputs": [
        {
          "output_type": "stream",
          "text": [
            "MSE: 16.82552368120105\n"
          ],
          "name": "stdout"
        }
      ]
    },
    {
      "cell_type": "markdown",
      "metadata": {
        "id": "gFmphkc08s5w"
      },
      "source": [
        "## Solución en `keras`:\n",
        "\n",
        "En `keras`, para implementar una regresión lineal, se programa una sola capa sin función de activación:"
      ]
    },
    {
      "cell_type": "code",
      "metadata": {
        "id": "wG4zhTWd4uu0"
      },
      "source": [
        "from tensorflow import keras"
      ],
      "execution_count": 74,
      "outputs": []
    },
    {
      "cell_type": "code",
      "metadata": {
        "colab": {
          "base_uri": "https://localhost:8080/"
        },
        "id": "E-s_W1MG6Sun",
        "outputId": "98f21d21-1d3b-4746-957d-532e599ffc97"
      },
      "source": [
        "keras.backend.clear_session()\n",
        "model = keras.Sequential()\n",
        "model.add(keras.layers.Dense(1, input_shape=(1,)))\n",
        "model.summary()"
      ],
      "execution_count": 75,
      "outputs": [
        {
          "output_type": "stream",
          "text": [
            "Model: \"sequential\"\n",
            "_________________________________________________________________\n",
            "Layer (type)                 Output Shape              Param #   \n",
            "=================================================================\n",
            "dense (Dense)                (None, 1)                 2         \n",
            "=================================================================\n",
            "Total params: 2\n",
            "Trainable params: 2\n",
            "Non-trainable params: 0\n",
            "_________________________________________________________________\n"
          ],
          "name": "stdout"
        }
      ]
    },
    {
      "cell_type": "code",
      "metadata": {
        "id": "9DeVUUAk6c-1"
      },
      "source": [
        "model.compile(keras.optimizers.Adam(learning_rate=0.9), 'mean_squared_error')"
      ],
      "execution_count": 76,
      "outputs": []
    },
    {
      "cell_type": "code",
      "metadata": {
        "colab": {
          "base_uri": "https://localhost:8080/"
        },
        "id": "seL-lZ5r7bUC",
        "outputId": "d04c2c60-975d-4be7-96f9-c0a721843649"
      },
      "source": [
        "model.fit(x,y,epochs=30)"
      ],
      "execution_count": 77,
      "outputs": [
        {
          "output_type": "stream",
          "text": [
            "Epoch 1/30\n",
            "4/4 [==============================] - 0s 3ms/step - loss: 456.2131\n",
            "Epoch 2/30\n",
            "4/4 [==============================] - 0s 3ms/step - loss: 18.5806\n",
            "Epoch 3/30\n",
            "4/4 [==============================] - 0s 3ms/step - loss: 125.9257\n",
            "Epoch 4/30\n",
            "4/4 [==============================] - 0s 2ms/step - loss: 65.7350\n",
            "Epoch 5/30\n",
            "4/4 [==============================] - 0s 2ms/step - loss: 11.3638\n",
            "Epoch 6/30\n",
            "4/4 [==============================] - 0s 4ms/step - loss: 48.3632\n",
            "Epoch 7/30\n",
            "4/4 [==============================] - 0s 3ms/step - loss: 36.2739\n",
            "Epoch 8/30\n",
            "4/4 [==============================] - 0s 3ms/step - loss: 8.5948\n",
            "Epoch 9/30\n",
            "4/4 [==============================] - 0s 4ms/step - loss: 16.5298\n",
            "Epoch 10/30\n",
            "4/4 [==============================] - 0s 3ms/step - loss: 16.9188\n",
            "Epoch 11/30\n",
            "4/4 [==============================] - 0s 3ms/step - loss: 8.5103\n",
            "Epoch 12/30\n",
            "4/4 [==============================] - 0s 2ms/step - loss: 12.2922\n",
            "Epoch 13/30\n",
            "4/4 [==============================] - 0s 2ms/step - loss: 10.8210\n",
            "Epoch 14/30\n",
            "4/4 [==============================] - 0s 2ms/step - loss: 8.1180\n",
            "Epoch 15/30\n",
            "4/4 [==============================] - 0s 3ms/step - loss: 8.4398\n",
            "Epoch 16/30\n",
            "4/4 [==============================] - 0s 2ms/step - loss: 7.7880\n",
            "Epoch 17/30\n",
            "4/4 [==============================] - 0s 3ms/step - loss: 7.8274\n",
            "Epoch 18/30\n",
            "4/4 [==============================] - 0s 3ms/step - loss: 8.0527\n",
            "Epoch 19/30\n",
            "4/4 [==============================] - 0s 3ms/step - loss: 7.7611\n",
            "Epoch 20/30\n",
            "4/4 [==============================] - 0s 5ms/step - loss: 7.7714\n",
            "Epoch 21/30\n",
            "4/4 [==============================] - 0s 2ms/step - loss: 7.8013\n",
            "Epoch 22/30\n",
            "4/4 [==============================] - 0s 3ms/step - loss: 7.7191\n",
            "Epoch 23/30\n",
            "4/4 [==============================] - 0s 3ms/step - loss: 7.6969\n",
            "Epoch 24/30\n",
            "4/4 [==============================] - 0s 4ms/step - loss: 7.7334\n",
            "Epoch 25/30\n",
            "4/4 [==============================] - 0s 4ms/step - loss: 8.0672\n",
            "Epoch 26/30\n",
            "4/4 [==============================] - 0s 4ms/step - loss: 7.7805\n",
            "Epoch 27/30\n",
            "4/4 [==============================] - 0s 3ms/step - loss: 9.1917\n",
            "Epoch 28/30\n",
            "4/4 [==============================] - 0s 4ms/step - loss: 7.9443\n",
            "Epoch 29/30\n",
            "4/4 [==============================] - 0s 4ms/step - loss: 8.3586\n",
            "Epoch 30/30\n",
            "4/4 [==============================] - 0s 2ms/step - loss: 8.0211\n"
          ],
          "name": "stdout"
        },
        {
          "output_type": "execute_result",
          "data": {
            "text/plain": [
              "<tensorflow.python.keras.callbacks.History at 0x7f5811cdf410>"
            ]
          },
          "metadata": {
            "tags": []
          },
          "execution_count": 77
        }
      ]
    },
    {
      "cell_type": "code",
      "metadata": {
        "colab": {
          "base_uri": "https://localhost:8080/"
        },
        "id": "jJj6cBbp7tVJ",
        "outputId": "be8777b5-1d28-4b34-c693-3fde18623042"
      },
      "source": [
        "m,b = model.get_weights()\n",
        "print(f\"{b[0],m[0][0]}\")"
      ],
      "execution_count": 78,
      "outputs": [
        {
          "output_type": "stream",
          "text": [
            "(4.70833, 3.1171348)\n"
          ],
          "name": "stdout"
        }
      ]
    },
    {
      "cell_type": "code",
      "metadata": {
        "colab": {
          "base_uri": "https://localhost:8080/",
          "height": 265
        },
        "id": "AwSnRFAa3elS",
        "outputId": "364c5d0c-813b-4c7e-b3b3-212bbdbcc0a8"
      },
      "source": [
        "plt.scatter(x,y)\n",
        "plt.plot(np.arange(0,10,10/100), m[0][0]*np.arange(0,10,10/100)+b[0], c='r')\n",
        "plt.legend([\"Modelo\",\"Datos\"])\n",
        "plt.show()"
      ],
      "execution_count": 79,
      "outputs": [
        {
          "output_type": "display_data",
          "data": {
            "image/png": "[encoded data removed]",
            "text/plain": [
              "<Figure size 432x288 with 1 Axes>"
            ]
          },
          "metadata": {
            "tags": [],
            "needs_background": "light"
          }
        }
      ]
    },
    {
      "cell_type": "code",
      "metadata": {
        "colab": {
          "base_uri": "https://localhost:8080/"
        },
        "id": "gz3jUFS4AE9w",
        "outputId": "280d565b-131e-437d-db32-85acc1076d0d"
      },
      "source": [
        "print(f\"MSE: {mean_squared_error(y, m[0][0]*x+b[0])}\")"
      ],
      "execution_count": 80,
      "outputs": [
        {
          "output_type": "stream",
          "text": [
            "MSE: 7.697067364100239\n"
          ],
          "name": "stdout"
        }
      ]
    },
    {
      "cell_type": "markdown",
      "metadata": {
        "id": "SJsVv7vl3tLS"
      },
      "source": [
        "## Ejercicios\n",
        "\n",
        "Para el siguiente conjunto de puntos"
      ]
    },
    {
      "cell_type": "code",
      "metadata": {
        "colab": {
          "base_uri": "https://localhost:8080/",
          "height": 279
        },
        "cellView": "form",
        "id": "A0R4mdnf4Elb",
        "outputId": "63e98498-a367-44f0-e124-362225f5ec85"
      },
      "source": [
        "#@title Conjunto de datos xE, yE\n",
        "from sklearn.datasets import make_regression\n",
        "\n",
        "xE,yE = make_regression(n_samples=200, n_features=1, noise=3)\n",
        "plt.scatter(xE,yE)\n",
        "plt.xlabel(\"xE\")\n",
        "plt.ylabel(\"yE\")\n",
        "plt.show()"
      ],
      "execution_count": 59,
      "outputs": [
        {
          "output_type": "display_data",
          "data": {
            "image/png": "[encoded data removed]",
            "text/plain": [
              "<Figure size 432x288 with 1 Axes>"
            ]
          },
          "metadata": {
            "tags": [],
            "needs_background": "light"
          }
        }
      ]
    },
    {
      "cell_type": "markdown",
      "metadata": {
        "id": "rUoBDRUI5LY8"
      },
      "source": [
        "realice los ejercicios enumerados a continuación."
      ]
    },
    {
      "cell_type": "markdown",
      "metadata": {
        "id": "2JMKB-FD57Pj"
      },
      "source": [
        "### Ejercicio 1:\n",
        "\n",
        "Para este ejercicio: \n",
        "1. Realice un ajuste lineal, implementando una función para el método de mínimos cuadrados\n",
        "2. Desarrolle una función que grafique el conjunto de datos y el modelo. \n",
        "3. Calcule el valor del error cuadrático medio."
      ]
    },
    {
      "cell_type": "markdown",
      "metadata": {
        "id": "dcmijtUw7GPC"
      },
      "source": [
        "### Ejercicio 2:\n",
        "\n",
        "Para este ejercicio:\n",
        "1. Realice un ajuste lineal siguiendo el método estándard de `skelearn`. \n",
        "2. Haga uso de la función implementada en el ejercicio 1 para visualizar los datos y el modelo.\n",
        "3. Calcule el valor del error cuadrático medio."
      ]
    },
    {
      "cell_type": "markdown",
      "metadata": {
        "id": "fl3OjnAC7d1V"
      },
      "source": [
        "### Ejercicio 3:\n",
        "\n",
        "Para este ejercicio:\n",
        "1. Realice un ajuste lineal siguiendo el método de descenso de gradiente estocástico implementado en `sklearn`, usando varios modelos en donde evalue varios valores de los parámetros vistos:\n",
        "\n",
        "  - `max_iter`\n",
        "  - `tol`\n",
        "  - `eta0`\n",
        "\n",
        "2. Visualice los datos junto al modelo, en cada conjunto de parámetros analizado.\n",
        "3. Calcule el valor del error cuadrático medio."
      ]
    },
    {
      "cell_type": "markdown",
      "metadata": {
        "id": "CKOdyyQY8mNc"
      },
      "source": [
        "### Ejercicio 4:\n",
        "\n",
        "Para este ejercicio:\n",
        "1. Realice un ajuste lineal implementando el método de `keras`. \n",
        "2. Visualice el modelo junto a los datos.\n",
        "3. Calcule el valor del error cuadrático medio."
      ]
    }
  ]
}