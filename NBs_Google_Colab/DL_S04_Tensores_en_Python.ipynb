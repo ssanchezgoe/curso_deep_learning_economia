{
  "nbformat": 4,
  "nbformat_minor": 0,
  "metadata": {
    "colab": {
      "name": "DL_S04_Tensores_en_Python.ipynb",
      "provenance": [],
      "collapsed_sections": [],
      "authorship_tag": "ABX9TyNHC8/CiYj0XfappndPxHYg",
      "include_colab_link": true
    },
    "kernelspec": {
      "name": "python3",
      "display_name": "Python 3"
    },
    "language_info": {
      "name": "python"
    }
  },
  "cells": [
    {
      "cell_type": "markdown",
      "metadata": {
        "id": "view-in-github",
        "colab_type": "text"
      },
      "source": [
        "<a href=\"https://colab.research.google.com/github/ssanchezgoe/curso_deep_learning_economia/blob/main/NBs_Google_Colab/DL_S04_Tensores_en_Python.ipynb\" target=\"_parent\"><img src=\"https://colab.research.google.com/assets/colab-badge.svg\" alt=\"Open In Colab\"/></a>"
      ]
    },
    {
      "cell_type": "markdown",
      "metadata": {
        "id": "r94g8h-Uj1fC"
      },
      "source": [
        "<p><img alt=\"Colaboratory logo\" height=\"140px\" src=\"https://upload.wikimedia.org/wikipedia/commons/archive/f/fb/20161010213812%21Escudo-UdeA.svg\" align=\"left\" hspace=\"10px\" vspace=\"0px\"></p>\n",
        "\n",
        "<h1> Curso Deep Learning: Economía</h1>\n",
        "\n",
        "## S04: Tensores en Deep Learning\n"
      ]
    },
    {
      "cell_type": "code",
      "metadata": {
        "cellView": "form",
        "id": "qtbcimUtVF5I"
      },
      "source": [
        "#@title Funciones del Notebook\n",
        "def tensor_info(x):\n",
        "  print(f\"Rango u orden del tensor: {x.ndim}\")\n",
        "  print(f\"Forma del tensor: {x.shape}\")\n",
        "  print(f\"Tipo de datos: {x.dtype}\")\n",
        "  print(f\"Tamaño del tensor en bytes: {x.nbytes}\")\n",
        "  return None"
      ],
      "execution_count": null,
      "outputs": []
    },
    {
      "cell_type": "markdown",
      "metadata": {
        "id": "9s7P2aLmTeKo"
      },
      "source": [
        "#Repaso de Tensores:\n",
        "\n",
        "Aunque no se haya visto una definición formal de tensores, seguro que se ha trabajado con ellos haciendo referecia a ellos como *arrays* o *arreglos*."
      ]
    },
    {
      "cell_type": "markdown",
      "metadata": {
        "id": "vOK_YBu5EIgX"
      },
      "source": [
        "## Representaciones de datos en NN:\n",
        "\n",
        "Si partimos de datos almacenados en *arreglos* multidimensionales de `numpy`, estos se conocen con el nombre de *tensores*. En general, todos los algoritmos de ML usan tensores como estructura base de los datos. \n",
        "\n",
        "Un tensor es un contenedor de datos, generalmente numéricos. Por ejemplo, estamos familiarizados con las matrices, que son tensores 2D: los tensores son una generalización número arbitrario de dimensiones (a una dimensión a menudo se denomina eje). "
      ]
    },
    {
      "cell_type": "markdown",
      "metadata": {
        "id": "INRNs5fGYeUX"
      },
      "source": [
        "## Escalares (Tensores 0D)\n",
        "\n",
        "Un tensor que contiene un solo número se le llama escalar, tensor escalar, tensor 0-dimensional ó 0D tensor. En `numpy` se tiene:\n",
        "\n",
        "- float32 o float64.\n",
        "- int 32 o int 64.\n",
        "\n",
        "Recordemos"
      ]
    },
    {
      "cell_type": "code",
      "metadata": {
        "id": "i5_4p9KKYas8"
      },
      "source": [
        "# Array \n",
        "import numpy as np\n",
        "\n",
        "x0 = np.array(3)\n",
        "\n",
        "tensor_info(x0)"
      ],
      "execution_count": null,
      "outputs": []
    },
    {
      "cell_type": "markdown",
      "metadata": {
        "id": "ggx_9v6VZrIR"
      },
      "source": [
        "# Vectores (Tensores 1D)\n",
        "\n",
        "A un array de números organizados en una secuencia de filas o columnas se le llama *vector* o *tensor 1D*. Decimos que un tensor 1D tiene 1 eje. \n",
        "\n",
        "En `numpy` se define como:"
      ]
    },
    {
      "cell_type": "code",
      "metadata": {
        "id": "tH3QK1s_aBl6"
      },
      "source": [
        "x1 = np.array([12, 3, 6, 14])\n",
        "tensor_info(x1)"
      ],
      "execution_count": null,
      "outputs": []
    },
    {
      "cell_type": "markdown",
      "metadata": {
        "id": "zdqhaDB1aIyO"
      },
      "source": [
        "El anterior vector tiene 5 entradas, por lo tanto es llamado *vector 5-dimensional*. La *dimensionalidad* puede denotar, tanto el numero de entradas a lo larco de un eje específico, o el número de ejes en un tensor. "
      ]
    },
    {
      "cell_type": "markdown",
      "metadata": {
        "id": "u35oVnz-bPay"
      },
      "source": [
        "## Matrices (Tensores 2D)\n",
        "\n",
        "Un arreglo de vectores es una matriz o tensor 2D. Una matriz tiene dos ejes, a los cuales nos referimos como filas y columnas. Una matriz representa, visualmente, una malla rectangular de números.\n",
        "\n",
        "En `numpy` se define como:"
      ]
    },
    {
      "cell_type": "code",
      "metadata": {
        "id": "PcbO9GFCbxJ7"
      },
      "source": [
        "x2 = np.array([[22, 70, 12, 4, 0],\n",
        "[61, 9, 33, 36, 11],\n",
        "[5, 7, 99, 46, 12]])\n",
        "\n",
        "tensor_info(x2)"
      ],
      "execution_count": null,
      "outputs": []
    },
    {
      "cell_type": "markdown",
      "metadata": {
        "id": "5NbBjUqxbydT"
      },
      "source": [
        "Al primer eje se le llaman *filas* y las entradas del segundo eje *columnas*. "
      ]
    },
    {
      "cell_type": "markdown",
      "metadata": {
        "id": "eNFNQx4LcHfa"
      },
      "source": [
        "## Tensores 3D y tensores de dimensión mayor:\n",
        "\n",
        "Si se agrupan *matrices de dimensiones iguales* hablamos de un *tensor 3D*, que puede interpretarse, visualmente como un cubo de rubic, donde a cada celda se le asigna un valor. \n",
        "\n",
        "En `numpy` se define como:"
      ]
    },
    {
      "cell_type": "code",
      "metadata": {
        "id": "LmSFrOFTcqMT"
      },
      "source": [
        "x3 = np.array([[[54, 8, 21, 4, 2],\n",
        "[61, 92, 53, 5, 3],\n",
        "[51, 70, 44, 55, 9]],\n",
        "[[6, 78, 2, 34, 0],\n",
        "[1, 79, 3, 35, 1],\n",
        "[8, 80, 4, 36, 2]],\n",
        "[[7, 74, 2, 34, 0],\n",
        "[5, 73, 3, 35, 1],\n",
        "[10, 81, 4, 36, 2]]])\n",
        "\n",
        "tensor_info(x3)"
      ],
      "execution_count": null,
      "outputs": []
    },
    {
      "cell_type": "markdown",
      "metadata": {
        "id": "3Lr_WRNKc2R0"
      },
      "source": [
        "Al agrupar tensores 3D en un arreglo, podemos crear tensores 4D, y así sucesivamente. En **deep learning** se trabajará con tensores de rango 0 a 5, y en caso como el procesamiento de videos, puede llegarse a tensores de rango 5."
      ]
    },
    {
      "cell_type": "markdown",
      "metadata": {
        "id": "iVma5hgrdaH_"
      },
      "source": [
        "### Atributos claves:\n",
        " Un tensor se encuentra determinado por tres atributos:\n",
        "\n",
        " * *Numero de ejes*: (rango): `ndim`.\n",
        " * *Forma*: que en python es una tupla de enteros que describe cuantas dimensiones tienen el tensor a lo largo de cada eje.  A este atributo se accede mediante `shape`.\n",
        " * *Data type*: Corresponde a los tipos de datos que contiene el tensor y se accede a mediante el atributo `dtype`."
      ]
    },
    {
      "cell_type": "code",
      "metadata": {
        "id": "aXYbKDhugLos"
      },
      "source": [
        "print(\"Dimensión:\", x3.ndim)\n",
        "print(\"Forma\", x3.shape)\n",
        "print(\"Tipo de datos: \", x3.dtype)"
      ],
      "execution_count": null,
      "outputs": []
    },
    {
      "cell_type": "markdown",
      "metadata": {
        "id": "Fg1mMdqFhKA1"
      },
      "source": [
        "Veamos un ejemplo concreto de una base de datos MNIST de `keras`:"
      ]
    },
    {
      "cell_type": "code",
      "metadata": {
        "id": "mnTUqSzYhVyf"
      },
      "source": [
        "from keras.datasets import mnist\n",
        "(train_images, train_labels), (test_images, test_labels) = mnist.load_data()"
      ],
      "execution_count": null,
      "outputs": []
    },
    {
      "cell_type": "code",
      "metadata": {
        "id": "MPwFNerwhbam"
      },
      "source": [
        "print(train_images.ndim)"
      ],
      "execution_count": null,
      "outputs": []
    },
    {
      "cell_type": "code",
      "metadata": {
        "id": "57t7NVe0hfpt"
      },
      "source": [
        "print(train_images.shape)"
      ],
      "execution_count": null,
      "outputs": []
    },
    {
      "cell_type": "code",
      "metadata": {
        "id": "KCXnc8xjhjXY"
      },
      "source": [
        "print(train_images.dtype)"
      ],
      "execution_count": null,
      "outputs": []
    },
    {
      "cell_type": "markdown",
      "metadata": {
        "id": "Tj8dy8h0hmaI"
      },
      "source": [
        "A continuación se resume la característica del dataset:\n",
        "\n",
        "* Tensor 3D\n",
        "* Tipos de datos: enteros de 8-bits.  "
      ]
    },
    {
      "cell_type": "markdown",
      "metadata": {
        "id": "LIQscMwDiHnQ"
      },
      "source": [
        "Visualicemos una imágen:"
      ]
    },
    {
      "cell_type": "code",
      "metadata": {
        "id": "D0Yca-i-iGxa"
      },
      "source": [
        "digit = train_images[9]\n",
        "import matplotlib.pyplot as plt\n",
        "plt.imshow(digit, cmap=plt.cm.binary)\n",
        "plt.show()"
      ],
      "execution_count": null,
      "outputs": []
    },
    {
      "cell_type": "markdown",
      "metadata": {
        "id": "_rqX_EVz9xyg"
      },
      "source": [
        "##Manipulación de tensores en Numpy:\n",
        "\n",
        "En el ejeumplo anterior se selecionó un digito específico a junto al primer eje usando la sintaxis train_images [i]. La selección de elementos específicos en un tensor se denomina corte de \"tensor slicing\". Veamos las operaciones de \"tensor slicing\" que puede hacerse con los arreglos de `numpy`.\n",
        "\n",
        "Para selecionar los digitos de 10 a 100 (si incluir el 100) hacemos:\n"
      ]
    },
    {
      "cell_type": "code",
      "metadata": {
        "id": "VYnMcF10t-A_"
      },
      "source": [
        "my_slice = train_images[10:100]\n",
        "print(my_slice.shape)"
      ],
      "execution_count": null,
      "outputs": []
    },
    {
      "cell_type": "markdown",
      "metadata": {
        "id": "DOAHtmSTj9dF"
      },
      "source": [
        "La anterior operación es equivalente a la selección de todas las dimensiones de los ejes mediante : "
      ]
    },
    {
      "cell_type": "code",
      "metadata": {
        "id": "OtaawkhTj8rN"
      },
      "source": [
        "my_slice = train_images[10:100, :, :]\n",
        "my_slice.shape"
      ],
      "execution_count": null,
      "outputs": []
    },
    {
      "cell_type": "markdown",
      "metadata": {
        "id": "95tIZ2ogk0jz"
      },
      "source": [
        "Y lo anterior es equivalenta a"
      ]
    },
    {
      "cell_type": "code",
      "metadata": {
        "id": "hGN5QWHO-8da"
      },
      "source": [
        "my_slice = train_images[10:100, 0:28, 0:28]\n",
        "my_slice.shape"
      ],
      "execution_count": null,
      "outputs": []
    },
    {
      "cell_type": "markdown",
      "metadata": {
        "id": "CygbcMkslExN"
      },
      "source": [
        "De forma general, podemos seleccionar entre dos índices cualquiera a lo largo de un eje del tensor."
      ]
    },
    {
      "cell_type": "markdown",
      "metadata": {
        "id": "NPO4933FVstH"
      },
      "source": [
        "## Problema:\n",
        "\n",
        "Dentro del conjunto de datos, seleccióne la esquina inferior que contenga $14\\times14$ píxeles en cada una de las imágenes y visualice una de ellas. "
      ]
    },
    {
      "cell_type": "markdown",
      "metadata": {
        "id": "udTRsst1WEa8"
      },
      "source": [
        "Haga click **aquí** si tiene problemas con la solución.\n",
        "\n",
        "<!----:\n",
        "# solución:\n",
        "my_slice_corner = train_images[:, 14:, 14:]\n",
        "\n",
        "digit = my_slice_corner[3]\n",
        "import matplotlib.pyplot as plt\n",
        "plt.imshow(digit, cmap=plt.cm.binary)\n",
        "plt.show()\n",
        "\n",
        "----->"
      ]
    },
    {
      "cell_type": "markdown",
      "metadata": {
        "id": "yJEuaDubnwYC"
      },
      "source": [
        "Recordemos que también es posible usar índices negativos. Los índices negativos indican una posición relativa al final del eje en cuestión. Recorte, por ejemplo, las imagenes anteriores para que queden centradas en matríces de 14x14."
      ]
    },
    {
      "cell_type": "markdown",
      "metadata": {
        "id": "sJ0THWkIW3mU"
      },
      "source": [
        "Haga click **aquí** si tiene problemas con la solución:\n",
        "\n",
        "<!-----\n",
        "my_crop_slices_centered = train_images[:, 7:-7, 7:-7]\n",
        "\n",
        "digit = my_crop_slices_centered[0]\n",
        "import matplotlib.pyplot as plt\n",
        "plt.imshow(digit, cmap=plt.cm.binary)\n",
        "plt.show()\n",
        "----->"
      ]
    },
    {
      "cell_type": "markdown",
      "metadata": {
        "id": "jUwNhpzGqokI"
      },
      "source": [
        "## Noción de batches\n",
        "\n",
        "En general, el primer eje (eje 0, ya que la indexación comienza en 0) de todos los  tensores de datos que encuentre en DLserá el eje de muestras (a veces denominado dimensión de muestras). En el ejemplo MNIST, las muestras son imágenes de dígitos.\n",
        "\n",
        "Además, los modelos de DL no procesan un conjunto de datos completo a la vez; en su lugar, dividen los datos en pequeños lotes. Por ejemplo:"
      ]
    },
    {
      "cell_type": "code",
      "metadata": {
        "id": "BuguJS75o1dZ"
      },
      "source": [
        "batch1 = train_images[:128]\n",
        "batch2 = train_images[128:256]"
      ],
      "execution_count": null,
      "outputs": []
    },
    {
      "cell_type": "markdown",
      "metadata": {
        "id": "NMBoiNwEruDa"
      },
      "source": [
        "El n-ésimo batch sería:\n",
        "\n",
        "$$\\text{batch} = \\text{train_images}[128 * n:128 * (n + 1)]$$"
      ]
    },
    {
      "cell_type": "markdown",
      "metadata": {
        "id": "K5YeeKTsslcr"
      },
      "source": [
        "Cuando considere un tensor batch, el primer eje (eje 0) es conocido como la dimensión del batch. Este término es comun mente usado en Keras y otras librerías de DL."
      ]
    },
    {
      "cell_type": "markdown",
      "metadata": {
        "id": "c4JDA6TSXYr-"
      },
      "source": [
        "## Ejemplo reales de tensores:\n",
        "\n",
        "* *Vector de datos:* Tensor 2D de forma `(samples,features)`.\n",
        "\n",
        "* *Datos de series de tiempos o secuencias:* Tensor 3D de forma `(samples, timesteps, features)`.\n",
        "\n",
        "* *Imágenes:* Tensores 4D de forma `(samples,height,width,channels)` o `(samples,channels,height,width)`.\n",
        "\n",
        "* *Videos:* Tensores 5D de forma `(samples,frames, height,width,channels)` o `(samples, height,frames,channels,height,width)`. "
      ]
    }
  ]
}