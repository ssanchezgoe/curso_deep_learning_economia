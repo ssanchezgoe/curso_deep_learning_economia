{
  "nbformat": 4,
  "nbformat_minor": 0,
  "metadata": {
    "colab": {
      "name": "DL_S04_Tensores_en_Python.ipynb",
      "provenance": [],
      "collapsed_sections": [],
      "authorship_tag": "ABX9TyNoKnLKbgQ6vy1skiizIt5t",
      "include_colab_link": true
    },
    "kernelspec": {
      "name": "python3",
      "display_name": "Python 3"
    },
    "language_info": {
      "name": "python"
    }
  },
  "cells": [
    {
      "cell_type": "markdown",
      "metadata": {
        "id": "view-in-github",
        "colab_type": "text"
      },
      "source": [
        "<a href=\"https://colab.research.google.com/github/ssanchezgoe/curso_deep_learning_economia/blob/main/NBs_Google_Colab/DL_S04_Tensores_en_Python.ipynb\" target=\"_parent\"><img src=\"https://colab.research.google.com/assets/colab-badge.svg\" alt=\"Open In Colab\"/></a>"
      ]
    },
    {
      "cell_type": "markdown",
      "metadata": {
        "id": "r94g8h-Uj1fC"
      },
      "source": [
        "<p><img alt=\"Colaboratory logo\" height=\"140px\" src=\"https://upload.wikimedia.org/wikipedia/commons/archive/f/fb/20161010213812%21Escudo-UdeA.svg\" align=\"left\" hspace=\"10px\" vspace=\"0px\"></p>\n",
        "\n",
        "<h1> Curso Deep Learning: Economía</h1>\n",
        "\n",
        "## S04: Tensores en Deep Learning\n"
      ]
    },
    {
      "cell_type": "code",
      "metadata": {
        "cellView": "form",
        "id": "qtbcimUtVF5I"
      },
      "source": [
        "#@title Funciones del Notebook\n",
        "def tensor_info(x):\n",
        "  print(f\"Rango u orden del tensor: {x.ndim}\")\n",
        "  print(f\"Forma del tensor: {x.shape}\")\n",
        "  print(f\"Tipo de datos: {x.dtype}\")\n",
        "  print(f\"Tamaño del tensor en bytes: {x.nbytes}\")\n",
        "  return None"
      ],
      "execution_count": null,
      "outputs": []
    },
    {
      "cell_type": "markdown",
      "metadata": {
        "id": "9s7P2aLmTeKo"
      },
      "source": [
        "#Tensores:\n",
        "\n",
        "Aunque no se haya visto una definición formal de tensores, seguro que se ha trabajado con ellos haciendo referecia a ellos como *arrays* o *arreglos*.\n",
        "\n",
        "En general, un tensor es una forma multilineal, que generaliza los escalares, vectores matrices."
      ]
    },
    {
      "cell_type": "markdown",
      "metadata": {
        "id": "vOK_YBu5EIgX"
      },
      "source": [
        "## Representaciones de datos en Redes Neuronales:\n",
        "\n",
        "Si partimos de datos almacenados en *arreglos* multidimensionales de `numpy`, estos se conocen con el nombre de *tensores*. En general, todos los algoritmos de machine learning usan tensores como estructura base de los datos. \n",
        "\n",
        "Computacionalmente, un tensor es un contenedor de datos generalmente numéricos y del mismo tipo. Por ejemplo, estamos familiarizados con las matrices, que son tensores 2D: los tensores son una generalización a número arbitrario de dimensiones. "
      ]
    },
    {
      "cell_type": "markdown",
      "metadata": {
        "id": "INRNs5fGYeUX"
      },
      "source": [
        "## Escalares (Tensores 0D)\n",
        "\n",
        "Un tensor que contiene un solo número se le llama escalar, tensor escalar, tensor 0-dimensional ó 0D tensor. En `numpy` se tiene:\n",
        "\n",
        "- float32 o float64.\n",
        "- int 32 o int 64.\n",
        "\n",
        "Veamos esto:"
      ]
    },
    {
      "cell_type": "code",
      "metadata": {
        "id": "i5_4p9KKYas8"
      },
      "source": [
        "# Array 0D\n",
        "import numpy as np\n",
        "\n",
        "x0 = np.array(3)\n",
        "\n",
        "tensor_info(x0)"
      ],
      "execution_count": null,
      "outputs": []
    },
    {
      "cell_type": "markdown",
      "metadata": {
        "id": "ggx_9v6VZrIR"
      },
      "source": [
        "# Vectores (Tensores 1D)\n",
        "\n",
        "A un array de números organizados en una secuencia de filas o columnas se le llama *vector* o *tensor 1D*. Decimos que un tensor 1D tiene 1 eje. \n",
        "\n",
        "En `numpy` se define como:"
      ]
    },
    {
      "cell_type": "code",
      "metadata": {
        "id": "tH3QK1s_aBl6"
      },
      "source": [
        "x1 = np.array([12, 3, 6, 14])\n",
        "tensor_info(x1)"
      ],
      "execution_count": null,
      "outputs": []
    },
    {
      "cell_type": "markdown",
      "metadata": {
        "id": "zdqhaDB1aIyO"
      },
      "source": [
        "El anterior vector tiene 5 entradas, por lo tanto es llamado *vector 5-dimensional*. La *dimensionalidad* puede denotar, tanto el número de entradas a lo largo de un eje específico, o el número de ejes en un tensor. "
      ]
    },
    {
      "cell_type": "markdown",
      "metadata": {
        "id": "u35oVnz-bPay"
      },
      "source": [
        "## Matrices (Tensores 2D)\n",
        "\n",
        "Un arreglo de vectores es una matriz o tensor 2D. Una matriz tiene dos ejes conocidos como filas y columnas. Una matriz representa, visualmente, una malla rectangular de números.\n",
        "\n",
        "En `numpy` se define como una lista de listas, cada una con igual longitud y tipo de dato almacenado:"
      ]
    },
    {
      "cell_type": "code",
      "metadata": {
        "id": "PcbO9GFCbxJ7"
      },
      "source": [
        "x2 = np.array([[22, 70, 12, 4, 0],\n",
        "[61, 9, 33, 36, 11],\n",
        "[5, 7, 99, 46, 12]])\n",
        "\n",
        "tensor_info(x2)"
      ],
      "execution_count": null,
      "outputs": []
    },
    {
      "cell_type": "markdown",
      "metadata": {
        "id": "5NbBjUqxbydT"
      },
      "source": [
        "Al primer eje se le llama *filas* y al segundo *columnas*. "
      ]
    },
    {
      "cell_type": "markdown",
      "metadata": {
        "id": "eNFNQx4LcHfa"
      },
      "source": [
        "## Tensores 3D y tensores de dimensión mayor:\n",
        "\n",
        "Si se agrupan *matrices de dimensiones iguales* hablamos de un *tensor 3D*, que puede interpretarse, visualmente como un cubo de rubic, donde a cada celda se le asigna un valor. \n",
        "\n",
        "En `numpy` se define como:"
      ]
    },
    {
      "cell_type": "code",
      "metadata": {
        "id": "LmSFrOFTcqMT"
      },
      "source": [
        "x3 = np.array([[[54, 8, 21, 4, 2],\n",
        "[61, 92, 53, 5, 3],\n",
        "[51, 70, 44, 55, 9]],\n",
        "[[6, 78, 2, 34, 0],\n",
        "[1, 79, 3, 35, 1],\n",
        "[8, 80, 4, 36, 2]],\n",
        "[[7, 74, 2, 34, 0],\n",
        "[5, 73, 3, 35, 1],\n",
        "[10, 81, 4, 36, 2]]])\n",
        "\n",
        "tensor_info(x3)"
      ],
      "execution_count": null,
      "outputs": []
    },
    {
      "cell_type": "markdown",
      "metadata": {
        "id": "3Lr_WRNKc2R0"
      },
      "source": [
        "Al agrupar tensores 3D en un arreglo, podemos crear tensores 4D, y así sucesivamente. Normalmente, en **deep learning** se usan tensores de rango 0 a 4, y en el caso de procesamiento de videos, puede llegarse a tensores de rango 5."
      ]
    },
    {
      "cell_type": "markdown",
      "metadata": {
        "id": "iVma5hgrdaH_"
      },
      "source": [
        "### Atributos claves:\n",
        " Un tensor se encuentra determinado por tres atributos:\n",
        "\n",
        " * *Numero de ejes* (rango): `ndim`.\n",
        " * *Forma*: que en python es una tupla de enteros que describe cuantas dimensiones tienen el tensor a lo largo de cada eje.  A este atributo se accede mediante `shape`.\n",
        " * *Data type*: Corresponde a los tipos de datos que contiene el tensor y se accede a mediante el atributo `dtype`."
      ]
    },
    {
      "cell_type": "code",
      "metadata": {
        "id": "aXYbKDhugLos"
      },
      "source": [
        "print(\"Dimensión:\", x3.ndim)\n",
        "print(\"Forma\", x3.shape)\n",
        "print(\"Tipo de datos: \", x3.dtype)"
      ],
      "execution_count": null,
      "outputs": []
    },
    {
      "cell_type": "markdown",
      "metadata": {
        "id": "_rqX_EVz9xyg"
      },
      "source": [
        "##Manipulación de tensores en Numpy:\n",
        "Una de las operaciones más comunes es la selección de elementos específicos en un tensor, que se denomina corte o \"slicing\". Veamos las operaciones de \"tensor slicing\" que puede hacerse con los arreglos de `numpy`.\n"
      ]
    },
    {
      "cell_type": "code",
      "metadata": {
        "id": "VYnMcF10t-A_"
      },
      "source": [
        "my_slice = x3[0:2]\n",
        "print(my_slice.shape)"
      ],
      "execution_count": null,
      "outputs": []
    },
    {
      "cell_type": "markdown",
      "metadata": {
        "id": "DOAHtmSTj9dF"
      },
      "source": [
        "La anterior operación es equivalente a la selección de todas las dimensiones de los ejes mediante : "
      ]
    },
    {
      "cell_type": "code",
      "metadata": {
        "id": "OtaawkhTj8rN"
      },
      "source": [
        "my_slice = x3[0:2, :, :]\n",
        "my_slice.shape"
      ],
      "execution_count": null,
      "outputs": []
    },
    {
      "cell_type": "markdown",
      "metadata": {
        "id": "95tIZ2ogk0jz"
      },
      "source": [
        "o equivalente a:"
      ]
    },
    {
      "cell_type": "code",
      "metadata": {
        "id": "hGN5QWHO-8da"
      },
      "source": [
        "my_slice = x3[0:2, 0:3, 0:5]\n",
        "my_slice.shape"
      ],
      "execution_count": null,
      "outputs": []
    },
    {
      "cell_type": "markdown",
      "metadata": {
        "id": "CygbcMkslExN"
      },
      "source": [
        "De forma general, podemos seleccionar entre dos índices cualquiera a lo largo de un eje del tensor."
      ]
    },
    {
      "cell_type": "markdown",
      "metadata": {
        "id": "jUwNhpzGqokI"
      },
      "source": [
        "## Noción de batches\n",
        "\n",
        "En general, el primer eje (eje 0) de todos los  tensores de datos será el eje de muestras. Supongamos que se tiene un tensor de imágenes en escala de grises, entonces, el tensor estaría denotado por los siguientes índices\n",
        "\n",
        "```\n",
        "Número de imagen, Ancho, Alto\n",
        "```\n",
        "\n",
        "Además, los modelos de DL no procesan un conjunto de datos completo a la vez; en su lugar, dividen los datos en pequeños lotes. Por ejemplo:\n",
        "\n",
        "```\n",
        "batch1 = train_images[:128]\n",
        "batch2 = train_images[128:256]\n",
        "```\n",
        "\n",
        "El n-ésimo batch sería:\n",
        "\n",
        "$$\\text{batch} = \\text{train_images}[128 * n:128 * (n + 1)]$$\n",
        "\n",
        "Cuando considere un tensor batch, el primer eje (eje 0) es conocido como la dimensión del batch. Este término es comun mente usado en Keras y otras librerías de DL."
      ]
    },
    {
      "cell_type": "markdown",
      "metadata": {
        "id": "c4JDA6TSXYr-"
      },
      "source": [
        "## Ejemplo reales de tensores:\n",
        "\n",
        "* *Vector de datos:* Tensor 2D de forma `(samples,features)`.\n",
        "\n",
        "* *Datos de series de tiempos o secuencias:* Tensor 3D de forma `(samples, timesteps, features)`.\n",
        "\n",
        "* *Imágenes:* Tensores 4D de forma `(samples,height,width,channels)` o `(samples,channels,height,width)`.\n",
        "\n",
        "* *Videos:* Tensores 5D de forma `(samples,frames, height,width,channels)` o `(samples, height,frames,channels,height,width)`. "
      ]
    },
    {
      "cell_type": "markdown",
      "metadata": {
        "id": "tnc3D1-cFzcp"
      },
      "source": [
        "## Ejercicios"
      ]
    },
    {
      "cell_type": "markdown",
      "metadata": {
        "id": "Cl4F0UtaF2JO"
      },
      "source": [
        "### Ejercicio 1:\n",
        "\n",
        "Para este ejercicio:\n",
        "\n",
        "1. Consulte en [este link](https://keras.io/api/datasets/mnist/) címo cargar el dataset de `mnist` de keras.\n",
        "2. Cree una función que imprima la información de los tensores como\n",
        "  - Rango del tensor\n",
        "  - Forma\n",
        "  - Tipo de dato almacenado\n",
        "  - Cantidad de bytes que ocupa en memoria\n",
        "3. Visualice alguno de estos datos, dependiendo del tipo de dato que almacena este dataset (imágenes).\n"
      ]
    },
    {
      "cell_type": "markdown",
      "metadata": {
        "id": "W3d7FU7NPJbC"
      },
      "source": [
        ""
      ]
    },
    {
      "cell_type": "markdown",
      "metadata": {
        "id": "NPO4933FVstH"
      },
      "source": [
        "### Ejercicio 2:\n",
        "\n",
        "Dentro del conjunto de datos del ejemplo anterior:\n",
        "1. seleccióne la esquina inferior que contenga $14\\times14$ píxeles en cada una de las imágenes y visualice una de ellas.\n",
        "2. Recordemos que también es posible usar índices negativos. Los índices negativos indican una posición relativa al final del eje en cuestión. Recorte, por ejemplo, las imagenes anteriores para que queden centradas en matríces de 14x14.\n"
      ]
    }
  ]
}