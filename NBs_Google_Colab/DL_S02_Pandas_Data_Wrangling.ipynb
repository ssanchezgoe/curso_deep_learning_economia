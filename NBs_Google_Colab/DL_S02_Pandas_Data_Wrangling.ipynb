{
  "nbformat": 4,
  "nbformat_minor": 0,
  "metadata": {
    "colab": {
      "name": "DL_S02_Pandas_Data_Wrangling.ipynb",
      "provenance": [],
      "collapsed_sections": [],
      "authorship_tag": "ABX9TyOfyKIncGnwYzbBC2sYUmON",
      "include_colab_link": true
    },
    "kernelspec": {
      "name": "python3",
      "display_name": "Python 3"
    },
    "language_info": {
      "name": "python"
    }
  },
  "cells": [
    {
      "cell_type": "markdown",
      "metadata": {
        "id": "view-in-github",
        "colab_type": "text"
      },
      "source": [
        "<a href=\"https://colab.research.google.com/github/ssanchezgoe/curso_deep_learning_economia/blob/main/NBs_Google_Colab/DL_S02_Pandas_Data_Wrangling.ipynb\" target=\"_parent\"><img src=\"https://colab.research.google.com/assets/colab-badge.svg\" alt=\"Open In Colab\"/></a>"
      ]
    },
    {
      "cell_type": "markdown",
      "metadata": {
        "id": "thBYXFC53-lF"
      },
      "source": [
        "<p><img alt=\"Colaboratory logo\" height=\"140px\" src=\"https://upload.wikimedia.org/wikipedia/commons/archive/f/fb/20161010213812%21Escudo-UdeA.svg\" align=\"left\" hspace=\"10px\" vspace=\"0px\"></p>\n",
        "\n",
        "<h1> Curso Deep Learning: Economía</h1>\n",
        "\n",
        "## S02: Preprocesado de datos"
      ]
    },
    {
      "cell_type": "markdown",
      "metadata": {
        "id": "R7nsXE6-4JzW"
      },
      "source": [
        "## Tabla de contenido\n",
        "\n",
        "Temática:\n",
        "\n",
        "- Exploración de datos.\n",
        "- Pandas"
      ]
    },
    {
      "cell_type": "markdown",
      "metadata": {
        "id": "uZOMLVKb5o3S"
      },
      "source": [
        "## Exploración de datos\n",
        "\n",
        "La fase de exploración de datos consiste en una serie de pasos con el fin de preparar los datos para su correcto funcionamiento dentro de algoritmos de machine learning/deep learning. Alguno de los pasos que deben verificarse son:\n",
        "\n",
        "- Tamaño del dataset.\n",
        "- Número de características.\n",
        "- Datos faltantes.\n",
        "- Tipos de datos.\n",
        "- Correlaciones y distribuciones. \n",
        "\n",
        "Además, esta serie de pasos facilitan al científico de datos a encontrar relaciones de las características con la variable objetivo a predecir. En este sentido, se pueden llevar a cabo dos tipos de análisis sobre los datos:\n",
        "\n",
        "\n",
        "- Analisis cualitativos, en donde se estiman relaciones de tendencias centrales de las característiscas y la variable objetivo.\n",
        "- Analisis cuantitativos, en donde se realizan mediciones que corroborarn las relaciones entre las características y la variable objetivo.\n",
        "\n",
        "Para esta tarea, en python se hace uso de la librería **Pandas**.\n"
      ]
    },
    {
      "cell_type": "markdown",
      "metadata": {
        "id": "vXSqKV-GVzeN"
      },
      "source": [
        "## PANDAS:\n",
        "\n",
        "Pandas es una librería en python que se basa en **Numpy**, usada en computación y ciencia de datos con el fin de manipular y analizar datos.\n",
        "\n",
        "El objeto central de pandas corresponde a los `DataFrames`que son elementos tabulares con métodos y atributos destinados a tareas de análisis exploratorio de datos.\n",
        "\n",
        "Para cargar la librería de `pandas` en el entorno de ejecución, se ha vuelto constumbre asignarle el alias `pd` de la siguiente forma \n",
        "\n",
        "```\n",
        "import pandas as pd\n",
        "```\n",
        "\n",
        "Algunos de los formatos permitidos por pandas se resumen en la siguiente tabla:\n",
        "\n",
        "<table class=\"colwidths-given table\">\n",
        "<colgroup>\n",
        "<col style=\"width: 12%\">\n",
        "<col style=\"width: 40%\">\n",
        "<col style=\"width: 24%\">\n",
        "<col style=\"width: 24%\">\n",
        "</colgroup>\n",
        "<thead>\n",
        "<tr class=\"row-odd\"><th class=\"head\"><p>Format Type</p></th>\n",
        "<th class=\"head\"><p>Data Description</p></th>\n",
        "<th class=\"head\"><p>Reader</p></th>\n",
        "<th class=\"head\"><p>Writer</p></th>\n",
        "</tr>\n",
        "</thead>\n",
        "<tbody>\n",
        "<tr class=\"row-even\"><td><p>text</p></td>\n",
        "<td><p><a class=\"reference external\" href=\"https://en.wikipedia.org/wiki/Comma-separated_values\">CSV</a></p></td>\n",
        "<td><p><a class=\"reference internal\" href=\"#io-read-csv-table\"><span class=\"std std-ref\">read_csv</span></a></p></td>\n",
        "<td><p><a class=\"reference internal\" href=\"#io-store-in-csv\"><span class=\"std std-ref\">to_csv</span></a></p></td>\n",
        "</tr>\n",
        "<tr class=\"row-odd\"><td><p>text</p></td>\n",
        "<td><p>Fixed-Width Text File</p></td>\n",
        "<td><p><a class=\"reference internal\" href=\"#io-fwf-reader\"><span class=\"std std-ref\">read_fwf</span></a></p></td>\n",
        "<td></td>\n",
        "</tr>\n",
        "<tr class=\"row-even\"><td><p>text</p></td>\n",
        "<td><p><a class=\"reference external\" href=\"https://www.json.org/\">JSON</a></p></td>\n",
        "<td><p><a class=\"reference internal\" href=\"#io-json-reader\"><span class=\"std std-ref\">read_json</span></a></p></td>\n",
        "<td><p><a class=\"reference internal\" href=\"#io-json-writer\"><span class=\"std std-ref\">to_json</span></a></p></td>\n",
        "</tr>\n",
        "<tr class=\"row-odd\"><td><p>text</p></td>\n",
        "<td><p><a class=\"reference external\" href=\"https://en.wikipedia.org/wiki/HTML\">HTML</a></p></td>\n",
        "<td><p><a class=\"reference internal\" href=\"#io-read-html\"><span class=\"std std-ref\">read_html</span></a></p></td>\n",
        "<td><p><a class=\"reference internal\" href=\"#io-html\"><span class=\"std std-ref\">to_html</span></a></p></td>\n",
        "</tr>\n",
        "<tr class=\"row-even\"><td><p>text</p></td>\n",
        "<td><p><a class=\"reference external\" href=\"https://en.wikipedia.org/wiki/LaTeX\">LaTeX</a></p></td>\n",
        "<td></td>\n",
        "<td><p><a class=\"reference internal\" href=\"#io-latex\"><span class=\"std std-ref\">Styler.to_latex</span></a></p></td>\n",
        "</tr>\n",
        "<tr class=\"row-odd\"><td><p>text</p></td>\n",
        "<td><p><a class=\"reference external\" href=\"https://www.w3.org/standards/xml/core\">XML</a></p></td>\n",
        "<td><p><a class=\"reference internal\" href=\"#io-read-xml\"><span class=\"std std-ref\">read_xml</span></a></p></td>\n",
        "<td><p><a class=\"reference internal\" href=\"#io-xml\"><span class=\"std std-ref\">to_xml</span></a></p></td>\n",
        "</tr>\n",
        "<tr class=\"row-even\"><td><p>text</p></td>\n",
        "<td><p>Local clipboard</p></td>\n",
        "<td><p><a class=\"reference internal\" href=\"#io-clipboard\"><span class=\"std std-ref\">read_clipboard</span></a></p></td>\n",
        "<td><p><a class=\"reference internal\" href=\"#io-clipboard\"><span class=\"std std-ref\">to_clipboard</span></a></p></td>\n",
        "</tr>\n",
        "<tr class=\"row-odd\"><td><p>binary</p></td>\n",
        "<td><p><a class=\"reference external\" href=\"https://en.wikipedia.org/wiki/Microsoft_Excel\">MS Excel</a></p></td>\n",
        "<td><p><a class=\"reference internal\" href=\"#io-excel-reader\"><span class=\"std std-ref\">read_excel</span></a></p></td>\n",
        "<td><p><a class=\"reference internal\" href=\"#io-excel-writer\"><span class=\"std std-ref\">to_excel</span></a></p></td>\n",
        "</tr>\n",
        "<tr class=\"row-even\"><td><p>binary</p></td>\n",
        "<td><p><a class=\"reference external\" href=\"http://www.opendocumentformat.org\">OpenDocument</a></p></td>\n",
        "<td><p><a class=\"reference internal\" href=\"#io-ods\"><span class=\"std std-ref\">read_excel</span></a></p></td>\n",
        "<td></td>\n",
        "</tr>\n",
        "<tr class=\"row-odd\"><td><p>binary</p></td>\n",
        "<td><p><a class=\"reference external\" href=\"https://support.hdfgroup.org/HDF5/whatishdf5.html\">HDF5 Format</a></p></td>\n",
        "<td><p><a class=\"reference internal\" href=\"#io-hdf5\"><span class=\"std std-ref\">read_hdf</span></a></p></td>\n",
        "<td><p><a class=\"reference internal\" href=\"#io-hdf5\"><span class=\"std std-ref\">to_hdf</span></a></p></td>\n",
        "</tr>\n",
        "<tr class=\"row-even\"><td><p>binary</p></td>\n",
        "<td><p><a class=\"reference external\" href=\"https://github.com/wesm/feather\">Feather Format</a></p></td>\n",
        "<td><p><a class=\"reference internal\" href=\"#io-feather\"><span class=\"std std-ref\">read_feather</span></a></p></td>\n",
        "<td><p><a class=\"reference internal\" href=\"#io-feather\"><span class=\"std std-ref\">to_feather</span></a></p></td>\n",
        "</tr>\n",
        "<tr class=\"row-odd\"><td><p>binary</p></td>\n",
        "<td><p><a class=\"reference external\" href=\"https://parquet.apache.org/\">Parquet Format</a></p></td>\n",
        "<td><p><a class=\"reference internal\" href=\"#io-parquet\"><span class=\"std std-ref\">read_parquet</span></a></p></td>\n",
        "<td><p><a class=\"reference internal\" href=\"#io-parquet\"><span class=\"std std-ref\">to_parquet</span></a></p></td>\n",
        "</tr>\n",
        "<tr class=\"row-even\"><td><p>binary</p></td>\n",
        "<td><p><a class=\"reference external\" href=\"https://orc.apache.org/\">ORC Format</a></p></td>\n",
        "<td><p><a class=\"reference internal\" href=\"#io-orc\"><span class=\"std std-ref\">read_orc</span></a></p></td>\n",
        "<td></td>\n",
        "</tr>\n",
        "<tr class=\"row-odd\"><td><p>binary</p></td>\n",
        "<td><p><a class=\"reference external\" href=\"https://en.wikipedia.org/wiki/Stata\">Stata</a></p></td>\n",
        "<td><p><a class=\"reference internal\" href=\"#io-stata-reader\"><span class=\"std std-ref\">read_stata</span></a></p></td>\n",
        "<td><p><a class=\"reference internal\" href=\"#io-stata-writer\"><span class=\"std std-ref\">to_stata</span></a></p></td>\n",
        "</tr>\n",
        "<tr class=\"row-even\"><td><p>binary</p></td>\n",
        "<td><p><a class=\"reference external\" href=\"https://en.wikipedia.org/wiki/SAS_(software)\">SAS</a></p></td>\n",
        "<td><p><a class=\"reference internal\" href=\"#io-sas-reader\"><span class=\"std std-ref\">read_sas</span></a></p></td>\n",
        "<td></td>\n",
        "</tr>\n",
        "<tr class=\"row-odd\"><td><p>binary</p></td>\n",
        "<td><p><a class=\"reference external\" href=\"https://en.wikipedia.org/wiki/SPSS\">SPSS</a></p></td>\n",
        "<td><p><a class=\"reference internal\" href=\"#io-spss-reader\"><span class=\"std std-ref\">read_spss</span></a></p></td>\n",
        "<td></td>\n",
        "</tr>\n",
        "<tr class=\"row-even\"><td><p>binary</p></td>\n",
        "<td><p><a class=\"reference external\" href=\"https://docs.python.org/3/library/pickle.html\">Python Pickle Format</a></p></td>\n",
        "<td><p><a class=\"reference internal\" href=\"#io-pickle\"><span class=\"std std-ref\">read_pickle</span></a></p></td>\n",
        "<td><p><a class=\"reference internal\" href=\"#io-pickle\"><span class=\"std std-ref\">to_pickle</span></a></p></td>\n",
        "</tr>\n",
        "<tr class=\"row-odd\"><td><p>SQL</p></td>\n",
        "<td><p><a class=\"reference external\" href=\"https://en.wikipedia.org/wiki/SQL\">SQL</a></p></td>\n",
        "<td><p><a class=\"reference internal\" href=\"#io-sql\"><span class=\"std std-ref\">read_sql</span></a></p></td>\n",
        "<td><p><a class=\"reference internal\" href=\"#io-sql\"><span class=\"std std-ref\">to_sql</span></a></p></td>\n",
        "</tr>\n",
        "<tr class=\"row-even\"><td><p>SQL</p></td>\n",
        "<td><p><a class=\"reference external\" href=\"https://en.wikipedia.org/wiki/BigQuery\">Google BigQuery</a></p></td>\n",
        "<td><p><a class=\"reference internal\" href=\"#io-bigquery\"><span class=\"std std-ref\">read_gbq</span></a></p></td>\n",
        "<td><p><a class=\"reference internal\" href=\"#io-bigquery\"><span class=\"std std-ref\">to_gbq</span></a></p></td>\n",
        "</tr>\n",
        "</tbody>\n",
        "</table>\n"
      ]
    },
    {
      "cell_type": "markdown",
      "metadata": {
        "id": "EmHgbCQiItEc"
      },
      "source": [
        "### Carga de archivos\n",
        "\n",
        "Veamos un ejemplo de carga de datos mediante el método `read_csv`."
      ]
    },
    {
      "cell_type": "code",
      "metadata": {
        "id": "y3t2somojt53"
      },
      "source": [
        "import matplotlib.pyplot as plt\n",
        "import pandas as pd\n",
        "import numpy as np"
      ],
      "execution_count": 1,
      "outputs": []
    },
    {
      "cell_type": "code",
      "metadata": {
        "id": "xozCY2Ppjvch"
      },
      "source": [
        "df = pd.read_csv(\"https://raw.githubusercontent.com/ssanchezgoe/curso_deep_learning_economia/main/data/titanic-train.csv\")"
      ],
      "execution_count": 2,
      "outputs": []
    },
    {
      "cell_type": "markdown",
      "metadata": {
        "id": "IAhyBIqMc5bk"
      },
      "source": [
        "Inspección de la cabecera mediante el método `head()`"
      ]
    },
    {
      "cell_type": "code",
      "metadata": {
        "colab": {
          "base_uri": "https://localhost:8080/",
          "height": 205
        },
        "id": "UN2VQpHTc8H0",
        "outputId": "360bba90-72b3-4154-9956-55306709a3d0"
      },
      "source": [
        "df.head()"
      ],
      "execution_count": 3,
      "outputs": [
        {
          "output_type": "execute_result",
          "data": {
            "text/html": [
              "<div>\n",
              "<style scoped>\n",
              "    .dataframe tbody tr th:only-of-type {\n",
              "        vertical-align: middle;\n",
              "    }\n",
              "\n",
              "    .dataframe tbody tr th {\n",
              "        vertical-align: top;\n",
              "    }\n",
              "\n",
              "    .dataframe thead th {\n",
              "        text-align: right;\n",
              "    }\n",
              "</style>\n",
              "<table border=\"1\" class=\"dataframe\">\n",
              "  <thead>\n",
              "    <tr style=\"text-align: right;\">\n",
              "      <th></th>\n",
              "      <th>PassengerId</th>\n",
              "      <th>Survived</th>\n",
              "      <th>Pclass</th>\n",
              "      <th>Name</th>\n",
              "      <th>Sex</th>\n",
              "      <th>Age</th>\n",
              "      <th>SibSp</th>\n",
              "      <th>Parch</th>\n",
              "      <th>Ticket</th>\n",
              "      <th>Fare</th>\n",
              "      <th>Cabin</th>\n",
              "      <th>Embarked</th>\n",
              "    </tr>\n",
              "  </thead>\n",
              "  <tbody>\n",
              "    <tr>\n",
              "      <th>0</th>\n",
              "      <td>1</td>\n",
              "      <td>0</td>\n",
              "      <td>3</td>\n",
              "      <td>Braund, Mr. Owen Harris</td>\n",
              "      <td>male</td>\n",
              "      <td>22.0</td>\n",
              "      <td>1</td>\n",
              "      <td>0</td>\n",
              "      <td>A/5 21171</td>\n",
              "      <td>7.2500</td>\n",
              "      <td>NaN</td>\n",
              "      <td>S</td>\n",
              "    </tr>\n",
              "    <tr>\n",
              "      <th>1</th>\n",
              "      <td>2</td>\n",
              "      <td>1</td>\n",
              "      <td>1</td>\n",
              "      <td>Cumings, Mrs. John Bradley (Florence Briggs Th...</td>\n",
              "      <td>female</td>\n",
              "      <td>38.0</td>\n",
              "      <td>1</td>\n",
              "      <td>0</td>\n",
              "      <td>PC 17599</td>\n",
              "      <td>71.2833</td>\n",
              "      <td>C85</td>\n",
              "      <td>C</td>\n",
              "    </tr>\n",
              "    <tr>\n",
              "      <th>2</th>\n",
              "      <td>3</td>\n",
              "      <td>1</td>\n",
              "      <td>3</td>\n",
              "      <td>Heikkinen, Miss. Laina</td>\n",
              "      <td>female</td>\n",
              "      <td>26.0</td>\n",
              "      <td>0</td>\n",
              "      <td>0</td>\n",
              "      <td>STON/O2. 3101282</td>\n",
              "      <td>7.9250</td>\n",
              "      <td>NaN</td>\n",
              "      <td>S</td>\n",
              "    </tr>\n",
              "    <tr>\n",
              "      <th>3</th>\n",
              "      <td>4</td>\n",
              "      <td>1</td>\n",
              "      <td>1</td>\n",
              "      <td>Futrelle, Mrs. Jacques Heath (Lily May Peel)</td>\n",
              "      <td>female</td>\n",
              "      <td>35.0</td>\n",
              "      <td>1</td>\n",
              "      <td>0</td>\n",
              "      <td>113803</td>\n",
              "      <td>53.1000</td>\n",
              "      <td>C123</td>\n",
              "      <td>S</td>\n",
              "    </tr>\n",
              "    <tr>\n",
              "      <th>4</th>\n",
              "      <td>5</td>\n",
              "      <td>0</td>\n",
              "      <td>3</td>\n",
              "      <td>Allen, Mr. William Henry</td>\n",
              "      <td>male</td>\n",
              "      <td>35.0</td>\n",
              "      <td>0</td>\n",
              "      <td>0</td>\n",
              "      <td>373450</td>\n",
              "      <td>8.0500</td>\n",
              "      <td>NaN</td>\n",
              "      <td>S</td>\n",
              "    </tr>\n",
              "  </tbody>\n",
              "</table>\n",
              "</div>"
            ],
            "text/plain": [
              "   PassengerId  Survived  Pclass  ...     Fare Cabin  Embarked\n",
              "0            1         0       3  ...   7.2500   NaN         S\n",
              "1            2         1       1  ...  71.2833   C85         C\n",
              "2            3         1       3  ...   7.9250   NaN         S\n",
              "3            4         1       1  ...  53.1000  C123         S\n",
              "4            5         0       3  ...   8.0500   NaN         S\n",
              "\n",
              "[5 rows x 12 columns]"
            ]
          },
          "metadata": {
            "tags": []
          },
          "execution_count": 3
        }
      ]
    },
    {
      "cell_type": "markdown",
      "metadata": {
        "id": "ypq-kGQ_dM0J"
      },
      "source": [
        "El tipo de la variable almacenada en `df` es `DataFrame` de `pandas`:"
      ]
    },
    {
      "cell_type": "code",
      "metadata": {
        "colab": {
          "base_uri": "https://localhost:8080/"
        },
        "id": "XYmg9QVNdSwq",
        "outputId": "78651e1f-99ac-4ec7-d53b-d05112add073"
      },
      "source": [
        "type(df)"
      ],
      "execution_count": 4,
      "outputs": [
        {
          "output_type": "execute_result",
          "data": {
            "text/plain": [
              "pandas.core.frame.DataFrame"
            ]
          },
          "metadata": {
            "tags": []
          },
          "execution_count": 4
        }
      ]
    },
    {
      "cell_type": "markdown",
      "metadata": {
        "id": "6LJ7Gw_5c-LB"
      },
      "source": [
        "### Información de las variables almacenadas:\n",
        "\n",
        "Obtengamos un resumen de todas las características almacenadas en el dataframe mediante el método `info()`:"
      ]
    },
    {
      "cell_type": "code",
      "metadata": {
        "colab": {
          "base_uri": "https://localhost:8080/"
        },
        "id": "dTNDfKA-eOMU",
        "outputId": "2ba09047-490c-48d5-f2f0-9d76a80257aa"
      },
      "source": [
        "df.info()"
      ],
      "execution_count": 5,
      "outputs": [
        {
          "output_type": "stream",
          "text": [
            "<class 'pandas.core.frame.DataFrame'>\n",
            "RangeIndex: 891 entries, 0 to 890\n",
            "Data columns (total 12 columns):\n",
            " #   Column       Non-Null Count  Dtype  \n",
            "---  ------       --------------  -----  \n",
            " 0   PassengerId  891 non-null    int64  \n",
            " 1   Survived     891 non-null    int64  \n",
            " 2   Pclass       891 non-null    int64  \n",
            " 3   Name         891 non-null    object \n",
            " 4   Sex          891 non-null    object \n",
            " 5   Age          714 non-null    float64\n",
            " 6   SibSp        891 non-null    int64  \n",
            " 7   Parch        891 non-null    int64  \n",
            " 8   Ticket       891 non-null    object \n",
            " 9   Fare         891 non-null    float64\n",
            " 10  Cabin        204 non-null    object \n",
            " 11  Embarked     889 non-null    object \n",
            "dtypes: float64(2), int64(5), object(5)\n",
            "memory usage: 83.7+ KB\n"
          ],
          "name": "stdout"
        }
      ]
    },
    {
      "cell_type": "markdown",
      "metadata": {
        "id": "vDSythYZePpQ"
      },
      "source": [
        "### Resumen estadístico\n",
        "\n",
        "Realicemos un resumen estadístico de las variables numéricas:"
      ]
    },
    {
      "cell_type": "code",
      "metadata": {
        "colab": {
          "base_uri": "https://localhost:8080/",
          "height": 299
        },
        "id": "mvWxcC17eu4Z",
        "outputId": "2704431a-3d41-44e4-ac1b-be6554cf4568"
      },
      "source": [
        "df.describe()"
      ],
      "execution_count": 6,
      "outputs": [
        {
          "output_type": "execute_result",
          "data": {
            "text/html": [
              "<div>\n",
              "<style scoped>\n",
              "    .dataframe tbody tr th:only-of-type {\n",
              "        vertical-align: middle;\n",
              "    }\n",
              "\n",
              "    .dataframe tbody tr th {\n",
              "        vertical-align: top;\n",
              "    }\n",
              "\n",
              "    .dataframe thead th {\n",
              "        text-align: right;\n",
              "    }\n",
              "</style>\n",
              "<table border=\"1\" class=\"dataframe\">\n",
              "  <thead>\n",
              "    <tr style=\"text-align: right;\">\n",
              "      <th></th>\n",
              "      <th>PassengerId</th>\n",
              "      <th>Survived</th>\n",
              "      <th>Pclass</th>\n",
              "      <th>Age</th>\n",
              "      <th>SibSp</th>\n",
              "      <th>Parch</th>\n",
              "      <th>Fare</th>\n",
              "    </tr>\n",
              "  </thead>\n",
              "  <tbody>\n",
              "    <tr>\n",
              "      <th>count</th>\n",
              "      <td>891.000000</td>\n",
              "      <td>891.000000</td>\n",
              "      <td>891.000000</td>\n",
              "      <td>714.000000</td>\n",
              "      <td>891.000000</td>\n",
              "      <td>891.000000</td>\n",
              "      <td>891.000000</td>\n",
              "    </tr>\n",
              "    <tr>\n",
              "      <th>mean</th>\n",
              "      <td>446.000000</td>\n",
              "      <td>0.383838</td>\n",
              "      <td>2.308642</td>\n",
              "      <td>29.699118</td>\n",
              "      <td>0.523008</td>\n",
              "      <td>0.381594</td>\n",
              "      <td>32.204208</td>\n",
              "    </tr>\n",
              "    <tr>\n",
              "      <th>std</th>\n",
              "      <td>257.353842</td>\n",
              "      <td>0.486592</td>\n",
              "      <td>0.836071</td>\n",
              "      <td>14.526497</td>\n",
              "      <td>1.102743</td>\n",
              "      <td>0.806057</td>\n",
              "      <td>49.693429</td>\n",
              "    </tr>\n",
              "    <tr>\n",
              "      <th>min</th>\n",
              "      <td>1.000000</td>\n",
              "      <td>0.000000</td>\n",
              "      <td>1.000000</td>\n",
              "      <td>0.420000</td>\n",
              "      <td>0.000000</td>\n",
              "      <td>0.000000</td>\n",
              "      <td>0.000000</td>\n",
              "    </tr>\n",
              "    <tr>\n",
              "      <th>25%</th>\n",
              "      <td>223.500000</td>\n",
              "      <td>0.000000</td>\n",
              "      <td>2.000000</td>\n",
              "      <td>20.125000</td>\n",
              "      <td>0.000000</td>\n",
              "      <td>0.000000</td>\n",
              "      <td>7.910400</td>\n",
              "    </tr>\n",
              "    <tr>\n",
              "      <th>50%</th>\n",
              "      <td>446.000000</td>\n",
              "      <td>0.000000</td>\n",
              "      <td>3.000000</td>\n",
              "      <td>28.000000</td>\n",
              "      <td>0.000000</td>\n",
              "      <td>0.000000</td>\n",
              "      <td>14.454200</td>\n",
              "    </tr>\n",
              "    <tr>\n",
              "      <th>75%</th>\n",
              "      <td>668.500000</td>\n",
              "      <td>1.000000</td>\n",
              "      <td>3.000000</td>\n",
              "      <td>38.000000</td>\n",
              "      <td>1.000000</td>\n",
              "      <td>0.000000</td>\n",
              "      <td>31.000000</td>\n",
              "    </tr>\n",
              "    <tr>\n",
              "      <th>max</th>\n",
              "      <td>891.000000</td>\n",
              "      <td>1.000000</td>\n",
              "      <td>3.000000</td>\n",
              "      <td>80.000000</td>\n",
              "      <td>8.000000</td>\n",
              "      <td>6.000000</td>\n",
              "      <td>512.329200</td>\n",
              "    </tr>\n",
              "  </tbody>\n",
              "</table>\n",
              "</div>"
            ],
            "text/plain": [
              "       PassengerId    Survived      Pclass  ...       SibSp       Parch        Fare\n",
              "count   891.000000  891.000000  891.000000  ...  891.000000  891.000000  891.000000\n",
              "mean    446.000000    0.383838    2.308642  ...    0.523008    0.381594   32.204208\n",
              "std     257.353842    0.486592    0.836071  ...    1.102743    0.806057   49.693429\n",
              "min       1.000000    0.000000    1.000000  ...    0.000000    0.000000    0.000000\n",
              "25%     223.500000    0.000000    2.000000  ...    0.000000    0.000000    7.910400\n",
              "50%     446.000000    0.000000    3.000000  ...    0.000000    0.000000   14.454200\n",
              "75%     668.500000    1.000000    3.000000  ...    1.000000    0.000000   31.000000\n",
              "max     891.000000    1.000000    3.000000  ...    8.000000    6.000000  512.329200\n",
              "\n",
              "[8 rows x 7 columns]"
            ]
          },
          "metadata": {
            "tags": []
          },
          "execution_count": 6
        }
      ]
    },
    {
      "cell_type": "markdown",
      "metadata": {
        "id": "-_SDai_NewMJ"
      },
      "source": [
        "Incluyamos ahora todas las variables:"
      ]
    },
    {
      "cell_type": "code",
      "metadata": {
        "colab": {
          "base_uri": "https://localhost:8080/",
          "height": 393
        },
        "id": "uFbPT2vQe2Nc",
        "outputId": "ff1d9374-d24e-474f-e20d-ec668c936689"
      },
      "source": [
        "df.describe(include='all')"
      ],
      "execution_count": 7,
      "outputs": [
        {
          "output_type": "execute_result",
          "data": {
            "text/html": [
              "<div>\n",
              "<style scoped>\n",
              "    .dataframe tbody tr th:only-of-type {\n",
              "        vertical-align: middle;\n",
              "    }\n",
              "\n",
              "    .dataframe tbody tr th {\n",
              "        vertical-align: top;\n",
              "    }\n",
              "\n",
              "    .dataframe thead th {\n",
              "        text-align: right;\n",
              "    }\n",
              "</style>\n",
              "<table border=\"1\" class=\"dataframe\">\n",
              "  <thead>\n",
              "    <tr style=\"text-align: right;\">\n",
              "      <th></th>\n",
              "      <th>PassengerId</th>\n",
              "      <th>Survived</th>\n",
              "      <th>Pclass</th>\n",
              "      <th>Name</th>\n",
              "      <th>Sex</th>\n",
              "      <th>Age</th>\n",
              "      <th>SibSp</th>\n",
              "      <th>Parch</th>\n",
              "      <th>Ticket</th>\n",
              "      <th>Fare</th>\n",
              "      <th>Cabin</th>\n",
              "      <th>Embarked</th>\n",
              "    </tr>\n",
              "  </thead>\n",
              "  <tbody>\n",
              "    <tr>\n",
              "      <th>count</th>\n",
              "      <td>891.000000</td>\n",
              "      <td>891.000000</td>\n",
              "      <td>891.000000</td>\n",
              "      <td>891</td>\n",
              "      <td>891</td>\n",
              "      <td>714.000000</td>\n",
              "      <td>891.000000</td>\n",
              "      <td>891.000000</td>\n",
              "      <td>891</td>\n",
              "      <td>891.000000</td>\n",
              "      <td>204</td>\n",
              "      <td>889</td>\n",
              "    </tr>\n",
              "    <tr>\n",
              "      <th>unique</th>\n",
              "      <td>NaN</td>\n",
              "      <td>NaN</td>\n",
              "      <td>NaN</td>\n",
              "      <td>891</td>\n",
              "      <td>2</td>\n",
              "      <td>NaN</td>\n",
              "      <td>NaN</td>\n",
              "      <td>NaN</td>\n",
              "      <td>681</td>\n",
              "      <td>NaN</td>\n",
              "      <td>147</td>\n",
              "      <td>3</td>\n",
              "    </tr>\n",
              "    <tr>\n",
              "      <th>top</th>\n",
              "      <td>NaN</td>\n",
              "      <td>NaN</td>\n",
              "      <td>NaN</td>\n",
              "      <td>Widener, Mr. Harry Elkins</td>\n",
              "      <td>male</td>\n",
              "      <td>NaN</td>\n",
              "      <td>NaN</td>\n",
              "      <td>NaN</td>\n",
              "      <td>CA. 2343</td>\n",
              "      <td>NaN</td>\n",
              "      <td>B96 B98</td>\n",
              "      <td>S</td>\n",
              "    </tr>\n",
              "    <tr>\n",
              "      <th>freq</th>\n",
              "      <td>NaN</td>\n",
              "      <td>NaN</td>\n",
              "      <td>NaN</td>\n",
              "      <td>1</td>\n",
              "      <td>577</td>\n",
              "      <td>NaN</td>\n",
              "      <td>NaN</td>\n",
              "      <td>NaN</td>\n",
              "      <td>7</td>\n",
              "      <td>NaN</td>\n",
              "      <td>4</td>\n",
              "      <td>644</td>\n",
              "    </tr>\n",
              "    <tr>\n",
              "      <th>mean</th>\n",
              "      <td>446.000000</td>\n",
              "      <td>0.383838</td>\n",
              "      <td>2.308642</td>\n",
              "      <td>NaN</td>\n",
              "      <td>NaN</td>\n",
              "      <td>29.699118</td>\n",
              "      <td>0.523008</td>\n",
              "      <td>0.381594</td>\n",
              "      <td>NaN</td>\n",
              "      <td>32.204208</td>\n",
              "      <td>NaN</td>\n",
              "      <td>NaN</td>\n",
              "    </tr>\n",
              "    <tr>\n",
              "      <th>std</th>\n",
              "      <td>257.353842</td>\n",
              "      <td>0.486592</td>\n",
              "      <td>0.836071</td>\n",
              "      <td>NaN</td>\n",
              "      <td>NaN</td>\n",
              "      <td>14.526497</td>\n",
              "      <td>1.102743</td>\n",
              "      <td>0.806057</td>\n",
              "      <td>NaN</td>\n",
              "      <td>49.693429</td>\n",
              "      <td>NaN</td>\n",
              "      <td>NaN</td>\n",
              "    </tr>\n",
              "    <tr>\n",
              "      <th>min</th>\n",
              "      <td>1.000000</td>\n",
              "      <td>0.000000</td>\n",
              "      <td>1.000000</td>\n",
              "      <td>NaN</td>\n",
              "      <td>NaN</td>\n",
              "      <td>0.420000</td>\n",
              "      <td>0.000000</td>\n",
              "      <td>0.000000</td>\n",
              "      <td>NaN</td>\n",
              "      <td>0.000000</td>\n",
              "      <td>NaN</td>\n",
              "      <td>NaN</td>\n",
              "    </tr>\n",
              "    <tr>\n",
              "      <th>25%</th>\n",
              "      <td>223.500000</td>\n",
              "      <td>0.000000</td>\n",
              "      <td>2.000000</td>\n",
              "      <td>NaN</td>\n",
              "      <td>NaN</td>\n",
              "      <td>20.125000</td>\n",
              "      <td>0.000000</td>\n",
              "      <td>0.000000</td>\n",
              "      <td>NaN</td>\n",
              "      <td>7.910400</td>\n",
              "      <td>NaN</td>\n",
              "      <td>NaN</td>\n",
              "    </tr>\n",
              "    <tr>\n",
              "      <th>50%</th>\n",
              "      <td>446.000000</td>\n",
              "      <td>0.000000</td>\n",
              "      <td>3.000000</td>\n",
              "      <td>NaN</td>\n",
              "      <td>NaN</td>\n",
              "      <td>28.000000</td>\n",
              "      <td>0.000000</td>\n",
              "      <td>0.000000</td>\n",
              "      <td>NaN</td>\n",
              "      <td>14.454200</td>\n",
              "      <td>NaN</td>\n",
              "      <td>NaN</td>\n",
              "    </tr>\n",
              "    <tr>\n",
              "      <th>75%</th>\n",
              "      <td>668.500000</td>\n",
              "      <td>1.000000</td>\n",
              "      <td>3.000000</td>\n",
              "      <td>NaN</td>\n",
              "      <td>NaN</td>\n",
              "      <td>38.000000</td>\n",
              "      <td>1.000000</td>\n",
              "      <td>0.000000</td>\n",
              "      <td>NaN</td>\n",
              "      <td>31.000000</td>\n",
              "      <td>NaN</td>\n",
              "      <td>NaN</td>\n",
              "    </tr>\n",
              "    <tr>\n",
              "      <th>max</th>\n",
              "      <td>891.000000</td>\n",
              "      <td>1.000000</td>\n",
              "      <td>3.000000</td>\n",
              "      <td>NaN</td>\n",
              "      <td>NaN</td>\n",
              "      <td>80.000000</td>\n",
              "      <td>8.000000</td>\n",
              "      <td>6.000000</td>\n",
              "      <td>NaN</td>\n",
              "      <td>512.329200</td>\n",
              "      <td>NaN</td>\n",
              "      <td>NaN</td>\n",
              "    </tr>\n",
              "  </tbody>\n",
              "</table>\n",
              "</div>"
            ],
            "text/plain": [
              "        PassengerId    Survived      Pclass  ...        Fare    Cabin  Embarked\n",
              "count    891.000000  891.000000  891.000000  ...  891.000000      204       889\n",
              "unique          NaN         NaN         NaN  ...         NaN      147         3\n",
              "top             NaN         NaN         NaN  ...         NaN  B96 B98         S\n",
              "freq            NaN         NaN         NaN  ...         NaN        4       644\n",
              "mean     446.000000    0.383838    2.308642  ...   32.204208      NaN       NaN\n",
              "std      257.353842    0.486592    0.836071  ...   49.693429      NaN       NaN\n",
              "min        1.000000    0.000000    1.000000  ...    0.000000      NaN       NaN\n",
              "25%      223.500000    0.000000    2.000000  ...    7.910400      NaN       NaN\n",
              "50%      446.000000    0.000000    3.000000  ...   14.454200      NaN       NaN\n",
              "75%      668.500000    1.000000    3.000000  ...   31.000000      NaN       NaN\n",
              "max      891.000000    1.000000    3.000000  ...  512.329200      NaN       NaN\n",
              "\n",
              "[11 rows x 12 columns]"
            ]
          },
          "metadata": {
            "tags": []
          },
          "execution_count": 7
        }
      ]
    },
    {
      "cell_type": "markdown",
      "metadata": {
        "id": "lJAz-MatIb8Y"
      },
      "source": [
        "### Métodos de indexado\n",
        "Los tipos de indexados para localización de registros son los siguientes:\n",
        "- Localización basada en enteros (iloc) de registros.\n",
        "- Localización basada en etiquetas (loc) de registros."
      ]
    },
    {
      "cell_type": "code",
      "metadata": {
        "id": "Zj9xNGuAe7N6",
        "colab": {
          "base_uri": "https://localhost:8080/"
        },
        "outputId": "a2473c45-081a-48fa-ea43-a74ab97720e7"
      },
      "source": [
        "print(df.iloc[4])\n",
        "print(40*'-')\n",
        "print(type(df.iloc[4]))"
      ],
      "execution_count": 8,
      "outputs": [
        {
          "output_type": "stream",
          "text": [
            "PassengerId                           5\n",
            "Survived                              0\n",
            "Pclass                                3\n",
            "Name           Allen, Mr. William Henry\n",
            "Sex                                male\n",
            "Age                                  35\n",
            "SibSp                                 0\n",
            "Parch                                 0\n",
            "Ticket                           373450\n",
            "Fare                               8.05\n",
            "Cabin                               NaN\n",
            "Embarked                              S\n",
            "Name: 4, dtype: object\n",
            "----------------------------------------\n",
            "<class 'pandas.core.series.Series'>\n"
          ],
          "name": "stdout"
        }
      ]
    },
    {
      "cell_type": "code",
      "metadata": {
        "colab": {
          "base_uri": "https://localhost:8080/"
        },
        "id": "V2A4c2F-J0GJ",
        "outputId": "b089760d-de03-42c2-cb33-bce5e67103d1"
      },
      "source": [
        "print(df.loc[0:4,\"Ticket\"])\n",
        "print(40*'-')\n",
        "print(type(df.loc[0:4,\"Ticket\"]))"
      ],
      "execution_count": 9,
      "outputs": [
        {
          "output_type": "stream",
          "text": [
            "0           A/5 21171\n",
            "1            PC 17599\n",
            "2    STON/O2. 3101282\n",
            "3              113803\n",
            "4              373450\n",
            "Name: Ticket, dtype: object\n",
            "----------------------------------------\n",
            "<class 'pandas.core.series.Series'>\n"
          ],
          "name": "stdout"
        }
      ]
    },
    {
      "cell_type": "markdown",
      "metadata": {
        "id": "TrDtPdwZOHTa"
      },
      "source": [
        "### Series y Subdataframes\n",
        "\n",
        "Las series corresponde a una columna de un dataframe que hereda ciertos métodos del datagrame.\n",
        "\n",
        "Una forma de acceder a una serie es \n",
        "\n",
        "```\n",
        "df['Nombre_Columna']\n",
        "```\n",
        "\n",
        "También se puede obtener una serie mediante la siguiente sintáxis\n",
        "```\n",
        "df.Nombre_Columna\n",
        "```\n",
        "\n",
        "siempre que `Nombre_Columna` cumpla con buenas práxis de escritura: No debe contener espacios, caracteres especiales, etc.\n",
        "\n",
        "Una vez se obtiene la serie, ésta hereda varios métodos de un dataframe, entre ellos el método `head`, con el que se puede realizar la operación de la celda anterior de la siguiente forma"
      ]
    },
    {
      "cell_type": "code",
      "metadata": {
        "colab": {
          "base_uri": "https://localhost:8080/"
        },
        "id": "FfeOTODyCINL",
        "outputId": "b4c37bbf-1453-48ab-ad5b-676326f686b6"
      },
      "source": [
        "df['Ticket'].head()"
      ],
      "execution_count": 10,
      "outputs": [
        {
          "output_type": "execute_result",
          "data": {
            "text/plain": [
              "0           A/5 21171\n",
              "1            PC 17599\n",
              "2    STON/O2. 3101282\n",
              "3              113803\n",
              "4              373450\n",
              "Name: Ticket, dtype: object"
            ]
          },
          "metadata": {
            "tags": []
          },
          "execution_count": 10
        }
      ]
    },
    {
      "cell_type": "markdown",
      "metadata": {
        "id": "hf3Sj3njDR6w"
      },
      "source": [
        "Si queremos acceder a un dataframe, debemos usar la siguiente sintáxis\n",
        "\n",
        "```\n",
        "df[[Lista Columnas separada por coma]]\n",
        "```\n",
        "\n",
        "y, apartir del dataframe, aplicamos el método que se desee:"
      ]
    },
    {
      "cell_type": "code",
      "metadata": {
        "colab": {
          "base_uri": "https://localhost:8080/",
          "height": 205
        },
        "id": "epej0kr_ETyO",
        "outputId": "685c8be2-5dc2-45cc-eebc-85224824d0ad"
      },
      "source": [
        "df[['Embarked', 'Ticket']].head()"
      ],
      "execution_count": 11,
      "outputs": [
        {
          "output_type": "execute_result",
          "data": {
            "text/html": [
              "<div>\n",
              "<style scoped>\n",
              "    .dataframe tbody tr th:only-of-type {\n",
              "        vertical-align: middle;\n",
              "    }\n",
              "\n",
              "    .dataframe tbody tr th {\n",
              "        vertical-align: top;\n",
              "    }\n",
              "\n",
              "    .dataframe thead th {\n",
              "        text-align: right;\n",
              "    }\n",
              "</style>\n",
              "<table border=\"1\" class=\"dataframe\">\n",
              "  <thead>\n",
              "    <tr style=\"text-align: right;\">\n",
              "      <th></th>\n",
              "      <th>Embarked</th>\n",
              "      <th>Ticket</th>\n",
              "    </tr>\n",
              "  </thead>\n",
              "  <tbody>\n",
              "    <tr>\n",
              "      <th>0</th>\n",
              "      <td>S</td>\n",
              "      <td>A/5 21171</td>\n",
              "    </tr>\n",
              "    <tr>\n",
              "      <th>1</th>\n",
              "      <td>C</td>\n",
              "      <td>PC 17599</td>\n",
              "    </tr>\n",
              "    <tr>\n",
              "      <th>2</th>\n",
              "      <td>S</td>\n",
              "      <td>STON/O2. 3101282</td>\n",
              "    </tr>\n",
              "    <tr>\n",
              "      <th>3</th>\n",
              "      <td>S</td>\n",
              "      <td>113803</td>\n",
              "    </tr>\n",
              "    <tr>\n",
              "      <th>4</th>\n",
              "      <td>S</td>\n",
              "      <td>373450</td>\n",
              "    </tr>\n",
              "  </tbody>\n",
              "</table>\n",
              "</div>"
            ],
            "text/plain": [
              "  Embarked            Ticket\n",
              "0        S         A/5 21171\n",
              "1        C          PC 17599\n",
              "2        S  STON/O2. 3101282\n",
              "3        S            113803\n",
              "4        S            373450"
            ]
          },
          "metadata": {
            "tags": []
          },
          "execution_count": 11
        }
      ]
    },
    {
      "cell_type": "markdown",
      "metadata": {
        "id": "Gq8py0cEE6sD"
      },
      "source": [
        "### Selecciones \n",
        "\n",
        "Para seleccionar partes de un `DataFrame` que cumplan cierto criterio, debemos crear primero una **máscara** compuesta por booleanos que filtra los datos en el dataset dependiendo si la condición es *falsa* (no se visualiza el dato) o *verdadera* (se visualiza el dato que la cumple). La sintáxis para filtrar los datos en un dataframe es:\n",
        "\n",
        "```\n",
        "df[cond]\n",
        "```\n",
        "en donde la `cond` tiene la forma de un condicional evaluado en el dataframe, por ejemplo\n",
        "\n",
        "```\n",
        "cond -> df > 10\n",
        "```\n",
        "\n",
        "Veamos en el dataframe del titanic, la población mayor a 70 años."
      ]
    },
    {
      "cell_type": "code",
      "metadata": {
        "colab": {
          "base_uri": "https://localhost:8080/"
        },
        "id": "iGk8vKrCFsvk",
        "outputId": "8f7ffbce-62ed-49ab-f3d9-d0d70e863326"
      },
      "source": [
        "# Creación de máscara\n",
        "print(\"Máscara\\n\", df['Age']>70)\n",
        "print(65*'-')\n",
        "print(\"Cantidad de datos que cumplen la condición:\", pd.DataFrame(df['Age']>70).Age.sum())\n",
        "print(65*'-')\n",
        "print(df[df['Age']>70])"
      ],
      "execution_count": 12,
      "outputs": [
        {
          "output_type": "stream",
          "text": [
            "Máscara\n",
            " 0      False\n",
            "1      False\n",
            "2      False\n",
            "3      False\n",
            "4      False\n",
            "       ...  \n",
            "886    False\n",
            "887    False\n",
            "888    False\n",
            "889    False\n",
            "890    False\n",
            "Name: Age, Length: 891, dtype: bool\n",
            "-----------------------------------------------------------------\n",
            "Cantidad de datos que cumplen la condición: 5\n",
            "-----------------------------------------------------------------\n",
            "     PassengerId  Survived  Pclass  ...     Fare Cabin  Embarked\n",
            "96            97         0       1  ...  34.6542    A5         C\n",
            "116          117         0       3  ...   7.7500   NaN         Q\n",
            "493          494         0       1  ...  49.5042   NaN         C\n",
            "630          631         1       1  ...  30.0000   A23         S\n",
            "851          852         0       3  ...   7.7750   NaN         S\n",
            "\n",
            "[5 rows x 12 columns]\n"
          ],
          "name": "stdout"
        }
      ]
    },
    {
      "cell_type": "markdown",
      "metadata": {
        "id": "kcW_F-O_Fyk2"
      },
      "source": [
        "Otra forma de obtener los datos filtrdos es mediante el método `query()`, el cual puede especificarse de la siguiente forma\n",
        "\n",
        "```\n",
        "df_filtered = df.query(\"condición\")\n",
        "```\n",
        "en donde la `\"condición\"` representa un string con la condición a evaluar. El objeto obtenido `df_filtered` mediante el método `query`, corresponde a `DataFrame`.\n",
        "\n",
        "Filtremos aquellas personas mayores a 70 años en el dataset del titanic. "
      ]
    },
    {
      "cell_type": "code",
      "metadata": {
        "colab": {
          "base_uri": "https://localhost:8080/",
          "height": 205
        },
        "id": "B2Taa5yKMG5T",
        "outputId": "d4ecbc49-41e4-4ad8-e9b5-ecf4e939ebb6"
      },
      "source": [
        "df.query(\"Age > 70\")"
      ],
      "execution_count": 13,
      "outputs": [
        {
          "output_type": "execute_result",
          "data": {
            "text/html": [
              "<div>\n",
              "<style scoped>\n",
              "    .dataframe tbody tr th:only-of-type {\n",
              "        vertical-align: middle;\n",
              "    }\n",
              "\n",
              "    .dataframe tbody tr th {\n",
              "        vertical-align: top;\n",
              "    }\n",
              "\n",
              "    .dataframe thead th {\n",
              "        text-align: right;\n",
              "    }\n",
              "</style>\n",
              "<table border=\"1\" class=\"dataframe\">\n",
              "  <thead>\n",
              "    <tr style=\"text-align: right;\">\n",
              "      <th></th>\n",
              "      <th>PassengerId</th>\n",
              "      <th>Survived</th>\n",
              "      <th>Pclass</th>\n",
              "      <th>Name</th>\n",
              "      <th>Sex</th>\n",
              "      <th>Age</th>\n",
              "      <th>SibSp</th>\n",
              "      <th>Parch</th>\n",
              "      <th>Ticket</th>\n",
              "      <th>Fare</th>\n",
              "      <th>Cabin</th>\n",
              "      <th>Embarked</th>\n",
              "    </tr>\n",
              "  </thead>\n",
              "  <tbody>\n",
              "    <tr>\n",
              "      <th>96</th>\n",
              "      <td>97</td>\n",
              "      <td>0</td>\n",
              "      <td>1</td>\n",
              "      <td>Goldschmidt, Mr. George B</td>\n",
              "      <td>male</td>\n",
              "      <td>71.0</td>\n",
              "      <td>0</td>\n",
              "      <td>0</td>\n",
              "      <td>PC 17754</td>\n",
              "      <td>34.6542</td>\n",
              "      <td>A5</td>\n",
              "      <td>C</td>\n",
              "    </tr>\n",
              "    <tr>\n",
              "      <th>116</th>\n",
              "      <td>117</td>\n",
              "      <td>0</td>\n",
              "      <td>3</td>\n",
              "      <td>Connors, Mr. Patrick</td>\n",
              "      <td>male</td>\n",
              "      <td>70.5</td>\n",
              "      <td>0</td>\n",
              "      <td>0</td>\n",
              "      <td>370369</td>\n",
              "      <td>7.7500</td>\n",
              "      <td>NaN</td>\n",
              "      <td>Q</td>\n",
              "    </tr>\n",
              "    <tr>\n",
              "      <th>493</th>\n",
              "      <td>494</td>\n",
              "      <td>0</td>\n",
              "      <td>1</td>\n",
              "      <td>Artagaveytia, Mr. Ramon</td>\n",
              "      <td>male</td>\n",
              "      <td>71.0</td>\n",
              "      <td>0</td>\n",
              "      <td>0</td>\n",
              "      <td>PC 17609</td>\n",
              "      <td>49.5042</td>\n",
              "      <td>NaN</td>\n",
              "      <td>C</td>\n",
              "    </tr>\n",
              "    <tr>\n",
              "      <th>630</th>\n",
              "      <td>631</td>\n",
              "      <td>1</td>\n",
              "      <td>1</td>\n",
              "      <td>Barkworth, Mr. Algernon Henry Wilson</td>\n",
              "      <td>male</td>\n",
              "      <td>80.0</td>\n",
              "      <td>0</td>\n",
              "      <td>0</td>\n",
              "      <td>27042</td>\n",
              "      <td>30.0000</td>\n",
              "      <td>A23</td>\n",
              "      <td>S</td>\n",
              "    </tr>\n",
              "    <tr>\n",
              "      <th>851</th>\n",
              "      <td>852</td>\n",
              "      <td>0</td>\n",
              "      <td>3</td>\n",
              "      <td>Svensson, Mr. Johan</td>\n",
              "      <td>male</td>\n",
              "      <td>74.0</td>\n",
              "      <td>0</td>\n",
              "      <td>0</td>\n",
              "      <td>347060</td>\n",
              "      <td>7.7750</td>\n",
              "      <td>NaN</td>\n",
              "      <td>S</td>\n",
              "    </tr>\n",
              "  </tbody>\n",
              "</table>\n",
              "</div>"
            ],
            "text/plain": [
              "     PassengerId  Survived  Pclass  ...     Fare Cabin  Embarked\n",
              "96            97         0       1  ...  34.6542    A5         C\n",
              "116          117         0       3  ...   7.7500   NaN         Q\n",
              "493          494         0       1  ...  49.5042   NaN         C\n",
              "630          631         1       1  ...  30.0000   A23         S\n",
              "851          852         0       3  ...   7.7750   NaN         S\n",
              "\n",
              "[5 rows x 12 columns]"
            ]
          },
          "metadata": {
            "tags": []
          },
          "execution_count": 13
        }
      ]
    },
    {
      "cell_type": "markdown",
      "metadata": {
        "id": "wuocNzGRMKpQ"
      },
      "source": [
        "### Selecciones con multiples condicionales\n",
        "\n",
        "Para concatenar multiples condiciones debemos realizarlo determinando cada condicione entre paréntesis, seguida de los operardores lógicos  `&,|`. La sintáxis general para condiciones conectadas por el operador `&` es la siguiente\n",
        "\n",
        "```\n",
        "df[(cond)&(cond)]\n",
        "```\n",
        "\n",
        "Obtengamos, por ejemplo, la población mayor a 40 años con 2 hijos:"
      ]
    },
    {
      "cell_type": "code",
      "metadata": {
        "colab": {
          "base_uri": "https://localhost:8080/",
          "height": 175
        },
        "id": "osl0j0DhQPLH",
        "outputId": "d5c4996c-2222-46f6-a4b2-c3372be75e75"
      },
      "source": [
        "df[(df.Age>40)&(df.SibSp==2)]"
      ],
      "execution_count": 14,
      "outputs": [
        {
          "output_type": "execute_result",
          "data": {
            "text/html": [
              "<div>\n",
              "<style scoped>\n",
              "    .dataframe tbody tr th:only-of-type {\n",
              "        vertical-align: middle;\n",
              "    }\n",
              "\n",
              "    .dataframe tbody tr th {\n",
              "        vertical-align: top;\n",
              "    }\n",
              "\n",
              "    .dataframe thead th {\n",
              "        text-align: right;\n",
              "    }\n",
              "</style>\n",
              "<table border=\"1\" class=\"dataframe\">\n",
              "  <thead>\n",
              "    <tr style=\"text-align: right;\">\n",
              "      <th></th>\n",
              "      <th>PassengerId</th>\n",
              "      <th>Survived</th>\n",
              "      <th>Pclass</th>\n",
              "      <th>Name</th>\n",
              "      <th>Sex</th>\n",
              "      <th>Age</th>\n",
              "      <th>SibSp</th>\n",
              "      <th>Parch</th>\n",
              "      <th>Ticket</th>\n",
              "      <th>Fare</th>\n",
              "      <th>Cabin</th>\n",
              "      <th>Embarked</th>\n",
              "    </tr>\n",
              "  </thead>\n",
              "  <tbody>\n",
              "    <tr>\n",
              "      <th>245</th>\n",
              "      <td>246</td>\n",
              "      <td>0</td>\n",
              "      <td>1</td>\n",
              "      <td>Minahan, Dr. William Edward</td>\n",
              "      <td>male</td>\n",
              "      <td>44.0</td>\n",
              "      <td>2</td>\n",
              "      <td>0</td>\n",
              "      <td>19928</td>\n",
              "      <td>90.0000</td>\n",
              "      <td>C78</td>\n",
              "      <td>Q</td>\n",
              "    </tr>\n",
              "    <tr>\n",
              "      <th>571</th>\n",
              "      <td>572</td>\n",
              "      <td>1</td>\n",
              "      <td>1</td>\n",
              "      <td>Appleton, Mrs. Edward Dale (Charlotte Lamson)</td>\n",
              "      <td>female</td>\n",
              "      <td>53.0</td>\n",
              "      <td>2</td>\n",
              "      <td>0</td>\n",
              "      <td>11769</td>\n",
              "      <td>51.4792</td>\n",
              "      <td>C101</td>\n",
              "      <td>S</td>\n",
              "    </tr>\n",
              "    <tr>\n",
              "      <th>660</th>\n",
              "      <td>661</td>\n",
              "      <td>1</td>\n",
              "      <td>1</td>\n",
              "      <td>Frauenthal, Dr. Henry William</td>\n",
              "      <td>male</td>\n",
              "      <td>50.0</td>\n",
              "      <td>2</td>\n",
              "      <td>0</td>\n",
              "      <td>PC 17611</td>\n",
              "      <td>133.6500</td>\n",
              "      <td>NaN</td>\n",
              "      <td>S</td>\n",
              "    </tr>\n",
              "    <tr>\n",
              "      <th>860</th>\n",
              "      <td>861</td>\n",
              "      <td>0</td>\n",
              "      <td>3</td>\n",
              "      <td>Hansen, Mr. Claus Peter</td>\n",
              "      <td>male</td>\n",
              "      <td>41.0</td>\n",
              "      <td>2</td>\n",
              "      <td>0</td>\n",
              "      <td>350026</td>\n",
              "      <td>14.1083</td>\n",
              "      <td>NaN</td>\n",
              "      <td>S</td>\n",
              "    </tr>\n",
              "  </tbody>\n",
              "</table>\n",
              "</div>"
            ],
            "text/plain": [
              "     PassengerId  Survived  Pclass  ...      Fare Cabin  Embarked\n",
              "245          246         0       1  ...   90.0000   C78         Q\n",
              "571          572         1       1  ...   51.4792  C101         S\n",
              "660          661         1       1  ...  133.6500   NaN         S\n",
              "860          861         0       3  ...   14.1083   NaN         S\n",
              "\n",
              "[4 rows x 12 columns]"
            ]
          },
          "metadata": {
            "tags": []
          },
          "execution_count": 14
        }
      ]
    },
    {
      "cell_type": "markdown",
      "metadata": {
        "id": "j9MOJd80Q2Zr"
      },
      "source": [
        "Extraigamos la población que sea mayor a 70 o tenga 5 hijos:"
      ]
    },
    {
      "cell_type": "code",
      "metadata": {
        "colab": {
          "base_uri": "https://localhost:8080/",
          "height": 362
        },
        "id": "wbvJvTGQQOHM",
        "outputId": "430d7570-5b58-4851-f44c-485e7468586d"
      },
      "source": [
        "df[(df.Age>70)|(df.SibSp==5)]"
      ],
      "execution_count": 15,
      "outputs": [
        {
          "output_type": "execute_result",
          "data": {
            "text/html": [
              "<div>\n",
              "<style scoped>\n",
              "    .dataframe tbody tr th:only-of-type {\n",
              "        vertical-align: middle;\n",
              "    }\n",
              "\n",
              "    .dataframe tbody tr th {\n",
              "        vertical-align: top;\n",
              "    }\n",
              "\n",
              "    .dataframe thead th {\n",
              "        text-align: right;\n",
              "    }\n",
              "</style>\n",
              "<table border=\"1\" class=\"dataframe\">\n",
              "  <thead>\n",
              "    <tr style=\"text-align: right;\">\n",
              "      <th></th>\n",
              "      <th>PassengerId</th>\n",
              "      <th>Survived</th>\n",
              "      <th>Pclass</th>\n",
              "      <th>Name</th>\n",
              "      <th>Sex</th>\n",
              "      <th>Age</th>\n",
              "      <th>SibSp</th>\n",
              "      <th>Parch</th>\n",
              "      <th>Ticket</th>\n",
              "      <th>Fare</th>\n",
              "      <th>Cabin</th>\n",
              "      <th>Embarked</th>\n",
              "    </tr>\n",
              "  </thead>\n",
              "  <tbody>\n",
              "    <tr>\n",
              "      <th>59</th>\n",
              "      <td>60</td>\n",
              "      <td>0</td>\n",
              "      <td>3</td>\n",
              "      <td>Goodwin, Master. William Frederick</td>\n",
              "      <td>male</td>\n",
              "      <td>11.0</td>\n",
              "      <td>5</td>\n",
              "      <td>2</td>\n",
              "      <td>CA 2144</td>\n",
              "      <td>46.9000</td>\n",
              "      <td>NaN</td>\n",
              "      <td>S</td>\n",
              "    </tr>\n",
              "    <tr>\n",
              "      <th>71</th>\n",
              "      <td>72</td>\n",
              "      <td>0</td>\n",
              "      <td>3</td>\n",
              "      <td>Goodwin, Miss. Lillian Amy</td>\n",
              "      <td>female</td>\n",
              "      <td>16.0</td>\n",
              "      <td>5</td>\n",
              "      <td>2</td>\n",
              "      <td>CA 2144</td>\n",
              "      <td>46.9000</td>\n",
              "      <td>NaN</td>\n",
              "      <td>S</td>\n",
              "    </tr>\n",
              "    <tr>\n",
              "      <th>96</th>\n",
              "      <td>97</td>\n",
              "      <td>0</td>\n",
              "      <td>1</td>\n",
              "      <td>Goldschmidt, Mr. George B</td>\n",
              "      <td>male</td>\n",
              "      <td>71.0</td>\n",
              "      <td>0</td>\n",
              "      <td>0</td>\n",
              "      <td>PC 17754</td>\n",
              "      <td>34.6542</td>\n",
              "      <td>A5</td>\n",
              "      <td>C</td>\n",
              "    </tr>\n",
              "    <tr>\n",
              "      <th>116</th>\n",
              "      <td>117</td>\n",
              "      <td>0</td>\n",
              "      <td>3</td>\n",
              "      <td>Connors, Mr. Patrick</td>\n",
              "      <td>male</td>\n",
              "      <td>70.5</td>\n",
              "      <td>0</td>\n",
              "      <td>0</td>\n",
              "      <td>370369</td>\n",
              "      <td>7.7500</td>\n",
              "      <td>NaN</td>\n",
              "      <td>Q</td>\n",
              "    </tr>\n",
              "    <tr>\n",
              "      <th>386</th>\n",
              "      <td>387</td>\n",
              "      <td>0</td>\n",
              "      <td>3</td>\n",
              "      <td>Goodwin, Master. Sidney Leonard</td>\n",
              "      <td>male</td>\n",
              "      <td>1.0</td>\n",
              "      <td>5</td>\n",
              "      <td>2</td>\n",
              "      <td>CA 2144</td>\n",
              "      <td>46.9000</td>\n",
              "      <td>NaN</td>\n",
              "      <td>S</td>\n",
              "    </tr>\n",
              "    <tr>\n",
              "      <th>480</th>\n",
              "      <td>481</td>\n",
              "      <td>0</td>\n",
              "      <td>3</td>\n",
              "      <td>Goodwin, Master. Harold Victor</td>\n",
              "      <td>male</td>\n",
              "      <td>9.0</td>\n",
              "      <td>5</td>\n",
              "      <td>2</td>\n",
              "      <td>CA 2144</td>\n",
              "      <td>46.9000</td>\n",
              "      <td>NaN</td>\n",
              "      <td>S</td>\n",
              "    </tr>\n",
              "    <tr>\n",
              "      <th>493</th>\n",
              "      <td>494</td>\n",
              "      <td>0</td>\n",
              "      <td>1</td>\n",
              "      <td>Artagaveytia, Mr. Ramon</td>\n",
              "      <td>male</td>\n",
              "      <td>71.0</td>\n",
              "      <td>0</td>\n",
              "      <td>0</td>\n",
              "      <td>PC 17609</td>\n",
              "      <td>49.5042</td>\n",
              "      <td>NaN</td>\n",
              "      <td>C</td>\n",
              "    </tr>\n",
              "    <tr>\n",
              "      <th>630</th>\n",
              "      <td>631</td>\n",
              "      <td>1</td>\n",
              "      <td>1</td>\n",
              "      <td>Barkworth, Mr. Algernon Henry Wilson</td>\n",
              "      <td>male</td>\n",
              "      <td>80.0</td>\n",
              "      <td>0</td>\n",
              "      <td>0</td>\n",
              "      <td>27042</td>\n",
              "      <td>30.0000</td>\n",
              "      <td>A23</td>\n",
              "      <td>S</td>\n",
              "    </tr>\n",
              "    <tr>\n",
              "      <th>683</th>\n",
              "      <td>684</td>\n",
              "      <td>0</td>\n",
              "      <td>3</td>\n",
              "      <td>Goodwin, Mr. Charles Edward</td>\n",
              "      <td>male</td>\n",
              "      <td>14.0</td>\n",
              "      <td>5</td>\n",
              "      <td>2</td>\n",
              "      <td>CA 2144</td>\n",
              "      <td>46.9000</td>\n",
              "      <td>NaN</td>\n",
              "      <td>S</td>\n",
              "    </tr>\n",
              "    <tr>\n",
              "      <th>851</th>\n",
              "      <td>852</td>\n",
              "      <td>0</td>\n",
              "      <td>3</td>\n",
              "      <td>Svensson, Mr. Johan</td>\n",
              "      <td>male</td>\n",
              "      <td>74.0</td>\n",
              "      <td>0</td>\n",
              "      <td>0</td>\n",
              "      <td>347060</td>\n",
              "      <td>7.7750</td>\n",
              "      <td>NaN</td>\n",
              "      <td>S</td>\n",
              "    </tr>\n",
              "  </tbody>\n",
              "</table>\n",
              "</div>"
            ],
            "text/plain": [
              "     PassengerId  Survived  Pclass  ...     Fare Cabin  Embarked\n",
              "59            60         0       3  ...  46.9000   NaN         S\n",
              "71            72         0       3  ...  46.9000   NaN         S\n",
              "96            97         0       1  ...  34.6542    A5         C\n",
              "116          117         0       3  ...   7.7500   NaN         Q\n",
              "386          387         0       3  ...  46.9000   NaN         S\n",
              "480          481         0       3  ...  46.9000   NaN         S\n",
              "493          494         0       1  ...  49.5042   NaN         C\n",
              "630          631         1       1  ...  30.0000   A23         S\n",
              "683          684         0       3  ...  46.9000   NaN         S\n",
              "851          852         0       3  ...   7.7750   NaN         S\n",
              "\n",
              "[10 rows x 12 columns]"
            ]
          },
          "metadata": {
            "tags": []
          },
          "execution_count": 15
        }
      ]
    },
    {
      "cell_type": "markdown",
      "metadata": {
        "id": "Ms5Ps5ePRYwk"
      },
      "source": [
        "Cualquiera de los dos filtros aplicados en las celdas anteriores, pueden realizarse mediante el método `query()`de un dataframe:"
      ]
    },
    {
      "cell_type": "code",
      "metadata": {
        "colab": {
          "base_uri": "https://localhost:8080/",
          "height": 175
        },
        "id": "FkSo2wM-Qpz5",
        "outputId": "c65ca434-e559-4f89-a1c3-7e96fda8708a"
      },
      "source": [
        "filtered_age = 40\n",
        "filtered_SibSp = 2\n",
        "df.query(f'(Age > {filtered_age})&(SibSp=={filtered_SibSp})')"
      ],
      "execution_count": 16,
      "outputs": [
        {
          "output_type": "execute_result",
          "data": {
            "text/html": [
              "<div>\n",
              "<style scoped>\n",
              "    .dataframe tbody tr th:only-of-type {\n",
              "        vertical-align: middle;\n",
              "    }\n",
              "\n",
              "    .dataframe tbody tr th {\n",
              "        vertical-align: top;\n",
              "    }\n",
              "\n",
              "    .dataframe thead th {\n",
              "        text-align: right;\n",
              "    }\n",
              "</style>\n",
              "<table border=\"1\" class=\"dataframe\">\n",
              "  <thead>\n",
              "    <tr style=\"text-align: right;\">\n",
              "      <th></th>\n",
              "      <th>PassengerId</th>\n",
              "      <th>Survived</th>\n",
              "      <th>Pclass</th>\n",
              "      <th>Name</th>\n",
              "      <th>Sex</th>\n",
              "      <th>Age</th>\n",
              "      <th>SibSp</th>\n",
              "      <th>Parch</th>\n",
              "      <th>Ticket</th>\n",
              "      <th>Fare</th>\n",
              "      <th>Cabin</th>\n",
              "      <th>Embarked</th>\n",
              "    </tr>\n",
              "  </thead>\n",
              "  <tbody>\n",
              "    <tr>\n",
              "      <th>245</th>\n",
              "      <td>246</td>\n",
              "      <td>0</td>\n",
              "      <td>1</td>\n",
              "      <td>Minahan, Dr. William Edward</td>\n",
              "      <td>male</td>\n",
              "      <td>44.0</td>\n",
              "      <td>2</td>\n",
              "      <td>0</td>\n",
              "      <td>19928</td>\n",
              "      <td>90.0000</td>\n",
              "      <td>C78</td>\n",
              "      <td>Q</td>\n",
              "    </tr>\n",
              "    <tr>\n",
              "      <th>571</th>\n",
              "      <td>572</td>\n",
              "      <td>1</td>\n",
              "      <td>1</td>\n",
              "      <td>Appleton, Mrs. Edward Dale (Charlotte Lamson)</td>\n",
              "      <td>female</td>\n",
              "      <td>53.0</td>\n",
              "      <td>2</td>\n",
              "      <td>0</td>\n",
              "      <td>11769</td>\n",
              "      <td>51.4792</td>\n",
              "      <td>C101</td>\n",
              "      <td>S</td>\n",
              "    </tr>\n",
              "    <tr>\n",
              "      <th>660</th>\n",
              "      <td>661</td>\n",
              "      <td>1</td>\n",
              "      <td>1</td>\n",
              "      <td>Frauenthal, Dr. Henry William</td>\n",
              "      <td>male</td>\n",
              "      <td>50.0</td>\n",
              "      <td>2</td>\n",
              "      <td>0</td>\n",
              "      <td>PC 17611</td>\n",
              "      <td>133.6500</td>\n",
              "      <td>NaN</td>\n",
              "      <td>S</td>\n",
              "    </tr>\n",
              "    <tr>\n",
              "      <th>860</th>\n",
              "      <td>861</td>\n",
              "      <td>0</td>\n",
              "      <td>3</td>\n",
              "      <td>Hansen, Mr. Claus Peter</td>\n",
              "      <td>male</td>\n",
              "      <td>41.0</td>\n",
              "      <td>2</td>\n",
              "      <td>0</td>\n",
              "      <td>350026</td>\n",
              "      <td>14.1083</td>\n",
              "      <td>NaN</td>\n",
              "      <td>S</td>\n",
              "    </tr>\n",
              "  </tbody>\n",
              "</table>\n",
              "</div>"
            ],
            "text/plain": [
              "     PassengerId  Survived  Pclass  ...      Fare Cabin  Embarked\n",
              "245          246         0       1  ...   90.0000   C78         Q\n",
              "571          572         1       1  ...   51.4792  C101         S\n",
              "660          661         1       1  ...  133.6500   NaN         S\n",
              "860          861         0       3  ...   14.1083   NaN         S\n",
              "\n",
              "[4 rows x 12 columns]"
            ]
          },
          "metadata": {
            "tags": []
          },
          "execution_count": 16
        }
      ]
    },
    {
      "cell_type": "markdown",
      "metadata": {
        "id": "GC60zMhqSKI8"
      },
      "source": [
        "### Valores únicos\n",
        "\n",
        "Para obtener valores únicos en un dataframe, usamos el método `unique()`, de la siguiente forma:\n",
        "\n",
        "```\n",
        "df['Nombre_Columna'].unique\n",
        "```\n",
        " \n",
        "Este método aplica, tanto para variables categóricas como numéricas.\n",
        "\n",
        "Obtengamos los valores únicos de ciertas variables categóricas.\n",
        "\n",
        "**Nota:** Para ello usemos la función `select_dtypes` y especifiquemos en la selección el tipo de dato como `object`:"
      ]
    },
    {
      "cell_type": "code",
      "metadata": {
        "colab": {
          "base_uri": "https://localhost:8080/"
        },
        "id": "V2LjmFjYS6HZ",
        "outputId": "8252f1d4-1b0a-4194-d936-40765ce0635d"
      },
      "source": [
        "df.select_dtypes('object').columns"
      ],
      "execution_count": 17,
      "outputs": [
        {
          "output_type": "execute_result",
          "data": {
            "text/plain": [
              "Index(['Name', 'Sex', 'Ticket', 'Cabin', 'Embarked'], dtype='object')"
            ]
          },
          "metadata": {
            "tags": []
          },
          "execution_count": 17
        }
      ]
    },
    {
      "cell_type": "markdown",
      "metadata": {
        "id": "d1EHHqNyTaEK"
      },
      "source": [
        "Tomemos las variables `Cabin` y `Embarked` para ver los valores únicos:"
      ]
    },
    {
      "cell_type": "code",
      "metadata": {
        "colab": {
          "base_uri": "https://localhost:8080/"
        },
        "id": "B-zfaHnDUP7Y",
        "outputId": "7637a2c4-6bbd-4f38-b7a8-d242f4719cdc"
      },
      "source": [
        "df.Cabin.unique()"
      ],
      "execution_count": 18,
      "outputs": [
        {
          "output_type": "execute_result",
          "data": {
            "text/plain": [
              "array([nan, 'C85', 'C123', 'E46', 'G6', 'C103', 'D56', 'A6',\n",
              "       'C23 C25 C27', 'B78', 'D33', 'B30', 'C52', 'B28', 'C83', 'F33',\n",
              "       'F G73', 'E31', 'A5', 'D10 D12', 'D26', 'C110', 'B58 B60', 'E101',\n",
              "       'F E69', 'D47', 'B86', 'F2', 'C2', 'E33', 'B19', 'A7', 'C49', 'F4',\n",
              "       'A32', 'B4', 'B80', 'A31', 'D36', 'D15', 'C93', 'C78', 'D35',\n",
              "       'C87', 'B77', 'E67', 'B94', 'C125', 'C99', 'C118', 'D7', 'A19',\n",
              "       'B49', 'D', 'C22 C26', 'C106', 'C65', 'E36', 'C54',\n",
              "       'B57 B59 B63 B66', 'C7', 'E34', 'C32', 'B18', 'C124', 'C91', 'E40',\n",
              "       'T', 'C128', 'D37', 'B35', 'E50', 'C82', 'B96 B98', 'E10', 'E44',\n",
              "       'A34', 'C104', 'C111', 'C92', 'E38', 'D21', 'E12', 'E63', 'A14',\n",
              "       'B37', 'C30', 'D20', 'B79', 'E25', 'D46', 'B73', 'C95', 'B38',\n",
              "       'B39', 'B22', 'C86', 'C70', 'A16', 'C101', 'C68', 'A10', 'E68',\n",
              "       'B41', 'A20', 'D19', 'D50', 'D9', 'A23', 'B50', 'A26', 'D48',\n",
              "       'E58', 'C126', 'B71', 'B51 B53 B55', 'D49', 'B5', 'B20', 'F G63',\n",
              "       'C62 C64', 'E24', 'C90', 'C45', 'E8', 'B101', 'D45', 'C46', 'D30',\n",
              "       'E121', 'D11', 'E77', 'F38', 'B3', 'D6', 'B82 B84', 'D17', 'A36',\n",
              "       'B102', 'B69', 'E49', 'C47', 'D28', 'E17', 'A24', 'C50', 'B42',\n",
              "       'C148'], dtype=object)"
            ]
          },
          "metadata": {
            "tags": []
          },
          "execution_count": 18
        }
      ]
    },
    {
      "cell_type": "code",
      "metadata": {
        "colab": {
          "base_uri": "https://localhost:8080/"
        },
        "id": "GjE5IbNOUTOk",
        "outputId": "f1df4110-6a59-447e-9978-cef2e7ddcac9"
      },
      "source": [
        "df.Embarked.unique()"
      ],
      "execution_count": 19,
      "outputs": [
        {
          "output_type": "execute_result",
          "data": {
            "text/plain": [
              "array(['S', 'C', 'Q', nan], dtype=object)"
            ]
          },
          "metadata": {
            "tags": []
          },
          "execution_count": 19
        }
      ]
    },
    {
      "cell_type": "markdown",
      "metadata": {
        "id": "zm6Csg2EUXGZ"
      },
      "source": [
        "#### Cuentas por clase.\n",
        "\n",
        "Para realizar un conteo de clases (en donde las variables asociadas pueden ser categóricas o numéricas) por columna, usamos el método `value_counts`. Realicemos un conteo en dos tipos de variables: una numérica y otra categórica: "
      ]
    },
    {
      "cell_type": "code",
      "metadata": {
        "colab": {
          "base_uri": "https://localhost:8080/"
        },
        "id": "E_p3_P1qU8Or",
        "outputId": "bd61076f-a4d5-4391-bc11-2cf6076e0f7a"
      },
      "source": [
        "df.select_dtypes('object').columns"
      ],
      "execution_count": 20,
      "outputs": [
        {
          "output_type": "execute_result",
          "data": {
            "text/plain": [
              "Index(['Name', 'Sex', 'Ticket', 'Cabin', 'Embarked'], dtype='object')"
            ]
          },
          "metadata": {
            "tags": []
          },
          "execution_count": 20
        }
      ]
    },
    {
      "cell_type": "code",
      "metadata": {
        "colab": {
          "base_uri": "https://localhost:8080/"
        },
        "id": "hCBwzUGbVbE6",
        "outputId": "100bff51-2f09-4a33-92ac-bfb3476e5f8e"
      },
      "source": [
        "df.Sex.value_counts()"
      ],
      "execution_count": 21,
      "outputs": [
        {
          "output_type": "execute_result",
          "data": {
            "text/plain": [
              "male      577\n",
              "female    314\n",
              "Name: Sex, dtype: int64"
            ]
          },
          "metadata": {
            "tags": []
          },
          "execution_count": 21
        }
      ]
    },
    {
      "cell_type": "code",
      "metadata": {
        "colab": {
          "base_uri": "https://localhost:8080/"
        },
        "id": "lxF3FZriU_1_",
        "outputId": "fa0a1b3f-b20b-472c-98e6-b547cd731c2a"
      },
      "source": [
        "df.select_dtypes('number').columns"
      ],
      "execution_count": 22,
      "outputs": [
        {
          "output_type": "execute_result",
          "data": {
            "text/plain": [
              "Index(['PassengerId', 'Survived', 'Pclass', 'Age', 'SibSp', 'Parch', 'Fare'], dtype='object')"
            ]
          },
          "metadata": {
            "tags": []
          },
          "execution_count": 22
        }
      ]
    },
    {
      "cell_type": "code",
      "metadata": {
        "colab": {
          "base_uri": "https://localhost:8080/"
        },
        "id": "wRsxDZ5MVDYt",
        "outputId": "a4406d0c-143a-4a4e-b5f8-794ac4ad8b20"
      },
      "source": [
        "df.Pclass.value_counts()"
      ],
      "execution_count": 23,
      "outputs": [
        {
          "output_type": "execute_result",
          "data": {
            "text/plain": [
              "3    491\n",
              "1    216\n",
              "2    184\n",
              "Name: Pclass, dtype: int64"
            ]
          },
          "metadata": {
            "tags": []
          },
          "execution_count": 23
        }
      ]
    },
    {
      "cell_type": "markdown",
      "metadata": {
        "id": "eLSsz-33VlOr"
      },
      "source": [
        "### Organización de datos\n",
        "\n",
        "Los datos pueden ser organizados en torno a una columna, de forma ascendente o descendente. Para esto, usamos la función `sort_values` de la forma\n",
        "\n",
        "```\n",
        "df.sort_values('Nombre_Columna', ascending=True/False)\n",
        "```\n",
        "\n",
        "en donde el parámetro `ascending` nos indica si los datos son ordenados de forma ascendente cuando el valor es `True`, o descendente, cuando el valor es `False`. \n",
        "\n",
        "Organicemos los datos del titanic, por edad, de forma ascendente y descendente:"
      ]
    },
    {
      "cell_type": "code",
      "metadata": {
        "colab": {
          "base_uri": "https://localhost:8080/",
          "height": 518
        },
        "id": "lkNysOsSb9V4",
        "outputId": "789ca31e-c8c0-428e-d778-aa725c6a4e7a"
      },
      "source": [
        "df.sort_values('Age', ascending=True).head(15)"
      ],
      "execution_count": 24,
      "outputs": [
        {
          "output_type": "execute_result",
          "data": {
            "text/html": [
              "<div>\n",
              "<style scoped>\n",
              "    .dataframe tbody tr th:only-of-type {\n",
              "        vertical-align: middle;\n",
              "    }\n",
              "\n",
              "    .dataframe tbody tr th {\n",
              "        vertical-align: top;\n",
              "    }\n",
              "\n",
              "    .dataframe thead th {\n",
              "        text-align: right;\n",
              "    }\n",
              "</style>\n",
              "<table border=\"1\" class=\"dataframe\">\n",
              "  <thead>\n",
              "    <tr style=\"text-align: right;\">\n",
              "      <th></th>\n",
              "      <th>PassengerId</th>\n",
              "      <th>Survived</th>\n",
              "      <th>Pclass</th>\n",
              "      <th>Name</th>\n",
              "      <th>Sex</th>\n",
              "      <th>Age</th>\n",
              "      <th>SibSp</th>\n",
              "      <th>Parch</th>\n",
              "      <th>Ticket</th>\n",
              "      <th>Fare</th>\n",
              "      <th>Cabin</th>\n",
              "      <th>Embarked</th>\n",
              "    </tr>\n",
              "  </thead>\n",
              "  <tbody>\n",
              "    <tr>\n",
              "      <th>803</th>\n",
              "      <td>804</td>\n",
              "      <td>1</td>\n",
              "      <td>3</td>\n",
              "      <td>Thomas, Master. Assad Alexander</td>\n",
              "      <td>male</td>\n",
              "      <td>0.42</td>\n",
              "      <td>0</td>\n",
              "      <td>1</td>\n",
              "      <td>2625</td>\n",
              "      <td>8.5167</td>\n",
              "      <td>NaN</td>\n",
              "      <td>C</td>\n",
              "    </tr>\n",
              "    <tr>\n",
              "      <th>755</th>\n",
              "      <td>756</td>\n",
              "      <td>1</td>\n",
              "      <td>2</td>\n",
              "      <td>Hamalainen, Master. Viljo</td>\n",
              "      <td>male</td>\n",
              "      <td>0.67</td>\n",
              "      <td>1</td>\n",
              "      <td>1</td>\n",
              "      <td>250649</td>\n",
              "      <td>14.5000</td>\n",
              "      <td>NaN</td>\n",
              "      <td>S</td>\n",
              "    </tr>\n",
              "    <tr>\n",
              "      <th>644</th>\n",
              "      <td>645</td>\n",
              "      <td>1</td>\n",
              "      <td>3</td>\n",
              "      <td>Baclini, Miss. Eugenie</td>\n",
              "      <td>female</td>\n",
              "      <td>0.75</td>\n",
              "      <td>2</td>\n",
              "      <td>1</td>\n",
              "      <td>2666</td>\n",
              "      <td>19.2583</td>\n",
              "      <td>NaN</td>\n",
              "      <td>C</td>\n",
              "    </tr>\n",
              "    <tr>\n",
              "      <th>469</th>\n",
              "      <td>470</td>\n",
              "      <td>1</td>\n",
              "      <td>3</td>\n",
              "      <td>Baclini, Miss. Helene Barbara</td>\n",
              "      <td>female</td>\n",
              "      <td>0.75</td>\n",
              "      <td>2</td>\n",
              "      <td>1</td>\n",
              "      <td>2666</td>\n",
              "      <td>19.2583</td>\n",
              "      <td>NaN</td>\n",
              "      <td>C</td>\n",
              "    </tr>\n",
              "    <tr>\n",
              "      <th>78</th>\n",
              "      <td>79</td>\n",
              "      <td>1</td>\n",
              "      <td>2</td>\n",
              "      <td>Caldwell, Master. Alden Gates</td>\n",
              "      <td>male</td>\n",
              "      <td>0.83</td>\n",
              "      <td>0</td>\n",
              "      <td>2</td>\n",
              "      <td>248738</td>\n",
              "      <td>29.0000</td>\n",
              "      <td>NaN</td>\n",
              "      <td>S</td>\n",
              "    </tr>\n",
              "    <tr>\n",
              "      <th>831</th>\n",
              "      <td>832</td>\n",
              "      <td>1</td>\n",
              "      <td>2</td>\n",
              "      <td>Richards, Master. George Sibley</td>\n",
              "      <td>male</td>\n",
              "      <td>0.83</td>\n",
              "      <td>1</td>\n",
              "      <td>1</td>\n",
              "      <td>29106</td>\n",
              "      <td>18.7500</td>\n",
              "      <td>NaN</td>\n",
              "      <td>S</td>\n",
              "    </tr>\n",
              "    <tr>\n",
              "      <th>305</th>\n",
              "      <td>306</td>\n",
              "      <td>1</td>\n",
              "      <td>1</td>\n",
              "      <td>Allison, Master. Hudson Trevor</td>\n",
              "      <td>male</td>\n",
              "      <td>0.92</td>\n",
              "      <td>1</td>\n",
              "      <td>2</td>\n",
              "      <td>113781</td>\n",
              "      <td>151.5500</td>\n",
              "      <td>C22 C26</td>\n",
              "      <td>S</td>\n",
              "    </tr>\n",
              "    <tr>\n",
              "      <th>827</th>\n",
              "      <td>828</td>\n",
              "      <td>1</td>\n",
              "      <td>2</td>\n",
              "      <td>Mallet, Master. Andre</td>\n",
              "      <td>male</td>\n",
              "      <td>1.00</td>\n",
              "      <td>0</td>\n",
              "      <td>2</td>\n",
              "      <td>S.C./PARIS 2079</td>\n",
              "      <td>37.0042</td>\n",
              "      <td>NaN</td>\n",
              "      <td>C</td>\n",
              "    </tr>\n",
              "    <tr>\n",
              "      <th>381</th>\n",
              "      <td>382</td>\n",
              "      <td>1</td>\n",
              "      <td>3</td>\n",
              "      <td>Nakid, Miss. Maria (\"Mary\")</td>\n",
              "      <td>female</td>\n",
              "      <td>1.00</td>\n",
              "      <td>0</td>\n",
              "      <td>2</td>\n",
              "      <td>2653</td>\n",
              "      <td>15.7417</td>\n",
              "      <td>NaN</td>\n",
              "      <td>C</td>\n",
              "    </tr>\n",
              "    <tr>\n",
              "      <th>164</th>\n",
              "      <td>165</td>\n",
              "      <td>0</td>\n",
              "      <td>3</td>\n",
              "      <td>Panula, Master. Eino Viljami</td>\n",
              "      <td>male</td>\n",
              "      <td>1.00</td>\n",
              "      <td>4</td>\n",
              "      <td>1</td>\n",
              "      <td>3101295</td>\n",
              "      <td>39.6875</td>\n",
              "      <td>NaN</td>\n",
              "      <td>S</td>\n",
              "    </tr>\n",
              "    <tr>\n",
              "      <th>183</th>\n",
              "      <td>184</td>\n",
              "      <td>1</td>\n",
              "      <td>2</td>\n",
              "      <td>Becker, Master. Richard F</td>\n",
              "      <td>male</td>\n",
              "      <td>1.00</td>\n",
              "      <td>2</td>\n",
              "      <td>1</td>\n",
              "      <td>230136</td>\n",
              "      <td>39.0000</td>\n",
              "      <td>F4</td>\n",
              "      <td>S</td>\n",
              "    </tr>\n",
              "    <tr>\n",
              "      <th>386</th>\n",
              "      <td>387</td>\n",
              "      <td>0</td>\n",
              "      <td>3</td>\n",
              "      <td>Goodwin, Master. Sidney Leonard</td>\n",
              "      <td>male</td>\n",
              "      <td>1.00</td>\n",
              "      <td>5</td>\n",
              "      <td>2</td>\n",
              "      <td>CA 2144</td>\n",
              "      <td>46.9000</td>\n",
              "      <td>NaN</td>\n",
              "      <td>S</td>\n",
              "    </tr>\n",
              "    <tr>\n",
              "      <th>172</th>\n",
              "      <td>173</td>\n",
              "      <td>1</td>\n",
              "      <td>3</td>\n",
              "      <td>Johnson, Miss. Eleanor Ileen</td>\n",
              "      <td>female</td>\n",
              "      <td>1.00</td>\n",
              "      <td>1</td>\n",
              "      <td>1</td>\n",
              "      <td>347742</td>\n",
              "      <td>11.1333</td>\n",
              "      <td>NaN</td>\n",
              "      <td>S</td>\n",
              "    </tr>\n",
              "    <tr>\n",
              "      <th>788</th>\n",
              "      <td>789</td>\n",
              "      <td>1</td>\n",
              "      <td>3</td>\n",
              "      <td>Dean, Master. Bertram Vere</td>\n",
              "      <td>male</td>\n",
              "      <td>1.00</td>\n",
              "      <td>1</td>\n",
              "      <td>2</td>\n",
              "      <td>C.A. 2315</td>\n",
              "      <td>20.5750</td>\n",
              "      <td>NaN</td>\n",
              "      <td>S</td>\n",
              "    </tr>\n",
              "    <tr>\n",
              "      <th>642</th>\n",
              "      <td>643</td>\n",
              "      <td>0</td>\n",
              "      <td>3</td>\n",
              "      <td>Skoog, Miss. Margit Elizabeth</td>\n",
              "      <td>female</td>\n",
              "      <td>2.00</td>\n",
              "      <td>3</td>\n",
              "      <td>2</td>\n",
              "      <td>347088</td>\n",
              "      <td>27.9000</td>\n",
              "      <td>NaN</td>\n",
              "      <td>S</td>\n",
              "    </tr>\n",
              "  </tbody>\n",
              "</table>\n",
              "</div>"
            ],
            "text/plain": [
              "     PassengerId  Survived  Pclass  ...      Fare    Cabin  Embarked\n",
              "803          804         1       3  ...    8.5167      NaN         C\n",
              "755          756         1       2  ...   14.5000      NaN         S\n",
              "644          645         1       3  ...   19.2583      NaN         C\n",
              "469          470         1       3  ...   19.2583      NaN         C\n",
              "78            79         1       2  ...   29.0000      NaN         S\n",
              "831          832         1       2  ...   18.7500      NaN         S\n",
              "305          306         1       1  ...  151.5500  C22 C26         S\n",
              "827          828         1       2  ...   37.0042      NaN         C\n",
              "381          382         1       3  ...   15.7417      NaN         C\n",
              "164          165         0       3  ...   39.6875      NaN         S\n",
              "183          184         1       2  ...   39.0000       F4         S\n",
              "386          387         0       3  ...   46.9000      NaN         S\n",
              "172          173         1       3  ...   11.1333      NaN         S\n",
              "788          789         1       3  ...   20.5750      NaN         S\n",
              "642          643         0       3  ...   27.9000      NaN         S\n",
              "\n",
              "[15 rows x 12 columns]"
            ]
          },
          "metadata": {
            "tags": []
          },
          "execution_count": 24
        }
      ]
    },
    {
      "cell_type": "code",
      "metadata": {
        "colab": {
          "base_uri": "https://localhost:8080/",
          "height": 518
        },
        "id": "PZvIHd0vcH02",
        "outputId": "a604192b-7297-4067-c8d6-579e60ca6bc0"
      },
      "source": [
        "df.sort_values('Age', ascending=False).head(15)"
      ],
      "execution_count": 25,
      "outputs": [
        {
          "output_type": "execute_result",
          "data": {
            "text/html": [
              "<div>\n",
              "<style scoped>\n",
              "    .dataframe tbody tr th:only-of-type {\n",
              "        vertical-align: middle;\n",
              "    }\n",
              "\n",
              "    .dataframe tbody tr th {\n",
              "        vertical-align: top;\n",
              "    }\n",
              "\n",
              "    .dataframe thead th {\n",
              "        text-align: right;\n",
              "    }\n",
              "</style>\n",
              "<table border=\"1\" class=\"dataframe\">\n",
              "  <thead>\n",
              "    <tr style=\"text-align: right;\">\n",
              "      <th></th>\n",
              "      <th>PassengerId</th>\n",
              "      <th>Survived</th>\n",
              "      <th>Pclass</th>\n",
              "      <th>Name</th>\n",
              "      <th>Sex</th>\n",
              "      <th>Age</th>\n",
              "      <th>SibSp</th>\n",
              "      <th>Parch</th>\n",
              "      <th>Ticket</th>\n",
              "      <th>Fare</th>\n",
              "      <th>Cabin</th>\n",
              "      <th>Embarked</th>\n",
              "    </tr>\n",
              "  </thead>\n",
              "  <tbody>\n",
              "    <tr>\n",
              "      <th>630</th>\n",
              "      <td>631</td>\n",
              "      <td>1</td>\n",
              "      <td>1</td>\n",
              "      <td>Barkworth, Mr. Algernon Henry Wilson</td>\n",
              "      <td>male</td>\n",
              "      <td>80.0</td>\n",
              "      <td>0</td>\n",
              "      <td>0</td>\n",
              "      <td>27042</td>\n",
              "      <td>30.0000</td>\n",
              "      <td>A23</td>\n",
              "      <td>S</td>\n",
              "    </tr>\n",
              "    <tr>\n",
              "      <th>851</th>\n",
              "      <td>852</td>\n",
              "      <td>0</td>\n",
              "      <td>3</td>\n",
              "      <td>Svensson, Mr. Johan</td>\n",
              "      <td>male</td>\n",
              "      <td>74.0</td>\n",
              "      <td>0</td>\n",
              "      <td>0</td>\n",
              "      <td>347060</td>\n",
              "      <td>7.7750</td>\n",
              "      <td>NaN</td>\n",
              "      <td>S</td>\n",
              "    </tr>\n",
              "    <tr>\n",
              "      <th>493</th>\n",
              "      <td>494</td>\n",
              "      <td>0</td>\n",
              "      <td>1</td>\n",
              "      <td>Artagaveytia, Mr. Ramon</td>\n",
              "      <td>male</td>\n",
              "      <td>71.0</td>\n",
              "      <td>0</td>\n",
              "      <td>0</td>\n",
              "      <td>PC 17609</td>\n",
              "      <td>49.5042</td>\n",
              "      <td>NaN</td>\n",
              "      <td>C</td>\n",
              "    </tr>\n",
              "    <tr>\n",
              "      <th>96</th>\n",
              "      <td>97</td>\n",
              "      <td>0</td>\n",
              "      <td>1</td>\n",
              "      <td>Goldschmidt, Mr. George B</td>\n",
              "      <td>male</td>\n",
              "      <td>71.0</td>\n",
              "      <td>0</td>\n",
              "      <td>0</td>\n",
              "      <td>PC 17754</td>\n",
              "      <td>34.6542</td>\n",
              "      <td>A5</td>\n",
              "      <td>C</td>\n",
              "    </tr>\n",
              "    <tr>\n",
              "      <th>116</th>\n",
              "      <td>117</td>\n",
              "      <td>0</td>\n",
              "      <td>3</td>\n",
              "      <td>Connors, Mr. Patrick</td>\n",
              "      <td>male</td>\n",
              "      <td>70.5</td>\n",
              "      <td>0</td>\n",
              "      <td>0</td>\n",
              "      <td>370369</td>\n",
              "      <td>7.7500</td>\n",
              "      <td>NaN</td>\n",
              "      <td>Q</td>\n",
              "    </tr>\n",
              "    <tr>\n",
              "      <th>672</th>\n",
              "      <td>673</td>\n",
              "      <td>0</td>\n",
              "      <td>2</td>\n",
              "      <td>Mitchell, Mr. Henry Michael</td>\n",
              "      <td>male</td>\n",
              "      <td>70.0</td>\n",
              "      <td>0</td>\n",
              "      <td>0</td>\n",
              "      <td>C.A. 24580</td>\n",
              "      <td>10.5000</td>\n",
              "      <td>NaN</td>\n",
              "      <td>S</td>\n",
              "    </tr>\n",
              "    <tr>\n",
              "      <th>745</th>\n",
              "      <td>746</td>\n",
              "      <td>0</td>\n",
              "      <td>1</td>\n",
              "      <td>Crosby, Capt. Edward Gifford</td>\n",
              "      <td>male</td>\n",
              "      <td>70.0</td>\n",
              "      <td>1</td>\n",
              "      <td>1</td>\n",
              "      <td>WE/P 5735</td>\n",
              "      <td>71.0000</td>\n",
              "      <td>B22</td>\n",
              "      <td>S</td>\n",
              "    </tr>\n",
              "    <tr>\n",
              "      <th>33</th>\n",
              "      <td>34</td>\n",
              "      <td>0</td>\n",
              "      <td>2</td>\n",
              "      <td>Wheadon, Mr. Edward H</td>\n",
              "      <td>male</td>\n",
              "      <td>66.0</td>\n",
              "      <td>0</td>\n",
              "      <td>0</td>\n",
              "      <td>C.A. 24579</td>\n",
              "      <td>10.5000</td>\n",
              "      <td>NaN</td>\n",
              "      <td>S</td>\n",
              "    </tr>\n",
              "    <tr>\n",
              "      <th>54</th>\n",
              "      <td>55</td>\n",
              "      <td>0</td>\n",
              "      <td>1</td>\n",
              "      <td>Ostby, Mr. Engelhart Cornelius</td>\n",
              "      <td>male</td>\n",
              "      <td>65.0</td>\n",
              "      <td>0</td>\n",
              "      <td>1</td>\n",
              "      <td>113509</td>\n",
              "      <td>61.9792</td>\n",
              "      <td>B30</td>\n",
              "      <td>C</td>\n",
              "    </tr>\n",
              "    <tr>\n",
              "      <th>280</th>\n",
              "      <td>281</td>\n",
              "      <td>0</td>\n",
              "      <td>3</td>\n",
              "      <td>Duane, Mr. Frank</td>\n",
              "      <td>male</td>\n",
              "      <td>65.0</td>\n",
              "      <td>0</td>\n",
              "      <td>0</td>\n",
              "      <td>336439</td>\n",
              "      <td>7.7500</td>\n",
              "      <td>NaN</td>\n",
              "      <td>Q</td>\n",
              "    </tr>\n",
              "    <tr>\n",
              "      <th>456</th>\n",
              "      <td>457</td>\n",
              "      <td>0</td>\n",
              "      <td>1</td>\n",
              "      <td>Millet, Mr. Francis Davis</td>\n",
              "      <td>male</td>\n",
              "      <td>65.0</td>\n",
              "      <td>0</td>\n",
              "      <td>0</td>\n",
              "      <td>13509</td>\n",
              "      <td>26.5500</td>\n",
              "      <td>E38</td>\n",
              "      <td>S</td>\n",
              "    </tr>\n",
              "    <tr>\n",
              "      <th>438</th>\n",
              "      <td>439</td>\n",
              "      <td>0</td>\n",
              "      <td>1</td>\n",
              "      <td>Fortune, Mr. Mark</td>\n",
              "      <td>male</td>\n",
              "      <td>64.0</td>\n",
              "      <td>1</td>\n",
              "      <td>4</td>\n",
              "      <td>19950</td>\n",
              "      <td>263.0000</td>\n",
              "      <td>C23 C25 C27</td>\n",
              "      <td>S</td>\n",
              "    </tr>\n",
              "    <tr>\n",
              "      <th>545</th>\n",
              "      <td>546</td>\n",
              "      <td>0</td>\n",
              "      <td>1</td>\n",
              "      <td>Nicholson, Mr. Arthur Ernest</td>\n",
              "      <td>male</td>\n",
              "      <td>64.0</td>\n",
              "      <td>0</td>\n",
              "      <td>0</td>\n",
              "      <td>693</td>\n",
              "      <td>26.0000</td>\n",
              "      <td>NaN</td>\n",
              "      <td>S</td>\n",
              "    </tr>\n",
              "    <tr>\n",
              "      <th>275</th>\n",
              "      <td>276</td>\n",
              "      <td>1</td>\n",
              "      <td>1</td>\n",
              "      <td>Andrews, Miss. Kornelia Theodosia</td>\n",
              "      <td>female</td>\n",
              "      <td>63.0</td>\n",
              "      <td>1</td>\n",
              "      <td>0</td>\n",
              "      <td>13502</td>\n",
              "      <td>77.9583</td>\n",
              "      <td>D7</td>\n",
              "      <td>S</td>\n",
              "    </tr>\n",
              "    <tr>\n",
              "      <th>483</th>\n",
              "      <td>484</td>\n",
              "      <td>1</td>\n",
              "      <td>3</td>\n",
              "      <td>Turkula, Mrs. (Hedwig)</td>\n",
              "      <td>female</td>\n",
              "      <td>63.0</td>\n",
              "      <td>0</td>\n",
              "      <td>0</td>\n",
              "      <td>4134</td>\n",
              "      <td>9.5875</td>\n",
              "      <td>NaN</td>\n",
              "      <td>S</td>\n",
              "    </tr>\n",
              "  </tbody>\n",
              "</table>\n",
              "</div>"
            ],
            "text/plain": [
              "     PassengerId  Survived  Pclass  ...      Fare        Cabin  Embarked\n",
              "630          631         1       1  ...   30.0000          A23         S\n",
              "851          852         0       3  ...    7.7750          NaN         S\n",
              "493          494         0       1  ...   49.5042          NaN         C\n",
              "96            97         0       1  ...   34.6542           A5         C\n",
              "116          117         0       3  ...    7.7500          NaN         Q\n",
              "672          673         0       2  ...   10.5000          NaN         S\n",
              "745          746         0       1  ...   71.0000          B22         S\n",
              "33            34         0       2  ...   10.5000          NaN         S\n",
              "54            55         0       1  ...   61.9792          B30         C\n",
              "280          281         0       3  ...    7.7500          NaN         Q\n",
              "456          457         0       1  ...   26.5500          E38         S\n",
              "438          439         0       1  ...  263.0000  C23 C25 C27         S\n",
              "545          546         0       1  ...   26.0000          NaN         S\n",
              "275          276         1       1  ...   77.9583           D7         S\n",
              "483          484         1       3  ...    9.5875          NaN         S\n",
              "\n",
              "[15 rows x 12 columns]"
            ]
          },
          "metadata": {
            "tags": []
          },
          "execution_count": 25
        }
      ]
    },
    {
      "cell_type": "markdown",
      "metadata": {
        "id": "O-Z7z7VKfO3p"
      },
      "source": [
        "### Operación con columnas\n",
        "\n",
        "Existen varias operaciones que pueden realizarse sobre una columna o varias columnas. Para esto usamos el método `apply` de la forma\n",
        "\n",
        "```\n",
        "df.apply(operación, axis=0/1)\n",
        "```\n",
        "\n",
        "Seleccionemos, por ejemplo, las columnas de tipo numérico y realicemos una operaciones a lo largo de las filas y las columnas:"
      ]
    },
    {
      "cell_type": "code",
      "metadata": {
        "colab": {
          "base_uri": "https://localhost:8080/"
        },
        "id": "FkLp0SyLfrvA",
        "outputId": "ab7f43b0-6b4a-4d54-8683-f447a7acd07f"
      },
      "source": [
        "# Filas a lo largo de las filas\n",
        "df.select_dtypes('number').apply(np.sum, axis = 0)"
      ],
      "execution_count": 62,
      "outputs": [
        {
          "output_type": "execute_result",
          "data": {
            "text/plain": [
              "PassengerId    397386.0000\n",
              "Survived          342.0000\n",
              "Pclass           2057.0000\n",
              "Age             21205.1700\n",
              "SibSp             466.0000\n",
              "Parch             340.0000\n",
              "Fare            28693.9493\n",
              "dtype: float64"
            ]
          },
          "metadata": {
            "tags": []
          },
          "execution_count": 62
        }
      ]
    },
    {
      "cell_type": "code",
      "metadata": {
        "colab": {
          "base_uri": "https://localhost:8080/"
        },
        "id": "9N9l3YrBgcDx",
        "outputId": "124518a0-7c32-4d48-ec60-3691e686dde8"
      },
      "source": [
        "# Filas a lo largo de las columnas\n",
        "df.select_dtypes('number').apply(np.sum, axis = 1)"
      ],
      "execution_count": 63,
      "outputs": [
        {
          "output_type": "execute_result",
          "data": {
            "text/plain": [
              "0       34.2500\n",
              "1      114.2833\n",
              "2       40.9250\n",
              "3       95.1000\n",
              "4       51.0500\n",
              "         ...   \n",
              "886    929.0000\n",
              "887    939.0000\n",
              "888    918.4500\n",
              "889    948.0000\n",
              "890    933.7500\n",
              "Length: 891, dtype: float64"
            ]
          },
          "metadata": {
            "tags": []
          },
          "execution_count": 63
        }
      ]
    },
    {
      "cell_type": "markdown",
      "metadata": {
        "id": "jSlIsnEbhxvT"
      },
      "source": [
        "También podemos realizar operaciones personalizadas mediante "
      ]
    },
    {
      "cell_type": "code",
      "metadata": {
        "colab": {
          "base_uri": "https://localhost:8080/",
          "height": 422
        },
        "id": "jfp5UM2Vii_Z",
        "outputId": "e6326058-f70a-48a3-9153-6c5c36dd8c7b"
      },
      "source": [
        "df.select_dtypes('number').apply(lambda x: (x-np.min(x))/(np.max(x)-np.min(x)))"
      ],
      "execution_count": 73,
      "outputs": [
        {
          "output_type": "execute_result",
          "data": {
            "text/html": [
              "<div>\n",
              "<style scoped>\n",
              "    .dataframe tbody tr th:only-of-type {\n",
              "        vertical-align: middle;\n",
              "    }\n",
              "\n",
              "    .dataframe tbody tr th {\n",
              "        vertical-align: top;\n",
              "    }\n",
              "\n",
              "    .dataframe thead th {\n",
              "        text-align: right;\n",
              "    }\n",
              "</style>\n",
              "<table border=\"1\" class=\"dataframe\">\n",
              "  <thead>\n",
              "    <tr style=\"text-align: right;\">\n",
              "      <th></th>\n",
              "      <th>PassengerId</th>\n",
              "      <th>Survived</th>\n",
              "      <th>Pclass</th>\n",
              "      <th>Age</th>\n",
              "      <th>SibSp</th>\n",
              "      <th>Parch</th>\n",
              "      <th>Fare</th>\n",
              "    </tr>\n",
              "  </thead>\n",
              "  <tbody>\n",
              "    <tr>\n",
              "      <th>0</th>\n",
              "      <td>0.000000</td>\n",
              "      <td>0.0</td>\n",
              "      <td>1.0</td>\n",
              "      <td>0.271174</td>\n",
              "      <td>0.125</td>\n",
              "      <td>0.000000</td>\n",
              "      <td>0.014151</td>\n",
              "    </tr>\n",
              "    <tr>\n",
              "      <th>1</th>\n",
              "      <td>0.001124</td>\n",
              "      <td>1.0</td>\n",
              "      <td>0.0</td>\n",
              "      <td>0.472229</td>\n",
              "      <td>0.125</td>\n",
              "      <td>0.000000</td>\n",
              "      <td>0.139136</td>\n",
              "    </tr>\n",
              "    <tr>\n",
              "      <th>2</th>\n",
              "      <td>0.002247</td>\n",
              "      <td>1.0</td>\n",
              "      <td>1.0</td>\n",
              "      <td>0.321438</td>\n",
              "      <td>0.000</td>\n",
              "      <td>0.000000</td>\n",
              "      <td>0.015469</td>\n",
              "    </tr>\n",
              "    <tr>\n",
              "      <th>3</th>\n",
              "      <td>0.003371</td>\n",
              "      <td>1.0</td>\n",
              "      <td>0.0</td>\n",
              "      <td>0.434531</td>\n",
              "      <td>0.125</td>\n",
              "      <td>0.000000</td>\n",
              "      <td>0.103644</td>\n",
              "    </tr>\n",
              "    <tr>\n",
              "      <th>4</th>\n",
              "      <td>0.004494</td>\n",
              "      <td>0.0</td>\n",
              "      <td>1.0</td>\n",
              "      <td>0.434531</td>\n",
              "      <td>0.000</td>\n",
              "      <td>0.000000</td>\n",
              "      <td>0.015713</td>\n",
              "    </tr>\n",
              "    <tr>\n",
              "      <th>...</th>\n",
              "      <td>...</td>\n",
              "      <td>...</td>\n",
              "      <td>...</td>\n",
              "      <td>...</td>\n",
              "      <td>...</td>\n",
              "      <td>...</td>\n",
              "      <td>...</td>\n",
              "    </tr>\n",
              "    <tr>\n",
              "      <th>886</th>\n",
              "      <td>0.995506</td>\n",
              "      <td>0.0</td>\n",
              "      <td>0.5</td>\n",
              "      <td>0.334004</td>\n",
              "      <td>0.000</td>\n",
              "      <td>0.000000</td>\n",
              "      <td>0.025374</td>\n",
              "    </tr>\n",
              "    <tr>\n",
              "      <th>887</th>\n",
              "      <td>0.996629</td>\n",
              "      <td>1.0</td>\n",
              "      <td>0.0</td>\n",
              "      <td>0.233476</td>\n",
              "      <td>0.000</td>\n",
              "      <td>0.000000</td>\n",
              "      <td>0.058556</td>\n",
              "    </tr>\n",
              "    <tr>\n",
              "      <th>888</th>\n",
              "      <td>0.997753</td>\n",
              "      <td>0.0</td>\n",
              "      <td>1.0</td>\n",
              "      <td>NaN</td>\n",
              "      <td>0.125</td>\n",
              "      <td>0.333333</td>\n",
              "      <td>0.045771</td>\n",
              "    </tr>\n",
              "    <tr>\n",
              "      <th>889</th>\n",
              "      <td>0.998876</td>\n",
              "      <td>1.0</td>\n",
              "      <td>0.0</td>\n",
              "      <td>0.321438</td>\n",
              "      <td>0.000</td>\n",
              "      <td>0.000000</td>\n",
              "      <td>0.058556</td>\n",
              "    </tr>\n",
              "    <tr>\n",
              "      <th>890</th>\n",
              "      <td>1.000000</td>\n",
              "      <td>0.0</td>\n",
              "      <td>1.0</td>\n",
              "      <td>0.396833</td>\n",
              "      <td>0.000</td>\n",
              "      <td>0.000000</td>\n",
              "      <td>0.015127</td>\n",
              "    </tr>\n",
              "  </tbody>\n",
              "</table>\n",
              "<p>891 rows × 7 columns</p>\n",
              "</div>"
            ],
            "text/plain": [
              "     PassengerId  Survived  Pclass       Age  SibSp     Parch      Fare\n",
              "0       0.000000       0.0     1.0  0.271174  0.125  0.000000  0.014151\n",
              "1       0.001124       1.0     0.0  0.472229  0.125  0.000000  0.139136\n",
              "2       0.002247       1.0     1.0  0.321438  0.000  0.000000  0.015469\n",
              "3       0.003371       1.0     0.0  0.434531  0.125  0.000000  0.103644\n",
              "4       0.004494       0.0     1.0  0.434531  0.000  0.000000  0.015713\n",
              "..           ...       ...     ...       ...    ...       ...       ...\n",
              "886     0.995506       0.0     0.5  0.334004  0.000  0.000000  0.025374\n",
              "887     0.996629       1.0     0.0  0.233476  0.000  0.000000  0.058556\n",
              "888     0.997753       0.0     1.0       NaN  0.125  0.333333  0.045771\n",
              "889     0.998876       1.0     0.0  0.321438  0.000  0.000000  0.058556\n",
              "890     1.000000       0.0     1.0  0.396833  0.000  0.000000  0.015127\n",
              "\n",
              "[891 rows x 7 columns]"
            ]
          },
          "metadata": {
            "tags": []
          },
          "execution_count": 73
        }
      ]
    },
    {
      "cell_type": "code",
      "metadata": {
        "colab": {
          "base_uri": "https://localhost:8080/"
        },
        "id": "FzDveAC-jtWK",
        "outputId": "f84681a7-6c1e-4322-f579-42f2b2725cb3"
      },
      "source": [
        "df['Name'].apply(lambda x: x.upper())"
      ],
      "execution_count": 81,
      "outputs": [
        {
          "output_type": "execute_result",
          "data": {
            "text/plain": [
              "0                                BRAUND, MR. OWEN HARRIS\n",
              "1      CUMINGS, MRS. JOHN BRADLEY (FLORENCE BRIGGS TH...\n",
              "2                                 HEIKKINEN, MISS. LAINA\n",
              "3           FUTRELLE, MRS. JACQUES HEATH (LILY MAY PEEL)\n",
              "4                               ALLEN, MR. WILLIAM HENRY\n",
              "                             ...                        \n",
              "886                                MONTVILA, REV. JUOZAS\n",
              "887                         GRAHAM, MISS. MARGARET EDITH\n",
              "888             JOHNSTON, MISS. CATHERINE HELEN \"CARRIE\"\n",
              "889                                BEHR, MR. KARL HOWELL\n",
              "890                                  DOOLEY, MR. PATRICK\n",
              "Name: Name, Length: 891, dtype: object"
            ]
          },
          "metadata": {
            "tags": []
          },
          "execution_count": 81
        }
      ]
    },
    {
      "cell_type": "markdown",
      "metadata": {
        "id": "aJsdPEw3cOmh"
      },
      "source": [
        "### Agrupación\n",
        "\n",
        "El proceso de agrupación en pandas esta compuesto por tres procesos consecutivos\n",
        "\n",
        "- División por grupos.\n",
        "- Aplicación de una operación \n",
        "- Combinación\n",
        "\n",
        "\n",
        "En la siguiente figura se ilustra el proceso completo\n",
        "\n",
        " \n",
        "<p><img alt=\"Colaboratory logo\" height=\"300px\" src=\"https://github.com/ssanchezgoe/curso_deep_learning_economia/blob/main/images/DL_S02_Group_By.png?raw=true\" align=\"center\"></p>\n",
        "\n",
        "Por ejemplo, cuando ejecutamos el método `value_counts()` sobre una de las columnas, implicitamente se está un proceso de agrupación siguiento los pasos:\n",
        "\n",
        "- División por grupo\n",
        "- Aplicación de operación count\n",
        "- Combinación"
      ]
    },
    {
      "cell_type": "code",
      "metadata": {
        "colab": {
          "base_uri": "https://localhost:8080/"
        },
        "id": "ka2I_eZ2T79z",
        "outputId": "49fccd8c-8027-4bb9-cccb-b9d2a802cde0"
      },
      "source": [
        "df.Survived.value_counts()"
      ],
      "execution_count": 26,
      "outputs": [
        {
          "output_type": "execute_result",
          "data": {
            "text/plain": [
              "0    549\n",
              "1    342\n",
              "Name: Survived, dtype: int64"
            ]
          },
          "metadata": {
            "tags": []
          },
          "execution_count": 26
        }
      ]
    },
    {
      "cell_type": "code",
      "metadata": {
        "colab": {
          "base_uri": "https://localhost:8080/"
        },
        "id": "xjj1ERC_UO3F",
        "outputId": "e1f95291-0690-431f-8ab2-eb272bb31342"
      },
      "source": [
        "df.Pclass.value_counts()"
      ],
      "execution_count": 36,
      "outputs": [
        {
          "output_type": "execute_result",
          "data": {
            "text/plain": [
              "3    491\n",
              "1    216\n",
              "2    184\n",
              "Name: Pclass, dtype: int64"
            ]
          },
          "metadata": {
            "tags": []
          },
          "execution_count": 36
        }
      ]
    },
    {
      "cell_type": "markdown",
      "metadata": {
        "id": "-DUjWsH9UT_b"
      },
      "source": [
        "Por ejemplo, podemos usar el método `groupby` de la siguiente forma\n",
        "\n",
        "```\n",
        "df.groupby(['Nombre_columna'/Lista_Columnas]).operacion\n",
        "```\n",
        "\n",
        "Por ejemplo, agrupemos el dataframe del titanic de acuerdo a los valores almacenados en `Pclass`(1, 2, 3) y seleccionemos sobre una columna que no tenga valores nulos para realizar un conteo, de esta forma, se tendrá las mismas cuentas de la celda anterior. \n",
        "\n",
        "Veamos antes que columnas no contienen nulos"
      ]
    },
    {
      "cell_type": "code",
      "metadata": {
        "colab": {
          "base_uri": "https://localhost:8080/"
        },
        "id": "uadSVN0OX9we",
        "outputId": "fc962f16-b54c-42d2-e674-f48f66d5d9ba"
      },
      "source": [
        "df.isnull().sum()[df.isnull().sum()==0]"
      ],
      "execution_count": 41,
      "outputs": [
        {
          "output_type": "execute_result",
          "data": {
            "text/plain": [
              "PassengerId    0\n",
              "Survived       0\n",
              "Pclass         0\n",
              "Name           0\n",
              "Sex            0\n",
              "SibSp          0\n",
              "Parch          0\n",
              "Ticket         0\n",
              "Fare           0\n",
              "dtype: int64"
            ]
          },
          "metadata": {
            "tags": []
          },
          "execution_count": 41
        }
      ]
    },
    {
      "cell_type": "markdown",
      "metadata": {
        "id": "7J8uYfsZYN38"
      },
      "source": [
        "Agrupemos entonces sobre `Pclass` y contamos "
      ]
    },
    {
      "cell_type": "code",
      "metadata": {
        "colab": {
          "base_uri": "https://localhost:8080/"
        },
        "id": "EsrqgYB3Wdf9",
        "outputId": "6111ffaf-e3ee-4a52-c8df-ffde20e639de"
      },
      "source": [
        "df.groupby(['Pclass'])['Name'].count()"
      ],
      "execution_count": 42,
      "outputs": [
        {
          "output_type": "execute_result",
          "data": {
            "text/plain": [
              "Pclass\n",
              "1    216\n",
              "2    184\n",
              "3    491\n",
              "Name: Name, dtype: int64"
            ]
          },
          "metadata": {
            "tags": []
          },
          "execution_count": 42
        }
      ]
    },
    {
      "cell_type": "markdown",
      "metadata": {
        "id": "k2hcsBuNWiRx"
      },
      "source": [
        "### Agrupación compuesta\n",
        "\n",
        "La agrupación también puede realizarse mediante más de una columna, especificando una lista de columnas, en cuyo caso se estable un orden de agrupación determinado por el orden de la lista.\n",
        "\n",
        "Veamos un ejemplo en el dataset del titanic agrupando por las variables `Sex` y `Pclass`, para realizar un conteo:"
      ]
    },
    {
      "cell_type": "code",
      "metadata": {
        "colab": {
          "base_uri": "https://localhost:8080/",
          "height": 268
        },
        "id": "rdzaGnbbZ-Ei",
        "outputId": "ddfb74e8-c536-4794-cf9b-9eb4a30ddbc6"
      },
      "source": [
        "df.groupby(['Sex','Pclass'])[['PassengerId']].count()"
      ],
      "execution_count": 45,
      "outputs": [
        {
          "output_type": "execute_result",
          "data": {
            "text/html": [
              "<div>\n",
              "<style scoped>\n",
              "    .dataframe tbody tr th:only-of-type {\n",
              "        vertical-align: middle;\n",
              "    }\n",
              "\n",
              "    .dataframe tbody tr th {\n",
              "        vertical-align: top;\n",
              "    }\n",
              "\n",
              "    .dataframe thead th {\n",
              "        text-align: right;\n",
              "    }\n",
              "</style>\n",
              "<table border=\"1\" class=\"dataframe\">\n",
              "  <thead>\n",
              "    <tr style=\"text-align: right;\">\n",
              "      <th></th>\n",
              "      <th></th>\n",
              "      <th>PassengerId</th>\n",
              "    </tr>\n",
              "    <tr>\n",
              "      <th>Sex</th>\n",
              "      <th>Pclass</th>\n",
              "      <th></th>\n",
              "    </tr>\n",
              "  </thead>\n",
              "  <tbody>\n",
              "    <tr>\n",
              "      <th rowspan=\"3\" valign=\"top\">female</th>\n",
              "      <th>1</th>\n",
              "      <td>94</td>\n",
              "    </tr>\n",
              "    <tr>\n",
              "      <th>2</th>\n",
              "      <td>76</td>\n",
              "    </tr>\n",
              "    <tr>\n",
              "      <th>3</th>\n",
              "      <td>144</td>\n",
              "    </tr>\n",
              "    <tr>\n",
              "      <th rowspan=\"3\" valign=\"top\">male</th>\n",
              "      <th>1</th>\n",
              "      <td>122</td>\n",
              "    </tr>\n",
              "    <tr>\n",
              "      <th>2</th>\n",
              "      <td>108</td>\n",
              "    </tr>\n",
              "    <tr>\n",
              "      <th>3</th>\n",
              "      <td>347</td>\n",
              "    </tr>\n",
              "  </tbody>\n",
              "</table>\n",
              "</div>"
            ],
            "text/plain": [
              "               PassengerId\n",
              "Sex    Pclass             \n",
              "female 1                94\n",
              "       2                76\n",
              "       3               144\n",
              "male   1               122\n",
              "       2               108\n",
              "       3               347"
            ]
          },
          "metadata": {
            "tags": []
          },
          "execution_count": 45
        }
      ]
    },
    {
      "cell_type": "markdown",
      "metadata": {
        "id": "1jJcwx4WtGxn"
      },
      "source": [
        "### Gráficas con dataframes"
      ]
    },
    {
      "cell_type": "markdown",
      "metadata": {
        "id": "WnHtqDxycUNW"
      },
      "source": [
        "# Evaluación de la unidad"
      ]
    },
    {
      "cell_type": "markdown",
      "metadata": {
        "id": "_RqnxuVZqO0s"
      },
      "source": [
        "## Ejercicio 1:\n",
        "\n",
        "1. Cargue el dataset: `DL_International_Airline_Passengers.csv`\n",
        "2. Inspeccione dicho dataset usando diferentes métodos para tal fin.\n",
        "3. Use el método [`pd.to_datetime()`](http://pandas.pydata.org/pandas-docs/version/0.20/generated/pandas.to_datetime.html) para cambiar el tipo de la columna `Month` a `datatime`.\n",
        "4. Fije el índice del dataframe a la columna `Month`.\n",
        "5. Realice un gráfica que represente la serie de tiempo con una correcta escala y títulos adecuados."
      ]
    },
    {
      "cell_type": "markdown",
      "metadata": {
        "id": "7UoD0zI5rgYF"
      },
      "source": [
        "## Ejercicio 2:\n",
        "\n",
        "1. Cargue el dataset: `DL_Weight_Height.csv`\n",
        "2. Inspeccione dicho dataset usando diferentes métodos para tal fin.\n",
        "3. Determine el porcentaje de hombre y mujeres en el dataframe.\n",
        "4. Use el método de agrupación para determinar los pesos y alturas mínima, máxima y promedio por sexo.\n",
        "5. Realice una histograma por sexo para discriminar las variables de altura y peso."
      ]
    }
  ]
}