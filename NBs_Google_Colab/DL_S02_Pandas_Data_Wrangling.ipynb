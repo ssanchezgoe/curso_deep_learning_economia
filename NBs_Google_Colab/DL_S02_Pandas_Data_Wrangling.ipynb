{
  "nbformat": 4,
  "nbformat_minor": 0,
  "metadata": {
    "colab": {
      "name": "DL_S02_Pandas_Data_Wrangling.ipynb",
      "provenance": [],
      "collapsed_sections": [],
      "authorship_tag": "ABX9TyODkGEK5x4QGnpyZB3TaAKd",
      "include_colab_link": true
    },
    "kernelspec": {
      "name": "python3",
      "display_name": "Python 3"
    },
    "language_info": {
      "name": "python"
    }
  },
  "cells": [
    {
      "cell_type": "markdown",
      "metadata": {
        "id": "view-in-github",
        "colab_type": "text"
      },
      "source": [
        "<a href=\"https://colab.research.google.com/github/ssanchezgoe/curso_deep_learning_economia/blob/main/NBs_Google_Colab/DL_S02_Pandas_Data_Wrangling.ipynb\" target=\"_parent\"><img src=\"https://colab.research.google.com/assets/colab-badge.svg\" alt=\"Open In Colab\"/></a>"
      ]
    },
    {
      "cell_type": "markdown",
      "metadata": {
        "id": "thBYXFC53-lF"
      },
      "source": [
        "<p><img alt=\"Colaboratory logo\" height=\"140px\" src=\"https://upload.wikimedia.org/wikipedia/commons/archive/f/fb/20161010213812%21Escudo-UdeA.svg\" align=\"left\" hspace=\"10px\" vspace=\"0px\"></p>\n",
        "\n",
        "<h1> Curso Deep Learning: Economía</h1>\n",
        "\n",
        "## S02: Preprocesado de datos"
      ]
    },
    {
      "cell_type": "markdown",
      "metadata": {
        "id": "R7nsXE6-4JzW"
      },
      "source": [
        "## Tabla de contenido\n",
        "\n",
        "Temática:\n",
        "\n",
        "- Exploración de datos.\n",
        "- Pandas"
      ]
    },
    {
      "cell_type": "markdown",
      "metadata": {
        "id": "uZOMLVKb5o3S"
      },
      "source": [
        "## Exploración de datos\n",
        "\n",
        "La fase de exploración de datos consiste en una serie de pasos con el fin de preparar los datos para su correcto funcionamiento dentro de algoritmos de machine learning/deep learning. Alguno de los pasos que deben verificarse son:\n",
        "\n",
        "- Tamaño del dataset.\n",
        "- Número de características.\n",
        "- Datos faltantes.\n",
        "- Tipos de datos.\n",
        "- Correlaciones y distribuciones. \n",
        "\n",
        "Además, esta serie de pasos facilitan al científico de datos a encontrar relaciones de las características con la variable objetivo a predecir. En este sentido, se pueden llevar a cabo dos tipos de análisis sobre los datos:\n",
        "\n",
        "\n",
        "- Analisis cualitativos, en donde se estiman relaciones de tendencias centrales de las característiscas y la variable objetivo.\n",
        "- Analisis cuantitativos, en donde se realizan mediciones que corroborarn las relaciones entre las características y la variable objetivo.\n",
        "\n",
        "Para esta tarea, en python se hace uso de la librería **Pandas**.\n"
      ]
    },
    {
      "cell_type": "markdown",
      "metadata": {
        "id": "vXSqKV-GVzeN"
      },
      "source": [
        "## PANDAS:\n",
        "\n",
        "Pandas es una librería en python que se basa en **Numpy**, usada en computación y ciencia de datos con el fin de manipular y analizar datos.\n",
        "\n",
        "El objeto central de pandas corresponde a los `DataFrames`que son elementos tabulares con métodos y atributos destinados a tareas de análisis exploratorio de datos.\n",
        "\n",
        "Para cargar la librería de `pandas` en el entorno de ejecución, se ha vuelto constumbre asignarle el alias `pd` de la siguiente forma \n",
        "\n",
        "```\n",
        "import pandas as pd\n",
        "```\n",
        "\n",
        "Algunos de los formatos permitidos por pandas se resumen en la siguiente tabla:\n",
        "\n",
        "<table class=\"colwidths-given table\">\n",
        "<colgroup>\n",
        "<col style=\"width: 12%\">\n",
        "<col style=\"width: 40%\">\n",
        "<col style=\"width: 24%\">\n",
        "<col style=\"width: 24%\">\n",
        "</colgroup>\n",
        "<thead>\n",
        "<tr class=\"row-odd\"><th class=\"head\"><p>Format Type</p></th>\n",
        "<th class=\"head\"><p>Data Description</p></th>\n",
        "<th class=\"head\"><p>Reader</p></th>\n",
        "<th class=\"head\"><p>Writer</p></th>\n",
        "</tr>\n",
        "</thead>\n",
        "<tbody>\n",
        "<tr class=\"row-even\"><td><p>text</p></td>\n",
        "<td><p><a class=\"reference external\" href=\"https://en.wikipedia.org/wiki/Comma-separated_values\">CSV</a></p></td>\n",
        "<td><p><a class=\"reference internal\" href=\"#io-read-csv-table\"><span class=\"std std-ref\">read_csv</span></a></p></td>\n",
        "<td><p><a class=\"reference internal\" href=\"#io-store-in-csv\"><span class=\"std std-ref\">to_csv</span></a></p></td>\n",
        "</tr>\n",
        "<tr class=\"row-odd\"><td><p>text</p></td>\n",
        "<td><p>Fixed-Width Text File</p></td>\n",
        "<td><p><a class=\"reference internal\" href=\"#io-fwf-reader\"><span class=\"std std-ref\">read_fwf</span></a></p></td>\n",
        "<td></td>\n",
        "</tr>\n",
        "<tr class=\"row-even\"><td><p>text</p></td>\n",
        "<td><p><a class=\"reference external\" href=\"https://www.json.org/\">JSON</a></p></td>\n",
        "<td><p><a class=\"reference internal\" href=\"#io-json-reader\"><span class=\"std std-ref\">read_json</span></a></p></td>\n",
        "<td><p><a class=\"reference internal\" href=\"#io-json-writer\"><span class=\"std std-ref\">to_json</span></a></p></td>\n",
        "</tr>\n",
        "<tr class=\"row-odd\"><td><p>text</p></td>\n",
        "<td><p><a class=\"reference external\" href=\"https://en.wikipedia.org/wiki/HTML\">HTML</a></p></td>\n",
        "<td><p><a class=\"reference internal\" href=\"#io-read-html\"><span class=\"std std-ref\">read_html</span></a></p></td>\n",
        "<td><p><a class=\"reference internal\" href=\"#io-html\"><span class=\"std std-ref\">to_html</span></a></p></td>\n",
        "</tr>\n",
        "<tr class=\"row-even\"><td><p>text</p></td>\n",
        "<td><p><a class=\"reference external\" href=\"https://en.wikipedia.org/wiki/LaTeX\">LaTeX</a></p></td>\n",
        "<td></td>\n",
        "<td><p><a class=\"reference internal\" href=\"#io-latex\"><span class=\"std std-ref\">Styler.to_latex</span></a></p></td>\n",
        "</tr>\n",
        "<tr class=\"row-odd\"><td><p>text</p></td>\n",
        "<td><p><a class=\"reference external\" href=\"https://www.w3.org/standards/xml/core\">XML</a></p></td>\n",
        "<td><p><a class=\"reference internal\" href=\"#io-read-xml\"><span class=\"std std-ref\">read_xml</span></a></p></td>\n",
        "<td><p><a class=\"reference internal\" href=\"#io-xml\"><span class=\"std std-ref\">to_xml</span></a></p></td>\n",
        "</tr>\n",
        "<tr class=\"row-even\"><td><p>text</p></td>\n",
        "<td><p>Local clipboard</p></td>\n",
        "<td><p><a class=\"reference internal\" href=\"#io-clipboard\"><span class=\"std std-ref\">read_clipboard</span></a></p></td>\n",
        "<td><p><a class=\"reference internal\" href=\"#io-clipboard\"><span class=\"std std-ref\">to_clipboard</span></a></p></td>\n",
        "</tr>\n",
        "<tr class=\"row-odd\"><td><p>binary</p></td>\n",
        "<td><p><a class=\"reference external\" href=\"https://en.wikipedia.org/wiki/Microsoft_Excel\">MS Excel</a></p></td>\n",
        "<td><p><a class=\"reference internal\" href=\"#io-excel-reader\"><span class=\"std std-ref\">read_excel</span></a></p></td>\n",
        "<td><p><a class=\"reference internal\" href=\"#io-excel-writer\"><span class=\"std std-ref\">to_excel</span></a></p></td>\n",
        "</tr>\n",
        "<tr class=\"row-even\"><td><p>binary</p></td>\n",
        "<td><p><a class=\"reference external\" href=\"http://www.opendocumentformat.org\">OpenDocument</a></p></td>\n",
        "<td><p><a class=\"reference internal\" href=\"#io-ods\"><span class=\"std std-ref\">read_excel</span></a></p></td>\n",
        "<td></td>\n",
        "</tr>\n",
        "<tr class=\"row-odd\"><td><p>binary</p></td>\n",
        "<td><p><a class=\"reference external\" href=\"https://support.hdfgroup.org/HDF5/whatishdf5.html\">HDF5 Format</a></p></td>\n",
        "<td><p><a class=\"reference internal\" href=\"#io-hdf5\"><span class=\"std std-ref\">read_hdf</span></a></p></td>\n",
        "<td><p><a class=\"reference internal\" href=\"#io-hdf5\"><span class=\"std std-ref\">to_hdf</span></a></p></td>\n",
        "</tr>\n",
        "<tr class=\"row-even\"><td><p>binary</p></td>\n",
        "<td><p><a class=\"reference external\" href=\"https://github.com/wesm/feather\">Feather Format</a></p></td>\n",
        "<td><p><a class=\"reference internal\" href=\"#io-feather\"><span class=\"std std-ref\">read_feather</span></a></p></td>\n",
        "<td><p><a class=\"reference internal\" href=\"#io-feather\"><span class=\"std std-ref\">to_feather</span></a></p></td>\n",
        "</tr>\n",
        "<tr class=\"row-odd\"><td><p>binary</p></td>\n",
        "<td><p><a class=\"reference external\" href=\"https://parquet.apache.org/\">Parquet Format</a></p></td>\n",
        "<td><p><a class=\"reference internal\" href=\"#io-parquet\"><span class=\"std std-ref\">read_parquet</span></a></p></td>\n",
        "<td><p><a class=\"reference internal\" href=\"#io-parquet\"><span class=\"std std-ref\">to_parquet</span></a></p></td>\n",
        "</tr>\n",
        "<tr class=\"row-even\"><td><p>binary</p></td>\n",
        "<td><p><a class=\"reference external\" href=\"https://orc.apache.org/\">ORC Format</a></p></td>\n",
        "<td><p><a class=\"reference internal\" href=\"#io-orc\"><span class=\"std std-ref\">read_orc</span></a></p></td>\n",
        "<td></td>\n",
        "</tr>\n",
        "<tr class=\"row-odd\"><td><p>binary</p></td>\n",
        "<td><p><a class=\"reference external\" href=\"https://en.wikipedia.org/wiki/Stata\">Stata</a></p></td>\n",
        "<td><p><a class=\"reference internal\" href=\"#io-stata-reader\"><span class=\"std std-ref\">read_stata</span></a></p></td>\n",
        "<td><p><a class=\"reference internal\" href=\"#io-stata-writer\"><span class=\"std std-ref\">to_stata</span></a></p></td>\n",
        "</tr>\n",
        "<tr class=\"row-even\"><td><p>binary</p></td>\n",
        "<td><p><a class=\"reference external\" href=\"https://en.wikipedia.org/wiki/SAS_(software)\">SAS</a></p></td>\n",
        "<td><p><a class=\"reference internal\" href=\"#io-sas-reader\"><span class=\"std std-ref\">read_sas</span></a></p></td>\n",
        "<td></td>\n",
        "</tr>\n",
        "<tr class=\"row-odd\"><td><p>binary</p></td>\n",
        "<td><p><a class=\"reference external\" href=\"https://en.wikipedia.org/wiki/SPSS\">SPSS</a></p></td>\n",
        "<td><p><a class=\"reference internal\" href=\"#io-spss-reader\"><span class=\"std std-ref\">read_spss</span></a></p></td>\n",
        "<td></td>\n",
        "</tr>\n",
        "<tr class=\"row-even\"><td><p>binary</p></td>\n",
        "<td><p><a class=\"reference external\" href=\"https://docs.python.org/3/library/pickle.html\">Python Pickle Format</a></p></td>\n",
        "<td><p><a class=\"reference internal\" href=\"#io-pickle\"><span class=\"std std-ref\">read_pickle</span></a></p></td>\n",
        "<td><p><a class=\"reference internal\" href=\"#io-pickle\"><span class=\"std std-ref\">to_pickle</span></a></p></td>\n",
        "</tr>\n",
        "<tr class=\"row-odd\"><td><p>SQL</p></td>\n",
        "<td><p><a class=\"reference external\" href=\"https://en.wikipedia.org/wiki/SQL\">SQL</a></p></td>\n",
        "<td><p><a class=\"reference internal\" href=\"#io-sql\"><span class=\"std std-ref\">read_sql</span></a></p></td>\n",
        "<td><p><a class=\"reference internal\" href=\"#io-sql\"><span class=\"std std-ref\">to_sql</span></a></p></td>\n",
        "</tr>\n",
        "<tr class=\"row-even\"><td><p>SQL</p></td>\n",
        "<td><p><a class=\"reference external\" href=\"https://en.wikipedia.org/wiki/BigQuery\">Google BigQuery</a></p></td>\n",
        "<td><p><a class=\"reference internal\" href=\"#io-bigquery\"><span class=\"std std-ref\">read_gbq</span></a></p></td>\n",
        "<td><p><a class=\"reference internal\" href=\"#io-bigquery\"><span class=\"std std-ref\">to_gbq</span></a></p></td>\n",
        "</tr>\n",
        "</tbody>\n",
        "</table>\n"
      ]
    },
    {
      "cell_type": "markdown",
      "metadata": {
        "id": "EmHgbCQiItEc"
      },
      "source": [
        "### Carga de archivos\n",
        "\n",
        "Veamos un ejemplo de carga de datos mediante el método `read_csv`."
      ]
    },
    {
      "cell_type": "code",
      "metadata": {
        "id": "y3t2somojt53"
      },
      "source": [
        "import matplotlib.pyplot as plt\n",
        "import pandas as pd\n",
        "import numpy as np\n",
        "import seaborn as sns"
      ],
      "execution_count": null,
      "outputs": []
    },
    {
      "cell_type": "code",
      "metadata": {
        "id": "xozCY2Ppjvch"
      },
      "source": [
        "df = pd.read_csv(\"https://raw.githubusercontent.com/ssanchezgoe/curso_deep_learning_economia/main/data/titanic-train.csv\")"
      ],
      "execution_count": null,
      "outputs": []
    },
    {
      "cell_type": "markdown",
      "metadata": {
        "id": "IAhyBIqMc5bk"
      },
      "source": [
        "Inspección de la cabecera mediante el método `head()`"
      ]
    },
    {
      "cell_type": "code",
      "metadata": {
        "id": "UN2VQpHTc8H0"
      },
      "source": [
        "df.head()"
      ],
      "execution_count": null,
      "outputs": []
    },
    {
      "cell_type": "markdown",
      "metadata": {
        "id": "ypq-kGQ_dM0J"
      },
      "source": [
        "El tipo de la variable almacenada en `df` es `DataFrame` de `pandas`:"
      ]
    },
    {
      "cell_type": "code",
      "metadata": {
        "id": "XYmg9QVNdSwq"
      },
      "source": [
        "type(df)"
      ],
      "execution_count": null,
      "outputs": []
    },
    {
      "cell_type": "markdown",
      "metadata": {
        "id": "6LJ7Gw_5c-LB"
      },
      "source": [
        "### Información de las variables almacenadas:\n",
        "\n",
        "Obtengamos un resumen de todas las características almacenadas en el dataframe mediante el método `info()`:"
      ]
    },
    {
      "cell_type": "code",
      "metadata": {
        "id": "dTNDfKA-eOMU"
      },
      "source": [
        "df.info()"
      ],
      "execution_count": null,
      "outputs": []
    },
    {
      "cell_type": "markdown",
      "metadata": {
        "id": "vDSythYZePpQ"
      },
      "source": [
        "### Resumen estadístico\n",
        "\n",
        "Realicemos un resumen estadístico de las variables numéricas:"
      ]
    },
    {
      "cell_type": "code",
      "metadata": {
        "id": "mvWxcC17eu4Z"
      },
      "source": [
        "df.describe()"
      ],
      "execution_count": null,
      "outputs": []
    },
    {
      "cell_type": "markdown",
      "metadata": {
        "id": "-_SDai_NewMJ"
      },
      "source": [
        "Incluyamos ahora todas las variables:"
      ]
    },
    {
      "cell_type": "code",
      "metadata": {
        "id": "uFbPT2vQe2Nc"
      },
      "source": [
        "df.describe(include='all')"
      ],
      "execution_count": null,
      "outputs": []
    },
    {
      "cell_type": "markdown",
      "metadata": {
        "id": "lJAz-MatIb8Y"
      },
      "source": [
        "### Métodos de indexado\n",
        "Los tipos de indexados para localización de registros son los siguientes:\n",
        "- Localización basada en enteros (iloc) de registros.\n",
        "- Localización basada en etiquetas (loc) de registros."
      ]
    },
    {
      "cell_type": "code",
      "metadata": {
        "id": "Zj9xNGuAe7N6"
      },
      "source": [
        "print(df.iloc[4])\n",
        "print(40*'-')\n",
        "print(type(df.iloc[4]))"
      ],
      "execution_count": null,
      "outputs": []
    },
    {
      "cell_type": "code",
      "metadata": {
        "id": "V2A4c2F-J0GJ"
      },
      "source": [
        "print(df.loc[0:4,\"Ticket\"])\n",
        "print(40*'-')\n",
        "print(type(df.loc[0:4,\"Ticket\"]))"
      ],
      "execution_count": null,
      "outputs": []
    },
    {
      "cell_type": "markdown",
      "metadata": {
        "id": "TrDtPdwZOHTa"
      },
      "source": [
        "### Series y Subdataframes\n",
        "\n",
        "Las series corresponde a una columna de un dataframe que hereda ciertos métodos del datagrame.\n",
        "\n",
        "Una forma de acceder a una serie es \n",
        "\n",
        "```\n",
        "df['Nombre_Columna']\n",
        "```\n",
        "\n",
        "También se puede obtener una serie mediante la siguiente sintáxis\n",
        "```\n",
        "df.Nombre_Columna\n",
        "```\n",
        "\n",
        "siempre que `Nombre_Columna` cumpla con buenas práxis de escritura: No debe contener espacios, caracteres especiales, etc.\n",
        "\n",
        "Una vez se obtiene la serie, ésta hereda varios métodos de un dataframe, entre ellos el método `head`, con el que se puede realizar la operación de la celda anterior de la siguiente forma"
      ]
    },
    {
      "cell_type": "code",
      "metadata": {
        "id": "FfeOTODyCINL"
      },
      "source": [
        "df['Ticket'].head()"
      ],
      "execution_count": null,
      "outputs": []
    },
    {
      "cell_type": "markdown",
      "metadata": {
        "id": "hf3Sj3njDR6w"
      },
      "source": [
        "Si queremos acceder a un dataframe, debemos usar la siguiente sintáxis\n",
        "\n",
        "```\n",
        "df[[Lista Columnas separada por coma]]\n",
        "```\n",
        "\n",
        "y, apartir del dataframe, aplicamos el método que se desee:"
      ]
    },
    {
      "cell_type": "code",
      "metadata": {
        "id": "epej0kr_ETyO"
      },
      "source": [
        "df[['Embarked', 'Ticket']].head()"
      ],
      "execution_count": null,
      "outputs": []
    },
    {
      "cell_type": "markdown",
      "metadata": {
        "id": "Gq8py0cEE6sD"
      },
      "source": [
        "### Selecciones \n",
        "\n",
        "Para seleccionar partes de un `DataFrame` que cumplan cierto criterio, debemos crear primero una **máscara** compuesta por booleanos que filtra los datos en el dataset dependiendo si la condición es *falsa* (no se visualiza el dato) o *verdadera* (se visualiza el dato que la cumple). La sintáxis para filtrar los datos en un dataframe es:\n",
        "\n",
        "```\n",
        "df[cond]\n",
        "```\n",
        "en donde la `cond` tiene la forma de un condicional evaluado en el dataframe, por ejemplo\n",
        "\n",
        "```\n",
        "cond -> df > 10\n",
        "```\n",
        "\n",
        "Veamos en el dataframe del titanic, la población mayor a 70 años."
      ]
    },
    {
      "cell_type": "code",
      "metadata": {
        "id": "iGk8vKrCFsvk"
      },
      "source": [
        "# Creación de máscara\n",
        "print(\"Máscara\\n\", df['Age']>70)\n",
        "print(65*'-')\n",
        "print(\"Cantidad de datos que cumplen la condición:\", pd.DataFrame(df['Age']>70).Age.sum())\n",
        "print(65*'-')\n",
        "print(df[df['Age']>70])"
      ],
      "execution_count": null,
      "outputs": []
    },
    {
      "cell_type": "markdown",
      "metadata": {
        "id": "kcW_F-O_Fyk2"
      },
      "source": [
        "Otra forma de obtener los datos filtrdos es mediante el método `query()`, el cual puede especificarse de la siguiente forma\n",
        "\n",
        "```\n",
        "df_filtered = df.query(\"condición\")\n",
        "```\n",
        "en donde la `\"condición\"` representa un string con la condición a evaluar. El objeto obtenido `df_filtered` mediante el método `query`, corresponde a `DataFrame`.\n",
        "\n",
        "Filtremos aquellas personas mayores a 70 años en el dataset del titanic. "
      ]
    },
    {
      "cell_type": "code",
      "metadata": {
        "id": "B2Taa5yKMG5T"
      },
      "source": [
        "df.query(\"Age > 70\")"
      ],
      "execution_count": null,
      "outputs": []
    },
    {
      "cell_type": "markdown",
      "metadata": {
        "id": "wuocNzGRMKpQ"
      },
      "source": [
        "### Selecciones con multiples condicionales\n",
        "\n",
        "Para concatenar multiples condiciones debemos realizarlo determinando cada condicione entre paréntesis, seguida de los operardores lógicos  `&,|`. La sintáxis general para condiciones conectadas por el operador `&` es la siguiente\n",
        "\n",
        "```\n",
        "df[(cond)&(cond)]\n",
        "```\n",
        "\n",
        "Obtengamos, por ejemplo, la población mayor a 40 años con 2 hijos:"
      ]
    },
    {
      "cell_type": "code",
      "metadata": {
        "id": "osl0j0DhQPLH"
      },
      "source": [
        "df[(df.Age>40)&(df.SibSp==2)]"
      ],
      "execution_count": null,
      "outputs": []
    },
    {
      "cell_type": "markdown",
      "metadata": {
        "id": "j9MOJd80Q2Zr"
      },
      "source": [
        "Extraigamos la población que sea mayor a 70 o tenga 5 hijos:"
      ]
    },
    {
      "cell_type": "code",
      "metadata": {
        "id": "wbvJvTGQQOHM"
      },
      "source": [
        "df[(df.Age>70)|(df.SibSp==5)]"
      ],
      "execution_count": null,
      "outputs": []
    },
    {
      "cell_type": "markdown",
      "metadata": {
        "id": "Ms5Ps5ePRYwk"
      },
      "source": [
        "Cualquiera de los dos filtros aplicados en las celdas anteriores, pueden realizarse mediante el método `query()`de un dataframe:"
      ]
    },
    {
      "cell_type": "code",
      "metadata": {
        "id": "FkSo2wM-Qpz5"
      },
      "source": [
        "filtered_age = 40\n",
        "filtered_SibSp = 2\n",
        "df.query(f'(Age > {filtered_age})&(SibSp=={filtered_SibSp})')"
      ],
      "execution_count": null,
      "outputs": []
    },
    {
      "cell_type": "markdown",
      "metadata": {
        "id": "GC60zMhqSKI8"
      },
      "source": [
        "### Valores únicos\n",
        "\n",
        "Para obtener valores únicos en un dataframe, usamos el método `unique()`, de la siguiente forma:\n",
        "\n",
        "```\n",
        "df['Nombre_Columna'].unique\n",
        "```\n",
        " \n",
        "Este método aplica, tanto para variables categóricas como numéricas.\n",
        "\n",
        "Obtengamos los valores únicos de ciertas variables categóricas.\n",
        "\n",
        "**Nota:** Para ello usemos la función `select_dtypes` y especifiquemos en la selección el tipo de dato como `object`:"
      ]
    },
    {
      "cell_type": "code",
      "metadata": {
        "id": "V2LjmFjYS6HZ"
      },
      "source": [
        "df.select_dtypes('object').columns"
      ],
      "execution_count": null,
      "outputs": []
    },
    {
      "cell_type": "markdown",
      "metadata": {
        "id": "d1EHHqNyTaEK"
      },
      "source": [
        "Tomemos las variables `Cabin` y `Embarked` para ver los valores únicos:"
      ]
    },
    {
      "cell_type": "code",
      "metadata": {
        "id": "B-zfaHnDUP7Y"
      },
      "source": [
        "df.Cabin.unique()"
      ],
      "execution_count": null,
      "outputs": []
    },
    {
      "cell_type": "code",
      "metadata": {
        "id": "GjE5IbNOUTOk"
      },
      "source": [
        "df.Embarked.unique()"
      ],
      "execution_count": null,
      "outputs": []
    },
    {
      "cell_type": "markdown",
      "metadata": {
        "id": "zm6Csg2EUXGZ"
      },
      "source": [
        "#### Cuentas por clase.\n",
        "\n",
        "Para realizar un conteo de clases (en donde las variables asociadas pueden ser categóricas o numéricas) por columna, usamos el método `value_counts`. Realicemos un conteo en dos tipos de variables: una numérica y otra categórica: "
      ]
    },
    {
      "cell_type": "code",
      "metadata": {
        "id": "E_p3_P1qU8Or"
      },
      "source": [
        "df.select_dtypes('object').columns"
      ],
      "execution_count": null,
      "outputs": []
    },
    {
      "cell_type": "code",
      "metadata": {
        "id": "hCBwzUGbVbE6"
      },
      "source": [
        "df.Sex.value_counts()"
      ],
      "execution_count": null,
      "outputs": []
    },
    {
      "cell_type": "code",
      "metadata": {
        "id": "lxF3FZriU_1_"
      },
      "source": [
        "df.select_dtypes('number').columns"
      ],
      "execution_count": null,
      "outputs": []
    },
    {
      "cell_type": "code",
      "metadata": {
        "id": "wRsxDZ5MVDYt"
      },
      "source": [
        "df.Pclass.value_counts()"
      ],
      "execution_count": null,
      "outputs": []
    },
    {
      "cell_type": "markdown",
      "metadata": {
        "id": "eLSsz-33VlOr"
      },
      "source": [
        "### Organización de datos\n",
        "\n",
        "Los datos pueden ser organizados en torno a una columna, de forma ascendente o descendente. Para esto, usamos la función `sort_values` de la forma\n",
        "\n",
        "```\n",
        "df.sort_values('Nombre_Columna', ascending=True/False)\n",
        "```\n",
        "\n",
        "en donde el parámetro `ascending` nos indica si los datos son ordenados de forma ascendente cuando el valor es `True`, o descendente, cuando el valor es `False`. \n",
        "\n",
        "Organicemos los datos del titanic, por edad, de forma ascendente y descendente:"
      ]
    },
    {
      "cell_type": "code",
      "metadata": {
        "id": "lkNysOsSb9V4"
      },
      "source": [
        "df.sort_values('Age', ascending=True).head(15)"
      ],
      "execution_count": null,
      "outputs": []
    },
    {
      "cell_type": "code",
      "metadata": {
        "id": "PZvIHd0vcH02"
      },
      "source": [
        "df.sort_values('Age', ascending=False).head(15)"
      ],
      "execution_count": null,
      "outputs": []
    },
    {
      "cell_type": "markdown",
      "metadata": {
        "id": "O-Z7z7VKfO3p"
      },
      "source": [
        "### Operación con columnas\n",
        "\n",
        "Existen varias operaciones que pueden realizarse sobre una columna o varias columnas. Para esto usamos el método `apply` de la forma\n",
        "\n",
        "```\n",
        "df.apply(operación, axis=0/1)\n",
        "```\n",
        "\n",
        "Seleccionemos, por ejemplo, las columnas de tipo numérico y realicemos una operaciones a lo largo de las filas y las columnas:"
      ]
    },
    {
      "cell_type": "code",
      "metadata": {
        "id": "FkLp0SyLfrvA"
      },
      "source": [
        "# Filas a lo largo de las filas\n",
        "df.select_dtypes('number').apply(np.sum, axis = 0)"
      ],
      "execution_count": null,
      "outputs": []
    },
    {
      "cell_type": "code",
      "metadata": {
        "id": "9N9l3YrBgcDx"
      },
      "source": [
        "# Filas a lo largo de las columnas\n",
        "df.select_dtypes('number').apply(np.sum, axis = 1)"
      ],
      "execution_count": null,
      "outputs": []
    },
    {
      "cell_type": "markdown",
      "metadata": {
        "id": "jSlIsnEbhxvT"
      },
      "source": [
        "También podemos realizar operaciones personalizadas mediante "
      ]
    },
    {
      "cell_type": "code",
      "metadata": {
        "id": "jfp5UM2Vii_Z"
      },
      "source": [
        "df.select_dtypes('number').apply(lambda x: (x-np.min(x))/(np.max(x)-np.min(x)))"
      ],
      "execution_count": null,
      "outputs": []
    },
    {
      "cell_type": "code",
      "metadata": {
        "id": "FzDveAC-jtWK"
      },
      "source": [
        "df['Name'].apply(lambda x: x.upper())"
      ],
      "execution_count": null,
      "outputs": []
    },
    {
      "cell_type": "markdown",
      "metadata": {
        "id": "aJsdPEw3cOmh"
      },
      "source": [
        "### Agrupación\n",
        "\n",
        "El proceso de agrupación en pandas esta compuesto por tres procesos consecutivos\n",
        "\n",
        "- División por grupos.\n",
        "- Aplicación de una operación \n",
        "- Combinación\n",
        "\n",
        "\n",
        "En la siguiente figura se ilustra el proceso completo\n",
        "\n",
        " \n",
        "<p><img alt=\"Colaboratory logo\" height=\"300px\" src=\"https://github.com/ssanchezgoe/curso_deep_learning_economia/blob/main/images/DL_S02_Group_By.png?raw=true\" align=\"center\"></p>\n",
        "\n",
        "Por ejemplo, cuando ejecutamos el método `value_counts()` sobre una de las columnas, implicitamente se está un proceso de agrupación siguiento los pasos:\n",
        "\n",
        "- División por grupo\n",
        "- Aplicación de operación count\n",
        "- Combinación"
      ]
    },
    {
      "cell_type": "code",
      "metadata": {
        "id": "ka2I_eZ2T79z"
      },
      "source": [
        "df.Survived.value_counts()"
      ],
      "execution_count": null,
      "outputs": []
    },
    {
      "cell_type": "code",
      "metadata": {
        "id": "xjj1ERC_UO3F"
      },
      "source": [
        "df.Pclass.value_counts()"
      ],
      "execution_count": null,
      "outputs": []
    },
    {
      "cell_type": "markdown",
      "metadata": {
        "id": "-DUjWsH9UT_b"
      },
      "source": [
        "Por ejemplo, podemos usar el método `groupby` de la siguiente forma\n",
        "\n",
        "```\n",
        "df.groupby(['Nombre_columna'/Lista_Columnas]).operacion\n",
        "```\n",
        "\n",
        "Por ejemplo, agrupemos el dataframe del titanic de acuerdo a los valores almacenados en `Pclass`(1, 2, 3) y seleccionemos sobre una columna que no tenga valores nulos para realizar un conteo, de esta forma, se tendrá las mismas cuentas de la celda anterior. \n",
        "\n",
        "Veamos antes que columnas no contienen nulos"
      ]
    },
    {
      "cell_type": "code",
      "metadata": {
        "id": "uadSVN0OX9we"
      },
      "source": [
        "df.isnull().sum()[df.isnull().sum()==0]"
      ],
      "execution_count": null,
      "outputs": []
    },
    {
      "cell_type": "markdown",
      "metadata": {
        "id": "7J8uYfsZYN38"
      },
      "source": [
        "Agrupemos entonces sobre `Pclass` y contamos "
      ]
    },
    {
      "cell_type": "code",
      "metadata": {
        "id": "EsrqgYB3Wdf9"
      },
      "source": [
        "df.groupby(['Pclass'])['Name'].count()"
      ],
      "execution_count": null,
      "outputs": []
    },
    {
      "cell_type": "markdown",
      "metadata": {
        "id": "k2hcsBuNWiRx"
      },
      "source": [
        "### Agrupación compuesta\n",
        "\n",
        "La agrupación también puede realizarse mediante más de una columna, especificando una lista de columnas, en cuyo caso se estable un orden de agrupación determinado por el orden de la lista.\n",
        "\n",
        "Veamos un ejemplo en el dataset del titanic agrupando por las variables `Sex` y `Pclass`, para realizar un conteo:"
      ]
    },
    {
      "cell_type": "code",
      "metadata": {
        "id": "rdzaGnbbZ-Ei"
      },
      "source": [
        "df.groupby(['Sex','Pclass'])[['PassengerId']].count()"
      ],
      "execution_count": null,
      "outputs": []
    },
    {
      "cell_type": "markdown",
      "metadata": {
        "id": "1jJcwx4WtGxn"
      },
      "source": [
        "### Gráficas con dataframes\n",
        "\n",
        "Para las gráficas con `DataFrames` de `pandas`, usaremos el dataset de pingüinos con el fin de determinar la especie según las características dadas en el dataset\n",
        "\n",
        "<img alt=\"Image of penguins\" src=\"https://github.com/allisonhorst/palmerpenguins/raw/master/man/figures/lter_penguins.png\">\n",
        "\n",
        "Para este ejercicio nos limitaremos a un subconjunto de las características para simplificar la explicación relacionada de las clasificaciones de las especies. Nos remitiremos las características del culmen, que corresponde a la parte superior del pico, ver figura siguiente.\n",
        "\n",
        "<img alt=\"Image of culmen\" src=\"https://github.com/allisonhorst/palmerpenguins/raw/master/man/figures/culmen_depth.png\">"
      ]
    },
    {
      "cell_type": "code",
      "metadata": {
        "id": "fa_MCU3QuwVg"
      },
      "source": [
        "df_penguins = pd.read_csv(\"https://raw.githubusercontent.com/ssanchezgoe/curso_deep_learning_economia/main/data/DL_Penguins_Dataset.csv\")"
      ],
      "execution_count": null,
      "outputs": []
    },
    {
      "cell_type": "code",
      "metadata": {
        "id": "IK9kgqVwv4m5"
      },
      "source": [
        "df_penguins.sample(20)"
      ],
      "execution_count": null,
      "outputs": []
    },
    {
      "cell_type": "code",
      "metadata": {
        "id": "9Y863GE2u3km"
      },
      "source": [
        "df_penguins.info()"
      ],
      "execution_count": null,
      "outputs": []
    },
    {
      "cell_type": "code",
      "metadata": {
        "id": "mm3XBbkEu7_2"
      },
      "source": [
        "df_penguins.isnull().sum()"
      ],
      "execution_count": null,
      "outputs": []
    },
    {
      "cell_type": "code",
      "metadata": {
        "id": "4jzMQ01Du-n2"
      },
      "source": [
        "sns.pairplot(df_income[['Culmen Length (mm)',\t'Culmen Depth (mm)',\t'Flipper Length (mm)',\t'Body Mass (g)','Species']], hue=\"Species\")"
      ],
      "execution_count": null,
      "outputs": []
    },
    {
      "cell_type": "markdown",
      "metadata": {
        "id": "WnHtqDxycUNW"
      },
      "source": [
        "# Evaluación de la unidad"
      ]
    },
    {
      "cell_type": "markdown",
      "metadata": {
        "id": "_RqnxuVZqO0s"
      },
      "source": [
        "## Ejercicio 1:\n",
        "\n",
        "1. Cargue el dataset: `DL_International_Airline_Passengers.csv`\n",
        "2. Inspeccione dicho dataset usando diferentes métodos para tal fin.\n",
        "3. Use el método [`pd.to_datetime()`](http://pandas.pydata.org/pandas-docs/version/0.20/generated/pandas.to_datetime.html) para cambiar el tipo de la columna `Month` a `datatime`.\n",
        "4. Fije el índice del dataframe a la columna `Month`.\n",
        "5. Realice un gráfica que represente la serie de tiempo con una correcta escala y títulos adecuados."
      ]
    },
    {
      "cell_type": "markdown",
      "metadata": {
        "id": "7UoD0zI5rgYF"
      },
      "source": [
        "## Ejercicio 2:\n",
        "\n",
        "1. Cargue el dataset: `DL_Weight_Height.csv`\n",
        "2. Inspeccione dicho dataset usando diferentes métodos para tal fin.\n",
        "3. Determine el porcentaje de hombre y mujeres en el dataframe.\n",
        "4. Use el método de agrupación para determinar los pesos y alturas mínima, máxima y promedio por sexo.\n",
        "5. Realice una histograma por sexo para discriminar las variables de altura y peso."
      ]
    }
  ]
}